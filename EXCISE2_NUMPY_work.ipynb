{
  "cells": [
    {
      "cell_type": "markdown",
      "metadata": {
        "id": "view-in-github",
        "colab_type": "text"
      },
      "source": [
        "<a href=\"https://colab.research.google.com/github/sherlyxdaisy/ipec/blob/main/EXCISE2_NUMPY_work.ipynb\" target=\"_parent\"><img src=\"https://colab.research.google.com/assets/colab-badge.svg\" alt=\"Open In Colab\"/></a>"
      ]
    },
    {
      "cell_type": "code",
      "execution_count": null,
      "metadata": {
        "id": "ZtKJThT2mhzF"
      },
      "outputs": [],
      "source": [
        "%run initialise.py"
      ]
    },
    {
      "cell_type": "markdown",
      "metadata": {
        "id": "TWAeNDIFmhzJ"
      },
      "source": [
        "#### 1. Import the numpy package under the name `np` (★☆☆)"
      ]
    },
    {
      "cell_type": "code",
      "execution_count": null,
      "metadata": {
        "id": "tN1o6E-WmhzM"
      },
      "outputs": [],
      "source": [
        "import numpy as np"
      ]
    },
    {
      "cell_type": "markdown",
      "metadata": {
        "id": "9w-OnPoVmhzN"
      },
      "source": [
        "#### 2. Print the numpy version and the configuration (★☆☆)"
      ]
    },
    {
      "cell_type": "code",
      "execution_count": null,
      "metadata": {
        "id": "lF1BsG1BmhzN",
        "outputId": "49f3d6a5-ba69-439a-acff-8e54f7a09dfc"
      },
      "outputs": [
        {
          "name": "stdout",
          "output_type": "stream",
          "text": [
            "1.19.5\n",
            "blas_mkl_info:\n",
            "  NOT AVAILABLE\n",
            "blis_info:\n",
            "  NOT AVAILABLE\n",
            "openblas_info:\n",
            "    library_dirs = ['D:\\\\a\\\\1\\\\s\\\\numpy\\\\build\\\\openblas_info']\n",
            "    libraries = ['openblas_info']\n",
            "    language = f77\n",
            "    define_macros = [('HAVE_CBLAS', None)]\n",
            "blas_opt_info:\n",
            "    library_dirs = ['D:\\\\a\\\\1\\\\s\\\\numpy\\\\build\\\\openblas_info']\n",
            "    libraries = ['openblas_info']\n",
            "    language = f77\n",
            "    define_macros = [('HAVE_CBLAS', None)]\n",
            "lapack_mkl_info:\n",
            "  NOT AVAILABLE\n",
            "openblas_lapack_info:\n",
            "    library_dirs = ['D:\\\\a\\\\1\\\\s\\\\numpy\\\\build\\\\openblas_lapack_info']\n",
            "    libraries = ['openblas_lapack_info']\n",
            "    language = f77\n",
            "    define_macros = [('HAVE_CBLAS', None)]\n",
            "lapack_opt_info:\n",
            "    library_dirs = ['D:\\\\a\\\\1\\\\s\\\\numpy\\\\build\\\\openblas_lapack_info']\n",
            "    libraries = ['openblas_lapack_info']\n",
            "    language = f77\n",
            "    define_macros = [('HAVE_CBLAS', None)]\n"
          ]
        }
      ],
      "source": [
        "print(np.__version__)\n",
        "np.show_config()"
      ]
    },
    {
      "cell_type": "markdown",
      "metadata": {
        "id": "tPI5NGeomhzO"
      },
      "source": [
        "#### 3. Create a null vector of size 10 (★☆☆)"
      ]
    },
    {
      "cell_type": "code",
      "execution_count": null,
      "metadata": {
        "id": "P6wXZZLMmhzP",
        "outputId": "e700a0ae-9f7a-4a93-d354-e3979789fa3a",
        "colab": {
          "base_uri": "https://localhost:8080/"
        }
      },
      "outputs": [
        {
          "output_type": "stream",
          "name": "stdout",
          "text": [
            "[0. 0. 0. 0. 0. 0. 0. 0. 0. 0.]\n"
          ]
        }
      ],
      "source": [
        "Z = np.zeros(10)\n",
        "print(Z)"
      ]
    },
    {
      "cell_type": "markdown",
      "metadata": {
        "id": "ICLhFl-mmhzQ"
      },
      "source": [
        "#### 4. How to find the memory size of any array (★☆☆)"
      ]
    },
    {
      "cell_type": "code",
      "execution_count": null,
      "metadata": {
        "id": "YRgDd5fDmhzQ",
        "outputId": "9bd3af5d-3a52-4188-fe57-b45e8a8601da",
        "colab": {
          "base_uri": "https://localhost:8080/"
        }
      },
      "outputs": [
        {
          "output_type": "stream",
          "name": "stdout",
          "text": [
            "800 bytes\n"
          ]
        }
      ],
      "source": [
        "Z = np.zeros((10,10))\n",
        "print(\"%d bytes\" % (Z.size * Z.itemsize))"
      ]
    },
    {
      "cell_type": "markdown",
      "metadata": {
        "id": "pT2X3OdemhzQ"
      },
      "source": [
        "#### 5. How to get the documentation of the numpy add function from the command line? (★☆☆)"
      ]
    },
    {
      "cell_type": "code",
      "execution_count": null,
      "metadata": {
        "id": "lkxme5PKmhzR",
        "colab": {
          "base_uri": "https://localhost:8080/"
        },
        "outputId": "7525dd27-d0f3-4f40-93d0-a79b22dac1bf"
      },
      "outputs": [
        {
          "output_type": "stream",
          "name": "stdout",
          "text": [
            "<ufunc 'add'>\n"
          ]
        }
      ],
      "source": [
        "print(np.add)"
      ]
    },
    {
      "cell_type": "markdown",
      "metadata": {
        "id": "PUvOsJePmhzR"
      },
      "source": [
        "#### 6. Create a null vector of size 10 but the fifth value which is 1 (★☆☆)"
      ]
    },
    {
      "cell_type": "code",
      "execution_count": null,
      "metadata": {
        "id": "g6rWZC_JmhzR",
        "colab": {
          "base_uri": "https://localhost:8080/"
        },
        "outputId": "080bf192-a2d2-4a68-935e-8c6a2f84811d"
      },
      "outputs": [
        {
          "output_type": "stream",
          "name": "stdout",
          "text": [
            "[0. 0. 0. 0. 1. 0. 0. 0. 0. 0.]\n"
          ]
        }
      ],
      "source": [
        "x = np.zeros(10)\n",
        "x[4] = 1\n",
        "print(x)\n"
      ]
    },
    {
      "cell_type": "markdown",
      "metadata": {
        "id": "l4yiWUQ8mhzR"
      },
      "source": [
        "#### 7. Create a vector with values ranging from 10 to 49 (★☆☆)"
      ]
    },
    {
      "cell_type": "code",
      "execution_count": null,
      "metadata": {
        "id": "UwwNazhzmhzR",
        "colab": {
          "base_uri": "https://localhost:8080/"
        },
        "outputId": "bde7e89f-b2b3-4452-f199-274d09637168"
      },
      "outputs": [
        {
          "output_type": "stream",
          "name": "stdout",
          "text": [
            "[10 11 12 13 14 15 16 17 18 19 20 21 22 23 24 25 26 27 28 29 30 31 32 33\n",
            " 34 35 36 37 38 39 40 41 42 43 44 45 46 47 48 49]\n"
          ]
        }
      ],
      "source": [
        "x = np.arange(10, 50)\n",
        "print(x)"
      ]
    },
    {
      "cell_type": "markdown",
      "metadata": {
        "id": "l0k0UU-zmhzR"
      },
      "source": [
        "#### 8. Reverse a vector (first element becomes last) (★☆☆)"
      ]
    },
    {
      "cell_type": "code",
      "execution_count": null,
      "metadata": {
        "id": "w-PRMvaYmhzS",
        "colab": {
          "base_uri": "https://localhost:8080/"
        },
        "outputId": "7ddbdb8a-d1b8-4ac7-a8db-cf55d53f1289"
      },
      "outputs": [
        {
          "output_type": "stream",
          "name": "stdout",
          "text": [
            "[5, 4, 3, 2, 1]\n"
          ]
        }
      ],
      "source": [
        "x = [1, 2, 3, 4, 5]\n",
        "reversed_x = x[::-1]\n",
        "print(reversed_x)"
      ]
    },
    {
      "cell_type": "markdown",
      "metadata": {
        "id": "2GIgdYr1mhzS"
      },
      "source": [
        "#### 9. Create a 3x3 matrix with values ranging from 0 to 8 (★☆☆)"
      ]
    },
    {
      "cell_type": "code",
      "execution_count": null,
      "metadata": {
        "id": "wcct3IlDmhzS",
        "colab": {
          "base_uri": "https://localhost:8080/"
        },
        "outputId": "8b134bd3-1a0a-4536-a7eb-c99d9f43b8c8"
      },
      "outputs": [
        {
          "output_type": "stream",
          "name": "stdout",
          "text": [
            "[[0 1 2]\n",
            " [3 4 5]\n",
            " [6 7 8]]\n"
          ]
        }
      ],
      "source": [
        "m = np.arange(9).reshape(3, 3)\n",
        "print(m)"
      ]
    },
    {
      "cell_type": "markdown",
      "metadata": {
        "id": "L-C0ftqZmhzS"
      },
      "source": [
        "#### 10. Find indices of non-zero elements from [1,2,0,0,4,0] (★☆☆)"
      ]
    },
    {
      "cell_type": "code",
      "execution_count": null,
      "metadata": {
        "id": "dTNsdEtcmhzS",
        "colab": {
          "base_uri": "https://localhost:8080/"
        },
        "outputId": "a0283a4a-d972-4e91-eefd-21ea9628d831"
      },
      "outputs": [
        {
          "output_type": "stream",
          "name": "stdout",
          "text": [
            "(array([0, 1, 4]),)\n"
          ]
        }
      ],
      "source": [
        "arr = np.array([1, 2, 0, 0, 4, 0])\n",
        "indices = np.nonzero(arr)\n",
        "print(indices)"
      ]
    },
    {
      "cell_type": "markdown",
      "metadata": {
        "id": "hcMKFbr-mhzS"
      },
      "source": [
        "#### 11. Create a 3x3 identity matrix (★☆☆)"
      ]
    },
    {
      "cell_type": "code",
      "execution_count": null,
      "metadata": {
        "id": "yfWKPrH7mhzS",
        "colab": {
          "base_uri": "https://localhost:8080/"
        },
        "outputId": "27d4ecc1-f383-452b-92b3-ea47fda0fa1d"
      },
      "outputs": [
        {
          "output_type": "stream",
          "name": "stdout",
          "text": [
            "[[1. 0. 0.]\n",
            " [0. 1. 0.]\n",
            " [0. 0. 1.]]\n"
          ]
        }
      ],
      "source": [
        "m = np.identity(3)\n",
        "print(m)"
      ]
    },
    {
      "cell_type": "markdown",
      "metadata": {
        "id": "JzBQ9KOomhzS"
      },
      "source": [
        "#### 12. Create a 3x3x3 array with random values (★☆☆)"
      ]
    },
    {
      "cell_type": "code",
      "execution_count": null,
      "metadata": {
        "id": "lZcBGC7XmhzS",
        "colab": {
          "base_uri": "https://localhost:8080/"
        },
        "outputId": "1897bee4-fa12-4e3e-d0e3-e10b5c50aaa0"
      },
      "outputs": [
        {
          "output_type": "stream",
          "name": "stdout",
          "text": [
            "[[[0.40573387 0.80996396 0.707674  ]\n",
            "  [0.1155967  0.07764693 0.83536993]\n",
            "  [0.0935417  0.92687374 0.80830131]]\n",
            "\n",
            " [[0.77919805 0.51046251 0.62199286]\n",
            "  [0.10105787 0.88091881 0.14233461]\n",
            "  [0.24252244 0.50301167 0.04523063]]\n",
            "\n",
            " [[0.8805656  0.91011824 0.44043939]\n",
            "  [0.8873679  0.79907205 0.33227702]\n",
            "  [0.75733104 0.86635238 0.64183003]]]\n"
          ]
        }
      ],
      "source": [
        "arr = np.random.random((3, 3, 3))\n",
        "print(arr)"
      ]
    },
    {
      "cell_type": "markdown",
      "metadata": {
        "id": "w3nawHkDmhzT"
      },
      "source": [
        "#### 13. Create a 10x10 array with random values and find the minimum and maximum values (★☆☆)"
      ]
    },
    {
      "cell_type": "code",
      "execution_count": null,
      "metadata": {
        "id": "pM4EcB9CmhzT",
        "colab": {
          "base_uri": "https://localhost:8080/"
        },
        "outputId": "76a15723-656b-4616-b044-bd2e80105e41"
      },
      "outputs": [
        {
          "output_type": "stream",
          "name": "stdout",
          "text": [
            "Original Array:\n",
            "[[0.31455571 0.43338779 0.52443568 0.01327896 0.91618296 0.92136299\n",
            "  0.63875693 0.62964403 0.23652057 0.87578531]\n",
            " [0.12721322 0.27150273 0.28571376 0.95797609 0.12422147 0.11695424\n",
            "  0.88463711 0.65443854 0.62236852 0.10507477]\n",
            " [0.89592656 0.13557635 0.57221505 0.12381603 0.48024276 0.92558851\n",
            "  0.35197511 0.1331181  0.59769673 0.28079776]\n",
            " [0.00525653 0.97834393 0.31017863 0.23610931 0.86613675 0.68196989\n",
            "  0.24787441 0.8233061  0.04913789 0.44552739]\n",
            " [0.14409972 0.69422656 0.81974601 0.99710729 0.2223154  0.57307938\n",
            "  0.37372824 0.62266287 0.63309091 0.77480855]\n",
            " [0.95354893 0.67821246 0.22521605 0.09026993 0.48320591 0.2404475\n",
            "  0.61475425 0.45200987 0.13953194 0.47114881]\n",
            " [0.10398713 0.70649707 0.81848679 0.90932198 0.4543921  0.61247106\n",
            "  0.92563649 0.32203153 0.95994459 0.71855825]\n",
            " [0.21973546 0.42372367 0.50741991 0.40386527 0.40792024 0.89785596\n",
            "  0.87345836 0.8514329  0.98390362 0.03550674]\n",
            " [0.46377831 0.86940283 0.73237487 0.55913848 0.73761187 0.3184527\n",
            "  0.71942411 0.90758324 0.44649602 0.92263736]\n",
            " [0.04820403 0.97040554 0.16759209 0.14726357 0.01669962 0.81050527\n",
            "  0.66508204 0.4360728  0.5635409  0.61312184]]\n",
            "Minimum and Maximum Values:\n",
            "0.005256526995024546 0.9971072911796056\n"
          ]
        }
      ],
      "source": [
        "arr = np.random.random((10, 10))\n",
        "\n",
        "print(\"Original Array:\")\n",
        "print(arr)\n",
        "\n",
        "min_value = arr.min()\n",
        "max_value = arr.max()\n",
        "\n",
        "print(\"Minimum and Maximum Values:\")\n",
        "print(min_value, max_value)"
      ]
    },
    {
      "cell_type": "markdown",
      "metadata": {
        "id": "HnAj5VT5mhzT"
      },
      "source": [
        "#### 14. Create a random vector of size 30 and find the mean value (★☆☆)"
      ]
    },
    {
      "cell_type": "code",
      "execution_count": null,
      "metadata": {
        "id": "-R7Ej5dsmhzT",
        "colab": {
          "base_uri": "https://localhost:8080/"
        },
        "outputId": "cecb41ed-af5a-41ad-e544-85a3bd61421b"
      },
      "outputs": [
        {
          "output_type": "stream",
          "name": "stdout",
          "text": [
            "[0.75416832 0.44904084 0.66135936 0.70246213 0.89452052 0.49818822\n",
            " 0.95080132 0.31851702 0.16516957 0.2520614  0.13895635 0.98643011\n",
            " 0.98388112 0.68349973 0.88119598 0.39343286 0.18169046 0.35308181\n",
            " 0.61748776 0.19453283 0.58004821 0.05096252 0.84722432 0.12775559\n",
            " 0.54093157 0.19264869 0.68006128 0.36234885 0.83047824 0.29679812]\n",
            "0.5189911692531389\n"
          ]
        }
      ],
      "source": [
        "v = np.random.random(30)\n",
        "print(v)\n",
        "\n",
        "mean = np.mean(v)\n",
        "print(mean)"
      ]
    },
    {
      "cell_type": "markdown",
      "metadata": {
        "id": "u50n1j47mhzT"
      },
      "source": [
        "#### 15. Create a 2d array with 1 on the border and 0 inside (★☆☆)"
      ]
    },
    {
      "cell_type": "code",
      "execution_count": null,
      "metadata": {
        "id": "OddFJ4cumhzT",
        "colab": {
          "base_uri": "https://localhost:8080/"
        },
        "outputId": "efee76d8-b597-4740-d08b-3356edeb0027"
      },
      "outputs": [
        {
          "output_type": "stream",
          "name": "stdout",
          "text": [
            "[[1. 1. 1. 1. 1. 1. 1.]\n",
            " [1. 0. 0. 0. 0. 0. 1.]\n",
            " [1. 0. 0. 0. 0. 0. 1.]\n",
            " [1. 0. 0. 0. 0. 0. 1.]\n",
            " [1. 1. 1. 1. 1. 1. 1.]]\n"
          ]
        }
      ],
      "source": [
        "def create_2d_array(n: int, m: int) -> np.ndarray:\n",
        "    arr = np.ones((n, m))\n",
        "    arr[1:-1, 1:-1] = 0\n",
        "    return arr\n",
        "\n",
        "n, m = 5, 7\n",
        "arr = create_2d_array(n, m)\n",
        "print(arr)"
      ]
    },
    {
      "cell_type": "markdown",
      "metadata": {
        "id": "AoU5IQQUmhzT"
      },
      "source": [
        "#### 16. How to add a border (filled with 0's) around an existing array? (★☆☆)"
      ]
    },
    {
      "cell_type": "code",
      "execution_count": null,
      "metadata": {
        "id": "_ItQu7mcmhzT",
        "colab": {
          "base_uri": "https://localhost:8080/"
        },
        "outputId": "575091a5-e517-49a7-928a-dcd0690ca2a8"
      },
      "outputs": [
        {
          "output_type": "stream",
          "name": "stdout",
          "text": [
            "[[0. 0. 0. 0. 0.]\n",
            " [0. 1. 2. 3. 0.]\n",
            " [0. 4. 5. 6. 0.]\n",
            " [0. 7. 8. 9. 0.]\n",
            " [0. 0. 0. 0. 0.]]\n"
          ]
        }
      ],
      "source": [
        "def add_border(arr: np.ndarray) -> np.ndarray:\n",
        "    n, m = arr.shape\n",
        "    new_arr = np.zeros((n + 2, m + 2))\n",
        "    new_arr[1:-1, 1:-1] = arr\n",
        "    return new_arr\n",
        "\n",
        "arr = np.array([[1, 2, 3], [4, 5, 6], [7, 8, 9]])\n",
        "bordered_arr = add_border(arr)\n",
        "print(bordered_arr)"
      ]
    },
    {
      "cell_type": "markdown",
      "metadata": {
        "id": "p38ETqRwmhzT"
      },
      "source": [
        "#### 17. What is the result of the following expression? (★☆☆)\n",
        "```python\n",
        "0 * np.nan\n",
        "np.nan == np.nan\n",
        "np.inf > np.nan\n",
        "np.nan - np.nan\n",
        "np.nan in set([np.nan])\n",
        "0.3 == 3 * 0.1\n",
        "```"
      ]
    },
    {
      "cell_type": "code",
      "execution_count": null,
      "metadata": {
        "id": "Rqr7T7s-mhzT",
        "colab": {
          "base_uri": "https://localhost:8080/"
        },
        "outputId": "c5045939-27be-41e5-e54d-3bc19b2ad801"
      },
      "outputs": [
        {
          "output_type": "execute_result",
          "data": {
            "text/plain": [
              "False"
            ]
          },
          "metadata": {},
          "execution_count": 16
        }
      ],
      "source": [
        "0 * np.nan # evaluates to nan\n",
        "np.nan == np.nan # evaluates to False\n",
        "np.inf > np.nan # evaluates to False\n",
        "np.nan - np.nan # evaluates to nan\n",
        "np.nan in set([np.nan]) # evaluates to True\n",
        "0.3 == 3 * 0.1 # evaluates to False\n"
      ]
    },
    {
      "cell_type": "markdown",
      "metadata": {
        "id": "lK_RU-H2mhzT"
      },
      "source": [
        "#### 18. Create a 5x5 matrix with values 1,2,3,4 just below the diagonal (★☆☆)"
      ]
    },
    {
      "cell_type": "code",
      "execution_count": null,
      "metadata": {
        "id": "45S3QI09mhzU",
        "colab": {
          "base_uri": "https://localhost:8080/"
        },
        "outputId": "5c134d3c-097e-417b-f5cc-0c76ef1cd1ea"
      },
      "outputs": [
        {
          "output_type": "stream",
          "name": "stdout",
          "text": [
            "[[0. 0. 0. 0. 0.]\n",
            " [1. 0. 0. 0. 0.]\n",
            " [0. 2. 0. 0. 0.]\n",
            " [0. 0. 3. 0. 0.]\n",
            " [0. 0. 0. 4. 0.]]\n"
          ]
        }
      ],
      "source": [
        "def create_matrix(n: int) -> np.ndarray:\n",
        "    arr = np.zeros((n, n))\n",
        "    np.fill_diagonal(arr[1:], [1, 2, 3, 4])\n",
        "    return arr\n",
        "\n",
        "n = 5\n",
        "matrix = create_matrix(n)\n",
        "print(matrix)\n"
      ]
    },
    {
      "cell_type": "markdown",
      "metadata": {
        "id": "cxkFG0phmhzU"
      },
      "source": [
        "#### 19. Create a 8x8 matrix and fill it with a checkerboard pattern (★☆☆)"
      ]
    },
    {
      "cell_type": "code",
      "execution_count": null,
      "metadata": {
        "id": "H22b3hfZmhzU",
        "colab": {
          "base_uri": "https://localhost:8080/"
        },
        "outputId": "ed8998d6-23f4-42d1-8c61-78a776ae7521"
      },
      "outputs": [
        {
          "output_type": "stream",
          "name": "stdout",
          "text": [
            "[[0 1 0 1 0 1 0 1]\n",
            " [1 0 1 0 1 0 1 0]\n",
            " [0 1 0 1 0 1 0 1]\n",
            " [1 0 1 0 1 0 1 0]\n",
            " [0 1 0 1 0 1 0 1]\n",
            " [1 0 1 0 1 0 1 0]\n",
            " [0 1 0 1 0 1 0 1]\n",
            " [1 0 1 0 1 0 1 0]]\n"
          ]
        }
      ],
      "source": [
        "def create_checkerboard(n: int) -> np.ndarray:\n",
        "    arr = np.zeros((n, n), dtype=int)\n",
        "    arr[1::2, ::2] = 1\n",
        "    arr[::2, 1::2] = 1\n",
        "    return arr\n",
        "\n",
        "n = 8\n",
        "checkerboard = create_checkerboard(n)\n",
        "print(checkerboard)"
      ]
    },
    {
      "cell_type": "markdown",
      "metadata": {
        "id": "3q9knP7tmhzZ"
      },
      "source": [
        "#### 20. Consider a (6,7,8) shape array, what is the index (x,y,z) of the 100th element?"
      ]
    },
    {
      "cell_type": "code",
      "execution_count": null,
      "metadata": {
        "id": "m9fPbfFKmhzZ",
        "colab": {
          "base_uri": "https://localhost:8080/"
        },
        "outputId": "f82c35a3-5733-4ace-c2fb-f4b0a5fb8322"
      },
      "outputs": [
        {
          "output_type": "stream",
          "name": "stdout",
          "text": [
            "The index (x, y, z) of the 100th element is (1, 5, 3)\n"
          ]
        }
      ],
      "source": [
        "shape = (6, 7, 8)\n",
        "index_100 = 99\n",
        "x, y, z = np.unravel_index(index_100, shape)\n",
        "print(f\"The index (x, y, z) of the 100th element is ({x}, {y}, {z})\")"
      ]
    },
    {
      "cell_type": "markdown",
      "metadata": {
        "id": "3qiIqVp_mhzZ"
      },
      "source": [
        "#### 21. Create a checkerboard 8x8 matrix using the tile function (★☆☆)"
      ]
    },
    {
      "cell_type": "code",
      "execution_count": null,
      "metadata": {
        "id": "VPYcm5iGmhza",
        "colab": {
          "base_uri": "https://localhost:8080/"
        },
        "outputId": "c990e5df-851d-4deb-d49d-1d4b3c870e96"
      },
      "outputs": [
        {
          "output_type": "stream",
          "name": "stdout",
          "text": [
            "[[0 1 0 1 0 1 0 1]\n",
            " [1 0 1 0 1 0 1 0]\n",
            " [0 1 0 1 0 1 0 1]\n",
            " [1 0 1 0 1 0 1 0]\n",
            " [0 1 0 1 0 1 0 1]\n",
            " [1 0 1 0 1 0 1 0]\n",
            " [0 1 0 1 0 1 0 1]\n",
            " [1 0 1 0 1 0 1 0]]\n"
          ]
        }
      ],
      "source": [
        "def create_checkerboard(n: int) -> np.ndarray:\n",
        "    tile = np.array([[0, 1], [1, 0]])\n",
        "    arr = np.tile(tile, (n // 2, n // 2))\n",
        "    if n % 2 != 0:\n",
        "        arr = np.pad(arr, ((0, 1), (0, 1)), constant_values=0)\n",
        "    return arr\n",
        "\n",
        "n = 8\n",
        "checkerboard = create_checkerboard(n)\n",
        "print(checkerboard)"
      ]
    },
    {
      "cell_type": "markdown",
      "metadata": {
        "id": "ajWVjl9Smhza"
      },
      "source": [
        "#### 22. Normalize a 5x5 random matrix (★☆☆)"
      ]
    },
    {
      "cell_type": "code",
      "execution_count": null,
      "metadata": {
        "id": "HNtHl2P6mhza",
        "colab": {
          "base_uri": "https://localhost:8080/"
        },
        "outputId": "f8bc0086-32df-481c-fb18-7c68774f52a1"
      },
      "outputs": [
        {
          "output_type": "stream",
          "name": "stdout",
          "text": [
            "[[0.33330839 0.3456181  0.57921976 0.         0.93681972]\n",
            " [0.8153545  0.49092007 0.57134011 1.         0.35371131]\n",
            " [0.15915913 0.64834881 0.13144426 0.24145342 0.37448423]\n",
            " [0.14807575 0.66081998 0.01792411 0.92237302 0.57001935]\n",
            " [0.57495302 0.19414816 0.36729061 0.93110731 0.8354706 ]]\n"
          ]
        }
      ],
      "source": [
        "matrix = np.random.random((5, 5))\n",
        "matrix_normalized = (matrix - np.min(matrix)) / (np.max(matrix) - np.min(matrix))\n",
        "\n",
        "print(matrix_normalized)"
      ]
    },
    {
      "cell_type": "markdown",
      "metadata": {
        "id": "jfEgx4BImhza"
      },
      "source": [
        "#### 23. Create a custom dtype that describes a color as four unsigned bytes (RGBA) (★☆☆)"
      ]
    },
    {
      "cell_type": "code",
      "execution_count": null,
      "metadata": {
        "id": "ps2y6xyqmhzb",
        "colab": {
          "base_uri": "https://localhost:8080/"
        },
        "outputId": "70f5afae-c3a2-49bf-b406-a29e0b11e42a"
      },
      "outputs": [
        {
          "output_type": "stream",
          "name": "stdout",
          "text": [
            "(255, 0, 0, 255)\n"
          ]
        }
      ],
      "source": [
        "color_dtype = np.dtype([\n",
        "    (\"r\", np.uint8),\n",
        "    (\"g\", np.uint8),\n",
        "    (\"b\", np.uint8),\n",
        "    (\"a\", np.uint8)])\n",
        "color = np.array((255, 0, 0, 255), dtype=color_dtype)\n",
        "print(color)"
      ]
    },
    {
      "cell_type": "markdown",
      "metadata": {
        "id": "WA7lpB6Fmhzb"
      },
      "source": [
        "#### 24. Multiply a 5x3 matrix by a 3x2 matrix (real matrix product) (★☆☆)"
      ]
    },
    {
      "cell_type": "code",
      "execution_count": null,
      "metadata": {
        "id": "qh9Kb3llmhzb",
        "colab": {
          "base_uri": "https://localhost:8080/"
        },
        "outputId": "2d70d0fc-47ed-4fb0-fff0-9a032e199c1e"
      },
      "outputs": [
        {
          "output_type": "stream",
          "name": "stdout",
          "text": [
            "Matrix 1:\n",
            "[[0.93570195 0.6907089  0.84303072]\n",
            " [0.43618706 0.81983353 0.32294644]\n",
            " [0.54676502 0.02458206 0.76887801]\n",
            " [0.25904992 0.51841006 0.14828692]\n",
            " [0.02180745 0.46178327 0.49031703]]\n",
            "Matrix 2:\n",
            "[[0.94215494 0.31327531]\n",
            " [0.95645918 0.15117122]\n",
            " [0.02850477 0.0193756 ]]\n",
            "Product:\n",
            "[[1.56624147 0.41388185]\n",
            " [1.20429861 0.26683915]\n",
            " [0.56056579 0.18990155]\n",
            " [0.74413011 0.16239577]\n",
            " [0.47619921 0.08614026]]\n"
          ]
        }
      ],
      "source": [
        "matrix1 = np.random.random((5, 3))\n",
        "matrix2 = np.random.random((3, 2))\n",
        "\n",
        "product = np.matmul(matrix1, matrix2)\n",
        "\n",
        "print(\"Matrix 1:\")\n",
        "print(matrix1)\n",
        "print(\"Matrix 2:\")\n",
        "print(matrix2)\n",
        "print(\"Product:\")\n",
        "print(product)"
      ]
    },
    {
      "cell_type": "markdown",
      "metadata": {
        "id": "oXQODFIimhzb"
      },
      "source": [
        "#### 25. Given a 1D array, negate all elements which are between 3 and 8, in place. (★☆☆)"
      ]
    },
    {
      "cell_type": "code",
      "execution_count": null,
      "metadata": {
        "id": "CnhF0T-Hmhzb",
        "colab": {
          "base_uri": "https://localhost:8080/"
        },
        "outputId": "bfc65be7-83bc-48e8-f510-7abb454788b3"
      },
      "outputs": [
        {
          "output_type": "stream",
          "name": "stdout",
          "text": [
            "[1, -4, -6, 8, 10]\n"
          ]
        }
      ],
      "source": [
        "def negate_elements(arr):\n",
        "    for i in range(len(arr)):\n",
        "        if 3 < arr[i] < 8:\n",
        "            arr[i] = -arr[i]\n",
        "    return arr\n",
        "arr = [1, 4, 6, 8, 10]\n",
        "result = negate_elements(arr)\n",
        "print(result)"
      ]
    },
    {
      "cell_type": "markdown",
      "metadata": {
        "id": "Syy_dKZHmhzb"
      },
      "source": [
        "#### 26. What is the output of the following script? (★☆☆)\n",
        "```python\n",
        "# Author: Jake VanderPlas\n",
        "\n",
        "print(sum(range(5),-1))\n",
        "from numpy import *\n",
        "print(sum(range(5),-1))\n",
        "```"
      ]
    },
    {
      "cell_type": "code",
      "execution_count": null,
      "metadata": {
        "id": "QoSjcL61mhzc",
        "colab": {
          "base_uri": "https://localhost:8080/"
        },
        "outputId": "27a6e432-42e7-44db-e66e-c29d6da1970e"
      },
      "outputs": [
        {
          "output_type": "stream",
          "name": "stdout",
          "text": [
            "9\n",
            "10\n"
          ]
        }
      ],
      "source": [
        "print(sum(range(5),-1))\n",
        "from numpy import *\n",
        "print(sum(range(5),-1))"
      ]
    },
    {
      "cell_type": "markdown",
      "metadata": {
        "id": "qCXUL85Gmhzc"
      },
      "source": [
        "#### 27. Consider an integer vector Z, which of these expressions are legal? (★☆☆)\n",
        "```python\n",
        "Z**Z\n",
        "2 << Z >> 2\n",
        "Z <- Z\n",
        "1j*Z\n",
        "Z/1/1\n",
        "Z<Z>Z\n",
        "```"
      ]
    },
    {
      "cell_type": "code",
      "execution_count": null,
      "metadata": {
        "id": "ohy84wefmhzc",
        "colab": {
          "base_uri": "https://localhost:8080/"
        },
        "outputId": "bb5bdd6e-a7d3-42df-d4c2-631ffefa91c1"
      },
      "outputs": [
        {
          "output_type": "execute_result",
          "data": {
            "text/plain": [
              "array([0., 1., 2.])"
            ]
          },
          "metadata": {},
          "execution_count": 26
        }
      ],
      "source": [
        "Z = np.arange(3)\n",
        "\n",
        "Z ** Z  # = [0^0, 1^1, 2^2] = [1, 1, 4]\n",
        "2 << Z >> 2  # = [0, 1, 2]\n",
        "Z < -Z  # = [False, False, False]\n",
        "1j * Z  # = [0.+0.j, 0.+1.j, 0.+2.j]\n",
        "Z / 1 / 1  # = [0, 1, 2]"
      ]
    },
    {
      "cell_type": "markdown",
      "metadata": {
        "id": "JCooaby6mhzc"
      },
      "source": [
        "#### 28. What are the result of the following expressions?\n",
        "```python\n",
        "np.array(0) / np.array(0)\n",
        "np.array(0) // np.array(0)\n",
        "np.array([np.nan]).astype(int).astype(float)\n",
        "```"
      ]
    },
    {
      "cell_type": "code",
      "execution_count": null,
      "metadata": {
        "id": "S092bOycmhzc",
        "colab": {
          "base_uri": "https://localhost:8080/"
        },
        "outputId": "e54bf36e-53a2-4b87-8013-133dc37911f3"
      },
      "outputs": [
        {
          "output_type": "stream",
          "name": "stderr",
          "text": [
            "<ipython-input-27-cd809174da5d>:1: RuntimeWarning: invalid value encountered in divide\n",
            "  np.array(0) / np.array(0)\n",
            "<ipython-input-27-cd809174da5d>:2: RuntimeWarning: divide by zero encountered in floor_divide\n",
            "  np.array(0) // np.array(0)\n"
          ]
        },
        {
          "output_type": "execute_result",
          "data": {
            "text/plain": [
              "array([-9.22337204e+18])"
            ]
          },
          "metadata": {},
          "execution_count": 27
        }
      ],
      "source": [
        "np.array(0) / np.array(0)\n",
        "np.array(0) // np.array(0)\n",
        "np.array([np.nan]).astype(int).astype(float)"
      ]
    },
    {
      "cell_type": "markdown",
      "metadata": {
        "id": "ExFfRjAnmhzd"
      },
      "source": [
        "#### 29. How to round away from zero a float array ? (★☆☆)"
      ]
    },
    {
      "cell_type": "code",
      "execution_count": null,
      "metadata": {
        "id": "DVhxeuB4mhzd",
        "colab": {
          "base_uri": "https://localhost:8080/"
        },
        "outputId": "9888e6d9-b598-4772-9acc-66abb0fc9643"
      },
      "outputs": [
        {
          "output_type": "stream",
          "name": "stdout",
          "text": [
            "[-2. -1.  0.  1.  2.]\n"
          ]
        }
      ],
      "source": [
        "def round_away_from_zero(arr):\n",
        "    return np.fix(arr)\n",
        "\n",
        "arr = np.array([-2.9, -1.5, 0.7, 1.3, 2.8])\n",
        "result = round_away_from_zero(arr)\n",
        "print(result)"
      ]
    },
    {
      "cell_type": "markdown",
      "metadata": {
        "id": "wZvwVbS2mhzd"
      },
      "source": [
        "#### 30. How to find common values between two arrays? (★☆☆)"
      ]
    },
    {
      "cell_type": "code",
      "execution_count": null,
      "metadata": {
        "id": "UQCc7XPYmhzd",
        "colab": {
          "base_uri": "https://localhost:8080/"
        },
        "outputId": "35847358-54fb-47d2-e0a8-6c7285a2532a"
      },
      "outputs": [
        {
          "output_type": "stream",
          "name": "stdout",
          "text": [
            "[3 4 5]\n"
          ]
        }
      ],
      "source": [
        "arr1 = np.array([1, 2, 3, 4, 5])\n",
        "arr2 = np.array([3, 4, 5, 6, 7])\n",
        "\n",
        "common_values = np.intersect1d(arr1, arr2)\n",
        "\n",
        "print(common_values)"
      ]
    },
    {
      "cell_type": "markdown",
      "metadata": {
        "id": "bsK13tNqmhzd"
      },
      "source": [
        "#### 31. How to ignore all numpy warnings (not recommended)? (★☆☆)"
      ]
    },
    {
      "cell_type": "code",
      "execution_count": null,
      "metadata": {
        "id": "keb0rRnhmhze"
      },
      "outputs": [],
      "source": [
        "import warnings\n",
        "warnings.filterwarnings(\"ignore\")"
      ]
    },
    {
      "cell_type": "markdown",
      "metadata": {
        "id": "Tt7wohWJmhze"
      },
      "source": [
        "#### 32. Is the following expressions true? (★☆☆)\n",
        "```python\n",
        "np.sqrt(-1) == np.emath.sqrt(-1)\n",
        "```"
      ]
    },
    {
      "cell_type": "code",
      "execution_count": null,
      "metadata": {
        "id": "HdyTs7Xymhze",
        "colab": {
          "base_uri": "https://localhost:8080/"
        },
        "outputId": "2270327b-bf27-493e-e338-7882712707ca"
      },
      "outputs": [
        {
          "output_type": "execute_result",
          "data": {
            "text/plain": [
              "False"
            ]
          },
          "metadata": {},
          "execution_count": 31
        }
      ],
      "source": [
        "np.sqrt(-1) == np.emath.sqrt(-1)\n"
      ]
    },
    {
      "cell_type": "markdown",
      "metadata": {
        "id": "FLbz2Z27mhze"
      },
      "source": [
        "#### 33. How to get the dates of yesterday, today and tomorrow? (★☆☆)"
      ]
    },
    {
      "cell_type": "code",
      "execution_count": null,
      "metadata": {
        "id": "QSX82Cs_mhze",
        "colab": {
          "base_uri": "https://localhost:8080/"
        },
        "outputId": "8067a5c0-3cce-4751-c46f-2c56a6f4e1e0"
      },
      "outputs": [
        {
          "output_type": "stream",
          "name": "stdout",
          "text": [
            "Yesterday: 2023-09-20\n",
            "Today: 2023-09-21\n",
            "Tomorrow: 2023-09-22\n"
          ]
        }
      ],
      "source": [
        "today = np.datetime64('today', 'D')\n",
        "yesterday = np.datetime64('today', 'D') - np.timedelta64(1, 'D')\n",
        "tomorrow = np.datetime64('today', 'D') + np.timedelta64(1, 'D')\n",
        "\n",
        "print(\"Yesterday:\", yesterday)\n",
        "print(\"Today:\", today)\n",
        "print(\"Tomorrow:\", tomorrow)"
      ]
    },
    {
      "cell_type": "markdown",
      "metadata": {
        "id": "D-nW7y9Wmhze"
      },
      "source": [
        "#### 34. How to get all the dates corresponding to the month of July 2016? (★★☆)"
      ]
    },
    {
      "cell_type": "code",
      "execution_count": null,
      "metadata": {
        "id": "1FrDPjy_mhze",
        "colab": {
          "base_uri": "https://localhost:8080/"
        },
        "outputId": "fa2b1511-0913-49a9-e6dc-53e700ac912a"
      },
      "outputs": [
        {
          "output_type": "stream",
          "name": "stdout",
          "text": [
            "['2016-07-01' '2016-07-02' '2016-07-03' '2016-07-04' '2016-07-05'\n",
            " '2016-07-06' '2016-07-07' '2016-07-08' '2016-07-09' '2016-07-10'\n",
            " '2016-07-11' '2016-07-12' '2016-07-13' '2016-07-14' '2016-07-15'\n",
            " '2016-07-16' '2016-07-17' '2016-07-18' '2016-07-19' '2016-07-20'\n",
            " '2016-07-21' '2016-07-22' '2016-07-23' '2016-07-24' '2016-07-25'\n",
            " '2016-07-26' '2016-07-27' '2016-07-28' '2016-07-29' '2016-07-30'\n",
            " '2016-07-31']\n"
          ]
        }
      ],
      "source": [
        "dates = np.arange('2016-07', '2016-08', dtype='datetime64[D]')\n",
        "print(dates)"
      ]
    },
    {
      "cell_type": "markdown",
      "metadata": {
        "id": "cNhW6L89mhze"
      },
      "source": [
        "#### 35. How to compute ((A+B)*(-A/2)) in place (without copy)? (★★☆)"
      ]
    },
    {
      "cell_type": "code",
      "execution_count": null,
      "metadata": {
        "id": "7JKGe4hYmhze",
        "colab": {
          "base_uri": "https://localhost:8080/",
          "height": 245
        },
        "outputId": "aeda56fe-1e3e-4ed9-b3be-75bb4d208b39"
      },
      "outputs": [
        {
          "output_type": "error",
          "ename": "UFuncTypeError",
          "evalue": "ignored",
          "traceback": [
            "\u001b[0;31m---------------------------------------------------------------------------\u001b[0m",
            "\u001b[0;31mUFuncTypeError\u001b[0m                            Traceback (most recent call last)",
            "\u001b[0;32m<ipython-input-34-7673ff897885>\u001b[0m in \u001b[0;36m<cell line: 6>\u001b[0;34m()\u001b[0m\n\u001b[1;32m      4\u001b[0m \u001b[0;34m\u001b[0m\u001b[0m\n\u001b[1;32m      5\u001b[0m \u001b[0;31m# Compute the expression in place\u001b[0m\u001b[0;34m\u001b[0m\u001b[0;34m\u001b[0m\u001b[0m\n\u001b[0;32m----> 6\u001b[0;31m \u001b[0mnp\u001b[0m\u001b[0;34m.\u001b[0m\u001b[0mmultiply\u001b[0m\u001b[0;34m(\u001b[0m\u001b[0mnp\u001b[0m\u001b[0;34m.\u001b[0m\u001b[0madd\u001b[0m\u001b[0;34m(\u001b[0m\u001b[0mA\u001b[0m\u001b[0;34m,\u001b[0m \u001b[0mB\u001b[0m\u001b[0;34m)\u001b[0m\u001b[0;34m,\u001b[0m \u001b[0mnp\u001b[0m\u001b[0;34m.\u001b[0m\u001b[0mdivide\u001b[0m\u001b[0;34m(\u001b[0m\u001b[0;34m-\u001b[0m\u001b[0mA\u001b[0m\u001b[0;34m,\u001b[0m \u001b[0;36m2\u001b[0m\u001b[0;34m)\u001b[0m\u001b[0;34m,\u001b[0m \u001b[0mout\u001b[0m\u001b[0;34m=\u001b[0m\u001b[0mA\u001b[0m\u001b[0;34m)\u001b[0m\u001b[0;34m\u001b[0m\u001b[0;34m\u001b[0m\u001b[0m\n\u001b[0m\u001b[1;32m      7\u001b[0m \u001b[0;34m\u001b[0m\u001b[0m\n\u001b[1;32m      8\u001b[0m \u001b[0mprint\u001b[0m\u001b[0;34m(\u001b[0m\u001b[0;34m\"Resulting array A:\"\u001b[0m\u001b[0;34m)\u001b[0m\u001b[0;34m\u001b[0m\u001b[0;34m\u001b[0m\u001b[0m\n",
            "\u001b[0;31mUFuncTypeError\u001b[0m: Cannot cast ufunc 'multiply' output from dtype('float64') to dtype('int64') with casting rule 'same_kind'"
          ]
        }
      ],
      "source": [
        "# Given arrays A and B\n",
        "A = np.array([1, 2, 3])\n",
        "B = np.array([4, 5, 6])\n",
        "\n",
        "# Compute the expression in place\n",
        "np.multiply(np.add(A, B), np.divide(-A, 2), out=A)\n",
        "\n",
        "print(\"Resulting array A:\")\n",
        "print(A)"
      ]
    },
    {
      "cell_type": "markdown",
      "metadata": {
        "id": "iXSxkhHxmhzf"
      },
      "source": [
        "#### 36. Extract the integer part of a random array using 5 different methods (★★☆)"
      ]
    },
    {
      "cell_type": "code",
      "execution_count": null,
      "metadata": {
        "id": "PiD8emVqmhzf",
        "colab": {
          "base_uri": "https://localhost:8080/"
        },
        "outputId": "137f80af-15d4-4e23-e1e2-cf4a1114a323"
      },
      "outputs": [
        {
          "output_type": "stream",
          "name": "stdout",
          "text": [
            "[7. 8. 5. 3. 5.]\n",
            "[6. 0. 4. 1. 4.]\n",
            "[3. 3. 4. 4. 3.]\n",
            "[9 9 0 6 6]\n",
            "[0. 8. 5. 0. 5.]\n"
          ]
        }
      ],
      "source": [
        "# Method 1: Using the np.fix function\n",
        "arr = np.random.random(5) * 10\n",
        "integer_part = np.fix(arr)\n",
        "print(integer_part)\n",
        "\n",
        "# Method 2: Using the np.floor function\n",
        "arr = np.random.random(5) * 10\n",
        "integer_part = np.floor(arr)\n",
        "print(integer_part)\n",
        "\n",
        "# Method 3: Using the np.trunc function\n",
        "arr = np.random.random(5) * 10\n",
        "integer_part = np.trunc(arr)\n",
        "print(integer_part)\n",
        "\n",
        "# Method 4: Using the astype method\n",
        "arr = np.random.random(5) * 10\n",
        "integer_part = arr.astype(int)\n",
        "print(integer_part)\n",
        "\n",
        "# Method 5: Using the np.ceil and np.where functions\n",
        "arr = np.random.random(5) * 10\n",
        "integer_part = np.where(arr < 0, np.ceil(arr), np.floor(arr))\n",
        "print(integer_part)"
      ]
    },
    {
      "cell_type": "markdown",
      "metadata": {
        "id": "F2uL1eZImhzf"
      },
      "source": [
        "#### 37. Create a 5x5 matrix with row values ranging from 0 to 4 (★★☆)"
      ]
    },
    {
      "cell_type": "code",
      "execution_count": null,
      "metadata": {
        "id": "sEUhqdcMmhzf",
        "colab": {
          "base_uri": "https://localhost:8080/"
        },
        "outputId": "faed046a-34f3-44e7-9a1a-a818af4a9b17"
      },
      "outputs": [
        {
          "output_type": "stream",
          "name": "stdout",
          "text": [
            "[[0. 1. 2. 3. 4.]\n",
            " [0. 1. 2. 3. 4.]\n",
            " [0. 1. 2. 3. 4.]\n",
            " [0. 1. 2. 3. 4.]\n",
            " [0. 1. 2. 3. 4.]]\n"
          ]
        }
      ],
      "source": [
        "matrix = np.zeros((5, 5))\n",
        "matrix += np.arange(5)\n",
        "print(matrix)"
      ]
    },
    {
      "cell_type": "markdown",
      "metadata": {
        "id": "shs6yFxumhzf"
      },
      "source": [
        "#### 38. Consider a generator function that generates 10 integers and use it to build an array (★☆☆)"
      ]
    },
    {
      "cell_type": "code",
      "execution_count": null,
      "metadata": {
        "id": "N3Iboygymhzf",
        "colab": {
          "base_uri": "https://localhost:8080/"
        },
        "outputId": "d76eaf04-7152-40da-fe36-0ba528ec4be2"
      },
      "outputs": [
        {
          "output_type": "stream",
          "name": "stdout",
          "text": [
            "[0 1 2 3 4 5 6 7 8 9]\n"
          ]
        }
      ],
      "source": [
        "def generate_integers():\n",
        "    for i in range(10):\n",
        "        yield i\n",
        "arr = np.fromiter(generate_integers(), dtype=int)\n",
        "print(arr)"
      ]
    },
    {
      "cell_type": "markdown",
      "metadata": {
        "id": "hAKc6Qefmhzg"
      },
      "source": [
        "#### 39. Create a vector of size 10 with values ranging from 0 to 1, both excluded (★★☆)"
      ]
    },
    {
      "cell_type": "code",
      "execution_count": null,
      "metadata": {
        "id": "ssSW5LInmhzg",
        "colab": {
          "base_uri": "https://localhost:8080/"
        },
        "outputId": "3a16b5af-d1fa-446c-c15f-2a8333cad450"
      },
      "outputs": [
        {
          "output_type": "stream",
          "name": "stdout",
          "text": [
            "[0.09090909 0.18181818 0.27272727 0.36363636 0.45454545 0.54545455\n",
            " 0.63636364 0.72727273 0.81818182 0.90909091]\n"
          ]
        }
      ],
      "source": [
        "vector = np.linspace(0, 1, num=12, endpoint=True)[1:-1]\n",
        "print(vector)"
      ]
    },
    {
      "cell_type": "markdown",
      "metadata": {
        "id": "fogowZbomhzg"
      },
      "source": [
        "#### 40. Create a random vector of size 10 and sort it (★★☆)"
      ]
    },
    {
      "cell_type": "code",
      "execution_count": null,
      "metadata": {
        "id": "FpudsGhHmhzg",
        "colab": {
          "base_uri": "https://localhost:8080/"
        },
        "outputId": "ed331b7c-5fc0-416e-b147-be163b22f0d2"
      },
      "outputs": [
        {
          "output_type": "stream",
          "name": "stdout",
          "text": [
            "[0.02273054 0.28588072 0.35389347 0.407816   0.5397193  0.59803941\n",
            " 0.65235985 0.69383233 0.81804713 0.98755805]\n"
          ]
        }
      ],
      "source": [
        "vector = np.random.random(10)\n",
        "vector.sort()\n",
        "print(vector)"
      ]
    },
    {
      "cell_type": "markdown",
      "metadata": {
        "id": "MMKPOsoZmhzg"
      },
      "source": [
        "#### 41. How to sum a small array faster than np.sum? (★★☆)"
      ]
    },
    {
      "cell_type": "code",
      "execution_count": null,
      "metadata": {
        "id": "DRMHRuDBmhzg",
        "colab": {
          "base_uri": "https://localhost:8080/"
        },
        "outputId": "f3ee0e76-bd9e-4f99-b20a-d7cb70046e59"
      },
      "outputs": [
        {
          "output_type": "stream",
          "name": "stdout",
          "text": [
            "15\n"
          ]
        }
      ],
      "source": [
        "arr = np.array([1, 2, 3, 4, 5])\n",
        "result = sum(arr)\n",
        "print(result)"
      ]
    },
    {
      "cell_type": "markdown",
      "metadata": {
        "id": "P8eg7Twmmhzh"
      },
      "source": [
        "#### 42. Consider two random array A and B, check if they are equal (★★☆)"
      ]
    },
    {
      "cell_type": "code",
      "execution_count": null,
      "metadata": {
        "id": "-t8F06p7mhzh",
        "colab": {
          "base_uri": "https://localhost:8080/"
        },
        "outputId": "a8a87ed7-fe67-4e33-badc-b82c6424cb63"
      },
      "outputs": [
        {
          "output_type": "stream",
          "name": "stdout",
          "text": [
            "False\n"
          ]
        }
      ],
      "source": [
        "A = np.random.random(5)\n",
        "B = np.random.random(5)\n",
        "are_equal = np.array_equal(A, B)\n",
        "print(are_equal)"
      ]
    },
    {
      "cell_type": "markdown",
      "metadata": {
        "id": "L5Ofsos1mhzh"
      },
      "source": [
        "#### 43. Make an array immutable (read-only) (★★☆)"
      ]
    },
    {
      "cell_type": "code",
      "execution_count": null,
      "metadata": {
        "id": "td6V-Z4wmhzh",
        "colab": {
          "base_uri": "https://localhost:8080/"
        },
        "outputId": "8bf83bb6-2b06-469c-bb1d-d416d108a124"
      },
      "outputs": [
        {
          "output_type": "stream",
          "name": "stdout",
          "text": [
            "[1 2 3]\n"
          ]
        }
      ],
      "source": [
        "arr = np.array([1, 2, 3])\n",
        "arr.flags.writeable = False\n",
        "\n",
        "print(arr)"
      ]
    },
    {
      "cell_type": "markdown",
      "metadata": {
        "id": "Tnglfv8emhzh"
      },
      "source": [
        "#### 44. Consider a random 10x2 matrix representing cartesian coordinates, convert them to polar coordinates (★★☆)"
      ]
    },
    {
      "cell_type": "code",
      "execution_count": null,
      "metadata": {
        "id": "nkXc6N6bmhzh",
        "colab": {
          "base_uri": "https://localhost:8080/"
        },
        "outputId": "640d1ea7-3e1c-482a-e14e-76fb436573b2"
      },
      "outputs": [
        {
          "output_type": "stream",
          "name": "stdout",
          "text": [
            "[[0.67122465 1.05075283]\n",
            " [0.96880492 0.60349203]\n",
            " [0.8721651  0.87374206]\n",
            " [1.21847911 0.88775108]\n",
            " [0.48427264 1.32318576]\n",
            " [0.39293236 1.26246139]\n",
            " [0.96602137 0.14921685]\n",
            " [0.86810884 1.0381925 ]\n",
            " [0.95931756 0.93003635]\n",
            " [0.62335883 0.55955517]]\n"
          ]
        }
      ],
      "source": [
        "# Generate a random 10x2 matrix representing Cartesian coordinates\n",
        "cartesian_coordinates = np.random.random((10, 2))\n",
        "\n",
        "# Convert Cartesian coordinates to polar coordinates\n",
        "radii = np.linalg.norm(cartesian_coordinates, axis=1)\n",
        "angles = np.arctan2(cartesian_coordinates[:, 1], cartesian_coordinates[:, 0])\n",
        "\n",
        "# Combine radii and angles into a polar coordinates matrix\n",
        "polar_coordinates = np.column_stack((radii, angles))\n",
        "\n",
        "print(polar_coordinates)"
      ]
    },
    {
      "cell_type": "markdown",
      "metadata": {
        "id": "jhNx9RGbmhzh"
      },
      "source": [
        "#### 45. Create random vector of size 10 and replace the maximum value by 0 (★★☆)"
      ]
    },
    {
      "cell_type": "code",
      "execution_count": null,
      "metadata": {
        "id": "VNTJfbfimhzh",
        "colab": {
          "base_uri": "https://localhost:8080/"
        },
        "outputId": "faa568d8-a24f-4b84-de67-9750135ad3cd"
      },
      "outputs": [
        {
          "output_type": "stream",
          "name": "stdout",
          "text": [
            "Original vector:\n",
            "[0.35835899 0.33430778 0.68610314 0.83850356 0.10331595 0.0603295\n",
            " 0.         0.16525397 0.69608437 0.50098656]\n"
          ]
        }
      ],
      "source": [
        "# Create a random vector of size 10\n",
        "vector = np.random.random(10)\n",
        "\n",
        "# Replace the maximum value with 0\n",
        "vector[vector.argmax()] = 0\n",
        "\n",
        "print(\"Original vector:\")\n",
        "print(vector)"
      ]
    },
    {
      "cell_type": "markdown",
      "metadata": {
        "id": "XrnXxH09mhzh"
      },
      "source": [
        "#### 46. Create a structured array with `x` and `y` coordinates covering the [0,1]x[0,1] area (★★☆)"
      ]
    },
    {
      "cell_type": "code",
      "execution_count": null,
      "metadata": {
        "id": "7eElRPNkmhzi",
        "colab": {
          "base_uri": "https://localhost:8080/",
          "height": 245
        },
        "outputId": "5e773718-33eb-4c5d-fda3-f08be302b0fc"
      },
      "outputs": [
        {
          "output_type": "error",
          "ename": "ValueError",
          "evalue": "ignored",
          "traceback": [
            "\u001b[0;31m---------------------------------------------------------------------------\u001b[0m",
            "\u001b[0;31mValueError\u001b[0m                                Traceback (most recent call last)",
            "\u001b[0;32m<ipython-input-45-fce078edc981>\u001b[0m in \u001b[0;36m<cell line: 4>\u001b[0;34m()\u001b[0m\n\u001b[1;32m      2\u001b[0m \u001b[0mx\u001b[0m\u001b[0;34m,\u001b[0m \u001b[0my\u001b[0m \u001b[0;34m=\u001b[0m \u001b[0mnp\u001b[0m\u001b[0;34m.\u001b[0m\u001b[0mmeshgrid\u001b[0m\u001b[0;34m(\u001b[0m\u001b[0mnp\u001b[0m\u001b[0;34m.\u001b[0m\u001b[0mlinspace\u001b[0m\u001b[0;34m(\u001b[0m\u001b[0;36m0\u001b[0m\u001b[0;34m,\u001b[0m \u001b[0;36m1\u001b[0m\u001b[0;34m,\u001b[0m \u001b[0mnum\u001b[0m\u001b[0;34m=\u001b[0m\u001b[0;36m10\u001b[0m\u001b[0;34m)\u001b[0m\u001b[0;34m,\u001b[0m \u001b[0mnp\u001b[0m\u001b[0;34m.\u001b[0m\u001b[0mlinspace\u001b[0m\u001b[0;34m(\u001b[0m\u001b[0;36m0\u001b[0m\u001b[0;34m,\u001b[0m \u001b[0;36m1\u001b[0m\u001b[0;34m,\u001b[0m \u001b[0mnum\u001b[0m\u001b[0;34m=\u001b[0m\u001b[0;36m10\u001b[0m\u001b[0;34m)\u001b[0m\u001b[0;34m)\u001b[0m\u001b[0;34m\u001b[0m\u001b[0;34m\u001b[0m\u001b[0m\n\u001b[1;32m      3\u001b[0m \u001b[0mstructured_array\u001b[0m \u001b[0;34m=\u001b[0m \u001b[0mnp\u001b[0m\u001b[0;34m.\u001b[0m\u001b[0mzeros\u001b[0m\u001b[0;34m(\u001b[0m\u001b[0;34m(\u001b[0m\u001b[0;36m10\u001b[0m\u001b[0;34m,\u001b[0m \u001b[0;36m10\u001b[0m\u001b[0;34m)\u001b[0m\u001b[0;34m,\u001b[0m \u001b[0mdtype\u001b[0m\u001b[0;34m=\u001b[0m\u001b[0;34m[\u001b[0m\u001b[0;34m(\u001b[0m\u001b[0;34m'x'\u001b[0m\u001b[0;34m,\u001b[0m \u001b[0mfloat\u001b[0m\u001b[0;34m)\u001b[0m\u001b[0;34m,\u001b[0m \u001b[0;34m(\u001b[0m\u001b[0;34m'y'\u001b[0m\u001b[0;34m,\u001b[0m \u001b[0mfloat\u001b[0m\u001b[0;34m)\u001b[0m\u001b[0;34m]\u001b[0m\u001b[0;34m)\u001b[0m\u001b[0;34m\u001b[0m\u001b[0;34m\u001b[0m\u001b[0m\n\u001b[0;32m----> 4\u001b[0;31m \u001b[0mstructured_array\u001b[0m\u001b[0;34m[\u001b[0m\u001b[0;34m'x'\u001b[0m\u001b[0;34m]\u001b[0m\u001b[0;34m,\u001b[0m \u001b[0mstructured_array\u001b[0m\u001b[0;34m[\u001b[0m\u001b[0;34m'y'\u001b[0m\u001b[0;34m]\u001b[0m \u001b[0;34m=\u001b[0m \u001b[0mx\u001b[0m\u001b[0;34m.\u001b[0m\u001b[0mflatten\u001b[0m\u001b[0;34m(\u001b[0m\u001b[0;34m)\u001b[0m\u001b[0;34m,\u001b[0m \u001b[0my\u001b[0m\u001b[0;34m.\u001b[0m\u001b[0mflatten\u001b[0m\u001b[0;34m(\u001b[0m\u001b[0;34m)\u001b[0m\u001b[0;34m\u001b[0m\u001b[0;34m\u001b[0m\u001b[0m\n\u001b[0m\u001b[1;32m      5\u001b[0m \u001b[0;34m\u001b[0m\u001b[0m\n\u001b[1;32m      6\u001b[0m \u001b[0mprint\u001b[0m\u001b[0;34m(\u001b[0m\u001b[0;34m\"Structured array with x and y coordinates covering the [0,1]x[0,1] area:\"\u001b[0m\u001b[0;34m)\u001b[0m\u001b[0;34m\u001b[0m\u001b[0;34m\u001b[0m\u001b[0m\n",
            "\u001b[0;31mValueError\u001b[0m: could not broadcast input array from shape (100,) into shape (10,10)"
          ]
        }
      ],
      "source": [
        "# Create a structured array with x and y coordinates covering the [0,1]x[0,1] area\n",
        "x, y = np.meshgrid(np.linspace(0, 1, num=10), np.linspace(0, 1, num=10))\n",
        "structured_array = np.zeros((10, 10), dtype=[('x', float), ('y', float)])\n",
        "structured_array['x'], structured_array['y'] = x.flatten(), y.flatten()\n",
        "\n",
        "print(\"Structured array with x and y coordinates covering the [0,1]x[0,1] area:\")\n",
        "print(structured_array)"
      ]
    },
    {
      "cell_type": "markdown",
      "metadata": {
        "id": "jleoIuj2mhzi"
      },
      "source": [
        "#### 47. Given two arrays, X and Y, construct the Cauchy matrix C (Cij =1/(xi - yj))"
      ]
    },
    {
      "cell_type": "code",
      "execution_count": null,
      "metadata": {
        "id": "5p-XQFvpmhzi",
        "colab": {
          "base_uri": "https://localhost:8080/"
        },
        "outputId": "6c9d3ae7-59ac-4b19-c849-66a32cb4651e"
      },
      "outputs": [
        {
          "output_type": "stream",
          "name": "stdout",
          "text": [
            "Cauchy matrix C:\n",
            "[[-0.33333333 -0.25       -0.2       ]\n",
            " [-0.5        -0.33333333 -0.25      ]\n",
            " [-1.         -0.5        -0.33333333]]\n"
          ]
        }
      ],
      "source": [
        "# Given arrays X and Y\n",
        "X = np.array([1, 2, 3])\n",
        "Y = np.array([4, 5, 6])\n",
        "\n",
        "# Construct the Cauchy matrix C\n",
        "C = 1 / (X[:, np.newaxis] - Y)\n",
        "\n",
        "print(\"Cauchy matrix C:\")\n",
        "print(C)"
      ]
    },
    {
      "cell_type": "markdown",
      "metadata": {
        "id": "R4SqVoRJmhzi"
      },
      "source": [
        "#### 48. Print the minimum and maximum representable value for each numpy scalar type (★★☆)"
      ]
    },
    {
      "cell_type": "code",
      "execution_count": null,
      "metadata": {
        "id": "ZXGkzHbRmhzi",
        "colab": {
          "base_uri": "https://localhost:8080/"
        },
        "outputId": "289f51e7-a9c1-4b2a-9473-84c698ba13bf"
      },
      "outputs": [
        {
          "output_type": "stream",
          "name": "stdout",
          "text": [
            "int8: The minimum value is -128 and the maximum value is 127.\n",
            "int16: The minimum value is -32768 and the maximum value is 32767.\n",
            "int32: The minimum value is -2147483648 and the maximum value is 2147483647.\n",
            "int64: The minimum value is -9223372036854775808 and the maximum value is 9223372036854775807.\n",
            "uint8: The minimum value is 0 and the maximum value is 255.\n",
            "uint16: The minimum value is 0 and the maximum value is 65535.\n",
            "uint32: The minimum value is 0 and the maximum value is 4294967295.\n",
            "uint64: The minimum value is 0 and the maximum value is 18446744073709551615.\n",
            "float16: The minimum positive normalized value is approximately 6.103515625e-05 and the maximum positive normalized value is approximately 65504.0.\n",
            "float32: The minimum positive normalized value is approximately 1.1754943508222875e-38 and the maximum positive normalized value is approximately 3.4028234663852886e+38.\n",
            "float64: The minimum positive normalized value is approximately 2.2250738585072014e-308 and the maximum positive normalized value is approximately 1.7976931348623157e+308.\n"
          ]
        }
      ],
      "source": [
        "import numpy as np\n",
        "\n",
        "# Integer types\n",
        "for dtype in [np.int8, np.int16, np.int32, np.int64]:\n",
        "    print(f\"{dtype.__name__}: The minimum value is {np.iinfo(dtype).min} and the maximum value is {np.iinfo(dtype).max}.\")\n",
        "\n",
        "# Unsigned integer types\n",
        "for dtype in [np.uint8, np.uint16, np.uint32, np.uint64]:\n",
        "    print(f\"{dtype.__name__}: The minimum value is {np.iinfo(dtype).min} and the maximum value is {np.iinfo(dtype).max}.\")\n",
        "\n",
        "# Floating-point types\n",
        "for dtype in [np.float16, np.float32, np.float64]:\n",
        "    print(f\"{dtype.__name__}: The minimum positive normalized value is approximately {np.finfo(dtype).tiny} and the maximum positive normalized value is approximately {np.finfo(dtype).max}.\")\n"
      ]
    },
    {
      "cell_type": "markdown",
      "metadata": {
        "id": "j-gPdslemhzi"
      },
      "source": [
        "#### 49. How to print all the values of an array? (★★☆)"
      ]
    },
    {
      "cell_type": "code",
      "execution_count": null,
      "metadata": {
        "id": "ShOsODvjmhzi",
        "colab": {
          "base_uri": "https://localhost:8080/"
        },
        "outputId": "b7da8b89-861e-417e-8ee5-bf9772923e56"
      },
      "outputs": [
        {
          "output_type": "stream",
          "name": "stdout",
          "text": [
            "[1 2 3 4 5]\n"
          ]
        }
      ],
      "source": [
        "# Create an array\n",
        "array = np.array([1, 2, 3, 4, 5])\n",
        "\n",
        "# Set print options to display all values\n",
        "np.set_printoptions(threshold=np.inf)\n",
        "\n",
        "# Print the array\n",
        "print(array)"
      ]
    },
    {
      "cell_type": "markdown",
      "metadata": {
        "id": "cbXFiTsamhzi"
      },
      "source": [
        "#### 50. How to find the closest value (to a given scalar) in a vector? (★★☆)"
      ]
    },
    {
      "cell_type": "code",
      "execution_count": null,
      "metadata": {
        "id": "tQIf1ADPmhzi",
        "colab": {
          "base_uri": "https://localhost:8080/"
        },
        "outputId": "604e9115-038e-4361-8275-6291d143e151"
      },
      "outputs": [
        {
          "output_type": "stream",
          "name": "stdout",
          "text": [
            "Closest value: 2\n"
          ]
        }
      ],
      "source": [
        "# Given vector and scalar\n",
        "vector = np.array([1, 2, 3, 4, 5])\n",
        "scalar = 2.5\n",
        "\n",
        "# Find the index of the closest value\n",
        "index = np.abs(vector - scalar).argmin()\n",
        "\n",
        "# Get the closest value\n",
        "closest_value = vector[index]\n",
        "\n",
        "print(\"Closest value:\", closest_value)"
      ]
    },
    {
      "cell_type": "markdown",
      "metadata": {
        "id": "5yPV80AFmhzi"
      },
      "source": [
        "#### 51. Create a structured array representing a position (x,y) and a color (r,g,b) (★★☆)"
      ]
    },
    {
      "cell_type": "code",
      "execution_count": null,
      "metadata": {
        "id": "GOa1r-_xmhzj",
        "colab": {
          "base_uri": "https://localhost:8080/"
        },
        "outputId": "06d95678-888b-4b28-eae7-fd6d0f641552"
      },
      "outputs": [
        {
          "output_type": "stream",
          "name": "stdout",
          "text": [
            "Structured array representing a position (x,y) and a color (r,g,b):\n",
            "[((9.63174369, 9.21472148), (236.07945418,  40.50297803,  61.12272426))\n",
            " ((7.15670909, 4.92927078), (192.0608549 , 166.84973262, 186.49108878))\n",
            " ((1.45686459, 2.65205275), ( 43.53729982, 168.32039014,   4.06385946))\n",
            " ((5.4791382 , 8.8456853 ), (217.47213785, 108.44964229, 219.8932947 ))\n",
            " ((9.27956684, 3.31379566), (198.96194455, 222.3992924 , 116.02603313))\n",
            " ((7.60815222, 4.05014187), ( 98.8341852 ,  41.62388143, 166.76634548))\n",
            " ((9.82384963, 5.87747798), (162.36355217,  19.32734714, 109.00538365))\n",
            " ((2.51523809, 4.61166066), (110.5006465 , 172.05670718,  95.85621454))\n",
            " ((0.39930975, 4.09244887), (161.02417374,  79.37191123,  31.32241466))\n",
            " ((4.49405524, 2.38721846), (160.22837312,  21.24412894, 235.98150511))]\n"
          ]
        }
      ],
      "source": [
        "# Create a structured array with position (x,y) and color (r,g,b)\n",
        "structured_array = np.zeros(10, dtype=[('position', [('x', float), ('y', float)]), ('color', [('r', float), ('g', float), ('b', float)])])\n",
        "\n",
        "# Generate random values for position and color\n",
        "structured_array['position']['x'] = np.random.random(10) * 10\n",
        "structured_array['position']['y'] = np.random.random(10) * 10\n",
        "structured_array['color']['r'] = np.random.random(10) * 255\n",
        "structured_array['color']['g'] = np.random.random(10) * 255\n",
        "structured_array['color']['b'] = np.random.random(10) * 255\n",
        "\n",
        "print(\"Structured array representing a position (x,y) and a color (r,g,b):\")\n",
        "print(structured_array)"
      ]
    },
    {
      "cell_type": "markdown",
      "metadata": {
        "id": "wUz5OTxlmhzj"
      },
      "source": [
        "#### 52. Consider a random vector with shape (100,2) representing coordinates, find point by point distances (★★☆)"
      ]
    },
    {
      "cell_type": "code",
      "execution_count": null,
      "metadata": {
        "id": "aaQMoU1Amhzj",
        "colab": {
          "base_uri": "https://localhost:8080/"
        },
        "outputId": "72e1d96e-6f78-4709-c73d-67a166f9ba7c"
      },
      "outputs": [
        {
          "output_type": "stream",
          "name": "stdout",
          "text": [
            "Point by point distances:\n",
            "[[0.00000000e+00 1.23731008e-01 1.66956890e-01 3.04667115e-01\n",
            "  4.13583434e-01 5.31352434e-01 1.67503926e-01 1.55695802e-01\n",
            "  3.11862445e-01 3.20806504e-01 2.77094517e-01 9.52577067e-02\n",
            "  5.14098043e-01 5.53777159e-01 2.27638647e-01 2.07345880e-01\n",
            "  5.92191733e-01 4.98341944e-01 4.85990192e-02 7.15980219e-01\n",
            "  3.55913765e-01 4.12921759e-01 2.42315813e-01 1.40915016e-01\n",
            "  2.87651728e-01 4.57181605e-01 3.86222167e-01 6.73502950e-01\n",
            "  2.86831721e-01 5.06619974e-01 5.30000430e-01 4.97966998e-01\n",
            "  4.78278601e-01 3.02203629e-01 4.91668497e-01 3.87388274e-01\n",
            "  6.35945864e-01 4.19796930e-01 5.37785822e-01 4.58204113e-01\n",
            "  6.05399353e-01 5.91998055e-01 4.95174047e-01 4.03572875e-01\n",
            "  5.74064167e-01 5.02518160e-01 4.28210985e-01 2.34981785e-01\n",
            "  4.15565738e-01 1.75634459e-01 3.73991265e-01 2.99676244e-01\n",
            "  4.74997770e-01 5.25824026e-01 3.70557204e-01 3.46366794e-01\n",
            "  5.54323102e-01 2.56926778e-01 3.84421261e-01 3.61538658e-01\n",
            "  3.97554510e-01 3.45336779e-01 5.14988744e-01 3.54865996e-01\n",
            "  7.87074348e-01 5.19243069e-01 2.06756571e-01 4.67200624e-02\n",
            "  3.48466856e-01 5.75144840e-01 6.14611311e-01 1.98852705e-01\n",
            "  4.22733725e-01 5.57615235e-01 3.83607578e-01 3.68238230e-01\n",
            "  5.39488336e-01 4.23898906e-01 4.28949797e-01 3.20587858e-01\n",
            "  2.18589860e-01 3.49754317e-01 5.49693092e-01 3.20732123e-01\n",
            "  3.40554922e-01 1.90454801e-01 4.64022986e-02 3.75428884e-01\n",
            "  3.66282615e-01 4.62768832e-01 5.62775513e-01 3.40059592e-01\n",
            "  5.08510756e-01 3.30370648e-01 5.63802646e-01 3.91465760e-01\n",
            "  6.76653565e-01 6.67878451e-01 7.14161860e-01 5.06741640e-01]\n",
            " [1.23731008e-01 0.00000000e+00 2.68641035e-01 3.97175110e-01\n",
            "  3.57971818e-01 6.39613257e-01 7.28455032e-02 2.17054685e-01\n",
            "  4.33690816e-01 4.22523850e-01 3.99106603e-01 2.17084783e-01\n",
            "  5.96615973e-01 6.44918138e-01 2.28731307e-01 8.93483144e-02\n",
            "  6.71046693e-01 5.03637056e-01 1.28693580e-01 7.83805614e-01\n",
            "  4.50707909e-01 4.18348854e-01 1.89295161e-01 2.55372049e-01\n",
            "  1.73950830e-01 3.43744011e-01 4.63707551e-01 7.15735332e-01\n",
            "  3.76973591e-01 6.04978590e-01 6.40299543e-01 6.21317945e-01\n",
            "  3.88606076e-01 2.85378026e-01 3.97194440e-01 3.84265445e-01\n",
            "  5.55202225e-01 5.29451410e-01 4.89687608e-01 4.39576387e-01\n",
            "  6.14049336e-01 5.37958479e-01 5.49757492e-01 2.92560107e-01\n",
            "  6.97391074e-01 6.26219620e-01 3.49360565e-01 3.55244723e-01\n",
            "  3.77190315e-01 1.55784376e-01 3.58711361e-01 2.36713853e-01\n",
            "  3.51566698e-01 4.99571712e-01 3.32312163e-01 3.14854746e-01\n",
            "  5.07087499e-01 1.34354204e-01 2.75930374e-01 4.74278189e-01\n",
            "  2.80722495e-01 3.58441318e-01 3.98822432e-01 4.78596858e-01\n",
            "  8.41565494e-01 4.39414168e-01 3.26859378e-01 1.14279539e-01\n",
            "  2.25648734e-01 5.95681397e-01 6.50981917e-01 3.19774333e-01\n",
            "  3.03573618e-01 5.31742712e-01 3.47142739e-01 2.78673003e-01\n",
            "  4.42558423e-01 5.32084374e-01 3.95417598e-01 2.02928747e-01\n",
            "  2.50968319e-01 2.58485303e-01 4.44664668e-01 4.42171093e-01\n",
            "  3.43487222e-01 1.28651072e-01 8.01292066e-02 3.91598493e-01\n",
            "  2.64616800e-01 5.85787594e-01 5.63646751e-01 3.82752038e-01\n",
            "  5.90234996e-01 3.34931938e-01 5.29246247e-01 2.83467975e-01\n",
            "  7.07898118e-01 7.36640129e-01 6.17500157e-01 6.04990692e-01]\n",
            " [1.66956890e-01 2.68641035e-01 0.00000000e+00 1.38356787e-01\n",
            "  4.16041934e-01 5.21324576e-01 2.75993327e-01 9.28899074e-02\n",
            "  2.62537669e-01 3.51231553e-01 1.67061586e-01 9.72493225e-02\n",
            "  5.63703587e-01 5.84431974e-01 3.82069570e-01 3.57984134e-01\n",
            "  6.43450799e-01 6.35518541e-01 1.40609701e-01 7.79383347e-01\n",
            "  1.88972744e-01 3.33003915e-01 4.08898547e-01 1.90531313e-01\n",
            "  4.42336328e-01 6.12358524e-01 2.26258792e-01 7.71480571e-01\n",
            "  1.21832041e-01 5.24665019e-01 5.13631547e-01 3.86364952e-01\n",
            "  6.44237890e-01 4.59086491e-01 6.56676579e-01 3.22680477e-01\n",
            "  8.02896499e-01 4.14652519e-01 5.16281774e-01 4.04419904e-01\n",
            "  7.36802719e-01 5.74818075e-01 5.86824327e-01 4.92338970e-01\n",
            "  4.59700787e-01 3.99752331e-01 4.61933029e-01 2.15716297e-01\n",
            "  5.76568890e-01 3.39924821e-01 3.27973486e-01 4.66475318e-01\n",
            "  6.09370789e-01 6.80214895e-01 3.56139142e-01 3.27607060e-01\n",
            "  5.30258550e-01 3.84380443e-01 4.69953769e-01 2.08216239e-01\n",
            "  4.99304143e-01 4.84625204e-01 6.67199770e-01 2.65567576e-01\n",
            "  8.66783572e-01 6.86177875e-01 1.98227110e-01 2.11000318e-01\n",
            "  4.71651678e-01 6.97854470e-01 7.20957248e-01 9.92310485e-02\n",
            "  5.70901009e-01 7.11271852e-01 3.64502126e-01 5.33795031e-01\n",
            "  7.03963851e-01 2.63481182e-01 3.98984073e-01 4.29795546e-01\n",
            "  1.54079984e-01 4.11586352e-01 7.10947440e-01 2.00936769e-01\n",
            "  4.86279792e-01 2.58824812e-01 1.93518839e-01 2.86844241e-01\n",
            "  5.28393321e-01 3.48055523e-01 7.00971875e-01 4.56424542e-01\n",
            "  5.59892923e-01 4.75775949e-01 7.21157967e-01 5.50577878e-01\n",
            "  7.86151552e-01 7.31707270e-01 8.79045798e-01 5.25034784e-01]\n",
            " [3.04667115e-01 3.97175110e-01 1.38356787e-01 0.00000000e+00\n",
            "  4.49614516e-01 5.69093220e-01 3.90020049e-01 1.86460225e-01\n",
            "  3.11712735e-01 4.40176004e-01 1.88108027e-01 2.31400495e-01\n",
            "  6.49673778e-01 6.57449006e-01 5.19042004e-01 4.85763306e-01\n",
            "  7.27415625e-01 7.65020216e-01 2.73459037e-01 8.67283869e-01\n",
            "  5.37461465e-02 3.04043644e-01 5.46930892e-01 3.11112216e-01\n",
            "  5.70664729e-01 7.39161313e-01 9.84650464e-02 8.80065208e-01\n",
            "  2.14290751e-02 5.92334120e-01 5.57065031e-01 3.49121994e-01\n",
            "  7.79720188e-01 5.96253838e-01 7.91096091e-01 3.11350826e-01\n",
            "  9.40123090e-01 4.74548883e-01 5.20912301e-01 3.91187135e-01\n",
            "  8.62933174e-01 5.79023927e-01 6.95704121e-01 5.79943855e-01\n",
            "  4.11876132e-01 3.71847339e-01 5.14433901e-01 2.98238305e-01\n",
            "  7.14415594e-01 4.78281252e-01 3.33537644e-01 6.04341479e-01\n",
            "  7.22236099e-01 8.16042812e-01 3.84135884e-01 3.56760902e-01\n",
            "  5.31642953e-01 4.99735087e-01 5.56742157e-01 1.32343222e-01\n",
            "  5.94746779e-01 6.16421785e-01 7.91435342e-01 2.75967994e-01\n",
            "  9.63199397e-01 8.23327022e-01 2.91801825e-01 3.49262080e-01\n",
            "  5.81144145e-01 8.20261362e-01 8.34834796e-01 1.76261285e-01\n",
            "  6.93391542e-01 8.46771623e-01 3.87420197e-01 6.69040279e-01\n",
            "  8.37751931e-01 1.55570468e-01 4.07992333e-01 5.33026017e-01\n",
            "  2.01219823e-01 4.87523502e-01 8.41827157e-01 1.93092401e-01\n",
            "  6.20193670e-01 3.56943475e-01 3.27147158e-01 2.57531452e-01\n",
            "  6.60770241e-01 3.11715535e-01 8.30409128e-01 5.80166683e-01\n",
            "  6.47103350e-01 6.09679134e-01 8.57860283e-01 6.80637960e-01\n",
            "  9.00817799e-01 8.20976906e-01 1.01297196e+00 5.92850236e-01]\n",
            " [4.13583434e-01 3.57971818e-01 4.16041934e-01 4.49614516e-01\n",
            "  0.00000000e+00 9.25789059e-01 2.85665895e-01 3.25283453e-01\n",
            "  6.74972755e-01 7.28405346e-01 5.81405349e-01 4.54223249e-01\n",
            "  9.27511161e-01 9.64690374e-01 5.86623539e-01 3.82059585e-01\n",
            "  1.00576764e+00 8.59235717e-01 3.71998106e-01 1.12836621e+00\n",
            "  4.89641760e-01 2.04162147e-01 5.33135733e-01 5.44687897e-01\n",
            "  4.29601170e-01 5.34506941e-01 4.39694284e-01 1.07215487e+00\n",
            "  4.31302800e-01 9.13490482e-01 9.20678693e-01 7.89168664e-01\n",
            "  6.51143179e-01 6.38784186e-01 6.46034785e-01 1.68602853e-01\n",
            "  8.17835139e-01 8.15096830e-01 1.32373360e-01 1.45164282e-01\n",
            "  9.69618200e-01 1.80604715e-01 9.01290935e-01 2.34466853e-01\n",
            "  8.57247030e-01 8.07221068e-01 8.65975539e-02 6.15039533e-01\n",
            "  7.14153708e-01 5.13332514e-01 1.29429921e-01 5.66009379e-01\n",
            "  4.39235650e-01 8.40008379e-01 6.57150333e-02 9.29283093e-02\n",
            "  1.49884450e-01 3.15479412e-01 2.17760406e-01 5.79621359e-01\n",
            "  2.73186442e-01 7.16293216e-01 5.57991899e-01 6.80821273e-01\n",
            "  1.19419587e+00 7.16316853e-01 5.90754178e-01 4.40638623e-01\n",
            "  3.25856332e-01 9.53410778e-01 1.00832466e+00 5.14222270e-01\n",
            "  4.70797211e-01 8.71380736e-01 6.58286790e-02 5.62489908e-01\n",
            "  6.76733464e-01 6.01498227e-01 8.07479237e-02 2.72147293e-01\n",
            "  2.64428837e-01 1.48143640e-01 6.50348532e-01 6.09839867e-01\n",
            "  7.00366273e-01 2.32464090e-01 3.78874463e-01 2.26246495e-01\n",
            "  5.23539459e-01 7.50605361e-01 9.17254807e-01 7.37305404e-01\n",
            "  9.22002478e-01 6.92145164e-01 8.61809940e-01 5.16463369e-01\n",
            "  1.06580097e+00 1.08040415e+00 8.29923173e-01 9.13698382e-01]\n",
            " [5.31352434e-01 6.39613257e-01 5.21324576e-01 5.69093220e-01\n",
            "  9.25789059e-01 0.00000000e+00 6.97387532e-01 6.04251102e-01\n",
            "  2.61676436e-01 2.19325738e-01 3.81622686e-01 4.71962534e-01\n",
            "  1.92010250e-01 1.40444991e-01 5.14048842e-01 6.96870969e-01\n",
            "  2.30324297e-01 5.35785378e-01 5.62154352e-01 3.57772033e-01\n",
            "  5.75150655e-01 8.50671449e-01 6.12185251e-01 3.90507445e-01\n",
            "  7.49949587e-01 8.88111398e-01 6.57491771e-01 4.59849015e-01\n",
            "  5.73105950e-01 8.82892853e-02 2.04839290e-02 3.28638607e-01\n",
            "  8.26525069e-01 5.52237033e-01 8.51625527e-01 8.43532381e-01\n",
            "  9.16273349e-01 1.11729825e-01 1.03541974e+00 9.25580644e-01\n",
            "  5.70117967e-01 1.09344733e+00 3.36378658e-01 9.31414439e-01\n",
            "  3.54415599e-01 2.98703150e-01 9.54665459e-01 3.10870203e-01\n",
            "  6.41606261e-01 5.54359749e-01 8.48945243e-01 6.51275083e-01\n",
            "  9.58671478e-01 6.57376453e-01 8.71045810e-01 8.43177428e-01\n",
            "  1.05000250e+00 7.70032790e-01 9.13540863e-01 4.70919764e-01\n",
            "  9.20045146e-01 4.79113404e-01 9.49650624e-01 2.98245327e-01\n",
            "  4.72759868e-01 8.25542921e-01 3.35170716e-01 5.25666757e-01\n",
            "  8.57518670e-01 5.07624467e-01 4.57039217e-01 4.23553450e-01\n",
            "  8.81756019e-01 6.73238793e-01 8.81034922e-01 7.49060607e-01\n",
            "  8.97185938e-01 5.20519842e-01 9.18608987e-01 8.42281596e-01\n",
            "  6.73601478e-01 8.80808565e-01 9.34545493e-01 3.79913405e-01\n",
            "  5.07099591e-01 7.19696385e-01 5.76076365e-01 8.03380671e-01\n",
            "  7.78666422e-01 3.37791104e-01 5.79318597e-01 3.91093596e-01\n",
            "  1.96728440e-01 5.02013533e-01 7.06739075e-01 8.15709840e-01\n",
            "  5.12167438e-01 3.23554604e-01 1.04084143e+00 8.90503810e-02]\n",
            " [1.67503926e-01 7.28455032e-02 2.75993327e-01 3.90020049e-01\n",
            "  2.85665895e-01 6.97387532e-01 0.00000000e+00 2.03569101e-01\n",
            "  4.77192187e-01 4.83341504e-01 4.25487002e-01 2.49151011e-01\n",
            "  6.64698690e-01 7.10634382e-01 3.01016250e-01 1.17834221e-01\n",
            "  7.40147653e-01 5.74349804e-01 1.50396796e-01 8.55011180e-01\n",
            "  4.43577149e-01 3.61459343e-01 2.53152898e-01 3.07822034e-01\n",
            "  1.95364788e-01 3.55064818e-01 4.43353229e-01 7.88579888e-01\n",
            "  3.68833954e-01 6.67882409e-01 6.96686023e-01 6.50260525e-01\n",
            "  4.24703759e-01 3.54714136e-01 4.29061395e-01 3.24933912e-01\n",
            "  5.94525938e-01 5.86149361e-01 4.17681012e-01 3.73984722e-01\n",
            "  6.84793221e-01 4.65347948e-01 6.22016180e-01 2.36145231e-01\n",
            "  7.25749421e-01 6.58397443e-01 2.77357843e-01 4.01846021e-01\n",
            "  4.39656091e-01 2.27666875e-01 2.95687887e-01 2.94385346e-01\n",
            "  3.34070852e-01 5.63964033e-01 2.63186760e-01 2.47833815e-01\n",
            "  4.35125424e-01 1.09816080e-01 2.16933437e-01 4.84015756e-01\n",
            "  2.32387284e-01 4.30648164e-01 4.03693904e-01 5.12895858e-01\n",
            "  9.14091556e-01 4.81354624e-01 3.73791092e-01 1.74518466e-01\n",
            "  1.95696310e-01 6.67745291e-01 7.23787480e-01 3.45607616e-01\n",
            "  3.04855622e-01 5.95944359e-01 2.78203471e-01 3.18857668e-01\n",
            "  4.71088392e-01 5.35496384e-01 3.26514414e-01 1.57460207e-01\n",
            "  2.16105088e-01 1.88868921e-01 4.64733301e-01 4.66358831e-01\n",
            "  4.14876282e-01 6.22757063e-02 1.21635702e-01 3.39995836e-01\n",
            "  2.94712208e-01 6.13289049e-01 6.33439734e-01 4.55383777e-01\n",
            "  6.58495223e-01 4.06554509e-01 5.90878538e-01 3.05202013e-01\n",
            "  7.80507114e-01 8.07657050e-01 6.43401203e-01 6.67941233e-01]\n",
            " [1.55695802e-01 2.17054685e-01 9.28899074e-02 1.86460225e-01\n",
            "  3.25283453e-01 6.04251102e-01 2.03569101e-01 0.00000000e+00\n",
            "  3.49936650e-01 4.19495627e-01 2.59938930e-01 1.41587507e-01\n",
            "  6.28687847e-01 6.56365649e-01 3.83117620e-01 3.03394104e-01\n",
            "  7.08528249e-01 6.53235219e-01 1.10005776e-01 8.40461420e-01\n",
            "  2.40011411e-01 2.68400824e-01 3.86560307e-01 2.41886516e-01\n",
            "  3.87950722e-01 5.54723686e-01 2.46657897e-01 8.15904488e-01\n",
            "  1.65265659e-01 6.00000691e-01 5.97953128e-01 4.78114199e-01\n",
            "  6.05167079e-01 4.56803674e-01 6.14228233e-01 2.49884161e-01\n",
            "  7.70227096e-01 4.95079295e-01 4.31240769e-01 3.28476881e-01\n",
            "  7.59395525e-01 4.89196807e-01 6.33475209e-01 4.04715883e-01\n",
            "  5.50675607e-01 4.92258942e-01 3.69070440e-01 2.93975175e-01\n",
            "  5.67345149e-01 3.26841000e-01 2.47482238e-01 4.41318648e-01\n",
            "  5.36213671e-01 6.80458763e-01 2.67427001e-01 2.39258217e-01\n",
            "  4.46015975e-01 3.13276644e-01 3.81946107e-01 2.88898016e-01\n",
            "  4.14875115e-01 5.00177458e-01 6.05841091e-01 3.58174098e-01\n",
            "  9.20963729e-01 6.53774758e-01 2.72014117e-01 2.01727427e-01\n",
            "  3.95586554e-01 7.26743390e-01 7.60391265e-01 1.89165735e-01\n",
            "  5.07469439e-01 7.12389276e-01 2.76930727e-01 4.94786317e-01\n",
            "  6.59561013e-01 3.34574053e-01 3.14762730e-01 3.49260301e-01\n",
            "  7.28414799e-02 3.20428824e-01 6.60004240e-01 2.93242038e-01\n",
            "  4.96169331e-01 1.73964690e-01 1.58848462e-01 2.26562549e-01\n",
            "  4.81516860e-01 4.39644378e-01 7.17927064e-01 4.87940027e-01\n",
            "  6.24157590e-01 4.85950347e-01 7.17235901e-01 4.98700266e-01\n",
            "  8.23957096e-01 7.92339474e-01 8.34387606e-01 6.00298947e-01]\n",
            " [3.11862445e-01 4.33690816e-01 2.62537669e-01 3.11712735e-01\n",
            "  6.74972755e-01 2.61676436e-01 4.77192187e-01 3.49936650e-01\n",
            "  0.00000000e+00 1.56991611e-01 1.24079186e-01 2.31208151e-01\n",
            "  3.47037445e-01 3.47045482e-01 3.96735427e-01 5.09067050e-01\n",
            "  4.21667985e-01 5.53608206e-01 3.29501385e-01 5.62555004e-01\n",
            "  3.25570791e-01 5.89180052e-01 4.75590219e-01 1.83896537e-01\n",
            "  5.79611775e-01 7.40156743e-01 4.04785305e-01 6.00325326e-01\n",
            "  3.13679537e-01 2.81016279e-01 2.52338604e-01 2.19206638e-01\n",
            "  7.19399845e-01 4.62801093e-01 7.39847840e-01 5.83034615e-01\n",
            "  8.47948589e-01 1.62838892e-01 7.78765081e-01 6.65335158e-01\n",
            "  6.30708425e-01 8.37241677e-01 4.23957679e-01 7.12688379e-01\n",
            "  2.90476068e-01 2.11500871e-01 7.12459126e-01 8.02845804e-02\n",
            "  5.78742465e-01 4.03240874e-01 5.90359125e-01 5.28459551e-01\n",
            "  7.80145858e-01 6.43446935e-01 6.17162381e-01 5.88827625e-01\n",
            "  7.92794194e-01 5.67958362e-01 6.92480654e-01 2.34918074e-01\n",
            "  7.08959063e-01 4.32766383e-01 8.01273435e-01 8.16987527e-02\n",
            "  6.64819404e-01 7.39421347e-01 1.08075561e-01 3.23776142e-01\n",
            "  6.59339057e-01 5.76865098e-01 5.67380576e-01 1.63504006e-01\n",
            "  7.17502853e-01 6.68955248e-01 6.26172869e-01 6.20800606e-01\n",
            "  7.88646783e-01 2.98595295e-01 6.61496691e-01 6.32319951e-01\n",
            "  4.16384100e-01 6.48143850e-01 8.13187445e-01 1.36529846e-01\n",
            "  4.50396561e-01 4.86105956e-01 3.58164034e-01 5.41821159e-01\n",
            "  6.36190858e-01 1.95403025e-01 6.14342006e-01 3.62798389e-01\n",
            "  3.45666655e-01 4.41279065e-01 6.92161103e-01 6.68771207e-01\n",
            "  6.32843728e-01 5.17862308e-01 9.53613029e-01 2.81556344e-01]\n",
            " [3.20806504e-01 4.22523850e-01 3.51231553e-01 4.40176004e-01\n",
            "  7.28405346e-01 2.19325738e-01 4.83341504e-01 4.19495627e-01\n",
            "  1.56991611e-01 0.00000000e+00 2.65341125e-01 2.78674901e-01\n",
            "  2.12701377e-01 2.37319918e-01 3.03723232e-01 4.77573089e-01\n",
            "  2.92292619e-01 4.04572690e-01 3.57292754e-01 4.29551514e-01\n",
            "  4.64807951e-01 6.82673575e-01 3.98615882e-01 1.83730940e-01\n",
            "  5.31577564e-01 6.74593014e-01 5.37892500e-01 4.46921381e-01\n",
            "  4.36710624e-01 1.85906667e-01 2.22978103e-01 3.56810750e-01\n",
            "  6.25740433e-01 3.53724799e-01 6.49292217e-01 6.68402919e-01\n",
            "  7.34570935e-01 1.15464735e-01 8.45991403e-01 7.47918945e-01\n",
            "  4.75691882e-01 9.02557842e-01 2.67658487e-01 7.15021593e-01\n",
            "  4.18485049e-01 3.40188450e-01 7.48746043e-01 1.42057284e-01\n",
            "  4.58631013e-01 3.36967796e-01 6.66725087e-01 4.42304311e-01\n",
            "  7.40099889e-01 5.04985992e-01 6.78690369e-01 6.52025189e-01\n",
            "  8.61617318e-01 5.51457195e-01 6.97864139e-01 3.86356115e-01\n",
            "  7.02137461e-01 3.00683620e-01 7.36406659e-01 2.36997895e-01\n",
            "  5.23024803e-01 6.33909237e-01 1.53501793e-01 3.09549531e-01\n",
            "  6.38392685e-01 4.20638567e-01 4.11045039e-01 2.67151789e-01\n",
            "  6.64830549e-01 5.27886904e-01 6.90146825e-01 5.39780031e-01\n",
            "  6.96588048e-01 4.52839052e-01 7.31577011e-01 6.24494500e-01\n",
            "  4.92065971e-01 6.69793766e-01 7.29432761e-01 2.89091882e-01\n",
            "  3.23659061e-01 5.11224904e-01 3.63497667e-01 6.37327588e-01\n",
            "  5.65661333e-01 3.41268934e-01 4.62858533e-01 2.20145558e-01\n",
            "  2.09204737e-01 3.16112528e-01 5.54738098e-01 6.01915549e-01\n",
            "  4.76771357e-01 3.82403864e-01 8.50816022e-01 1.86049550e-01]\n",
            " [2.77094517e-01 3.99106603e-01 1.67061586e-01 1.88108027e-01\n",
            "  5.81405349e-01 3.81622686e-01 4.25487002e-01 2.59938930e-01\n",
            "  1.24079186e-01 2.65341125e-01 0.00000000e+00 1.82148721e-01\n",
            "  4.67916115e-01 4.70968884e-01 4.30530952e-01 4.84439596e-01\n",
            "  5.44013949e-01 6.33978484e-01 2.76104552e-01 6.84680564e-01\n",
            "  2.02398965e-01 4.75016656e-01 4.89842308e-01 1.96444034e-01\n",
            "  5.63904803e-01 7.32277269e-01 2.80751808e-01 7.12066212e-01\n",
            "  1.91490899e-01 4.05094300e-01 3.70285614e-01 2.24821992e-01\n",
            "  7.36456638e-01 5.04799705e-01 7.53517785e-01 4.72965595e-01\n",
            "  8.80590501e-01 2.86788171e-01 6.75396471e-01 5.55423129e-01\n",
            "  7.21496048e-01 7.34207923e-01 5.30865704e-01 6.52796857e-01\n",
            "  3.00276077e-01 2.34793142e-01 6.28994532e-01 1.31567566e-01\n",
            "  6.25252216e-01 4.15234479e-01 4.85025510e-01 5.46907911e-01\n",
            "  7.50360908e-01 7.07720195e-01 5.19955869e-01 4.91320424e-01\n",
            "  6.88393624e-01 5.28058092e-01 6.31002210e-01 1.24455981e-01\n",
            "  6.55906798e-01 4.97427267e-01 7.91054716e-01 9.96106328e-02\n",
            "  7.84603373e-01 7.66839494e-01 1.39171119e-01 3.05705976e-01\n",
            "  6.18707590e-01 6.72155972e-01 6.73482523e-01 7.99993658e-02\n",
            "  6.99755997e-01 7.35937063e-01 5.27270266e-01 6.30335126e-01\n",
            "  8.02346696e-01 1.94162354e-01 5.58323718e-01 5.82789839e-01\n",
            "  3.17265050e-01 5.76485259e-01 8.18860391e-01 4.43300082e-02\n",
            "  5.09008212e-01 4.19361656e-01 3.18999143e-01 4.27399918e-01\n",
            "  6.36217824e-01 1.87857584e-01 6.97679634e-01 4.41817399e-01\n",
            "  4.66005000e-01 4.98930870e-01 7.54136900e-01 6.64430457e-01\n",
            "  7.39576844e-01 6.39307125e-01 9.73957921e-01 4.05633205e-01]\n",
            " [9.52577067e-02 2.17084783e-01 9.72493225e-02 2.31400495e-01\n",
            "  4.54223249e-01 4.71962534e-01 2.49151011e-01 1.41587507e-01\n",
            "  2.31208151e-01 2.78674901e-01 1.82148721e-01 0.00000000e+00\n",
            "  4.87109205e-01 5.15920688e-01 2.87926165e-01 3.02447011e-01\n",
            "  5.66942884e-01 5.38277264e-01 9.91689729e-02 6.99172617e-01\n",
            "  2.78369002e-01 4.08680870e-01 3.24841308e-01 1.00973948e-01\n",
            "  3.82841378e-01 5.52143335e-01 3.22906955e-01 6.80488661e-01\n",
            "  2.16975672e-01 4.61186966e-01 4.67634431e-01 4.04578650e-01\n",
            "  5.67229409e-01 3.65206353e-01 5.82064878e-01 3.91438918e-01\n",
            "  7.20280569e-01 3.60951788e-01 5.68169273e-01 4.69882272e-01\n",
            "  6.39878504e-01 6.25254347e-01 4.96600569e-01 4.82841493e-01\n",
            "  4.80588961e-01 4.10665506e-01 4.84278290e-01 1.62291881e-01\n",
            "  4.84139460e-01 2.52554433e-01 3.88164951e-01 3.82876883e-01\n",
            "  5.68570582e-01 5.84685485e-01 4.01541227e-01 3.74368487e-01\n",
            "  5.83560808e-01 3.47577047e-01 4.62193424e-01 2.69500412e-01\n",
            "  4.81510388e-01 3.87447909e-01 6.10177973e-01 2.64094640e-01\n",
            "  7.81376103e-01 6.04236373e-01 1.36812447e-01 1.29273088e-01\n",
            "  4.38798877e-01 6.01787102e-01 6.27829981e-01 1.03597729e-01\n",
            "  5.17940459e-01 6.15496523e-01 4.12488119e-01 4.58321592e-01\n",
            "  6.30372360e-01 3.34348851e-01 4.53118055e-01 4.06237854e-01\n",
            "  2.14427166e-01 4.17049938e-01 6.42844148e-01 2.25579633e-01\n",
            "  3.89598202e-01 2.54914767e-01 1.37078029e-01 3.65203595e-01\n",
            "  4.59440400e-01 3.68774029e-01 6.03728199e-01 3.60436690e-01\n",
            "  4.82570083e-01 3.79085226e-01 6.26502607e-01 4.85741924e-01\n",
            "  6.92538776e-01 6.51090926e-01 8.04252518e-01 4.61445043e-01]\n",
            " [5.14098043e-01 5.96615973e-01 5.63703587e-01 6.49673778e-01\n",
            "  9.27511161e-01 1.92010250e-01 6.64698690e-01 6.28687847e-01\n",
            "  3.47037445e-01 2.12701377e-01 4.67916115e-01 4.87109205e-01\n",
            "  0.00000000e+00 7.15622227e-02 4.15215331e-01 6.31970337e-01\n",
            "  7.99081668e-02 3.59248024e-01 5.56080639e-01 2.17646198e-01\n",
            "  6.70191512e-01 8.94115895e-01 5.14395789e-01 3.87842469e-01\n",
            "  6.66293543e-01 7.79790025e-01 7.46341959e-01 2.73713446e-01\n",
            "  6.47506945e-01 1.04414080e-01 2.11319120e-01 4.91954806e-01\n",
            "  6.94207542e-01 4.29443816e-01 7.20998736e-01 8.78451125e-01\n",
            "  7.59962162e-01 1.99677831e-01 1.04946562e+00 9.56886062e-01\n",
            "  3.80787359e-01 1.10484872e+00 1.50075096e-01 8.84554519e-01\n",
            "  5.32040714e-01 4.65760325e-01 9.39145460e-01 3.53414344e-01\n",
            "  4.94854095e-01 4.74256537e-01 8.74625429e-01 5.40105429e-01\n",
            "  8.71257585e-01 4.86834134e-01 8.81707322e-01 8.55980055e-01\n",
            "  1.06556902e+00 7.13375290e-01 8.70135917e-01 5.81630534e-01\n",
            "  8.65104025e-01 3.39734272e-01 8.39150271e-01 4.14475017e-01\n",
            "  3.17961784e-01 6.81327767e-01 3.66203055e-01 4.91976315e-01\n",
            "  7.92253738e-01 3.18047381e-01 2.65251024e-01 4.79091792e-01\n",
            "  7.85944608e-01 4.98426733e-01 8.93915590e-01 6.34332897e-01\n",
            "  7.62793407e-01 6.43009148e-01 9.37027672e-01 7.89656325e-01\n",
            "  7.01518093e-01 8.53563337e-01 8.06559803e-01 4.83370435e-01\n",
            "  3.69942802e-01 7.01931795e-01 5.51775693e-01 8.49189745e-01\n",
            "  6.71977427e-01 4.90789713e-01 3.95376700e-01 2.57469940e-01\n",
            "  7.64061224e-03 3.67972831e-01 5.34488385e-01 7.10145931e-01\n",
            "  3.22086173e-01 1.71477769e-01 8.90542669e-01 1.03617303e-01]\n",
            " [5.53777159e-01 6.44918138e-01 5.84431974e-01 6.57449006e-01\n",
            "  9.64690374e-01 1.40444991e-01 7.10634382e-01 6.56365649e-01\n",
            "  3.47045482e-01 2.37319918e-01 4.70968884e-01 5.15920688e-01\n",
            "  7.15622227e-02 0.00000000e+00 4.76261711e-01 6.86534852e-01\n",
            "  9.00598286e-02 4.30326243e-01 5.92837284e-01 2.23936771e-01\n",
            "  6.72501950e-01 9.17282759e-01 5.76136996e-01 4.20329695e-01\n",
            "  7.25736063e-01 8.44986274e-01 7.51711132e-01 3.20696009e-01\n",
            "  6.57609466e-01 6.80857856e-02 1.60902460e-01 4.61674365e-01\n",
            "  7.63236552e-01 4.95839781e-01 7.89839826e-01 9.04488734e-01\n",
            "  8.31393479e-01 1.86368368e-01 1.08322744e+00 9.84547136e-01\n",
            "  4.47049750e-01 1.13965641e+00 2.20031002e-01 9.35726063e-01\n",
            "  4.93254527e-01 4.33200968e-01 9.81649722e-01 3.69285358e-01\n",
            "  5.65269635e-01 5.31332769e-01 9.03771498e-01 6.04906250e-01\n",
            "  9.32389890e-01 5.58264309e-01 9.15820832e-01 8.89262959e-01\n",
            "  1.09889696e+00 7.66308904e-01 9.20308578e-01 5.76687470e-01\n",
            "  9.18340171e-01 4.08457742e-01 9.04909042e-01 4.04579256e-01\n",
            "  3.36168765e-01 7.51803093e-01 3.86585814e-01 5.36335034e-01\n",
            "  8.47827774e-01 3.84385714e-01 3.23682525e-01 4.93760157e-01\n",
            "  8.48628122e-01 5.69491556e-01 9.27376433e-01 7.00267871e-01\n",
            "  8.32229359e-01 6.33632157e-01 9.68896105e-01 8.41937860e-01\n",
            "  7.28724966e-01 8.99114068e-01 8.75173369e-01 4.80013239e-01\n",
            "  4.38510961e-01 7.43747808e-01 5.94112221e-01 8.71276214e-01\n",
            "  7.36495312e-01 4.65849227e-01 4.64699387e-01 3.24206539e-01\n",
            "  7.89052595e-02 4.35994676e-01 6.05767007e-01 7.74580955e-01\n",
            "  3.75225933e-01 1.85579267e-01 9.61705582e-01 6.74041844e-02]\n",
            " [2.27638647e-01 2.28731307e-01 3.82069570e-01 5.19042004e-01\n",
            "  5.86623539e-01 5.14048842e-01 3.01016250e-01 3.83117620e-01\n",
            "  3.96735427e-01 3.03723232e-01 4.30530952e-01 2.87926165e-01\n",
            "  4.15215331e-01 4.76261711e-01 0.00000000e+00 2.29460141e-01\n",
            "  4.80120709e-01 2.77749799e-01 2.73681005e-01 5.75923702e-01\n",
            "  5.66201563e-01 6.30448205e-01 1.00030571e-01 2.34100563e-01\n",
            "  2.51490797e-01 3.74272310e-01 6.07799841e-01 4.90658056e-01\n",
            "  5.03735106e-01 4.54717462e-01 5.21475189e-01 6.15064358e-01\n",
            "  3.25145587e-01 7.72909935e-02 3.47411303e-01 6.00458233e-01\n",
            "  4.52947359e-01 4.18615642e-01 7.18418504e-01 6.62832904e-01\n",
            "  3.87597028e-01 7.66321034e-01 3.35692779e-01 4.86154455e-01\n",
            "  6.87208755e-01 6.08163317e-01 5.72758560e-01 3.22748035e-01\n",
            "  1.97217753e-01 7.36710574e-02 5.79884606e-01 1.38581079e-01\n",
            "  4.56285249e-01 2.99018138e-01 5.59680886e-01 5.40610463e-01\n",
            "  7.35818546e-01 3.13618069e-01 4.75433142e-01 5.43607469e-01\n",
            "  4.60822747e-01 1.29712528e-01 4.35678307e-01 4.69580231e-01\n",
            "  6.21783107e-01 3.42766188e-01 3.01260128e-01 1.81394353e-01\n",
            "  3.82968779e-01 3.66980485e-01 4.24284498e-01 3.71119657e-01\n",
            "  3.72725374e-01 3.30549759e-01 5.74309521e-01 2.36155792e-01\n",
            "  3.95512371e-01 6.12506925e-01 6.22371664e-01 3.89825904e-01\n",
            "  4.42229862e-01 4.77703848e-01 4.26035445e-01 4.73047517e-01\n",
            "  1.16813891e-01 3.56529181e-01 2.32864080e-01 5.96816707e-01\n",
            "  2.64778774e-01 5.87763887e-01 3.40164878e-01 1.67865721e-01\n",
            "  4.07917704e-01 1.07485497e-01 3.39094185e-01 3.02138661e-01\n",
            "  4.79731932e-01 5.30787551e-01 5.57127290e-01 4.54466345e-01]\n",
            " [2.07345880e-01 8.93483144e-02 3.57984134e-01 4.85763306e-01\n",
            "  3.82059585e-01 6.96870969e-01 1.17834221e-01 3.03394104e-01\n",
            "  5.09067050e-01 4.77573089e-01 4.84439596e-01 3.02447011e-01\n",
            "  6.31970337e-01 6.86534852e-01 2.29460141e-01 0.00000000e+00\n",
            "  7.02086216e-01 4.84351733e-01 2.17847829e-01 8.04312333e-01\n",
            "  5.39395999e-01 4.78609112e-01 1.54225778e-01 3.26235087e-01\n",
            "  8.49014433e-02 2.54398080e-01 5.49385952e-01 7.17701061e-01\n",
            "  4.65364539e-01 6.53443685e-01 6.99624711e-01 7.04438261e-01\n",
            "  3.07976902e-01 2.64247445e-01 3.13861559e-01 4.41397978e-01\n",
            "  4.77268806e-01 5.89436366e-01 5.13766142e-01 4.85760362e-01\n",
            "  5.93785560e-01 5.55818668e-01 5.64789680e-01 2.56857963e-01\n",
            "  7.80525283e-01 7.07681573e-01 3.52757758e-01 4.29181835e-01\n",
            "  3.32162808e-01 1.59868070e-01 4.10337538e-01 1.84148055e-01\n",
            "  2.71079065e-01 4.57964267e-01 3.71030285e-01 3.59224581e-01\n",
            "  5.31262871e-01 8.41585305e-02 2.46026149e-01 5.63219875e-01\n",
            "  2.33582421e-01 3.52560459e-01 3.09754325e-01 5.59722494e-01\n",
            "  8.50892011e-01 3.63613478e-01 4.01051385e-01 1.85445392e-01\n",
            "  1.61682805e-01 5.84433471e-01 6.49912865e-01 4.05915146e-01\n",
            "  2.15610054e-01 4.89400836e-01 3.86155820e-01 2.01098788e-01\n",
            "  3.57606704e-01 6.21410134e-01 4.33854501e-01 1.60523131e-01\n",
            "  3.29143569e-01 2.55426956e-01 3.56661348e-01 5.28021881e-01\n",
            "  3.31394285e-01 1.78976852e-01 1.67429776e-01 4.57829709e-01\n",
            "  1.79673959e-01 6.69700226e-01 5.39205871e-01 3.96320949e-01\n",
            "  6.25082976e-01 3.24751822e-01 4.80965520e-01 1.95330665e-01\n",
            "  7.01893790e-01 7.58566441e-01 5.31736492e-01 6.53359130e-01]\n",
            " [5.92191733e-01 6.71046693e-01 6.43450799e-01 7.27415625e-01\n",
            "  1.00576764e+00 2.30324297e-01 7.40147653e-01 7.08528249e-01\n",
            "  4.21667985e-01 2.92292619e-01 5.44013949e-01 5.66942884e-01\n",
            "  7.99081668e-02 9.00598286e-02 4.80120709e-01 7.02086216e-01\n",
            "  0.00000000e+00 3.81295712e-01 6.34813348e-01 1.40916680e-01\n",
            "  7.46409794e-01 9.74020811e-01 5.77577354e-01 4.67487561e-01\n",
            "  7.31527780e-01 8.36030745e-01 8.23551277e-01 2.34311332e-01\n",
            "  7.25785747e-01 1.54371822e-01 2.50803370e-01 5.50344283e-01\n",
            "  7.41119551e-01 4.85528411e-01 7.68415225e-01 9.58318764e-01\n",
            "  7.91991408e-01 2.67014668e-01 1.12842462e+00 1.03665630e+00\n",
            "  3.79612301e-01 1.18357325e+00 1.73078427e-01 9.56570523e-01\n",
            "  5.83230203e-01 5.22308686e-01 1.01566714e+00 4.32319037e-01\n",
            "  5.37314684e-01 5.42958381e-01 9.54293756e-01 5.98330976e-01\n",
            "  9.33714434e-01 5.11481935e-01 9.60678071e-01 9.35114352e-01\n",
            "  1.14460281e+00 7.84507077e-01 9.42839344e-01 6.55048803e-01\n",
            "  9.35648922e-01 3.91153681e-01 8.94056565e-01 4.85232384e-01\n",
            "  2.48504741e-01 7.22041051e-01 4.45748770e-01 5.68572011e-01\n",
            "  8.61011238e-01 3.18264946e-01 2.46378918e-01 5.58039182e-01\n",
            "  8.46451733e-01 5.18370610e-01 9.72999435e-01 6.89758213e-01\n",
            "  8.07884597e-01 7.14563832e-01 1.01635038e+00 8.61077916e-01\n",
            "  7.81363600e-01 9.28863209e-01 8.54345014e-01 5.57215516e-01\n",
            "  4.21320998e-01 7.79004673e-01 6.28954707e-01 9.29070235e-01\n",
            "  7.29935794e-01 5.53063893e-01 4.05640225e-01 3.15830876e-01\n",
            "  8.44333628e-02 4.20955372e-01 5.56406380e-01 7.68077280e-01\n",
            "  2.91998019e-01 9.79408483e-02 9.25393235e-01 1.53601902e-01]\n",
            " [4.98341944e-01 5.03637056e-01 6.35518541e-01 7.65020216e-01\n",
            "  8.59235717e-01 5.35785378e-01 5.74349804e-01 6.53235219e-01\n",
            "  5.53608206e-01 4.04572690e-01 6.33978484e-01 5.38277264e-01\n",
            "  3.59248024e-01 4.30326243e-01 2.77749799e-01 4.84351733e-01\n",
            "  3.81295712e-01 0.00000000e+00 5.46275219e-01 4.10223050e-01\n",
            "  8.05880143e-01 9.07315017e-01 3.30170046e-01 4.54960022e-01\n",
            "  4.70976704e-01 5.15480611e-01 8.60028667e-01 2.64766041e-01\n",
            "  7.53036339e-01 4.50376082e-01 5.51808767e-01 7.61378525e-01\n",
            "  3.91218235e-01 2.20867687e-01 4.18712757e-01 8.77966668e-01\n",
            "  4.12879393e-01 4.86857409e-01 9.91562158e-01 9.40461469e-01\n",
            "  1.10444917e-01 1.03716342e+00 2.11347241e-01 7.28852767e-01\n",
            "  8.21511221e-01 7.44086095e-01 8.36969977e-01 5.04339779e-01\n",
            "  1.90634950e-01 3.48289739e-01 8.57621792e-01 3.14561739e-01\n",
            "  6.38267288e-01 1.30222094e-01 8.35886730e-01 8.17614545e-01\n",
            "  1.00905243e+00 5.64672805e-01 7.22927508e-01 7.57636364e-01\n",
            "  6.96107320e-01 1.53060547e-01 5.64837112e-01 6.35292067e-01\n",
            "  4.09452325e-01 3.56639408e-01 4.95027688e-01 4.54107647e-01\n",
            "  6.12778718e-01 1.08254548e-01 1.95344327e-01 5.96976521e-01\n",
            "  5.45930517e-01 1.39179752e-01 8.50662346e-01 3.77377688e-01\n",
            "  4.50039809e-01 8.27836331e-01 8.98879296e-01 6.35745858e-01\n",
            "  7.16406465e-01 7.39765257e-01 5.02313031e-01 6.69416853e-01\n",
            "  1.60967957e-01 6.32250439e-01 5.09452477e-01 8.72416162e-01\n",
            "  4.25921628e-01 7.45019758e-01 6.54648276e-02 1.92529238e-01\n",
            "  3.52291018e-01 1.70321269e-01 1.75821164e-01 4.60378866e-01\n",
            "  2.29303858e-01 3.78466634e-01 5.47904161e-01 4.49722249e-01]\n",
            " [4.85990192e-02 1.28693580e-01 1.40609701e-01 2.73459037e-01\n",
            "  3.71998106e-01 5.62154352e-01 1.50396796e-01 1.10005776e-01\n",
            "  3.29501385e-01 3.57292754e-01 2.76104552e-01 9.91689729e-02\n",
            "  5.56080639e-01 5.92837284e-01 2.73681005e-01 2.17847829e-01\n",
            "  6.34813348e-01 5.46275219e-01 0.00000000e+00 7.60667153e-01\n",
            "  3.26285459e-01 3.64327767e-01 2.78881324e-01 1.73861220e-01\n",
            "  3.01889485e-01 4.72040737e-01 3.48763859e-01 7.21441818e-01\n",
            "  2.54221273e-01 5.43014059e-01 5.59376748e-01 5.00563486e-01\n",
            "  5.06310601e-01 3.46863897e-01 5.17695941e-01 3.39032127e-01\n",
            "  6.67975091e-01 4.50450075e-01 4.93713625e-01 4.10624150e-01\n",
            "  6.53652042e-01 5.48783102e-01 5.42338841e-01 3.83717766e-01\n",
            "  5.76274445e-01 5.08137188e-01 3.92839191e-01 2.57217615e-01\n",
            "  4.57628977e-01 2.17030101e-01 3.26482820e-01 3.34861155e-01\n",
            "  4.75905767e-01 5.70490810e-01 3.26042512e-01 3.01042108e-01\n",
            "  5.10015062e-01 2.52247737e-01 3.63179593e-01 3.45613970e-01\n",
            "  3.82570798e-01 3.93366201e-01 5.27503554e-01 3.62507293e-01\n",
            "  8.33703849e-01 5.51177048e-01 2.30033743e-01 9.25220118e-02\n",
            "  3.42626037e-01 6.23722402e-01 6.62932966e-01 1.96105317e-01\n",
            "  4.32090841e-01 6.02443466e-01 3.38663324e-01 3.95610395e-01\n",
            "  5.64542418e-01 4.03711732e-01 3.83195807e-01 3.07791806e-01\n",
            "  1.70245856e-01 3.20415860e-01 5.70461597e-01 3.17888543e-01\n",
            "  3.87820193e-01 1.58223580e-01 5.36883222e-02 3.26933909e-01\n",
            "  3.88213911e-01 4.63935847e-01 6.10522398e-01 3.88472900e-01\n",
            "  5.50736894e-01 3.77722163e-01 6.07269147e-01 4.09976559e-01\n",
            "  7.25123929e-01 7.12497747e-01 7.39746635e-01 5.43184605e-01]\n",
            " [7.15980219e-01 7.83805614e-01 7.79383347e-01 8.67283869e-01\n",
            "  1.12836621e+00 3.57772033e-01 8.55011180e-01 8.40461420e-01\n",
            "  5.62555004e-01 4.29551514e-01 6.84680564e-01 6.99172617e-01\n",
            "  2.17646198e-01 2.23936771e-01 5.75923702e-01 8.04312333e-01\n",
            "  1.40916680e-01 4.10223050e-01 7.60667153e-01 0.00000000e+00\n",
            "  8.87075429e-01 1.10765920e+00 6.67543577e-01 5.98577283e-01\n",
            "  8.22844127e-01 9.07610263e-01 9.63794554e-01 1.75801450e-01\n",
            "  8.65141755e-01 2.91573512e-01 3.77917679e-01 6.84548818e-01\n",
            "  7.96526166e-01 5.65125687e-01 8.24192539e-01 1.09024494e+00\n",
            "  8.18906077e-01 4.07171634e-01 1.25376568e+00 1.16724077e+00\n",
            "  3.68981810e-01 1.30773293e+00 2.40916003e-01 1.06108390e+00\n",
            "  7.11837483e-01 6.55454651e-01 1.13225928e+00 5.70888465e-01\n",
            "  5.90835710e-01 6.44642084e-01 1.08408650e+00 6.78323787e-01\n",
            "  1.01678383e+00 5.35299046e-01 1.08641724e+00 1.06170532e+00\n",
            "  1.27028034e+00 8.88188048e-01 1.04916409e+00 7.95922086e-01\n",
            "  1.03671582e+00 4.67391973e-01 9.62185776e-01 6.25708621e-01\n",
            "  1.16416449e-01 7.66452285e-01 5.82850201e-01 6.88024284e-01\n",
            "  9.58517129e-01 3.18016127e-01 2.26240433e-01 6.96481690e-01\n",
            "  9.26461074e-01 5.33641352e-01 1.09925424e+00 7.62320470e-01\n",
            "  8.58523727e-01 8.55083711e-01 1.14377285e+00 9.64796819e-01\n",
            "  9.13217286e-01 1.04219185e+00 9.09249114e-01 6.98126540e-01\n",
            "  4.95744603e-01 8.98355400e-01 7.49576314e-01 1.06342426e+00\n",
            "  8.06612161e-01 6.89688781e-01 4.12299052e-01 4.08162539e-01\n",
            "  2.20522127e-01 4.98097485e-01 5.73153310e-01 8.44047969e-01\n",
            "  2.39977711e-01 4.82056328e-02 9.54880700e-01 2.90850421e-01]\n",
            " [3.55913765e-01 4.50707909e-01 1.88972744e-01 5.37461465e-02\n",
            "  4.89641760e-01 5.75150655e-01 4.43577149e-01 2.40011411e-01\n",
            "  3.25570791e-01 4.64807951e-01 2.02398965e-01 2.78369002e-01\n",
            "  6.70191512e-01 6.72501950e-01 5.66201563e-01 5.39395999e-01\n",
            "  7.46409794e-01 8.05880143e-01 3.26285459e-01 8.87075429e-01\n",
            "  0.00000000e+00 3.29246284e-01 5.97802612e-01 3.50920797e-01\n",
            "  6.24296094e-01 7.92883579e-01 8.34914559e-02 9.09290588e-01\n",
            "  7.47492098e-02 6.05975220e-01 5.61610342e-01 3.27345674e-01\n",
            "  8.32276614e-01 6.43492526e-01 8.43975785e-01 3.42208579e-01\n",
            "  9.91815022e-01 4.87089332e-01 5.51779695e-01 4.18857931e-01\n",
            "  9.01477880e-01 6.08998217e-01 7.25971761e-01 6.30067241e-01\n",
            "  3.83988382e-01 3.53022998e-01 5.58162429e-01 3.24730018e-01\n",
            "  7.62483278e-01 5.28174358e-01 3.68676764e-01 6.55431009e-01\n",
            "  7.75376613e-01 8.61562742e-01 4.23926871e-01 3.97433696e-01\n",
            "  5.61338905e-01 5.53237997e-01 6.06825584e-01 1.11904052e-01\n",
            "  6.46012325e-01 6.59199906e-01 8.45177635e-01 2.77287590e-01\n",
            "  9.86368651e-01 8.75069598e-01 3.22424854e-01 3.99767986e-01\n",
            "  6.34113808e-01 8.56791831e-01 8.66844746e-01 2.10250535e-01\n",
            "  7.47112622e-01 8.91944892e-01 4.25854443e-01 7.21652860e-01\n",
            "  8.90790932e-01 1.12036855e-01 4.42170863e-01 5.85438365e-01\n",
            "  2.50381780e-01 5.36157517e-01 8.95317039e-01 1.95295246e-01\n",
            "  6.64447858e-01 4.09446709e-01 3.79943677e-01 2.84958042e-01\n",
            "  7.14027743e-01 2.91891589e-01 8.71073907e-01 6.18434526e-01\n",
            "  6.68169357e-01 6.53953483e-01 9.04247630e-01 7.34174857e-01\n",
            "  9.32992703e-01 8.41628107e-01 1.06600579e+00 6.06543493e-01]\n",
            " [4.12921759e-01 4.18348854e-01 3.33003915e-01 3.04043644e-01\n",
            "  2.04162147e-01 8.50671449e-01 3.61459343e-01 2.68400824e-01\n",
            "  5.89180052e-01 6.82673575e-01 4.75016656e-01 4.08680870e-01\n",
            "  8.94115895e-01 9.17282759e-01 6.30448205e-01 4.78609112e-01\n",
            "  9.74020811e-01 9.07315017e-01 3.64327767e-01 1.10765920e+00\n",
            "  3.29246284e-01 0.00000000e+00 6.07584482e-01 5.09585700e-01\n",
            "  5.48962023e-01 6.86898189e-01 2.61369578e-01 1.08325866e+00\n",
            "  2.91618688e-01 8.57624417e-01 8.41459989e-01 6.52680803e-01\n",
            "  7.80506128e-01 6.97575728e-01 7.81421518e-01 4.09393515e-02\n",
            "  9.50900001e-01 7.46364453e-01 2.25854286e-01 9.05564086e-02\n",
            "  1.01599622e+00 2.81357872e-01 9.01532483e-01 4.20125673e-01\n",
            "  7.12737087e-01 6.75872226e-01 2.89714853e-01 5.48694658e-01\n",
            "  7.95449803e-01 5.64129396e-01 8.22334634e-02 6.53824636e-01\n",
            "  6.14898380e-01 9.16814067e-01 1.50838712e-01 1.40761168e-01\n",
            "  2.33726452e-01 4.39766962e-01 3.99450293e-01 4.34965692e-01\n",
            "  4.52822496e-01 7.55309476e-01 7.21719436e-01 5.71736202e-01\n",
            "  1.18934657e+00 8.40215952e-01 5.30745467e-01 4.54488723e-01\n",
            "  4.83483654e-01 9.87829085e-01 1.02635897e+00 4.27721105e-01\n",
            "  6.26438518e-01 9.49043095e-01 1.42394454e-01 6.78346822e-01\n",
            "  8.19273994e-01 4.38614003e-01 1.31224779e-01 4.26064866e-01\n",
            "  1.96821443e-01 3.20551206e-01 8.02870466e-01 4.91351117e-01\n",
            "  7.46963269e-01 2.99653552e-01 3.97875355e-01 4.76185470e-02\n",
            "  6.49178593e-01 6.15583186e-01 9.70503759e-01 7.52385095e-01\n",
            "  8.89910339e-01 7.37259633e-01 9.47547033e-01 6.52376246e-01\n",
            "  1.08908512e+00 1.05962927e+00 9.84681290e-01 8.57999827e-01]\n",
            " [2.42315813e-01 1.89295161e-01 4.08898547e-01 5.46930892e-01\n",
            "  5.33135733e-01 6.12185251e-01 2.53152898e-01 3.86560307e-01\n",
            "  4.75590219e-01 3.98615882e-01 4.89842308e-01 3.24841308e-01\n",
            "  5.14395789e-01 5.76136996e-01 1.00030571e-01 1.54225778e-01\n",
            "  5.77577354e-01 3.30170046e-01 2.78881324e-01 6.67543577e-01\n",
            "  5.97802612e-01 6.07584482e-01 0.00000000e+00 2.98902052e-01\n",
            "  1.55337680e-01 2.76178103e-01 6.27216707e-01 5.68727978e-01\n",
            "  5.29137408e-01 5.54501222e-01 6.18894979e-01 6.89991235e-01\n",
            "  2.46914711e-01 1.10951850e-01 2.65385249e-01 5.73516593e-01\n",
            "  3.95456295e-01 5.14050322e-01 6.65388082e-01 6.26837595e-01\n",
            "  4.39566553e-01 7.08981759e-01 4.26637366e-01 4.03242744e-01\n",
            "  7.64104934e-01 6.86217240e-01 5.06967603e-01 3.97535121e-01\n",
            "  1.87895162e-01 7.46415965e-02 5.47172288e-01 5.80355752e-02\n",
            "  3.56869072e-01 3.10987846e-01 5.16062171e-01 5.00933698e-01\n",
            "  6.82907992e-01 2.35101068e-01 3.95339552e-01 5.92871168e-01\n",
            "  3.73949653e-01 2.04179299e-01 3.37914853e-01 5.42609228e-01\n",
            "  7.05304054e-01 2.79452084e-01 3.72831342e-01 1.98114998e-01\n",
            "  2.92901490e-01 4.31197912e-01 4.99894858e-01 4.21100659e-01\n",
            "  2.72695301e-01 3.43056677e-01 5.31127709e-01 1.45286263e-01\n",
            "  3.14353162e-01 6.58978733e-01 5.79387000e-01 3.08161612e-01\n",
            "  4.33627938e-01 4.09650331e-01 3.37754125e-01 5.33851883e-01\n",
            "  1.80170042e-01 3.14472902e-01 2.27716281e-01 5.79855360e-01\n",
            "  1.67049250e-01 6.59938851e-01 3.85251997e-01 2.62473574e-01\n",
            "  5.07035810e-01 1.74700996e-01 3.39965650e-01 2.03609317e-01\n",
            "  5.49714466e-01 6.23599489e-01 4.84216137e-01 5.54260785e-01]\n",
            " [1.40915016e-01 2.55372049e-01 1.90531313e-01 3.11112216e-01\n",
            "  5.44687897e-01 3.90507445e-01 3.07822034e-01 2.41886516e-01\n",
            "  1.83896537e-01 1.83730940e-01 1.96444034e-01 1.00973948e-01\n",
            "  3.87842469e-01 4.20329695e-01 2.34100563e-01 3.26235087e-01\n",
            "  4.67487561e-01 4.54960022e-01 1.73861220e-01 5.98577283e-01\n",
            "  3.50920797e-01 5.09585700e-01 2.98902052e-01 0.00000000e+00\n",
            "  3.95715348e-01 5.57193877e-01 4.07790718e-01 5.81301793e-01\n",
            "  3.00624276e-01 3.69221819e-01 3.89098088e-01 3.91903695e-01\n",
            "  5.45571368e-01 3.08578343e-01 5.64258513e-01 4.91690723e-01\n",
            "  6.85206843e-01 2.78902159e-01 6.63166930e-01 5.69298506e-01\n",
            "  5.51821017e-01 7.19383517e-01 3.96893571e-01 5.43344877e-01\n",
            "  4.66747656e-01 3.90042003e-01 5.66318091e-01 1.03614112e-01\n",
            "  4.29189378e-01 2.24690428e-01 4.86806228e-01 3.54548592e-01\n",
            "  5.97127670e-01 5.16395466e-01 4.95604705e-01 4.69267541e-01\n",
            "  6.78988407e-01 3.89336905e-01 5.24660630e-01 3.12202162e-01\n",
            "  5.35163341e-01 3.09561545e-01 6.18047550e-01 2.44330542e-01\n",
            "  6.80459498e-01 5.72419823e-01 7.62387480e-02 1.42192983e-01\n",
            "  4.79968169e-01 5.09884649e-01 5.30447287e-01 1.43209405e-01\n",
            "  5.33609661e-01 5.45709187e-01 5.07341530e-01 4.42739162e-01\n",
            "  6.13229700e-01 3.82055604e-01 5.49638967e-01 4.57560218e-01\n",
            "  3.14645507e-01 4.90346347e-01 6.34224499e-01 2.39044470e-01\n",
            "  3.17490194e-01 3.29741004e-01 1.86192578e-01 4.66174367e-01\n",
            "  4.54728694e-01 3.61141811e-01 5.20174731e-01 2.69156179e-01\n",
            "  3.83054256e-01 3.07146191e-01 5.61479866e-01 4.86321912e-01\n",
            "  5.95718041e-01 5.50452970e-01 7.82336005e-01 3.69401284e-01]\n",
            " [2.87651728e-01 1.73950830e-01 4.42336328e-01 5.70664729e-01\n",
            "  4.29601170e-01 7.49949587e-01 1.95364788e-01 3.87950722e-01\n",
            "  5.79611775e-01 5.31577564e-01 5.63904803e-01 3.82841378e-01\n",
            "  6.66293543e-01 7.25736063e-01 2.51490797e-01 8.49014433e-02\n",
            "  7.31527780e-01 4.70976704e-01 3.01889485e-01 8.22844127e-01\n",
            "  6.24296094e-01 5.48962023e-01 1.55337680e-01 3.95715348e-01\n",
            "  0.00000000e+00 1.70247268e-01 6.33500735e-01 7.19927617e-01\n",
            "  5.50258369e-01 6.99154941e-01 7.54525231e-01 7.81122618e-01\n",
            "  2.31588389e-01 2.61490227e-01 2.34106461e-01 5.10251462e-01\n",
            "  4.01992984e-01 6.45994763e-01 5.57723067e-01 5.46683570e-01\n",
            "  5.76696336e-01 5.93899205e-01 5.81951801e-01 2.59114803e-01\n",
            "  8.57055756e-01 7.82734389e-01 3.85149384e-01 4.99328180e-01\n",
            "  2.98156407e-01 1.96249227e-01 4.76210610e-01 1.56438974e-01\n",
            "  2.08776629e-01 4.22491567e-01 4.29356368e-01 4.21624395e-01\n",
            "  5.74942837e-01 1.14505433e-01 2.55640128e-01 6.46578173e-01\n",
            "  2.25154844e-01 3.57920656e-01 2.27338795e-01 6.34996463e-01\n",
            "  8.58468202e-01 2.92093485e-01 4.71755298e-01 2.59892485e-01\n",
            "  1.41825194e-01 5.76357611e-01 6.50332460e-01 4.86418879e-01\n",
            "  1.37918945e-01 4.52281708e-01 4.44248824e-01 1.33183093e-01\n",
            "  2.75734528e-01 7.05601123e-01 4.90348093e-01 1.70421422e-01\n",
            "  4.10646645e-01 2.89003835e-01 2.72089752e-01 6.07861209e-01\n",
            "  3.32087452e-01 2.52586046e-01 2.50364414e-01 5.32044160e-01\n",
            "  1.00347925e-01 7.47255754e-01 5.19182584e-01 4.17365398e-01\n",
            "  6.59058425e-01 3.27751919e-01 4.37761899e-01 1.10928710e-01\n",
            "  6.96757984e-01 7.78934591e-01 4.48643795e-01 6.98985660e-01]\n",
            " [4.57181605e-01 3.43744011e-01 6.12358524e-01 7.39161313e-01\n",
            "  5.34506941e-01 8.88111398e-01 3.55064818e-01 5.54723686e-01\n",
            "  7.40156743e-01 6.74593014e-01 7.32277269e-01 5.52143335e-01\n",
            "  7.79790025e-01 8.44986274e-01 3.74272310e-01 2.54398080e-01\n",
            "  8.36030745e-01 5.15480611e-01 4.72040737e-01 9.07610263e-01\n",
            "  7.92883579e-01 6.86898189e-01 2.76178103e-01 5.57193877e-01\n",
            "  1.70247268e-01 0.00000000e+00 7.98138395e-01 7.79407313e-01\n",
            "  7.18513277e-01 8.28133815e-01 8.95034836e-01 9.46774601e-01\n",
            "  1.47458530e-01 3.50812746e-01 1.29230458e-01 6.46490305e-01\n",
            "  2.91638033e-01 7.90056147e-01 6.49826352e-01 6.68422818e-01\n",
            "  6.06473431e-01 6.74024055e-01 6.72139293e-01 3.14083999e-01\n",
            "  1.02240758e+00 9.46814987e-01 4.69233232e-01 6.60174108e-01\n",
            "  3.24850016e-01 3.40620427e-01 6.08450438e-01 2.40108892e-01\n",
            "  1.37197273e-01 4.26525540e-01 5.51364842e-01 5.50361291e-01\n",
            "  6.65815066e-01 2.52304971e-01 3.23392400e-01 8.16809853e-01\n",
            "  2.71864012e-01 4.45332988e-01 6.18604725e-02 7.99768201e-01\n",
            "  9.23458748e-01 2.13173919e-01 6.33389067e-01 4.26842361e-01\n",
            "  2.08844388e-01 6.23454891e-01 7.09275562e-01 6.55577492e-01\n",
            "  6.40420955e-02 4.49358519e-01 5.65181718e-01 1.46348248e-01\n",
            "  1.45812313e-01 8.75730829e-01 6.06660557e-01 2.64581677e-01\n",
            "  5.70528137e-01 3.86403955e-01 1.16523682e-01 7.76415970e-01\n",
            "  4.15453653e-01 4.05073187e-01 4.20603275e-01 6.77094990e-01\n",
            "  1.09494044e-01 9.13766332e-01 5.46957642e-01 5.22459111e-01\n",
            "  7.72235052e-01 4.15196709e-01 4.21995301e-01 7.26963743e-02\n",
            "  7.43619367e-01 8.67806370e-01 2.98116604e-01 8.27850871e-01]\n",
            " [3.86222167e-01 4.63707551e-01 2.26258792e-01 9.84650464e-02\n",
            "  4.39694284e-01 6.57491771e-01 4.43353229e-01 2.46657897e-01\n",
            "  4.04785305e-01 5.37892500e-01 2.80751808e-01 3.22906955e-01\n",
            "  7.46341959e-01 7.51711132e-01 6.07799841e-01 5.49385952e-01\n",
            "  8.23551277e-01 8.60028667e-01 3.48763859e-01 9.63794554e-01\n",
            "  8.34914559e-02 2.61369578e-01 6.27216707e-01 4.07790718e-01\n",
            "  6.33500735e-01 7.98138395e-01 0.00000000e+00 9.78526261e-01\n",
            "  1.07209593e-01 6.85776479e-01 6.44276908e-01 4.07340457e-01\n",
            "  8.51649913e-01 6.84560447e-01 8.60885837e-01 2.80899508e-01\n",
            "  1.01582124e+00 5.67220978e-01 4.87027925e-01 3.51925738e-01\n",
            "  9.59279967e-01 5.42699301e-01 7.94166661e-01 6.04756285e-01\n",
            "  4.60032578e-01 4.34077305e-01 5.14887637e-01 3.96167308e-01\n",
            "  8.00857238e-01 5.61804043e-01 3.12866203e-01 6.83574725e-01\n",
            "  7.66246826e-01 9.06327718e-01 3.74760097e-01 3.50599553e-01\n",
            "  4.95088204e-01 5.50471169e-01 5.81605606e-01 1.94802809e-01\n",
            "  6.25571536e-01 7.10134752e-01 8.46806042e-01 3.60150707e-01\n",
            "  1.06081081e+00 8.99149721e-01 3.90240772e-01 4.32383747e-01\n",
            "  6.24496204e-01 9.17537900e-01 9.33174426e-01 2.74721371e-01\n",
            "  7.47795608e-01 9.37458210e-01 3.74166296e-01 7.41142853e-01\n",
            "  9.06152102e-01 1.80570802e-01 3.83297874e-01 5.72113900e-01\n",
            "  2.31997300e-01 5.06572068e-01 9.05527035e-01 2.77646203e-01\n",
            "  7.12437017e-01 3.99683681e-01 4.01497646e-01 2.21163476e-01\n",
            "  7.28061211e-01 3.72931869e-01 9.25483311e-01 6.76928943e-01\n",
            "  7.43961027e-01 7.01927976e-01 9.46831091e-01 7.44415241e-01\n",
            "  9.99127730e-01 9.17780068e-01 1.08086865e+00 6.86322335e-01]\n",
            " [6.73502950e-01 7.15735332e-01 7.71480571e-01 8.80065208e-01\n",
            "  1.07215487e+00 4.59849015e-01 7.88579888e-01 8.15904488e-01\n",
            "  6.00325326e-01 4.46921381e-01 7.12066212e-01 6.80488661e-01\n",
            "  2.73713446e-01 3.20696009e-01 4.90658056e-01 7.17701061e-01\n",
            "  2.34311332e-01 2.64766041e-01 7.21441818e-01 1.75801450e-01\n",
            "  9.09290588e-01 1.08325866e+00 5.68727978e-01 5.81301793e-01\n",
            "  7.19927617e-01 7.79407313e-01 9.78526261e-01 0.00000000e+00\n",
            "  8.73695304e-01 3.75862622e-01 4.80057977e-01 7.64455313e-01\n",
            "  6.55491071e-01 4.58849372e-01 6.82869962e-01 1.06015672e+00\n",
            "  6.57380057e-01 4.69666695e-01 1.20234423e+00 1.13163362e+00\n",
            "  1.99652224e-01 1.25270963e+00 1.84847101e-01 9.71766903e-01\n",
            "  8.05746748e-01 7.38931637e-01 1.06310741e+00 5.84590566e-01\n",
            "  4.54925797e-01 5.64002951e-01 1.04740488e+00 5.66337880e-01\n",
            "  8.99116369e-01 3.78178362e-01 1.03854663e+00 1.01648385e+00\n",
            "  1.21950014e+00 8.01357433e-01 9.62985133e-01 8.33092628e-01\n",
            "  9.42525137e-01 3.65339035e-01 8.29528125e-01 6.75276832e-01\n",
            "  1.44778691e-01 6.17209603e-01 5.88327436e-01 6.37137100e-01\n",
            "  8.60684826e-01 1.59351472e-01 7.03458395e-02 7.03857387e-01\n",
            "  8.06982602e-01 3.71294513e-01 1.05248719e+00 6.38786491e-01\n",
            "  7.12301972e-01 8.98701095e-01 1.09937167e+00 8.76156805e-01\n",
            "  8.86475702e-01 9.68357538e-01 7.65613711e-01 7.35353771e-01\n",
            "  3.88645719e-01 8.39762312e-01 6.98541898e-01 1.04245890e+00\n",
            "  6.86279948e-01 7.61127872e-01 2.50081932e-01 3.35491010e-01\n",
            "  2.71355977e-01 3.94104687e-01 4.10492278e-01 7.21940518e-01\n",
            "  6.45162486e-02 1.67900558e-01 7.93314496e-01 3.75052532e-01]\n",
            " [2.86831721e-01 3.76973591e-01 1.21832041e-01 2.14290751e-02\n",
            "  4.31302800e-01 5.73105950e-01 3.68833954e-01 1.65265659e-01\n",
            "  3.13679537e-01 4.36710624e-01 1.91490899e-01 2.16975672e-01\n",
            "  6.47506945e-01 6.57609466e-01 5.03735106e-01 4.65364539e-01\n",
            "  7.25785747e-01 7.53036339e-01 2.54221273e-01 8.65141755e-01\n",
            "  7.47492098e-02 2.91618688e-01 5.29137408e-01 3.00624276e-01\n",
            "  5.50258369e-01 7.18513277e-01 1.07209593e-01 8.73695304e-01\n",
            "  0.00000000e+00 5.93215421e-01 5.61701639e-01 3.63682694e-01\n",
            "  7.60519271e-01 5.80823135e-01 7.71595236e-01 2.96694999e-01\n",
            "  9.21600306e-01 4.76213634e-01 5.05665814e-01 3.77418804e-01\n",
            "  8.52072717e-01 5.64009544e-01 6.89046554e-01 5.58763256e-01\n",
            "  4.28049575e-01 3.85398612e-01 4.94891848e-01 2.94675364e-01\n",
            "  6.98396398e-01 4.61235732e-01 3.17184577e-01 5.86358435e-01\n",
            "  7.00878186e-01 8.01479494e-01 3.66003903e-01 3.38380945e-01\n",
            "  5.16799195e-01 4.78512346e-01 5.35571381e-01 1.48772470e-01\n",
            "  5.73392859e-01 6.03545794e-01 7.70554687e-01 2.83218748e-01\n",
            "  9.59496591e-01 8.04786078e-01 2.86278828e-01 3.31930970e-01\n",
            "  5.59752723e-01 8.10444273e-01 8.27199539e-01 1.70411726e-01\n",
            "  6.72422325e-01 8.32389443e-01 3.69748127e-01 6.49809786e-01\n",
            "  8.18087380e-01 1.76260409e-01 3.91779538e-01 5.11596982e-01\n",
            "  1.80426787e-01 4.66666874e-01 8.21632512e-01 2.01141658e-01\n",
            "  6.06490515e-01 3.35514686e-01 3.07885735e-01 2.44555229e-01\n",
            "  6.40889340e-01 3.25859721e-01 8.18479579e-01 5.69741014e-01\n",
            "  6.44701078e-01 5.95975249e-01 8.42777803e-01 6.60385407e-01\n",
            "  8.93049245e-01 8.18510933e-01 9.93297506e-01 5.93708660e-01]\n",
            " [5.06619974e-01 6.04978590e-01 5.24665019e-01 5.92334120e-01\n",
            "  9.13490482e-01 8.82892853e-02 6.67882409e-01 6.00000691e-01\n",
            "  2.81016279e-01 1.85906667e-01 4.05094300e-01 4.61186966e-01\n",
            "  1.04414080e-01 6.80857856e-02 4.54717462e-01 6.53443685e-01\n",
            "  1.54371822e-01 4.50376082e-01 5.43014059e-01 2.91573512e-01\n",
            "  6.05975220e-01 8.57624417e-01 5.54501222e-01 3.69221819e-01\n",
            "  6.99154941e-01 8.28133815e-01 6.85776479e-01 3.75862622e-01\n",
            "  5.93215421e-01 0.00000000e+00 1.07105065e-01 3.96062000e-01\n",
            "  7.56990217e-01 4.84424250e-01 7.82826172e-01 8.46346302e-01\n",
            "  8.38234971e-01 1.19016063e-01 1.02935496e+00 9.27127119e-01\n",
            "  4.81930335e-01 1.08638486e+00 2.48375612e-01 8.97350563e-01\n",
            "  4.31212537e-01 3.68297711e-01 9.34647087e-01 3.08948964e-01\n",
            "  5.65982020e-01 5.03022782e-01 8.47394830e-01 5.88755346e-01\n",
            "  9.07492921e-01 5.74018238e-01 8.62576947e-01 8.35534524e-01\n",
            "  1.04470742e+00 7.30718427e-01 8.80891574e-01 5.09072275e-01\n",
            "  8.82414887e-01 4.04665682e-01 8.89053409e-01 3.36673086e-01\n",
            "  4.02574090e-01 7.51604142e-01 3.28334231e-01 4.93495712e-01\n",
            "  8.15117669e-01 4.19395405e-01 3.69656842e-01 4.31736397e-01\n",
            "  8.26782527e-01 5.88639075e-01 8.73659733e-01 6.85857362e-01\n",
            "  8.27123333e-01 5.65614332e-01 9.14034505e-01 8.05202669e-01\n",
            "  6.71766133e-01 8.55114624e-01 8.67044955e-01 4.12762515e-01\n",
            "  4.33722635e-01 6.97067740e-01 5.48871975e-01 8.11189195e-01\n",
            "  7.18782269e-01 3.98871951e-01 4.92144660e-01 3.17127511e-01\n",
            "  1.08740155e-01 4.29647151e-01 6.22972902e-01 7.56478823e-01\n",
            "  4.26096983e-01 2.51792679e-01 9.65207623e-01 8.10094295e-04]\n",
            " [5.30000430e-01 6.40299543e-01 5.13631547e-01 5.57065031e-01\n",
            "  9.20678693e-01 2.04839290e-02 6.96686023e-01 5.97953128e-01\n",
            "  2.52338604e-01 2.22978103e-01 3.70285614e-01 4.67634431e-01\n",
            "  2.11319120e-01 1.60902460e-01 5.21475189e-01 6.99624711e-01\n",
            "  2.50803370e-01 5.51808767e-01 5.59376748e-01 3.77917679e-01\n",
            "  5.61610342e-01 8.41459989e-01 6.18894979e-01 3.89098088e-01\n",
            "  7.54525231e-01 8.95034836e-01 6.44276908e-01 4.80057977e-01\n",
            "  5.61701639e-01 1.07105065e-01 0.00000000e+00 3.09363633e-01\n",
            "  8.36369437e-01 5.61966648e-01 8.61215520e-01 8.35208117e-01\n",
            "  9.28927637e-01 1.10848139e-01 1.02879583e+00 9.17421571e-01\n",
            "  5.88231762e-01 1.08698974e+00 3.54308876e-01 9.31439451e-01\n",
            "  3.34099582e-01 2.79193843e-01 9.51292585e-01 3.05731928e-01\n",
            "  6.53641358e-01 5.59521862e-01 8.41554293e-01 6.59258383e-01\n",
            "  9.63077081e-01 6.72331489e-01 8.65147568e-01 8.37135432e-01\n",
            "  1.04319526e+00 7.71603604e-01 9.13239858e-01 4.56245542e-01\n",
            "  9.20972234e-01 4.91050998e-01 9.56692152e-01 2.84354436e-01\n",
            "  4.93043674e-01 8.36817141e-01 3.30897710e-01 5.26116349e-01\n",
            "  8.59737414e-01 5.25845761e-01 4.76520005e-01 4.15254146e-01\n",
            "  8.87280724e-01 6.88761282e-01 8.74879340e-01 7.57083791e-01\n",
            "  9.07134156e-01 5.04444487e-01 9.11785927e-01 8.43175580e-01\n",
            "  6.66591177e-01 8.78869139e-01 9.43659821e-01 3.66643510e-01\n",
            "  5.18631551e-01 7.17307626e-01 5.75151303e-01 7.94056951e-01\n",
            "  7.85694555e-01 3.19445518e-01 5.96375283e-01 4.03146524e-01\n",
            "  2.15824251e-01 5.13241117e-01 7.21846412e-01 8.22504031e-01\n",
            "  5.32060752e-01 3.43965230e-01 1.05256055e+00 1.07886483e-01]\n",
            " [4.97966998e-01 6.21317945e-01 3.86364952e-01 3.49121994e-01\n",
            "  7.89168664e-01 3.28638607e-01 6.50260525e-01 4.78114199e-01\n",
            "  2.19206638e-01 3.56810750e-01 2.24821992e-01 4.04578650e-01\n",
            "  4.91954806e-01 4.61674365e-01 6.15064358e-01 7.04438261e-01\n",
            "  5.50344283e-01 7.61378525e-01 5.00563486e-01 6.84548818e-01\n",
            "  3.27345674e-01 6.52680803e-01 6.89991235e-01 3.91903695e-01\n",
            "  7.81122618e-01 9.46774601e-01 4.07340457e-01 7.64455313e-01\n",
            "  3.63682694e-01 3.96062000e-01 3.09363633e-01 0.00000000e+00\n",
            "  9.35685934e-01 6.81983987e-01 9.55256547e-01 6.60234937e-01\n",
            "  1.06699244e+00 2.95396861e-01 8.69341848e-01 7.40305998e-01\n",
            "  8.28423915e-01 9.27688195e-01 6.05345456e-01 8.76851368e-01\n",
            "  7.61015662e-02 3.19331393e-02 8.44246257e-01 2.93079916e-01\n",
            "  7.97772416e-01 6.16272158e-01 6.80356154e-01 7.44396531e-01\n",
            "  9.72871551e-01 8.58542413e-01 7.25098966e-01 6.96773367e-01\n",
            "  8.80445248e-01 7.51953101e-01 8.54849494e-01 2.17807481e-01\n",
            "  8.80645951e-01 6.49339635e-01 1.00684196e+00 1.47574106e-01\n",
            "  7.97839712e-01 9.57819260e-01 3.17159905e-01 5.21232408e-01\n",
            "  8.42917692e-01 7.70555554e-01 7.44980856e-01 3.04655301e-01\n",
            "  9.18383950e-01 8.82827931e-01 7.30311271e-01 8.34461693e-01\n",
            "  1.00419364e+00 2.33148234e-01 7.54980632e-01 8.07601033e-01\n",
            "  5.26433579e-01 7.97949483e-01 1.02612508e+00 1.85745438e-01\n",
            "  6.68269046e-01 6.43109561e-01 5.41556363e-01 6.06530230e-01\n",
            "  8.46181802e-01 3.86454859e-02 8.19086048e-01 5.74795234e-01\n",
            "  4.93600408e-01 6.59381805e-01 9.07790072e-01 8.76887988e-01\n",
            "  8.07403033e-01 6.47213506e-01 1.17110833e+00 3.96841654e-01]\n",
            " [4.78278601e-01 3.88606076e-01 6.44237890e-01 7.79720188e-01\n",
            "  6.51143179e-01 8.26525069e-01 4.24703759e-01 6.05167079e-01\n",
            "  7.19399845e-01 6.25740433e-01 7.36456638e-01 5.67229409e-01\n",
            "  6.94207542e-01 7.63236552e-01 3.25145587e-01 3.07976902e-01\n",
            "  7.41119551e-01 3.91218235e-01 5.06310601e-01 7.96526166e-01\n",
            "  8.32276614e-01 7.80506128e-01 2.46914711e-01 5.45571368e-01\n",
            "  2.31588389e-01 1.47458530e-01 8.51649913e-01 6.55491071e-01\n",
            "  7.60519271e-01 7.56990217e-01 8.36369437e-01 9.35685934e-01\n",
            "  0.00000000e+00 2.74403715e-01 2.76664229e-02 7.41652561e-01\n",
            "  1.70405248e-01 7.38846517e-01 7.73987092e-01 7.75377145e-01\n",
            "  4.72298031e-01 8.03612829e-01 5.70527311e-01 4.46858405e-01\n",
            "  1.00920093e+00 9.30752877e-01 5.95102984e-01 6.42683021e-01\n",
            "  2.05975122e-01 3.21525473e-01 7.07046199e-01 1.91299200e-01\n",
            "  2.84618137e-01 2.87888984e-01 6.57539036e-01 6.51574513e-01\n",
            "  7.90666596e-01 3.42747136e-01 4.52203726e-01 8.36638360e-01\n",
            "  4.05429174e-01 3.54782349e-01 1.80868695e-01 7.88614220e-01\n",
            "  8.00269328e-01 6.77392545e-02 6.18746263e-01 4.38125628e-01\n",
            "  3.30872923e-01 4.96697783e-01 5.86507530e-01 6.66250668e-01\n",
            "  2.02385613e-01 3.07672775e-01 6.72190398e-01 1.10719445e-01\n",
            "  7.08941779e-02 9.01211776e-01 7.17026006e-01 3.79932156e-01\n",
            "  6.36740353e-01 5.04694470e-01 1.13371378e-01 7.80554789e-01\n",
            "  3.24796431e-01 4.83624222e-01 4.52635030e-01 7.63351102e-01\n",
            "  1.31332976e-01 9.06280746e-01 4.13503144e-01 4.40527510e-01\n",
            "  6.86567716e-01 3.27866806e-01 2.77615672e-01 1.35127312e-01\n",
            "  6.14107937e-01 7.60235841e-01 2.37555421e-01 7.56587626e-01]\n",
            " [3.02203629e-01 2.85378026e-01 4.59086491e-01 5.96253838e-01\n",
            "  6.38784186e-01 5.52237033e-01 3.54714136e-01 4.56803674e-01\n",
            "  4.62801093e-01 3.53724799e-01 5.04799705e-01 3.65206353e-01\n",
            "  4.29443816e-01 4.95839781e-01 7.72909935e-02 2.64247445e-01\n",
            "  4.85528411e-01 2.20867687e-01 3.46863897e-01 5.65125687e-01\n",
            "  6.43492526e-01 6.97575728e-01 1.10951850e-01 3.08578343e-01\n",
            "  2.61490227e-01 3.50812746e-01 6.84560447e-01 4.58849372e-01\n",
            "  5.80823135e-01 4.84424250e-01 5.61966648e-01 6.81983987e-01\n",
            "  2.74403715e-01 0.00000000e+00 2.99391882e-01 6.65934452e-01\n",
            "  3.85475197e-01 4.65361350e-01 7.71151718e-01 7.24601563e-01\n",
            "  3.31023366e-01 8.16352458e-01 3.25441871e-01 5.13892250e-01\n",
            "  7.52587298e-01 6.73146913e-01 6.16416796e-01 3.92110248e-01\n",
            "  1.20723362e-01 1.33469657e-01 6.42883109e-01 1.13592771e-01\n",
            "  4.51903097e-01 2.23681572e-01 6.17372625e-01 6.00230195e-01\n",
            "  7.88656240e-01 3.45967789e-01 5.06256001e-01 6.19589296e-01\n",
            "  4.83783888e-01 9.77441044e-02 4.09748120e-01 5.38405446e-01\n",
            "  5.96992121e-01 2.80544793e-01 3.72439506e-01 2.55552085e-01\n",
            "  4.01841337e-01 3.20352596e-01 3.89622856e-01 4.47484215e-01\n",
            "  3.62457657e-01 2.55585623e-01 6.32279598e-01 2.04935170e-01\n",
            "  3.45193700e-01 6.88778586e-01 6.80592454e-01 4.19050459e-01\n",
            "  5.13239092e-01 5.19408717e-01 3.82813809e-01 5.46693153e-01\n",
            "  7.06219981e-02 4.13857672e-01 3.02723434e-01 6.65900056e-01\n",
            "  2.44503180e-01 6.56333150e-01 2.78735263e-01 1.71979980e-01\n",
            "  4.21857180e-01 6.70665982e-02 2.62306700e-01 2.82603199e-01\n",
            "  4.38777483e-01 5.22794506e-01 4.97318159e-01 4.84059207e-01]\n",
            " [4.91668497e-01 3.97194440e-01 6.56676579e-01 7.91096091e-01\n",
            "  6.46034785e-01 8.51625527e-01 4.29061395e-01 6.14228233e-01\n",
            "  7.39847840e-01 6.49292217e-01 7.53517785e-01 5.82064878e-01\n",
            "  7.20998736e-01 7.89839826e-01 3.47411303e-01 3.13861559e-01\n",
            "  7.68415225e-01 4.18712757e-01 5.17695941e-01 8.24192539e-01\n",
            "  8.43975785e-01 7.81421518e-01 2.65385249e-01 5.64258513e-01\n",
            "  2.34106461e-01 1.29230458e-01 8.60885837e-01 6.82869962e-01\n",
            "  7.71595236e-01 7.82826172e-01 8.61215520e-01 9.55256547e-01\n",
            "  2.76664229e-02 2.99391882e-01 0.00000000e+00 7.42124919e-01\n",
            "  1.71866534e-01 7.62849244e-01 7.66906854e-01 7.73080491e-01\n",
            "  4.98871274e-01 7.94799918e-01 5.97997715e-01 4.36299475e-01\n",
            "  1.02914534e+00 9.50967614e-01 5.87181407e-01 6.62509395e-01\n",
            "  2.33618625e-01 3.39653194e-01 7.06636555e-01 2.11427949e-01\n",
            "  2.65961777e-01 3.14003052e-01 6.55172213e-01 6.50395745e-01\n",
            "  7.83392591e-01 3.42043961e-01 4.42950417e-01 8.51557827e-01\n",
            "  3.94451994e-01 3.81402481e-01 1.56537732e-01 8.07947029e-01\n",
            "  8.27644181e-01 8.44969806e-02 6.38118603e-01 4.52793352e-01\n",
            "  3.22805268e-01 5.23983378e-01 6.13967513e-01 6.82143871e-01\n",
            "  1.88121594e-01 3.32938242e-01 6.69654116e-01 1.23745778e-01\n",
            "  4.89712816e-02 9.15359054e-01 7.13738423e-01 3.73995220e-01\n",
            "  6.42979534e-01 4.98689983e-01 8.59357060e-02 7.97726572e-01\n",
            "  3.51330724e-01 4.86660513e-01 4.64032198e-01 7.65864536e-01\n",
            "  1.34407006e-01 9.25324063e-01 4.40238808e-01 4.66729631e-01\n",
            "  7.13358202e-01 3.54156321e-01 3.01868916e-01 1.30249405e-01\n",
            "  6.41104753e-01 7.87882117e-01 2.22495873e-01 7.82432642e-01]\n",
            " [3.87388274e-01 3.84265445e-01 3.22680477e-01 3.11350826e-01\n",
            "  1.68602853e-01 8.43532381e-01 3.24933912e-01 2.49884161e-01\n",
            "  5.83034615e-01 6.68402919e-01 4.72965595e-01 3.91438918e-01\n",
            "  8.78451125e-01 9.04488734e-01 6.00458233e-01 4.41397978e-01\n",
            "  9.58318764e-01 8.77966668e-01 3.39032127e-01 1.09024494e+00\n",
            "  3.42208579e-01 4.09393515e-02 5.73516593e-01 4.91690723e-01\n",
            "  5.10251462e-01 6.46490305e-01 2.80899508e-01 1.06015672e+00\n",
            "  2.96694999e-01 8.46346302e-01 8.35208117e-01 6.60234937e-01\n",
            "  7.41652561e-01 6.65934452e-01 7.42124919e-01 0.00000000e+00\n",
            "  9.11996654e-01 7.37332370e-01 2.09856768e-01 8.25000780e-02\n",
            "  9.87196597e-01 2.67714345e-01 8.79727058e-01 3.79718448e-01\n",
            "  7.22909702e-01 6.82057542e-01 2.52718869e-01 5.37735289e-01\n",
            "  7.61388654e-01 5.32716502e-01 4.19729177e-02 6.18486079e-01\n",
            "  5.73971131e-01 8.83645356e-01 1.11592700e-01 9.99357825e-02\n",
            "  2.20292779e-01 4.00217052e-01 3.58880332e-01 4.43601532e-01\n",
            "  4.12073916e-01 7.26694998e-01 6.80932427e-01 5.71257895e-01\n",
            "  1.16924008e+00 8.01906863e-01 5.18219841e-01 4.27250885e-01\n",
            "  4.42667770e-01 9.60740047e-01 1.00196327e+00 4.20019478e-01\n",
            "  5.85836754e-01 9.15846490e-01 1.04559708e-01 6.40363046e-01\n",
            "  7.79548114e-01 4.53451070e-01 1.02619738e-01 3.85250764e-01\n",
            "  1.77059742e-01 2.79875960e-01 7.62565145e-01 4.92731660e-01\n",
            "  7.17220203e-01 2.62787296e-01 3.68965675e-01 6.01060219e-02\n",
            "  6.10325562e-01 6.22527380e-01 9.40602314e-01 7.27447866e-01\n",
            "  8.73976954e-01 7.07681120e-01 9.13365118e-01 6.12815567e-01\n",
            "  1.06400105e+00 1.04210186e+00 9.44383686e-01 8.46688172e-01]\n",
            " [6.35945864e-01 5.55202225e-01 8.02896499e-01 9.40123090e-01\n",
            "  8.17835139e-01 9.16273349e-01 5.94525938e-01 7.70227096e-01\n",
            "  8.47948589e-01 7.34570935e-01 8.80590501e-01 7.20280569e-01\n",
            "  7.59962162e-01 8.31393479e-01 4.52947359e-01 4.77268806e-01\n",
            "  7.91991408e-01 4.12879393e-01 6.67975091e-01 8.18906077e-01\n",
            "  9.91815022e-01 9.50900001e-01 3.95456295e-01 6.85206843e-01\n",
            "  4.01992984e-01 2.91638033e-01 1.01582124e+00 6.57380057e-01\n",
            "  9.21600306e-01 8.38234971e-01 9.28927637e-01 1.06699244e+00\n",
            "  1.70405248e-01 3.85475197e-01 1.71866534e-01 9.11996654e-01\n",
            "  0.00000000e+00 8.41565295e-01 9.37956242e-01 9.44620199e-01\n",
            "  4.58714582e-01 9.64523959e-01 6.19366117e-01 6.04939473e-01\n",
            "  1.13800123e+00 1.05858964e+00 7.57847799e-01 7.75537364e-01\n",
            "  2.76546702e-01 4.68365401e-01 8.77183209e-01 3.37427356e-01\n",
            "  4.21068316e-01 2.84051065e-01 8.26716174e-01 8.21408572e-01\n",
            "  9.54318455e-01 5.12650356e-01 6.12851430e-01 9.87607816e-01\n",
            "  5.62803847e-01 4.38528860e-01 2.95739470e-01 9.22320786e-01\n",
            "  7.98068001e-01 1.16816617e-01 7.54176403e-01 5.93073338e-01\n",
            "  4.93841887e-01 5.01699819e-01 5.94711327e-01 8.15151632e-01\n",
            "  3.54616181e-01 2.86270052e-01 8.41255899e-01 2.76914430e-01\n",
            "  1.46141978e-01 1.05424206e+00 8.85526820e-01 5.45732793e-01\n",
            "  8.05013577e-01 6.70339365e-01 1.90991146e-01 9.23918391e-01\n",
            "  4.12417876e-01 6.53849558e-01 6.14660843e-01 9.33616549e-01\n",
            "  3.01721783e-01 1.04047570e+00 4.07997154e-01 5.26000278e-01\n",
            "  7.52526751e-01 4.19133073e-01 2.46922277e-01 3.01982559e-01\n",
            "  6.04286127e-01 7.90152409e-01 1.36083470e-01 8.37707834e-01]\n",
            " [4.19796930e-01 5.29451410e-01 4.14652519e-01 4.74548883e-01\n",
            "  8.15096830e-01 1.11729825e-01 5.86149361e-01 4.95079295e-01\n",
            "  1.62838892e-01 1.15464735e-01 2.86788171e-01 3.60951788e-01\n",
            "  1.99677831e-01 1.86368368e-01 4.18615642e-01 5.89436366e-01\n",
            "  2.67014668e-01 4.86857409e-01 4.50450075e-01 4.07171634e-01\n",
            "  4.87089332e-01 7.46364453e-01 5.14050322e-01 2.78902159e-01\n",
            "  6.45994763e-01 7.90056147e-01 5.67220978e-01 4.69666695e-01\n",
            "  4.76213634e-01 1.19016063e-01 1.10848139e-01 2.95396861e-01\n",
            "  7.38846517e-01 4.65361350e-01 7.62849244e-01 7.37332370e-01\n",
            "  8.41565295e-01 0.00000000e+00 9.26276147e-01 8.18957076e-01\n",
            "  5.41050139e-01 9.84065384e-01 3.12179670e-01 8.20677353e-01\n",
            "  3.43198192e-01 2.71361412e-01 8.43042253e-01 2.01105753e-01\n",
            "  5.65020307e-01 4.52093029e-01 7.41062315e-01 5.57142408e-01\n",
            "  8.54205112e-01 5.98600842e-01 7.61127117e-01 7.33436692e-01\n",
            "  9.41094825e-01 6.60863180e-01 8.02566749e-01 3.90325263e-01\n",
            "  8.10127348e-01 4.03681148e-01 8.51867248e-01 2.18658325e-01\n",
            "  5.14743317e-01 7.44177857e-01 2.24365226e-01 4.15272465e-01\n",
            "  7.49211425e-01 4.81055680e-01 4.49962048e-01 3.18725423e-01\n",
            "  7.79907158e-01 6.18514309e-01 7.71401351e-01 6.54768341e-01\n",
            "  8.09740153e-01 4.48004810e-01 8.09806972e-01 7.32330215e-01\n",
            "  5.65347685e-01 7.69130866e-01 8.43741356e-01 2.93765139e-01\n",
            "  4.29148271e-01 6.07967576e-01 4.64705582e-01 6.99430833e-01\n",
            "  6.81099269e-01 2.91679205e-01 5.38919488e-01 3.17928885e-01\n",
            "  2.00378335e-01 4.22567669e-01 6.48608231e-01 7.17379819e-01\n",
            "  5.12034356e-01 3.64835942e-01 9.60962069e-01 1.19609055e-01]\n",
            " [5.37785822e-01 4.89687608e-01 5.16281774e-01 5.20912301e-01\n",
            "  1.32373360e-01 1.03541974e+00 4.17681012e-01 4.31240769e-01\n",
            "  7.78765081e-01 8.45991403e-01 6.75396471e-01 5.68169273e-01\n",
            "  1.04946562e+00 1.08322744e+00 7.18418504e-01 5.13766142e-01\n",
            "  1.12842462e+00 9.91562158e-01 4.93713625e-01 1.25376568e+00\n",
            "  5.51779695e-01 2.25854286e-01 6.65388082e-01 6.63166930e-01\n",
            "  5.57723067e-01 6.49826352e-01 4.87027925e-01 1.20234423e+00\n",
            "  5.05665814e-01 1.02935496e+00 1.02879583e+00 8.69341848e-01\n",
            "  7.73987092e-01 7.71151718e-01 7.66906854e-01 2.09856768e-01\n",
            "  9.37956242e-01 9.26276147e-01 0.00000000e+00 1.35565963e-01\n",
            "  1.10195651e+00 5.88196235e-02 1.02964217e+00 3.37932460e-01\n",
            "  9.32669284e-01 8.90521256e-01 1.80602639e-01 7.25174991e-01\n",
            "  8.45592486e-01 6.45280765e-01 1.90538925e-01 6.97407823e-01\n",
            "  5.41768290e-01 9.71515413e-01 1.67758315e-01 1.93966800e-01\n",
            "  1.75200624e-02 4.44588215e-01 3.26540125e-01 6.53240269e-01\n",
            "  3.79732560e-01 8.48126215e-01 6.66426105e-01 7.74720974e-01\n",
            "  1.32250873e+00 8.40217422e-01 7.02648799e-01 5.67959451e-01\n",
            "  4.44154349e-01 1.08533840e+00 1.13912090e+00 6.15487286e-01\n",
            "  5.85791932e-01 1.00275687e+00 1.55851302e-01 6.89790896e-01\n",
            "  7.94469450e-01 6.62589527e-01 1.17343287e-01 3.94272130e-01\n",
            "  3.62417873e-01 2.69966423e-01 7.63748460e-01 6.98430214e-01\n",
            "  8.32525688e-01 3.62895659e-01 5.06019091e-01 2.67150896e-01\n",
            "  6.48923836e-01 8.31430486e-01 1.04962638e+00 8.67065200e-01\n",
            "  1.04423948e+00 8.24235198e-01 9.92408048e-01 6.38860516e-01\n",
            "  1.19713895e+00 1.20565872e+00 9.40042128e-01 1.02961403e+00]\n",
            " [4.58204113e-01 4.39576387e-01 4.04419904e-01 3.91187135e-01\n",
            "  1.45164282e-01 9.25580644e-01 3.73984722e-01 3.28476881e-01\n",
            "  6.65335158e-01 7.47918945e-01 5.55423129e-01 4.69882272e-01\n",
            "  9.56886062e-01 9.84547136e-01 6.62832904e-01 4.85760362e-01\n",
            "  1.03665630e+00 9.40461469e-01 4.10624150e-01 1.16724077e+00\n",
            "  4.18857931e-01 9.05564086e-02 6.26837595e-01 5.69298506e-01\n",
            "  5.46683570e-01 6.68422818e-01 3.51925738e-01 1.13163362e+00\n",
            "  3.77418804e-01 9.27127119e-01 9.17421571e-01 7.40305998e-01\n",
            "  7.75377145e-01 7.24601563e-01 7.73080491e-01 8.25000780e-02\n",
            "  9.44620199e-01 8.18957076e-01 1.35565963e-01 0.00000000e+00\n",
            "  1.05042993e+00 1.90822294e-01 9.52934458e-01 3.78136556e-01\n",
            "  8.01633147e-01 7.62730778e-01 2.30494738e-01 6.18909107e-01\n",
            "  8.13637875e-01 5.92695469e-01 8.42295335e-02 6.67751106e-01\n",
            "  5.81221028e-01 9.37808610e-01 1.17909197e-01 1.26573601e-01\n",
            "  1.43175438e-01 4.33008288e-01 3.60112926e-01 5.22993394e-01\n",
            "  4.15411495e-01 7.90979028e-01 6.96494835e-01 6.53601568e-01\n",
            "  1.24382514e+00 8.38289395e-01 5.98813115e-01 4.95408241e-01\n",
            "  4.60127216e-01 1.02690102e+00 1.07191095e+00 5.02175970e-01\n",
            "  6.05646075e-01 9.69836911e-01 1.03515294e-01 6.79318449e-01\n",
            "  8.07179705e-01 5.28801138e-01 6.46680389e-02 4.03841600e-01\n",
            "  2.55860480e-01 2.85393899e-01 7.84913777e-01 5.74748213e-01\n",
            "  7.79507179e-01 3.12364961e-01 4.35151365e-01 1.34115241e-01\n",
            "  6.44964443e-01 7.02854358e-01 1.00188628e+00 7.97276933e-01\n",
            "  9.52238694e-01 7.70314047e-01 9.64700220e-01 6.42836333e-01\n",
            "  1.13293363e+00 1.11904907e+00 9.65970752e-01 9.27455011e-01]\n",
            " [6.05399353e-01 6.14049336e-01 7.36802719e-01 8.62933174e-01\n",
            "  9.69618200e-01 5.70117967e-01 6.84793221e-01 7.59395525e-01\n",
            "  6.30708425e-01 4.75691882e-01 7.21496048e-01 6.39878504e-01\n",
            "  3.80787359e-01 4.47049750e-01 3.87597028e-01 5.93785560e-01\n",
            "  3.79612301e-01 1.10444917e-01 6.53652042e-01 3.68981810e-01\n",
            "  9.01477880e-01 1.01599622e+00 4.39566553e-01 5.51821017e-01\n",
            "  5.76696336e-01 6.06473431e-01 9.59279967e-01 1.99652224e-01\n",
            "  8.52072717e-01 4.81930335e-01 5.88231762e-01 8.28423915e-01\n",
            "  4.72298031e-01 3.31023366e-01 4.98871274e-01 9.87196597e-01\n",
            "  4.58714582e-01 5.41050139e-01 1.10195651e+00 1.05042993e+00\n",
            "  0.00000000e+00 1.14737394e+00 2.33996916e-01 8.35484693e-01\n",
            "  8.83115943e-01 8.08207559e-01 9.46534013e-01 5.90155027e-01\n",
            "  2.85734697e-01 4.58609274e-01 9.67418121e-01 4.20494520e-01\n",
            "  7.34489304e-01 1.85820963e-01 9.46265679e-01 9.27863655e-01\n",
            "  1.11944988e+00 6.73309181e-01 8.30350167e-01 8.45920793e-01\n",
            "  8.01697990e-01 2.60688851e-01 6.51316422e-01 7.11941843e-01\n",
            "  3.39419619e-01 4.27026661e-01 5.84241933e-01 5.61944717e-01\n",
            "  7.18139343e-01 6.27505940e-02 1.43418969e-01 6.91372159e-01\n",
            "  6.42458509e-01 1.73952693e-01 9.61026547e-01 4.75009103e-01\n",
            "  5.23437048e-01 9.15561248e-01 1.00922751e+00 7.43347311e-01\n",
            "  8.23897794e-01 8.49192074e-01 5.78316248e-01 7.54104867e-01\n",
            "  2.71016107e-01 7.42646122e-01 6.18350268e-01 9.80367259e-01\n",
            "  5.24362466e-01 8.15993621e-01 5.95572578e-02 2.83050201e-01\n",
            "  3.75055252e-01 2.80118214e-01 2.12441450e-01 5.56882286e-01\n",
            "  1.46033967e-01 3.48440277e-01 5.94396187e-01 4.81185356e-01]\n",
            " [5.91998055e-01 5.37958479e-01 5.74818075e-01 5.79023927e-01\n",
            "  1.80604715e-01 1.09344733e+00 4.65347948e-01 4.89196807e-01\n",
            "  8.37241677e-01 9.02557842e-01 7.34207923e-01 6.25254347e-01\n",
            "  1.10484872e+00 1.13965641e+00 7.66321034e-01 5.55818668e-01\n",
            "  1.18357325e+00 1.03716342e+00 5.48783102e-01 1.30773293e+00\n",
            "  6.08998217e-01 2.81357872e-01 7.08981759e-01 7.19383517e-01\n",
            "  5.93899205e-01 6.74024055e-01 5.42699301e-01 1.25270963e+00\n",
            "  5.64009544e-01 1.08638486e+00 1.08698974e+00 9.27688195e-01\n",
            "  8.03612829e-01 8.16352458e-01 7.94799918e-01 2.67714345e-01\n",
            "  9.64523959e-01 9.84065384e-01 5.88196235e-02 1.90822294e-01\n",
            "  1.14737394e+00 0.00000000e+00 1.08173415e+00 3.59944806e-01\n",
            "  9.90614021e-01 9.49042761e-01 2.09395248e-01 7.82998173e-01\n",
            "  8.86095105e-01 6.92838699e-01 2.49351104e-01 7.38121423e-01\n",
            "  5.58706356e-01 1.01200206e+00 2.23873604e-01 2.50904923e-01\n",
            "  4.76888094e-02 4.82762500e-01 3.51857551e-01 7.11306452e-01\n",
            "  4.02168609e-01 8.95863531e-01 6.85703824e-01 8.33539277e-01\n",
            "  1.37465268e+00 8.70592932e-01 7.60208276e-01 6.20634507e-01\n",
            "  4.72745353e-01 1.13272207e+00 1.18870722e+00 6.74040608e-01\n",
            "  6.10305876e-01 1.04287738e+00 2.12812630e-01 7.24342018e-01\n",
            "  8.19626607e-01 7.19401952e-01 1.76040296e-01 4.26496182e-01\n",
            "  4.20858199e-01 3.04967731e-01 7.85772913e-01 7.57211135e-01\n",
            "  8.79221837e-01 4.13068193e-01 5.58753622e-01 3.24066555e-01\n",
            "  6.81606117e-01 8.89839454e-01 1.09409231e+00 9.17909799e-01\n",
            "  1.09951995e+00 8.71208887e-01 1.03089778e+00 6.68791978e-01\n",
            "  1.24584151e+00 1.25969147e+00 9.58842369e-01 1.08663343e+00]\n",
            " [4.95174047e-01 5.49757492e-01 5.86824327e-01 6.95704121e-01\n",
            "  9.01290935e-01 3.36378658e-01 6.22016180e-01 6.33475209e-01\n",
            "  4.23957679e-01 2.67658487e-01 5.30865704e-01 4.96600569e-01\n",
            "  1.50075096e-01 2.20031002e-01 3.35692779e-01 5.64789680e-01\n",
            "  1.73078427e-01 2.11347241e-01 5.42338841e-01 2.40916003e-01\n",
            "  7.25971761e-01 9.01532483e-01 4.26637366e-01 3.96893571e-01\n",
            "  5.81951801e-01 6.72139293e-01 7.94166661e-01 1.84847101e-01\n",
            "  6.89046554e-01 2.48375612e-01 3.54308876e-01 6.05345456e-01\n",
            "  5.70527311e-01 3.25441871e-01 5.97997715e-01 8.79727058e-01\n",
            "  6.19366117e-01 3.12179670e-01 1.02964217e+00 9.52934458e-01\n",
            "  2.33996916e-01 1.08173415e+00 0.00000000e+00 8.21641117e-01\n",
            "  6.55360122e-01 5.82854890e-01 8.99118041e-01 4.01713655e-01\n",
            "  3.65546099e-01 4.05687172e-01 8.68819009e-01 4.38984181e-01\n",
            "  7.77329997e-01 3.40749619e-01 8.63923443e-01 8.40754413e-01\n",
            "  1.04656094e+00 6.48864566e-01 8.10355603e-01 6.53399343e-01\n",
            "  7.96450770e-01 2.28039761e-01 7.28564846e-01 5.02040254e-01\n",
            "  2.92920499e-01 5.49369501e-01 4.04196975e-01 4.61779598e-01\n",
            "  7.17795248e-01 1.71876958e-01 1.43431527e-01 5.19445679e-01\n",
            "  6.87732951e-01 3.50203257e-01 8.77466445e-01 5.25980586e-01\n",
            "  6.36332872e-01 7.20403686e-01 9.23574951e-01 7.25299928e-01\n",
            "  7.04744646e-01 8.06999220e-01 6.83894398e-01 5.56617202e-01\n",
            "  2.57234154e-01 6.69215184e-01 5.23695562e-01 8.59953001e-01\n",
            "  5.68740736e-01 5.96965892e-01 2.45327600e-01 1.68671035e-01\n",
            "  1.43625745e-01 2.58705815e-01 3.87166184e-01 6.06541394e-01\n",
            "  2.09125687e-01 1.97441007e-01 7.52427837e-01 2.47644629e-01]\n",
            " [4.03572875e-01 2.92560107e-01 4.92338970e-01 5.79943855e-01\n",
            "  2.34466853e-01 9.31414439e-01 2.36145231e-01 4.04715883e-01\n",
            "  7.12688379e-01 7.15021593e-01 6.52796857e-01 4.82841493e-01\n",
            "  8.84554519e-01 9.35726063e-01 4.86154455e-01 2.56857963e-01\n",
            "  9.56570523e-01 7.28852767e-01 3.83717766e-01 1.06108390e+00\n",
            "  6.30067241e-01 4.20125673e-01 4.03242744e-01 5.43344877e-01\n",
            "  2.59114803e-01 3.14083999e-01 6.04756285e-01 9.71766903e-01\n",
            "  5.58763256e-01 8.97350563e-01 9.31439451e-01 8.76851368e-01\n",
            "  4.46858405e-01 5.13892250e-01 4.36299475e-01 3.79718448e-01\n",
            "  6.04939473e-01 8.20677353e-01 3.37932460e-01 3.78136556e-01\n",
            "  8.35484693e-01 3.59944806e-01 8.21641117e-01 0.00000000e+00\n",
            "  9.51228772e-01 8.87476148e-01 1.58285357e-01 6.37935665e-01\n",
            "  5.56666930e-01 4.16453864e-01 3.37920960e-01 4.14990830e-01\n",
            "  2.05641686e-01 6.79800316e-01 2.70317211e-01 2.80229749e-01\n",
            "  3.53361387e-01 1.72898285e-01 2.32567065e-02 6.93334438e-01\n",
            "  4.22245003e-02 6.06571234e-01 3.28539385e-01 7.44417871e-01\n",
            "  1.10677830e+00 5.14426930e-01 6.09917340e-01 4.05838202e-01\n",
            "  1.20418794e-01 8.32912004e-01 9.03114614e-01 5.74123429e-01\n",
            "  2.50441454e-01 7.08783551e-01 2.81166513e-01 3.78459956e-01\n",
            "  4.59744926e-01 7.34459612e-01 3.13555068e-01 9.63419308e-02\n",
            "  3.79743467e-01 1.01070597e-01 4.26409594e-01 6.91220543e-01\n",
            "  5.83397318e-01 2.33811762e-01 3.57465588e-01 4.26038581e-01\n",
            "  3.31838945e-01 8.38999731e-01 7.78207971e-01 6.53172797e-01\n",
            "  8.77885005e-01 5.77675119e-01 6.91350388e-01 3.13654548e-01\n",
            "  9.52407540e-01 1.01519166e+00 6.02127518e-01 8.97350956e-01]\n",
            " [5.74064167e-01 6.97391074e-01 4.59700787e-01 4.11876132e-01\n",
            "  8.57247030e-01 3.54415599e-01 7.25749421e-01 5.50675607e-01\n",
            "  2.90476068e-01 4.18485049e-01 3.00276077e-01 4.80588961e-01\n",
            "  5.32040714e-01 4.93254527e-01 6.87208755e-01 7.80525283e-01\n",
            "  5.83230203e-01 8.21511221e-01 5.76274445e-01 7.11837483e-01\n",
            "  3.83988382e-01 7.12737087e-01 7.64104934e-01 4.66747656e-01\n",
            "  8.57055756e-01 1.02240758e+00 4.60032578e-01 8.05746748e-01\n",
            "  4.28049575e-01 4.31212537e-01 3.34099582e-01 7.61015662e-02\n",
            "  1.00920093e+00 7.52587298e-01 1.02914534e+00 7.22909702e-01\n",
            "  1.13800123e+00 3.43198192e-01 9.32669284e-01 8.01633147e-01\n",
            "  8.83115943e-01 9.90614021e-01 6.55360122e-01 9.51228772e-01\n",
            "  0.00000000e+00 7.95420213e-02 9.14751029e-01 3.66636572e-01\n",
            "  8.66957798e-01 6.90689470e-01 7.45176010e-01 8.18002841e-01\n",
            "  1.04895095e+00 9.23044502e-01 7.92598995e-01 7.64501957e-01\n",
            "  9.43121921e-01 8.27860907e-01 9.29093470e-01 2.79555390e-01\n",
            "  9.55684262e-01 7.15635845e-01 1.08258820e+00 2.22712040e-01\n",
            "  8.27140784e-01 1.02989078e+00 3.91476665e-01 5.97180468e-01\n",
            "  9.18750504e-01 8.23793420e-01 7.91732405e-01 3.80232431e-01\n",
            "  9.94383734e-01 9.46337764e-01 7.97137482e-01 9.08865370e-01\n",
            "  1.07804152e+00 2.80254783e-01 8.19727766e-01 8.82995858e-01\n",
            "  5.96223780e-01 8.70987676e-01 1.10078523e+00 2.60116551e-01\n",
            "  7.35778543e-01 7.17418711e-01 6.17598574e-01 6.67520712e-01\n",
            "  9.21349273e-01 1.12488758e-01 8.77315411e-01 6.38346145e-01\n",
            "  5.34608776e-01 7.27183423e-01 9.72627038e-01 9.52329718e-01\n",
            "  8.52303688e-01 6.77853662e-01 1.24396909e+00 4.32017585e-01]\n",
            " [5.02518160e-01 6.26219620e-01 3.99752331e-01 3.71847339e-01\n",
            "  8.07221068e-01 2.98703150e-01 6.58397443e-01 4.92258942e-01\n",
            "  2.11500871e-01 3.40188450e-01 2.34793142e-01 4.10665506e-01\n",
            "  4.65760325e-01 4.33200968e-01 6.08163317e-01 7.07681573e-01\n",
            "  5.22308686e-01 7.44086095e-01 5.08137188e-01 6.55454651e-01\n",
            "  3.53022998e-01 6.75872226e-01 6.86217240e-01 3.90042003e-01\n",
            "  7.82734389e-01 9.46814987e-01 4.34077305e-01 7.38931637e-01\n",
            "  3.85398612e-01 3.68297711e-01 2.79193843e-01 3.19331393e-02\n",
            "  9.30752877e-01 6.73146913e-01 9.50967614e-01 6.82057542e-01\n",
            "  1.05858964e+00 2.71361412e-01 8.90521256e-01 7.62730778e-01\n",
            "  8.08207559e-01 9.49042761e-01 5.82854890e-01 8.87476148e-01\n",
            "  7.95420213e-02 0.00000000e+00 8.60076648e-01 2.88725596e-01\n",
            "  7.87415777e-01 6.13156884e-01 7.00873258e-01 7.39674523e-01\n",
            "  9.77362049e-01 8.44194232e-01 7.43687906e-01 7.15228925e-01\n",
            "  9.01983942e-01 7.58155743e-01 8.65747425e-01 2.42136383e-01\n",
            "  8.89823980e-01 6.36349177e-01 1.00733369e+00 1.47960522e-01\n",
            "  7.69231231e-01 9.50746544e-01 3.14244896e-01 5.23221893e-01\n",
            "  8.49451959e-01 7.49615665e-01 7.21316364e-01 3.13514044e-01\n",
            "  9.20404419e-01 8.67770661e-01 7.49393879e-01 8.31205193e-01\n",
            "  9.99819829e-01 2.62330667e-01 7.75434197e-01 8.15856762e-01\n",
            "  5.43485279e-01 8.10848806e-01 1.02336036e+00 1.99060552e-01\n",
            "  6.56324398e-01 6.54145756e-01 5.46989186e-01 6.29343637e-01\n",
            "  8.44743399e-01 6.11627480e-02 8.00711889e-01 5.59666374e-01\n",
            "  4.67691956e-01 6.47699635e-01 8.93700229e-01 8.76269845e-01\n",
            "  7.83108388e-01 6.18776379e-01 1.16511136e+00 3.69085780e-01]\n",
            " [4.28210985e-01 3.49360565e-01 4.61933029e-01 5.14433901e-01\n",
            "  8.65975539e-02 9.54665459e-01 2.77357843e-01 3.69070440e-01\n",
            "  7.12459126e-01 7.48746043e-01 6.28994532e-01 4.84278290e-01\n",
            "  9.39145460e-01 9.81649722e-01 5.72758560e-01 3.52757758e-01\n",
            "  1.01566714e+00 8.36969977e-01 3.92839191e-01 1.13225928e+00\n",
            "  5.58162429e-01 2.89714853e-01 5.06967603e-01 5.66318091e-01\n",
            "  3.85149384e-01 4.69233232e-01 5.14887637e-01 1.06310741e+00\n",
            "  4.94891848e-01 9.34647087e-01 9.51292585e-01 8.44246257e-01\n",
            "  5.95102984e-01 6.16416796e-01 5.87181407e-01 2.52718869e-01\n",
            "  7.57847799e-01 8.43042253e-01 1.80602639e-01 2.30494738e-01\n",
            "  9.46534013e-01 2.09395248e-01 8.99118041e-01 1.58285357e-01\n",
            "  9.14751029e-01 8.60076648e-01 0.00000000e+00 6.46554207e-01\n",
            "  6.79571400e-01 4.99204283e-01 2.11954561e-01 5.32209360e-01\n",
            "  3.63581609e-01 8.05244177e-01 1.43043309e-01 1.64578835e-01\n",
            "  1.96626918e-01 2.75786703e-01 1.45954827e-01 6.40953085e-01\n",
            "  1.99624641e-01 7.00835240e-01 4.86652393e-01 7.27098244e-01\n",
            "  1.19074888e+00 6.61816667e-01 6.20555503e-01 4.47194879e-01\n",
            "  2.64434271e-01 9.35748420e-01 9.97042165e-01 5.56745541e-01\n",
            "  4.05203227e-01 8.35777558e-01 1.48179226e-01 5.15019543e-01\n",
            "  6.14004858e-01 6.68942376e-01 1.66786430e-01 2.17100947e-01\n",
            "  3.18693946e-01 9.76037435e-02 5.83225968e-01 6.61136833e-01\n",
            "  6.81904917e-01 2.37907683e-01 3.87752618e-01 3.08294741e-01\n",
            "  4.72238159e-01 8.05607537e-01 8.91847824e-01 7.31866248e-01\n",
            "  9.33172248e-01 6.74552965e-01 8.22717554e-01 4.60074491e-01\n",
            "  1.05159623e+00 1.08482199e+00 7.60128240e-01 9.34783046e-01]\n",
            " [2.34981785e-01 3.55244723e-01 2.15716297e-01 2.98238305e-01\n",
            "  6.15039533e-01 3.10870203e-01 4.01846021e-01 2.93975175e-01\n",
            "  8.02845804e-02 1.42057284e-01 1.31567566e-01 1.62291881e-01\n",
            "  3.53414344e-01 3.69285358e-01 3.22748035e-01 4.29181835e-01\n",
            "  4.32319037e-01 5.04339779e-01 2.57217615e-01 5.70888465e-01\n",
            "  3.24730018e-01 5.48694658e-01 3.97535121e-01 1.03614112e-01\n",
            "  4.99328180e-01 6.60174108e-01 3.96167308e-01 5.84590566e-01\n",
            "  2.94675364e-01 3.08948964e-01 3.05731928e-01 2.93079916e-01\n",
            "  6.42683021e-01 3.92110248e-01 6.62509395e-01 5.37735289e-01\n",
            "  7.75537364e-01 2.01105753e-01 7.25174991e-01 6.18909107e-01\n",
            "  5.90155027e-01 7.82998173e-01 4.01713655e-01 6.37935665e-01\n",
            "  3.66636572e-01 2.88725596e-01 6.46554207e-01 0.00000000e+00\n",
            "  5.10452728e-01 3.24460525e-01 5.40274560e-01 4.51426434e-01\n",
            "  7.00231499e-01 5.83958570e-01 5.60251974e-01 5.32466797e-01\n",
            "  7.39991148e-01 4.89598642e-01 6.18267564e-01 2.55996997e-01\n",
            "  6.32523670e-01 3.72565349e-01 7.21204245e-01 1.46833211e-01\n",
            "  6.65030681e-01 6.65238641e-01 2.83853618e-02 2.44138688e-01\n",
            "  5.80777767e-01 5.40588961e-01 5.43537533e-01 1.25720319e-01\n",
            "  6.37218277e-01 6.11092483e-01 5.70391748e-01 5.42479771e-01\n",
            "  7.11409526e-01 3.25421364e-01 6.08716036e-01 5.55433229e-01\n",
            "  3.64483843e-01 5.77578689e-01 7.34659202e-01 1.65078511e-01\n",
            "  3.86983800e-01 4.15298174e-01 2.81379815e-01 5.02356261e-01\n",
            "  5.56704847e-01 2.65017229e-01 5.67479331e-01 3.11832671e-01\n",
            "  3.50366528e-01 3.77310817e-01 6.31554990e-01 5.88955605e-01\n",
            "  6.09700929e-01 5.24028476e-01 8.78053578e-01 3.09318496e-01]\n",
            " [4.15565738e-01 3.77190315e-01 5.76568890e-01 7.14415594e-01\n",
            "  7.14153708e-01 6.41606261e-01 4.39656091e-01 5.67345149e-01\n",
            "  5.78742465e-01 4.58631013e-01 6.25252216e-01 4.84139460e-01\n",
            "  4.94854095e-01 5.65269635e-01 1.97217753e-01 3.32162808e-01\n",
            "  5.37314684e-01 1.90634950e-01 4.57628977e-01 5.90835710e-01\n",
            "  7.62483278e-01 7.95449803e-01 1.87895162e-01 4.29189378e-01\n",
            "  2.98156407e-01 3.24850016e-01 8.00857238e-01 4.54925797e-01\n",
            "  6.98396398e-01 5.65982020e-01 6.53641358e-01 7.97772416e-01\n",
            "  2.05975122e-01 1.20723362e-01 2.33618625e-01 7.61388654e-01\n",
            "  2.76546702e-01 5.65020307e-01 8.45592486e-01 8.13637875e-01\n",
            "  2.85734697e-01 8.86095105e-01 3.65546099e-01 5.56666930e-01\n",
            "  8.66957798e-01 7.87415777e-01 6.79571400e-01 5.10452728e-01\n",
            "  0.00000000e+00 2.40611282e-01 7.34659271e-01 1.48184692e-01\n",
            "  4.49336044e-01 1.25948807e-01 7.01364862e-01 6.87367247e-01\n",
            "  8.63064081e-01 4.03819095e-01 5.53795434e-01 7.40306048e-01\n",
            "  5.20816325e-01 1.62592744e-01 3.74786374e-01 6.55940083e-01\n",
            "  5.99324470e-01 1.86536206e-01 4.91787481e-01 3.68965168e-01\n",
            "  4.37314699e-01 2.98642855e-01 3.84998901e-01 5.68120020e-01\n",
            "  3.57113783e-01 1.57238185e-01 7.16482050e-01 1.89280032e-01\n",
            "  2.70786872e-01 8.09453509e-01 7.64559839e-01 4.68177958e-01\n",
            "  6.18904033e-01 5.82157328e-01 3.19172072e-01 6.66900657e-01\n",
            "  1.35879065e-01 5.01490341e-01 4.09678952e-01 7.67230443e-01\n",
            "  2.38634693e-01 7.73414077e-01 2.26471031e-01 2.50537781e-01\n",
            "  4.87254355e-01 1.42679368e-01 1.52118117e-01 2.71454292e-01\n",
            "  4.19105373e-01 5.54263581e-01 3.99401972e-01 5.65499652e-01]\n",
            " [1.75634459e-01 1.55784376e-01 3.39924821e-01 4.78281252e-01\n",
            "  5.13332514e-01 5.54359749e-01 2.27666875e-01 3.26841000e-01\n",
            "  4.03240874e-01 3.36967796e-01 4.15234479e-01 2.52554433e-01\n",
            "  4.74256537e-01 5.31332769e-01 7.36710574e-02 1.59868070e-01\n",
            "  5.42958381e-01 3.48289739e-01 2.17030101e-01 6.44642084e-01\n",
            "  5.28174358e-01 5.64129396e-01 7.46415965e-02 2.24690428e-01\n",
            "  1.96249227e-01 3.40620427e-01 5.61804043e-01 5.64002951e-01\n",
            "  4.61235732e-01 5.03022782e-01 5.59521862e-01 6.16272158e-01\n",
            "  3.21525473e-01 1.33469657e-01 3.39653194e-01 5.32716502e-01\n",
            "  4.68365401e-01 4.52093029e-01 6.45280765e-01 5.92695469e-01\n",
            "  4.58609274e-01 6.92838699e-01 4.05687172e-01 4.16453864e-01\n",
            "  6.90689470e-01 6.13156884e-01 4.99204283e-01 3.24460525e-01\n",
            "  2.40611282e-01 0.00000000e+00 5.10403790e-01 1.31878762e-01\n",
            "  4.04925332e-01 3.55266535e-01 4.87692758e-01 4.69348084e-01\n",
            "  6.62705916e-01 2.43555749e-01 4.04712475e-01 5.19283293e-01\n",
            "  3.93220479e-01 2.03025763e-01 4.02407668e-01 4.68770383e-01\n",
            "  6.93976276e-01 3.52988457e-01 2.99219854e-01 1.29486483e-01\n",
            "  3.18183957e-01 4.40081216e-01 4.97877531e-01 3.47087494e-01\n",
            "  3.27862754e-01 3.87420727e-01 5.02430801e-01 2.18195887e-01\n",
            "  3.88621353e-01 5.85942030e-01 5.50619971e-01 3.20202916e-01\n",
            "  3.80643475e-01 4.04424850e-01 4.10203819e-01 4.59223257e-01\n",
            "  1.87780280e-01 2.84153888e-01 1.70212232e-01 5.32534744e-01\n",
            "  2.33904051e-01 5.85830532e-01 4.09194475e-01 2.37026269e-01\n",
            "  4.67220603e-01 1.79151626e-01 3.90567630e-01 2.68163449e-01\n",
            "  5.53373854e-01 5.98762042e-01 5.58857698e-01 5.02862742e-01]\n",
            " [3.73991265e-01 3.58711361e-01 3.27973486e-01 3.33537644e-01\n",
            "  1.29429921e-01 8.48945243e-01 2.95687887e-01 2.47482238e-01\n",
            "  5.90359125e-01 6.66725087e-01 4.85025510e-01 3.88164951e-01\n",
            "  8.74625429e-01 9.03771498e-01 5.79884606e-01 4.10337538e-01\n",
            "  9.54293756e-01 8.57621792e-01 3.26482820e-01 1.08408650e+00\n",
            "  3.68676764e-01 8.22334634e-02 5.47172288e-01 4.86806228e-01\n",
            "  4.76210610e-01 6.08450438e-01 3.12866203e-01 1.04740488e+00\n",
            "  3.17184577e-01 8.47394830e-01 8.41554293e-01 6.80356154e-01\n",
            "  7.07046199e-01 6.42883109e-01 7.06636555e-01 4.19729177e-02\n",
            "  8.77183209e-01 7.41062315e-01 1.90538925e-01 8.42295335e-02\n",
            "  9.67418121e-01 2.49351104e-01 8.68819009e-01 3.37920960e-01\n",
            "  7.45176010e-01 7.00873258e-01 2.11954561e-01 5.40274560e-01\n",
            "  7.34659271e-01 5.10403790e-01 0.00000000e+00 5.90069908e-01\n",
            "  5.33199177e-01 8.58045661e-01 6.98389479e-02 5.89671508e-02\n",
            "  2.03376811e-01 3.64627320e-01 3.17217099e-01 4.65674641e-01\n",
            "  3.70659854e-01 7.07612731e-01 6.41589287e-01 5.84261961e-01\n",
            "  1.15989415e+00 7.68271883e-01 5.19186972e-01 4.11265404e-01\n",
            "  4.03299403e-01 9.43199019e-01 9.87721415e-01 4.26857758e-01\n",
            "  5.47231783e-01 8.90168450e-01 6.40368699e-02 6.07485194e-01\n",
            "  7.43123311e-01 4.80624678e-01 7.46271198e-02 3.45939126e-01\n",
            "  1.75803503e-01 2.38348286e-01 7.24754073e-01 5.07941475e-01\n",
            "  6.96656415e-01 2.33472969e-01 3.51194098e-01 9.68500123e-02\n",
            "  5.75851781e-01 6.42229208e-01 9.19432843e-01 7.13076479e-01\n",
            "  8.69860422e-01 6.87361338e-01 8.86260984e-01 5.76875427e-01\n",
            "  1.04883092e+00 1.03588427e+00 9.06532828e-01 8.47699909e-01]\n",
            " [2.99676244e-01 2.36713853e-01 4.66475318e-01 6.04341479e-01\n",
            "  5.66009379e-01 6.51275083e-01 2.94385346e-01 4.41318648e-01\n",
            "  5.28459551e-01 4.42304311e-01 5.46907911e-01 3.82876883e-01\n",
            "  5.40105429e-01 6.04906250e-01 1.38581079e-01 1.84148055e-01\n",
            "  5.98330976e-01 3.14561739e-01 3.34861155e-01 6.78323787e-01\n",
            "  6.55431009e-01 6.53824636e-01 5.80355752e-02 3.54548592e-01\n",
            "  1.56438974e-01 2.40108892e-01 6.83574725e-01 5.66337880e-01\n",
            "  5.86358435e-01 5.88755346e-01 6.59258383e-01 7.44396531e-01\n",
            "  1.91299200e-01 1.13592771e-01 2.11427949e-01 6.18486079e-01\n",
            "  3.37427356e-01 5.57142408e-01 6.97407823e-01 6.67751106e-01\n",
            "  4.20494520e-01 7.38121423e-01 4.38984181e-01 4.14990830e-01\n",
            "  8.18002841e-01 7.39674523e-01 5.32209360e-01 4.51426434e-01\n",
            "  1.48184692e-01 1.31878762e-01 5.90069908e-01 0.00000000e+00\n",
            "  3.38479281e-01 2.74118261e-01 5.54353729e-01 5.41240169e-01\n",
            "  7.14879470e-01 2.56476786e-01 4.10200979e-01 6.50798749e-01\n",
            "  3.81593247e-01 2.11049351e-01 3.00475630e-01 5.97318353e-01\n",
            "  7.06739704e-01 2.21444012e-01 4.27452921e-01 2.55922440e-01\n",
            "  2.98218761e-01 4.20329381e-01 4.96334358e-01 4.78863497e-01\n",
            "  2.48872284e-01 3.05378944e-01 5.69483018e-01 9.78255608e-02\n",
            "  2.60188338e-01 7.16996900e-01 6.17409375e-01 3.23513651e-01\n",
            "  4.85416609e-01 4.34665951e-01 2.87830330e-01 5.90801266e-01\n",
            "  1.82664426e-01 3.56606732e-01 2.82809188e-01 6.28243095e-01\n",
            "  1.31898898e-01 7.15021727e-01 3.63377269e-01 2.83222631e-01\n",
            "  5.32577994e-01 1.80339764e-01 2.97195491e-01 1.70081440e-01\n",
            "  5.41033653e-01 6.36275532e-01 4.27800161e-01 5.88452296e-01]\n",
            " [4.74997770e-01 3.51566698e-01 6.09370789e-01 7.22236099e-01\n",
            "  4.39235650e-01 9.58671478e-01 3.34070852e-01 5.36213671e-01\n",
            "  7.80145858e-01 7.40099889e-01 7.50360908e-01 5.68570582e-01\n",
            "  8.71257585e-01 9.32389890e-01 4.56285249e-01 2.71079065e-01\n",
            "  9.33714434e-01 6.38267288e-01 4.75905767e-01 1.01678383e+00\n",
            "  7.75376613e-01 6.14898380e-01 3.56869072e-01 5.97127670e-01\n",
            "  2.08776629e-01 1.37197273e-01 7.66246826e-01 8.99116369e-01\n",
            "  7.00878186e-01 9.07492921e-01 9.63077081e-01 9.72871551e-01\n",
            "  2.84618137e-01 4.51903097e-01 2.65961777e-01 5.73971131e-01\n",
            "  4.21068316e-01 8.54205112e-01 5.41768290e-01 5.81221028e-01\n",
            "  7.34489304e-01 5.58706356e-01 7.77329997e-01 2.05641686e-01\n",
            "  1.04895095e+00 9.77362049e-01 3.63581609e-01 7.00231499e-01\n",
            "  4.49336044e-01 4.04925332e-01 5.33199177e-01 3.38479281e-01\n",
            "  0.00000000e+00 5.58575532e-01 4.69008109e-01 4.74278655e-01\n",
            "  5.56605315e-01 2.24991954e-01 2.21509686e-01 8.17585323e-01\n",
            "  1.66069947e-01 5.49514687e-01 1.28514809e-01 8.29520832e-01\n",
            "  1.04166580e+00 3.50220096e-01 6.72122896e-01 4.56472066e-01\n",
            "  1.41817527e-01 7.46486596e-01 8.28771750e-01 6.70712076e-01\n",
            "  9.23372558e-02 5.82916159e-01 4.81215569e-01 2.60894027e-01\n",
            "  2.75704247e-01 8.69513216e-01 5.17042511e-01 1.95362088e-01\n",
            "  5.34256662e-01 2.96625267e-01 2.32556365e-01 7.93065688e-01\n",
            "  5.21052688e-01 3.67286400e-01 4.31494150e-01 6.13816527e-01\n",
            "  2.12838993e-01 9.37331519e-01 6.74980103e-01 6.17934455e-01\n",
            "  8.63902952e-01 5.18801355e-01 5.57165334e-01 1.77961125e-01\n",
            "  8.67553565e-01 9.74697236e-01 4.00226443e-01 9.07310108e-01]\n",
            " [5.25824026e-01 4.99571712e-01 6.80214895e-01 8.16042812e-01\n",
            "  8.40008379e-01 6.57376453e-01 5.63964033e-01 6.80458763e-01\n",
            "  6.43446935e-01 5.04985992e-01 7.07720195e-01 5.84685485e-01\n",
            "  4.86834134e-01 5.58264309e-01 2.99018138e-01 4.57964267e-01\n",
            "  5.11481935e-01 1.30222094e-01 5.70490810e-01 5.35299046e-01\n",
            "  8.61562742e-01 9.16814067e-01 3.10987846e-01 5.16395466e-01\n",
            "  4.22491567e-01 4.26525540e-01 9.06327718e-01 3.78178362e-01\n",
            "  8.01479494e-01 5.74018238e-01 6.72331489e-01 8.58542413e-01\n",
            "  2.87888984e-01 2.23681572e-01 3.14003052e-01 8.83645356e-01\n",
            "  2.84051065e-01 5.98600842e-01 9.71515413e-01 9.37808610e-01\n",
            "  1.85820963e-01 1.01200206e+00 3.40749619e-01 6.79800316e-01\n",
            "  9.23044502e-01 8.44194232e-01 8.05244177e-01 5.83958570e-01\n",
            "  1.25948807e-01 3.55266535e-01 8.58045661e-01 2.74118261e-01\n",
            "  5.58575532e-01 0.00000000e+00 8.26369511e-01 8.11797691e-01\n",
            "  9.88990453e-01 5.29572693e-01 6.77838993e-01 8.27915916e-01\n",
            "  6.42918768e-01 2.11447742e-01 4.68130518e-01 7.23992060e-01\n",
            "  5.21648819e-01 2.41248321e-01 5.69608198e-01 4.79205443e-01\n",
            "  5.59791799e-01 2.19763556e-01 3.12790792e-01 6.59157158e-01\n",
            "  4.67824715e-01 3.22354592e-02 8.41470922e-01 3.05249374e-01\n",
            "  3.37617079e-01 8.98053634e-01 8.89632766e-01 5.92861021e-01\n",
            "  7.35910009e-01 7.07904448e-01 3.92546235e-01 7.46829233e-01\n",
            "  1.99019556e-01 6.25449855e-01 5.25436959e-01 8.86958558e-01\n",
            "  3.54547526e-01 8.38403188e-01 1.28874377e-01 2.84841027e-01\n",
            "  4.79689411e-01 2.09291782e-01 5.00131894e-02 3.83475136e-01\n",
            "  3.30539356e-01 5.06103212e-01 4.19775161e-01 5.73404894e-01]\n",
            " [3.70557204e-01 3.32312163e-01 3.56139142e-01 3.84135884e-01\n",
            "  6.57150333e-02 8.71045810e-01 2.63186760e-01 2.67427001e-01\n",
            "  6.17162381e-01 6.78690369e-01 5.19955869e-01 4.01541227e-01\n",
            "  8.81707322e-01 9.15820832e-01 5.59680886e-01 3.71030285e-01\n",
            "  9.60678071e-01 8.35886730e-01 3.26042512e-01 1.08641724e+00\n",
            "  4.23926871e-01 1.50838712e-01 5.16062171e-01 4.95604705e-01\n",
            "  4.29356368e-01 5.51364842e-01 3.74760097e-01 1.03854663e+00\n",
            "  3.66003903e-01 8.62576947e-01 8.65147568e-01 7.25098966e-01\n",
            "  6.57539036e-01 6.17372625e-01 6.55172213e-01 1.11592700e-01\n",
            "  8.26716174e-01 7.61127117e-01 1.67758315e-01 1.17909197e-01\n",
            "  9.46265679e-01 2.23873604e-01 8.63923443e-01 2.70317211e-01\n",
            "  7.92598995e-01 7.43687906e-01 1.43043309e-01 5.60251974e-01\n",
            "  7.01364862e-01 4.87692758e-01 6.98389479e-02 5.54353729e-01\n",
            "  4.69008109e-01 8.26369511e-01 0.00000000e+00 2.86359083e-02\n",
            "  1.83972762e-01 3.15388220e-01 2.50339523e-01 5.14502087e-01\n",
            "  3.04681936e-01 6.89087381e-01 5.81133158e-01 6.19539716e-01\n",
            "  1.15657701e+00 7.20653453e-01 5.36962638e-01 4.02220595e-01\n",
            "  3.43687942e-01 9.26217702e-01 9.76461165e-01 4.55043052e-01\n",
            "  4.88952943e-01 8.58212934e-01 1.51304286e-02 5.62237755e-01\n",
            "  6.89430412e-01 5.35790076e-01 6.33332792e-02 2.86938861e-01\n",
            "  2.02766150e-01 1.72513303e-01 6.67888250e-01 5.47078911e-01\n",
            "  6.75453964e-01 2.03661570e-01 3.40397824e-01 1.65343992e-01\n",
            "  5.27264943e-01 6.86593757e-01 8.95898081e-01 7.03056863e-01\n",
            "  8.76483635e-01 6.66683569e-01 8.51547551e-01 5.24929159e-01\n",
            "  1.03570522e+00 1.03828167e+00 8.49229984e-01 8.62821272e-01]\n",
            " [3.46366794e-01 3.14854746e-01 3.27607060e-01 3.56760902e-01\n",
            "  9.29283093e-02 8.43177428e-01 2.47833815e-01 2.39258217e-01\n",
            "  5.88827625e-01 6.52025189e-01 4.91320424e-01 3.74368487e-01\n",
            "  8.55980055e-01 8.89262959e-01 5.40610463e-01 3.59224581e-01\n",
            "  9.35114352e-01 8.17614545e-01 3.01042108e-01 1.06170532e+00\n",
            "  3.97433696e-01 1.40761168e-01 5.00933698e-01 4.69267541e-01\n",
            "  4.21624395e-01 5.50361291e-01 3.50599553e-01 1.01648385e+00\n",
            "  3.38380945e-01 8.35534524e-01 8.37135432e-01 6.96773367e-01\n",
            "  6.51574513e-01 6.00230195e-01 6.50395745e-01 9.99357825e-02\n",
            "  8.21408572e-01 7.33436692e-01 1.93966800e-01 1.26573601e-01\n",
            "  9.27863655e-01 2.50904923e-01 8.40754413e-01 2.80229749e-01\n",
            "  7.64501957e-01 7.15228925e-01 1.64578835e-01 5.32466797e-01\n",
            "  6.87367247e-01 4.69348084e-01 5.89671508e-02 5.41240169e-01\n",
            "  4.74278655e-01 8.11797691e-01 2.86359083e-02 0.00000000e+00\n",
            "  2.09724054e-01 3.08828760e-01 2.59140973e-01 4.86702098e-01\n",
            "  3.12148691e-01 6.69630615e-01 5.82832980e-01 5.90905190e-01\n",
            "  1.13315562e+00 7.13635412e-01 5.09402922e-01 3.79505046e-01\n",
            "  3.44583179e-01 9.06451573e-01 9.55027655e-01 4.26564978e-01\n",
            "  4.88836181e-01 8.43775403e-01 3.81308914e-02 5.53789709e-01\n",
            "  6.86103438e-01 5.09123838e-01 8.28983904e-02 2.87273887e-01\n",
            "  1.74142232e-01 1.80025096e-01 6.66766834e-01 5.18497791e-01\n",
            "  6.56864447e-01 1.86706524e-01 3.17944247e-01 1.47597950e-01\n",
            "  5.20654894e-01 6.58249150e-01 8.78287176e-01 6.81093096e-01\n",
            "  8.50838411e-01 6.47908486e-01 8.38263821e-01 5.20367248e-01\n",
            "  1.01483225e+00 1.01353855e+00 8.48477803e-01 8.35787412e-01]\n",
            " [5.54323102e-01 5.07087499e-01 5.30258550e-01 5.31642953e-01\n",
            "  1.49884450e-01 1.05000250e+00 4.35125424e-01 4.46015975e-01\n",
            "  7.92794194e-01 8.61617318e-01 6.88393624e-01 5.83560808e-01\n",
            "  1.06556902e+00 1.09889696e+00 7.35818546e-01 5.31262871e-01\n",
            "  1.14460281e+00 1.00905243e+00 5.10015062e-01 1.27028034e+00\n",
            "  5.61338905e-01 2.33726452e-01 6.82907992e-01 6.78988407e-01\n",
            "  5.74942837e-01 6.65815066e-01 4.95088204e-01 1.21950014e+00\n",
            "  5.16799195e-01 1.04470742e+00 1.04319526e+00 8.80445248e-01\n",
            "  7.90666596e-01 7.88656240e-01 7.83392591e-01 2.20292779e-01\n",
            "  9.54318455e-01 9.41094825e-01 1.75200624e-02 1.43175438e-01\n",
            "  1.11944988e+00 4.76888094e-02 1.04656094e+00 3.53361387e-01\n",
            "  9.43121921e-01 9.01983942e-01 1.96626918e-01 7.39991148e-01\n",
            "  8.63064081e-01 6.62705916e-01 2.03376811e-01 7.14879470e-01\n",
            "  5.56605315e-01 9.88990453e-01 1.83972762e-01 2.09724054e-01\n",
            "  0.00000000e+00 4.61911811e-01 3.42439297e-01 6.63886751e-01\n",
            "  3.95284594e-01 8.65528710e-01 6.81709076e-01 7.87582879e-01\n",
            "  1.33940328e+00 8.56986625e-01 7.17686387e-01 5.84829794e-01\n",
            "  4.60597565e-01 1.10275238e+00 1.15636413e+00 6.29405116e-01\n",
            "  6.01796169e-01 1.02022132e+00 1.71686907e-01 7.06913744e-01\n",
            "  8.10628241e-01 6.71713774e-01 1.31410269e-01 4.11085331e-01\n",
            "  3.76630768e-01 2.86943868e-01 7.79475121e-01 7.10762616e-01\n",
            "  8.49982030e-01 3.80171979e-01 5.22893146e-01 2.76395276e-01\n",
            "  6.65879551e-01 8.42656884e-01 1.06713910e+00 8.84180962e-01\n",
            "  1.06037923e+00 8.41679495e-01 1.00980710e+00 6.55540495e-01\n",
            "  1.21445962e+00 1.22215929e+00 9.55337604e-01 1.04497272e+00]\n",
            " [2.56926778e-01 1.34354204e-01 3.84380443e-01 4.99735087e-01\n",
            "  3.15479412e-01 7.70032790e-01 1.09816080e-01 3.13276644e-01\n",
            "  5.67958362e-01 5.51457195e-01 5.28058092e-01 3.47577047e-01\n",
            "  7.13375290e-01 7.66308904e-01 3.13618069e-01 8.41585305e-02\n",
            "  7.84507077e-01 5.64672805e-01 2.52247737e-01 8.88188048e-01\n",
            "  5.53237997e-01 4.39766962e-01 2.35101068e-01 3.89336905e-01\n",
            "  1.14505433e-01 2.52304971e-01 5.50471169e-01 8.01357433e-01\n",
            "  4.78512346e-01 7.30718427e-01 7.71603604e-01 7.51953101e-01\n",
            "  3.42747136e-01 3.45967789e-01 3.42043961e-01 4.00217052e-01\n",
            "  5.12650356e-01 6.60863180e-01 4.44588215e-01 4.33008288e-01\n",
            "  6.73309181e-01 4.82762500e-01 6.48864566e-01 1.72898285e-01\n",
            "  8.27860907e-01 7.58155743e-01 2.75786703e-01 4.89598642e-01\n",
            "  4.03819095e-01 2.43555749e-01 3.64627320e-01 2.56476786e-01\n",
            "  2.24991954e-01 5.29572693e-01 3.15388220e-01 3.08828760e-01\n",
            "  4.61911811e-01 0.00000000e+00 1.61909197e-01 5.92596102e-01\n",
            "  1.52032548e-01 4.36058966e-01 2.96874674e-01 6.11039311e-01\n",
            "  9.34980164e-01 4.05286180e-01 4.61213325e-01 2.47430841e-01\n",
            "  9.15406590e-02 6.66291738e-01 7.33310077e-01 4.48111366e-01\n",
            "  1.97802344e-01 5.60258086e-01 3.30198933e-01 2.47687433e-01\n",
            "  3.79564458e-01 6.45075458e-01 3.75999475e-01 7.67054017e-02\n",
            "  3.20151552e-01 1.78339443e-01 3.65993750e-01 5.70116364e-01\n",
            "  4.14174571e-01 1.53101573e-01 2.11429863e-01 4.26539147e-01\n",
            "  2.11978598e-01 7.15716766e-01 6.17647694e-01 4.80331735e-01\n",
            "  7.06596069e-01 4.07853067e-01 5.48290109e-01 2.12615710e-01\n",
            "  7.84497502e-01 8.42302508e-01 5.47166305e-01 7.30672776e-01]\n",
            " [3.84421261e-01 2.75930374e-01 4.69953769e-01 5.56742157e-01\n",
            "  2.17760406e-01 9.13540863e-01 2.16933437e-01 3.81946107e-01\n",
            "  6.92480654e-01 6.97864139e-01 6.31002210e-01 4.62193424e-01\n",
            "  8.70135917e-01 9.20308578e-01 4.75433142e-01 2.46026149e-01\n",
            "  9.42839344e-01 7.22927508e-01 3.63179593e-01 1.04916409e+00\n",
            "  6.06825584e-01 3.99450293e-01 3.95339552e-01 5.24660630e-01\n",
            "  2.55640128e-01 3.23392400e-01 5.81605606e-01 9.62985133e-01\n",
            "  5.35571381e-01 8.80891574e-01 9.13239858e-01 8.54849494e-01\n",
            "  4.52203726e-01 5.06256001e-01 4.42950417e-01 3.58880332e-01\n",
            "  6.12851430e-01 8.02566749e-01 3.26540125e-01 3.60112926e-01\n",
            "  8.30350167e-01 3.51857551e-01 8.10355603e-01 2.32567065e-02\n",
            "  9.29093470e-01 8.65747425e-01 1.45954827e-01 6.18267564e-01\n",
            "  5.53795434e-01 4.04712475e-01 3.17217099e-01 4.10200979e-01\n",
            "  2.21509686e-01 6.77838993e-01 2.50339523e-01 2.59140973e-01\n",
            "  3.42439297e-01 1.61909197e-01 0.00000000e+00 6.70445481e-01\n",
            "  5.54397399e-02 5.97646103e-01 3.41568277e-01 7.23112756e-01\n",
            "  1.09688936e+00 5.19471580e-01 5.90347596e-01 3.88372364e-01\n",
            "  1.22035658e-01 8.26083409e-01 8.94706813e-01 5.52538797e-01\n",
            "  2.59393418e-01 7.07277972e-01 2.61665077e-01 3.79047261e-01\n",
            "  4.68456791e-01 7.11311445e-01 2.95742485e-01 8.72581143e-02\n",
            "  3.56494069e-01 7.92636644e-02 4.37288531e-01 6.69164044e-01\n",
            "  5.75201630e-01 2.11741471e-01 3.38532348e-01 4.04279352e-01\n",
            "  3.33622028e-01 8.16930865e-01 7.73557970e-01 6.41722174e-01\n",
            "  8.63545822e-01 5.69151322e-01 6.91032370e-01 3.17871110e-01\n",
            "  9.45031604e-01 1.00299603e+00 6.14700804e-01 8.80906944e-01]\n",
            " [3.61538658e-01 4.74278189e-01 2.08216239e-01 1.32343222e-01\n",
            "  5.79621359e-01 4.70919764e-01 4.84015756e-01 2.88898016e-01\n",
            "  2.34918074e-01 3.86356115e-01 1.24455981e-01 2.69500412e-01\n",
            "  5.81630534e-01 5.76687470e-01 5.43607469e-01 5.63219875e-01\n",
            "  6.55048803e-01 7.57636364e-01 3.45613970e-01 7.95922086e-01\n",
            "  1.11904052e-01 4.34965692e-01 5.92871168e-01 3.12202162e-01\n",
            "  6.46578173e-01 8.16809853e-01 1.94802809e-01 8.33092628e-01\n",
            "  1.48772470e-01 5.09072275e-01 4.56245542e-01 2.17807481e-01\n",
            "  8.36638360e-01 6.19589296e-01 8.51557827e-01 4.43601532e-01\n",
            "  9.87607816e-01 3.90325263e-01 6.53240269e-01 5.22993394e-01\n",
            "  8.45920793e-01 7.11306452e-01 6.53399343e-01 6.93334438e-01\n",
            "  2.79555390e-01 2.42136383e-01 6.40953085e-01 2.55996997e-01\n",
            "  7.40306048e-01 5.19283293e-01 4.65674641e-01 6.50798749e-01\n",
            "  8.17585323e-01 8.27915916e-01 5.14502087e-01 4.86702098e-01\n",
            "  6.63886751e-01 5.92596102e-01 6.70445481e-01 0.00000000e+00\n",
            "  7.03619502e-01 6.18851552e-01 8.72973647e-01 1.73429045e-01\n",
            "  8.99554970e-01 8.72196572e-01 2.62637299e-01 3.98765730e-01\n",
            "  6.79535623e-01 7.96560117e-01 7.96424322e-01 1.72901371e-01\n",
            "  7.77670681e-01 8.56732430e-01 5.18465711e-01 7.27817255e-01\n",
            "  8.99825967e-01 7.03253450e-02 5.40199224e-01 6.36324456e-01\n",
            "  3.22976888e-01 6.05895962e-01 9.11230138e-01 9.83918682e-02\n",
            "  6.28899592e-01 4.62473812e-01 3.96214867e-01 3.89028379e-01\n",
            "  7.27808794e-01 1.81239172e-01 8.21594863e-01 5.65774109e-01\n",
            "  5.80434069e-01 6.18659961e-01 8.73492136e-01 7.52618236e-01\n",
            "  8.62414555e-01 7.51916982e-01 1.07374629e+00 5.09695782e-01]\n",
            " [3.97554510e-01 2.80722495e-01 4.99304143e-01 5.94746779e-01\n",
            "  2.73186442e-01 9.20045146e-01 2.32387284e-01 4.14875115e-01\n",
            "  7.08959063e-01 7.02137461e-01 6.55906798e-01 4.81510388e-01\n",
            "  8.65104025e-01 9.18340171e-01 4.60822747e-01 2.33582421e-01\n",
            "  9.35648922e-01 6.96107320e-01 3.82570798e-01 1.03671582e+00\n",
            "  6.46012325e-01 4.52822496e-01 3.73949653e-01 5.35163341e-01\n",
            "  2.25154844e-01 2.71864012e-01 6.25571536e-01 9.42525137e-01\n",
            "  5.73392859e-01 8.82414887e-01 9.20972234e-01 8.80645951e-01\n",
            "  4.05429174e-01 4.83783888e-01 3.94451994e-01 4.12073916e-01\n",
            "  5.62803847e-01 8.10127348e-01 3.79732560e-01 4.15411495e-01\n",
            "  8.01697990e-01 4.02168609e-01 7.96450770e-01 4.22245003e-02\n",
            "  9.55684262e-01 8.89823980e-01 1.99624641e-01 6.32523670e-01\n",
            "  5.20816325e-01 3.93220479e-01 3.70659854e-01 3.81593247e-01\n",
            "  1.66069947e-01 6.42918768e-01 3.04681936e-01 3.12148691e-01\n",
            "  3.95284594e-01 1.52032548e-01 5.54397399e-02 7.03619502e-01\n",
            "  0.00000000e+00 5.78053831e-01 2.87044840e-01 7.44999525e-01\n",
            "  1.07906690e+00 4.73074026e-01 6.04262469e-01 3.94993342e-01\n",
            "  8.36125260e-02 8.01166298e-01 8.73406685e-01 5.76423314e-01\n",
            "  2.08255710e-01 6.71467910e-01 3.16357138e-01 3.39914575e-01\n",
            "  4.17542886e-01 7.47891161e-01 3.51104564e-01 7.77983995e-02\n",
            "  3.96871768e-01 1.32379518e-01 3.84303543e-01 6.95635245e-01\n",
            "  5.53881695e-01 2.41176580e-01 3.51152294e-01 4.55658475e-01\n",
            "  2.92530560e-01 8.43220450e-01 7.43933058e-01 6.28562882e-01\n",
            "  8.58280546e-01 5.48642161e-01 6.53062826e-01 2.72891897e-01\n",
            "  9.21257977e-01 9.91348357e-01 5.60506964e-01 8.82379339e-01]\n",
            " [3.45336779e-01 3.58441318e-01 4.84625204e-01 6.16421785e-01\n",
            "  7.16293216e-01 4.79113404e-01 4.30648164e-01 5.00177458e-01\n",
            "  4.32766383e-01 3.00683620e-01 4.97427267e-01 3.87447909e-01\n",
            "  3.39734272e-01 4.08457742e-01 1.29712528e-01 3.52560459e-01\n",
            "  3.91153681e-01 1.53060547e-01 3.93366201e-01 4.67391973e-01\n",
            "  6.59199906e-01 7.55309476e-01 2.04179299e-01 3.09561545e-01\n",
            "  3.57920656e-01 4.45332988e-01 7.10134752e-01 3.65339035e-01\n",
            "  6.03545794e-01 4.04665682e-01 4.91050998e-01 6.49339635e-01\n",
            "  3.54782349e-01 9.77441044e-02 3.81402481e-01 7.26694998e-01\n",
            "  4.38528860e-01 4.03681148e-01 8.48126215e-01 7.90979028e-01\n",
            "  2.60688851e-01 8.95863531e-01 2.28039761e-01 6.06571234e-01\n",
            "  7.15635845e-01 6.36349177e-01 7.00835240e-01 3.72565349e-01\n",
            "  1.62592744e-01 2.03025763e-01 7.07612731e-01 2.11049351e-01\n",
            "  5.49514687e-01 2.11447742e-01 6.89087381e-01 6.69630615e-01\n",
            "  8.65528710e-01 4.36058966e-01 5.97646103e-01 6.18851552e-01\n",
            "  5.78053831e-01 0.00000000e+00 5.02940711e-01 5.12914470e-01\n",
            "  5.01128903e-01 3.47026964e-01 3.58777321e-01 3.01383487e-01\n",
            "  4.97032371e-01 2.37284839e-01 2.97357364e-01 4.52750279e-01\n",
            "  4.59700994e-01 2.38696471e-01 7.03657127e-01 2.98985065e-01\n",
            "  4.23989330e-01 6.89144830e-01 7.51635081e-01 5.10844796e-01\n",
            "  5.63567661e-01 6.04988764e-01 4.66856179e-01 5.35892512e-01\n",
            "  3.02876354e-02 4.86149625e-01 3.57756179e-01 7.19819510e-01\n",
            "  3.40833156e-01 6.28044291e-01 2.17889587e-01 8.80306790e-02\n",
            "  3.32094689e-01 3.07140842e-02 2.59564185e-01 3.78732478e-01\n",
            "  3.50790652e-01 4.25236753e-01 5.61734590e-01 4.04211565e-01]\n",
            " [5.14988744e-01 3.98822432e-01 6.67199770e-01 7.91435342e-01\n",
            "  5.57991899e-01 9.49650624e-01 4.03693904e-01 6.05841091e-01\n",
            "  8.01273435e-01 7.36406659e-01 7.91054716e-01 6.10177973e-01\n",
            "  8.39150271e-01 9.04909042e-01 4.35678307e-01 3.09754325e-01\n",
            "  8.94056565e-01 5.64837112e-01 5.27503554e-01 9.62185776e-01\n",
            "  8.45177635e-01 7.21719436e-01 3.37914853e-01 6.18047550e-01\n",
            "  2.27338795e-01 6.18604725e-02 8.46806042e-01 8.29528125e-01\n",
            "  7.70554687e-01 8.89053409e-01 9.56692152e-01 1.00684196e+00\n",
            "  1.80868695e-01 4.09748120e-01 1.56537732e-01 6.80932427e-01\n",
            "  2.95739470e-01 8.51867248e-01 6.66426105e-01 6.96494835e-01\n",
            "  6.51316422e-01 6.85703824e-01 7.28564846e-01 3.28539385e-01\n",
            "  1.08258820e+00 1.00733369e+00 4.86652393e-01 7.21204245e-01\n",
            "  3.74786374e-01 4.02407668e-01 6.41589287e-01 3.00475630e-01\n",
            "  1.28514809e-01 4.68130518e-01 5.81133158e-01 5.82832980e-01\n",
            "  6.81709076e-01 2.96874674e-01 3.41568277e-01 8.72973647e-01\n",
            "  2.87044840e-01 5.02940711e-01 0.00000000e+00 8.60059873e-01\n",
            "  9.74053779e-01 2.39383067e-01 6.94276373e-01 4.86171138e-01\n",
            "  2.38301725e-01 6.72093931e-01 7.59730551e-01 7.13749459e-01\n",
            "  9.90838380e-02 4.88516977e-01 5.94302670e-01 2.04819945e-01\n",
            "  1.53428104e-01 9.30670738e-01 6.33323735e-01 2.95700739e-01\n",
            "  6.17020699e-01 4.11412868e-01 1.05155146e-01 8.35077520e-01\n",
            "  4.72851698e-01 4.49705313e-01 4.77005175e-01 7.15263136e-01\n",
            "  1.71002569e-01 9.73515289e-01 5.92108187e-01 5.81685699e-01\n",
            "  8.31572351e-01 4.73125901e-01 4.58238027e-01 1.34550743e-01\n",
            "  7.91190563e-01 9.23241991e-01 2.73628688e-01 8.88760955e-01]\n",
            " [3.54865996e-01 4.78596858e-01 2.65567576e-01 2.75967994e-01\n",
            "  6.80821273e-01 2.98245327e-01 5.12895858e-01 3.58174098e-01\n",
            "  8.16987527e-02 2.36997895e-01 9.96106328e-02 2.64094640e-01\n",
            "  4.14475017e-01 4.04579256e-01 4.69580231e-01 5.59722494e-01\n",
            "  4.85232384e-01 6.35292067e-01 3.62507293e-01 6.25708621e-01\n",
            "  2.77287590e-01 5.71736202e-01 5.42609228e-01 2.44330542e-01\n",
            "  6.34996463e-01 7.99768201e-01 3.60150707e-01 6.75276832e-01\n",
            "  2.83218748e-01 3.36673086e-01 2.84354436e-01 1.47574106e-01\n",
            "  7.88614220e-01 5.38405446e-01 8.07947029e-01 5.71257895e-01\n",
            "  9.22320786e-01 2.18658325e-01 7.74720974e-01 6.53601568e-01\n",
            "  7.11941843e-01 8.33539277e-01 5.02040254e-01 7.44417871e-01\n",
            "  2.22712040e-01 1.47960522e-01 7.27098244e-01 1.46833211e-01\n",
            "  6.55940083e-01 4.68770383e-01 5.84261961e-01 5.97318353e-01\n",
            "  8.29520832e-01 7.23992060e-01 6.19539716e-01 5.90905190e-01\n",
            "  7.87582879e-01 6.11039311e-01 7.23112756e-01 1.73429045e-01\n",
            "  7.44999525e-01 5.12914470e-01 8.60059873e-01 0.00000000e+00\n",
            "  7.31929222e-01 8.12033748e-01 1.69870643e-01 3.75339102e-01\n",
            "  7.02463086e-01 6.57568586e-01 6.45237611e-01 1.71605406e-01\n",
            "  7.72582441e-01 7.49852001e-01 6.26880899e-01 6.86943539e-01\n",
            "  8.56899871e-01 2.29376298e-01 6.57737588e-01 6.70205675e-01\n",
            "  4.16818262e-01 6.71658719e-01 8.78554047e-01 8.30807649e-02\n",
            "  5.29612421e-01 5.12359625e-01 3.99669039e-01 5.24154081e-01\n",
            "  6.98700964e-01 1.18184021e-01 6.96024174e-01 4.44295660e-01\n",
            "  4.14014201e-01 5.20282107e-01 7.72466081e-01 7.29618983e-01\n",
            "  7.10263170e-01 5.82795374e-01 1.02448334e+00 3.37319621e-01]\n",
            " [7.87074348e-01 8.41565494e-01 8.66783572e-01 9.63199397e-01\n",
            "  1.19419587e+00 4.72759868e-01 9.14091556e-01 9.20963729e-01\n",
            "  6.64819404e-01 5.23024803e-01 7.84603373e-01 7.81376103e-01\n",
            "  3.17961784e-01 3.36168765e-01 6.21783107e-01 8.50892011e-01\n",
            "  2.48504741e-01 4.09452325e-01 8.33703849e-01 1.16416449e-01\n",
            "  9.86368651e-01 1.18934657e+00 7.05304054e-01 6.80459498e-01\n",
            "  8.58468202e-01 9.23458748e-01 1.06081081e+00 1.44778691e-01\n",
            "  9.59496591e-01 4.02574090e-01 4.93043674e-01 7.97839712e-01\n",
            "  8.00269328e-01 5.96992121e-01 8.27644181e-01 1.16924008e+00\n",
            "  7.98068001e-01 5.14743317e-01 1.32250873e+00 1.24382514e+00\n",
            "  3.39419619e-01 1.37465268e+00 2.92920499e-01 1.10677830e+00\n",
            "  8.27140784e-01 7.69231231e-01 1.19074888e+00 6.65030681e-01\n",
            "  5.99324470e-01 6.93976276e-01 1.15989415e+00 7.06739704e-01\n",
            "  1.04166580e+00 5.21648819e-01 1.15657701e+00 1.13315562e+00\n",
            "  1.33940328e+00 9.34980164e-01 1.09688936e+00 8.99554970e-01\n",
            "  1.07906690e+00 5.01128903e-01 9.74053779e-01 7.31929222e-01\n",
            "  0.00000000e+00 7.61507215e-01 6.74001310e-01 7.54577657e-01\n",
            "  9.98150814e-01 3.03913627e-01 2.14327234e-01 7.89384548e-01\n",
            "  9.49729957e-01 5.13023558e-01 1.17002832e+00 7.81928470e-01\n",
            "  8.56828244e-01 9.60824706e-01 1.21589933e+00 1.01067077e+00\n",
            "  9.93085128e-01 1.09763264e+00 9.10291341e-01 8.01253437e-01\n",
            "  5.26382216e-01 9.62049061e-01 8.16511196e-01 1.14651675e+00\n",
            "  8.28950778e-01 8.01440126e-01 3.92952219e-01 4.58882772e-01\n",
            "  3.19152861e-01 5.30905406e-01 5.51797175e-01 8.65008761e-01\n",
            "  1.93931759e-01 1.50782696e-01 9.33586579e-01 4.01817353e-01]\n",
            " [5.19243069e-01 4.39414168e-01 6.86177875e-01 8.23327022e-01\n",
            "  7.16316853e-01 8.25542921e-01 4.81354624e-01 6.53774758e-01\n",
            "  7.39421347e-01 6.33909237e-01 7.66839494e-01 6.04236373e-01\n",
            "  6.81327767e-01 7.51803093e-01 3.42766188e-01 3.63613478e-01\n",
            "  7.22041051e-01 3.56639408e-01 5.51177048e-01 7.66452285e-01\n",
            "  8.75069598e-01 8.40215952e-01 2.79452084e-01 5.72419823e-01\n",
            "  2.92093485e-01 2.13173919e-01 8.99149721e-01 6.17209603e-01\n",
            "  8.04786078e-01 7.51604142e-01 8.36817141e-01 9.57819260e-01\n",
            "  6.77392545e-02 2.80544793e-01 8.44969806e-02 8.01906863e-01\n",
            "  1.16816617e-01 7.44177857e-01 8.40217422e-01 8.38289395e-01\n",
            "  4.27026661e-01 8.70592932e-01 5.49369501e-01 5.14426930e-01\n",
            "  1.02989078e+00 9.50746544e-01 6.61816667e-01 6.65238641e-01\n",
            "  1.86536206e-01 3.52988457e-01 7.68271883e-01 2.21444012e-01\n",
            "  3.50220096e-01 2.41248321e-01 7.20653453e-01 7.13635412e-01\n",
            "  8.56986625e-01 4.05286180e-01 5.19471580e-01 8.72196572e-01\n",
            "  4.73074026e-01 3.47026964e-01 2.39383067e-01 8.12033748e-01\n",
            "  7.61507215e-01 0.00000000e+00 6.42927820e-01 4.76614087e-01\n",
            "  3.97889573e-01 4.57882405e-01 5.49821998e-01 7.00067186e-01\n",
            "  2.69846410e-01 2.56383299e-01 7.35428452e-01 1.62514800e-01\n",
            "  9.66205331e-02 9.38430478e-01 7.80825234e-01 4.45957030e-01\n",
            "  6.89813505e-01 5.70559773e-01 1.52308344e-01 8.10446848e-01\n",
            "  3.18495048e-01 5.41620623e-01 4.97893240e-01 8.21211362e-01\n",
            "  1.93443341e-01 9.30195179e-01 3.69824565e-01 4.34918941e-01\n",
            "  6.73734706e-01 3.23585637e-01 2.22644508e-01 2.01801098e-01\n",
            "  5.71610297e-01 7.32825416e-01 2.16915425e-01 7.51140282e-01]\n",
            " [2.06756571e-01 3.26859378e-01 1.98227110e-01 2.91801825e-01\n",
            "  5.90754178e-01 3.35170716e-01 3.73791092e-01 2.72014117e-01\n",
            "  1.08075561e-01 1.53501793e-01 1.39171119e-01 1.36812447e-01\n",
            "  3.66203055e-01 3.86585814e-01 3.01260128e-01 4.01051385e-01\n",
            "  4.45748770e-01 4.95027688e-01 2.30033743e-01 5.82850201e-01\n",
            "  3.22424854e-01 5.30745467e-01 3.72831342e-01 7.62387480e-02\n",
            "  4.71755298e-01 6.33389067e-01 3.90240772e-01 5.88327436e-01\n",
            "  2.86278828e-01 3.28334231e-01 3.30897710e-01 3.17159905e-01\n",
            "  6.18746263e-01 3.72439506e-01 6.38118603e-01 5.18219841e-01\n",
            "  7.54176403e-01 2.24365226e-01 7.02648799e-01 5.98813115e-01\n",
            "  5.84241933e-01 7.60208276e-01 4.04196975e-01 6.09917340e-01\n",
            "  3.91476665e-01 3.14244896e-01 6.20555503e-01 2.83853618e-02\n",
            "  4.91787481e-01 2.99219854e-01 5.19186972e-01 4.27452921e-01\n",
            "  6.72122896e-01 5.69608198e-01 5.36962638e-01 5.09402922e-01\n",
            "  7.17686387e-01 4.61213325e-01 5.90347596e-01 2.62637299e-01\n",
            "  6.04262469e-01 3.58777321e-01 6.94276373e-01 1.69870643e-01\n",
            "  6.74001310e-01 6.42927820e-01 0.00000000e+00 2.15888842e-01\n",
            "  5.52396700e-01 5.36649313e-01 5.44465759e-01 1.15881285e-01\n",
            "  6.09669713e-01 5.97446182e-01 5.47431782e-01 5.17408970e-01\n",
            "  6.87064310e-01 3.32809298e-01 5.86618106e-01 5.27129239e-01\n",
            "  3.43473105e-01 5.50447286e-01 7.09322811e-01 1.77224578e-01\n",
            "  3.71427986e-01 3.88237731e-01 2.53143476e-01 4.84921506e-01\n",
            "  5.30552754e-01 2.87667949e-01 5.58963976e-01 3.03175245e-01\n",
            "  3.62665064e-01 3.61513600e-01 6.16543754e-01 5.62412173e-01\n",
            "  6.10599893e-01 5.35512665e-01 8.54747701e-01 3.28656047e-01]\n",
            " [4.67200624e-02 1.14279539e-01 2.11000318e-01 3.49262080e-01\n",
            "  4.40638623e-01 5.25666757e-01 1.74518466e-01 2.01727427e-01\n",
            "  3.23776142e-01 3.09549531e-01 3.05705976e-01 1.29273088e-01\n",
            "  4.91976315e-01 5.36335034e-01 1.81394353e-01 1.85445392e-01\n",
            "  5.68572011e-01 4.54107647e-01 9.25220118e-02 6.88024284e-01\n",
            "  3.99767986e-01 4.54488723e-01 1.98114998e-01 1.42192983e-01\n",
            "  2.59892485e-01 4.26842361e-01 4.32383747e-01 6.37137100e-01\n",
            "  3.31930970e-01 4.93495712e-01 5.26116349e-01 5.21232408e-01\n",
            "  4.38125628e-01 2.55552085e-01 4.52793352e-01 4.27250885e-01\n",
            "  5.93073338e-01 4.15272465e-01 5.67959451e-01 4.95408241e-01\n",
            "  5.61944717e-01 6.20634507e-01 4.61779598e-01 4.05838202e-01\n",
            "  5.97180468e-01 5.23221893e-01 4.47194879e-01 2.44138688e-01\n",
            "  3.68965168e-01 1.29486483e-01 4.11265404e-01 2.55922440e-01\n",
            "  4.56472066e-01 4.79205443e-01 4.02220595e-01 3.79505046e-01\n",
            "  5.84829794e-01 2.47430841e-01 3.88372364e-01 3.98765730e-01\n",
            "  3.94993342e-01 3.01383487e-01 4.86171138e-01 3.75339102e-01\n",
            "  7.54577657e-01 4.76614087e-01 2.15888842e-01 0.00000000e+00\n",
            "  3.37819133e-01 5.33570035e-01 5.76566385e-01 2.30634179e-01\n",
            "  3.97272676e-01 5.11030135e-01 4.15885440e-01 3.29051591e-01\n",
            "  5.01105758e-01 4.63117839e-01 4.62402103e-01 3.17203810e-01\n",
            "  2.62323124e-01 3.62779700e-01 5.14300521e-01 3.49957805e-01\n",
            "  2.95318413e-01 2.10666217e-01 6.19405665e-02 4.18440886e-01\n",
            "  3.31103379e-01 4.87450687e-01 5.18184035e-01 3.02046515e-01\n",
            "  4.85980442e-01 2.85241300e-01 5.17082837e-01 3.58732381e-01\n",
            "  6.37583239e-01 6.40171437e-01 6.75014853e-01 4.93545163e-01]\n",
            " [3.48466856e-01 2.25648734e-01 4.71651678e-01 5.81144145e-01\n",
            "  3.25856332e-01 8.57518670e-01 1.95696310e-01 3.95586554e-01\n",
            "  6.59339057e-01 6.38392685e-01 6.18707590e-01 4.38798877e-01\n",
            "  7.92253738e-01 8.47827774e-01 3.82968779e-01 1.61682805e-01\n",
            "  8.61011238e-01 6.12778718e-01 3.42626037e-01 9.58517129e-01\n",
            "  6.34113808e-01 4.83483654e-01 2.92901490e-01 4.79968169e-01\n",
            "  1.41825194e-01 2.08844388e-01 6.24496204e-01 8.60684826e-01\n",
            "  5.59752723e-01 8.15117669e-01 8.59737414e-01 8.42917692e-01\n",
            "  3.30872923e-01 4.01841337e-01 3.22805268e-01 4.42667770e-01\n",
            "  4.93841887e-01 7.49211425e-01 4.44154349e-01 4.60127216e-01\n",
            "  7.18139343e-01 4.72745353e-01 7.17795248e-01 1.20418794e-01\n",
            "  9.18750504e-01 8.49451959e-01 2.64434271e-01 5.80777767e-01\n",
            "  4.37314699e-01 3.18183957e-01 4.03299403e-01 2.98218761e-01\n",
            "  1.41817527e-01 5.59791799e-01 3.43687942e-01 3.44583179e-01\n",
            "  4.60597565e-01 9.15406590e-02 1.22035658e-01 6.79535623e-01\n",
            "  8.36125260e-02 4.97032371e-01 2.38301725e-01 7.02463086e-01\n",
            "  9.98150814e-01 3.97889573e-01 5.52396700e-01 3.37819133e-01\n",
            "  0.00000000e+00 7.18141512e-01 7.91328990e-01 5.38713911e-01\n",
            "  1.45570902e-01 5.88580767e-01 3.57203785e-01 2.58080574e-01\n",
            "  3.51196522e-01 7.29698196e-01 3.97959814e-01 5.74187956e-02\n",
            "  3.92498915e-01 1.77713055e-01 3.25092686e-01 6.60426746e-01\n",
            "  4.72204933e-01 2.25504556e-01 3.02931417e-01 4.78247771e-01\n",
            "  2.11861984e-01 8.06494625e-01 6.60331415e-01 5.50790630e-01\n",
            "  7.85268186e-01 4.67302581e-01 5.70932713e-01 1.96116757e-01\n",
            "  8.38440081e-01 9.13678129e-01 5.05851956e-01 8.15034880e-01]\n",
            " [5.75144840e-01 5.95681397e-01 6.97854470e-01 8.20261362e-01\n",
            "  9.53410778e-01 5.07624467e-01 6.67745291e-01 7.26743390e-01\n",
            "  5.76865098e-01 4.20638567e-01 6.72155972e-01 6.01787102e-01\n",
            "  3.18047381e-01 3.84385714e-01 3.66980485e-01 5.84433471e-01\n",
            "  3.18264946e-01 1.08254548e-01 6.23722402e-01 3.18016127e-01\n",
            "  8.56791831e-01 9.87829085e-01 4.31197912e-01 5.09884649e-01\n",
            "  5.76357611e-01 6.23454891e-01 9.17537900e-01 1.59351472e-01\n",
            "  8.10444273e-01 4.19395405e-01 5.25845761e-01 7.70555554e-01\n",
            "  4.96697783e-01 3.20352596e-01 5.23983378e-01 9.60740047e-01\n",
            "  5.01699819e-01 4.81055680e-01 1.08533840e+00 1.02690102e+00\n",
            "  6.27505940e-02 1.13272207e+00 1.71876958e-01 8.32912004e-01\n",
            "  8.23793420e-01 7.49615665e-01 9.35748420e-01 5.40588961e-01\n",
            "  2.98642855e-01 4.40081216e-01 9.43199019e-01 4.20329381e-01\n",
            "  7.46486596e-01 2.19763556e-01 9.26217702e-01 9.06451573e-01\n",
            "  1.10275238e+00 6.66291738e-01 8.26083409e-01 7.96560117e-01\n",
            "  8.01166298e-01 2.37284839e-01 6.72093931e-01 6.57568586e-01\n",
            "  3.03913627e-01 4.57882405e-01 5.36649313e-01 5.33570035e-01\n",
            "  7.18141512e-01 0.00000000e+00 9.31170239e-02 6.46584591e-01\n",
            "  6.54151920e-01 2.15776073e-01 9.40740070e-01 4.85592614e-01\n",
            "  5.52962431e-01 8.65690383e-01 9.88640565e-01 7.38825803e-01\n",
            "  7.93454752e-01 8.39136738e-01 6.06384183e-01 7.03130149e-01\n",
            "  2.53907297e-01 7.23422590e-01 5.92213633e-01 9.50470683e-01\n",
            "  5.34043860e-01 7.59312937e-01 9.42859233e-02 2.41431848e-01\n",
            "  3.12338971e-01 2.61595864e-01 2.55291759e-01 5.68618879e-01\n",
            "  1.21230298e-01 2.93200767e-01 6.37780028e-01 4.18646809e-01]\n",
            " [6.14611311e-01 6.50981917e-01 7.20957248e-01 8.34834796e-01\n",
            "  1.00832466e+00 4.57039217e-01 7.23787480e-01 7.60391265e-01\n",
            "  5.67380576e-01 4.11045039e-01 6.73482523e-01 6.27829981e-01\n",
            "  2.65251024e-01 3.23682525e-01 4.24284498e-01 6.49912865e-01\n",
            "  2.46378918e-01 1.95344327e-01 6.62932966e-01 2.26240433e-01\n",
            "  8.66844746e-01 1.02635897e+00 4.99894858e-01 5.30447287e-01\n",
            "  6.50332460e-01 7.09275562e-01 9.33174426e-01 7.03458395e-02\n",
            "  8.27199539e-01 3.69656842e-01 4.76520005e-01 7.44980856e-01\n",
            "  5.86507530e-01 3.89622856e-01 6.13967513e-01 1.00196327e+00\n",
            "  5.94711327e-01 4.49962048e-01 1.13912090e+00 1.07191095e+00\n",
            "  1.43418969e-01 1.18870722e+00 1.43431527e-01 9.03114614e-01\n",
            "  7.91732405e-01 7.21316364e-01 9.97042165e-01 5.43537533e-01\n",
            "  3.84998901e-01 4.97877531e-01 9.87721415e-01 4.96334358e-01\n",
            "  8.28771750e-01 3.12790792e-01 9.76461165e-01 9.55027655e-01\n",
            "  1.15636413e+00 7.33310077e-01 8.94706813e-01 7.96424322e-01\n",
            "  8.73406685e-01 2.97357364e-01 7.59730551e-01 6.45237611e-01\n",
            "  2.14327234e-01 5.49821998e-01 5.44465759e-01 5.76566385e-01\n",
            "  7.91328990e-01 9.31170239e-02 0.00000000e+00 6.58759789e-01\n",
            "  7.36636853e-01 3.08601960e-01 9.90587050e-01 5.68452036e-01\n",
            "  6.44347302e-01 8.63673320e-01 1.03782551e+00 8.07731109e-01\n",
            "  8.29934606e-01 9.01760079e-01 6.97206651e-01 6.99883904e-01\n",
            "  3.19725095e-01 7.76243996e-01 6.37425458e-01 9.86591430e-01\n",
            "  6.15934841e-01 7.38236237e-01 1.86860929e-01 2.74668845e-01\n",
            "  2.61097464e-01 3.25557239e-01 3.48092201e-01 6.51603532e-01\n",
            "  6.61714934e-02 2.05274760e-01 7.30794793e-01 3.68861593e-01]\n",
            " [1.98852705e-01 3.19774333e-01 9.92310485e-02 1.76261285e-01\n",
            "  5.14222270e-01 4.23553450e-01 3.45607616e-01 1.89165735e-01\n",
            "  1.63504006e-01 2.67151789e-01 7.99993658e-02 1.03597729e-01\n",
            "  4.79091792e-01 4.93760157e-01 3.71119657e-01 4.05915146e-01\n",
            "  5.58039182e-01 5.96976521e-01 1.96105317e-01 6.96481690e-01\n",
            "  2.10250535e-01 4.27721105e-01 4.21100659e-01 1.43209405e-01\n",
            "  4.86418879e-01 6.55577492e-01 2.74721371e-01 7.03857387e-01\n",
            "  1.70411726e-01 4.31736397e-01 4.15254146e-01 3.04655301e-01\n",
            "  6.66250668e-01 4.47484215e-01 6.82143871e-01 4.20019478e-01\n",
            "  8.15151632e-01 3.18725423e-01 6.15487286e-01 5.02175970e-01\n",
            "  6.91372159e-01 6.74040608e-01 5.19445679e-01 5.74123429e-01\n",
            "  3.80232431e-01 3.13514044e-01 5.56745541e-01 1.25720319e-01\n",
            "  5.68120020e-01 3.47087494e-01 4.26857758e-01 4.78863497e-01\n",
            "  6.70712076e-01 6.59157158e-01 4.55043052e-01 4.26564978e-01\n",
            "  6.29405116e-01 4.48111366e-01 5.52538797e-01 1.72901371e-01\n",
            "  5.76423314e-01 4.52750279e-01 7.13749459e-01 1.71605406e-01\n",
            "  7.89384548e-01 7.00067186e-01 1.15881285e-01 2.30634179e-01\n",
            "  5.38713911e-01 6.46584591e-01 6.58759789e-01 0.00000000e+00\n",
            "  6.21468974e-01 6.88685437e-01 4.63607214e-01 5.58500752e-01\n",
            "  7.30734740e-01 2.41389528e-01 4.98174494e-01 5.02977295e-01\n",
            "  2.53299441e-01 5.00063263e-01 7.44932544e-01 1.22405210e-01\n",
            "  4.60438635e-01 3.41253782e-01 2.39648574e-01 3.80716095e-01\n",
            "  5.61715850e-01 2.67845542e-01 6.61951650e-01 4.08380598e-01\n",
            "  4.75969723e-01 4.50052480e-01 7.03731818e-01 5.88741632e-01\n",
            "  7.24794316e-01 6.49497931e-01 9.03726191e-01 4.32157921e-01]\n",
            " [4.22733725e-01 3.03573618e-01 5.70901009e-01 6.93391542e-01\n",
            "  4.70797211e-01 8.81756019e-01 3.04855622e-01 5.07469439e-01\n",
            "  7.17502853e-01 6.64830549e-01 6.99755997e-01 5.17940459e-01\n",
            "  7.85944608e-01 8.48628122e-01 3.72725374e-01 2.15610054e-01\n",
            "  8.46451733e-01 5.45930517e-01 4.32090841e-01 9.26461074e-01\n",
            "  7.47112622e-01 6.26438518e-01 2.72695301e-01 5.33609661e-01\n",
            "  1.37918945e-01 6.40420955e-02 7.47795608e-01 8.06982602e-01\n",
            "  6.72422325e-01 8.26782527e-01 8.87280724e-01 9.18383950e-01\n",
            "  2.02385613e-01 3.62457657e-01 1.88121594e-01 5.85836754e-01\n",
            "  3.54616181e-01 7.79907158e-01 5.85791932e-01 6.05646075e-01\n",
            "  6.42458509e-01 6.10305876e-01 6.87732951e-01 2.50441454e-01\n",
            "  9.94383734e-01 9.20404419e-01 4.05203227e-01 6.37218277e-01\n",
            "  3.57113783e-01 3.27862754e-01 5.47231783e-01 2.48872284e-01\n",
            "  9.23372558e-02 4.67824715e-01 4.88952943e-01 4.88836181e-01\n",
            "  6.01796169e-01 1.97802344e-01 2.59393418e-01 7.77670681e-01\n",
            "  2.08255710e-01 4.59700994e-01 9.90838380e-02 7.72582441e-01\n",
            "  9.49729957e-01 2.69846410e-01 6.09669713e-01 3.97272676e-01\n",
            "  1.45570902e-01 6.54151920e-01 7.36636853e-01 6.21468974e-01\n",
            "  0.00000000e+00 4.92909840e-01 5.02601071e-01 1.68560766e-01\n",
            "  2.09321016e-01 8.34172807e-01 5.43524336e-01 2.02022202e-01\n",
            "  5.17940681e-01 3.22770589e-01 1.79610951e-01 7.43464913e-01\n",
            "  4.30828371e-01 3.50710134e-01 3.82857338e-01 6.18306129e-01\n",
            "  1.20781427e-01 8.84186858e-01 5.82981502e-01 5.30715217e-01\n",
            "  7.78508168e-01 4.29027155e-01 4.68514894e-01 8.56673070e-02\n",
            "  7.75216344e-01 8.84887188e-01 3.60331960e-01 8.26559133e-01]\n",
            " [5.57615235e-01 5.31742712e-01 7.11271852e-01 8.46771623e-01\n",
            "  8.71380736e-01 6.73238793e-01 5.95944359e-01 7.12389276e-01\n",
            "  6.68955248e-01 5.27886904e-01 7.35937063e-01 6.15496523e-01\n",
            "  4.98426733e-01 5.69491556e-01 3.30549759e-01 4.89400836e-01\n",
            "  5.18370610e-01 1.39179752e-01 6.02443466e-01 5.33641352e-01\n",
            "  8.91944892e-01 9.49043095e-01 3.43056677e-01 5.45709187e-01\n",
            "  4.52281708e-01 4.49358519e-01 9.37458210e-01 3.71294513e-01\n",
            "  8.32389443e-01 5.88639075e-01 6.88761282e-01 8.82827931e-01\n",
            "  3.07672775e-01 2.55585623e-01 3.32938242e-01 9.15846490e-01\n",
            "  2.86270052e-01 6.18514309e-01 1.00275687e+00 9.69836911e-01\n",
            "  1.73952693e-01 1.04287738e+00 3.50203257e-01 7.08783551e-01\n",
            "  9.46337764e-01 8.67770661e-01 8.35777558e-01 6.11092483e-01\n",
            "  1.57238185e-01 3.87420727e-01 8.90168450e-01 3.05378944e-01\n",
            "  5.82916159e-01 3.22354592e-02 8.58212934e-01 8.43775403e-01\n",
            "  1.02022132e+00 5.60258086e-01 7.07277972e-01 8.56732430e-01\n",
            "  6.71467910e-01 2.38696471e-01 4.88516977e-01 7.49852001e-01\n",
            "  5.13023558e-01 2.56383299e-01 5.97446182e-01 5.11030135e-01\n",
            "  5.88580767e-01 2.15776073e-01 3.08601960e-01 6.88685437e-01\n",
            "  4.92909840e-01 0.00000000e+00 8.73319591e-01 3.32641810e-01\n",
            "  3.52974203e-01 9.26944890e-01 9.21457836e-01 6.22703058e-01\n",
            "  7.68060692e-01 7.38541168e-01 4.08640695e-01 7.74586549e-01\n",
            "  2.28247114e-01 6.57490501e-01 5.57568094e-01 9.19187278e-01\n",
            "  3.81630277e-01 8.63488720e-01 1.21766836e-01 3.08135154e-01\n",
            "  4.91461758e-01 2.38638599e-01 3.95177508e-02 4.09324549e-01\n",
            "  3.19980412e-01 5.06876747e-01 4.22325975e-01 5.88000314e-01]\n",
            " [3.83607578e-01 3.47142739e-01 3.64502126e-01 3.87420197e-01\n",
            "  6.58286790e-02 8.81034922e-01 2.78203471e-01 2.76930727e-01\n",
            "  6.26172869e-01 6.90146825e-01 5.27270266e-01 4.12488119e-01\n",
            "  8.93915590e-01 9.27376433e-01 5.74309521e-01 3.86155820e-01\n",
            "  9.72999435e-01 8.50662346e-01 3.38663324e-01 1.09925424e+00\n",
            "  4.25854443e-01 1.42394454e-01 5.31127709e-01 5.07341530e-01\n",
            "  4.44248824e-01 5.65181718e-01 3.74166296e-01 1.05248719e+00\n",
            "  3.69748127e-01 8.73659733e-01 8.74879340e-01 7.30311271e-01\n",
            "  6.72190398e-01 6.32279598e-01 6.69654116e-01 1.04559708e-01\n",
            "  8.41255899e-01 7.71401351e-01 1.55851302e-01 1.03515294e-01\n",
            "  9.61026547e-01 2.12812630e-01 8.77466445e-01 2.81166513e-01\n",
            "  7.97137482e-01 7.49393879e-01 1.48179226e-01 5.70391748e-01\n",
            "  7.16482050e-01 5.02430801e-01 6.40368699e-02 5.69483018e-01\n",
            "  4.81215569e-01 8.41470922e-01 1.51304286e-02 3.81308914e-02\n",
            "  1.71686907e-01 3.30198933e-01 2.61665077e-01 5.18465711e-01\n",
            "  3.16357138e-01 7.03657127e-01 5.94302670e-01 6.26880899e-01\n",
            "  1.17002832e+00 7.35428452e-01 5.47431782e-01 4.15885440e-01\n",
            "  3.57203785e-01 9.40740070e-01 9.90587050e-01 4.63607214e-01\n",
            "  5.02601071e-01 8.73319591e-01 0.00000000e+00 5.77174182e-01\n",
            "  7.03666493e-01 5.37858279e-01 4.83257072e-02 3.00646717e-01\n",
            "  2.10607087e-01 1.84590569e-01 6.81696685e-01 5.53504331e-01\n",
            "  6.90172724e-01 2.18496238e-01 3.54136656e-01 1.60841871e-01\n",
            "  5.42018235e-01 6.91879707e-01 9.10764347e-01 7.17011431e-01\n",
            "  8.88748225e-01 6.81371932e-01 8.66677082e-01 5.39405111e-01\n",
            "  1.04998214e+00 1.05110051e+00 8.62922882e-01 8.73913199e-01]\n",
            " [3.68238230e-01 2.78673003e-01 5.33795031e-01 6.69040279e-01\n",
            "  5.62489908e-01 7.49060607e-01 3.18857668e-01 4.94786317e-01\n",
            "  6.20800606e-01 5.39780031e-01 6.30335126e-01 4.58321592e-01\n",
            "  6.34332897e-01 7.00267871e-01 2.36155792e-01 2.01098788e-01\n",
            "  6.89758213e-01 3.77377688e-01 3.95610395e-01 7.62320470e-01\n",
            "  7.21652860e-01 6.78346822e-01 1.45286263e-01 4.42739162e-01\n",
            "  1.33183093e-01 1.46348248e-01 7.41142853e-01 6.38786491e-01\n",
            "  6.49809786e-01 6.85857362e-01 7.57083791e-01 8.34461693e-01\n",
            "  1.10719445e-01 2.04935170e-01 1.23745778e-01 6.40363046e-01\n",
            "  2.76914430e-01 6.54768341e-01 6.89790896e-01 6.79318449e-01\n",
            "  4.75009103e-01 7.24342018e-01 5.25980586e-01 3.78459956e-01\n",
            "  9.08865370e-01 8.31205193e-01 5.15019543e-01 5.42479771e-01\n",
            "  1.89280032e-01 2.18195887e-01 6.07485194e-01 9.78255608e-02\n",
            "  2.60894027e-01 3.05249374e-01 5.62237755e-01 5.53789709e-01\n",
            "  7.06913744e-01 2.47687433e-01 3.79047261e-01 7.27817255e-01\n",
            "  3.39914575e-01 2.98985065e-01 2.04819945e-01 6.86943539e-01\n",
            "  7.81928470e-01 1.62514800e-01 5.17408970e-01 3.29051591e-01\n",
            "  2.58080574e-01 4.85592614e-01 5.68452036e-01 5.58500752e-01\n",
            "  1.68560766e-01 3.32641810e-01 5.77174182e-01 0.00000000e+00\n",
            "  1.72234243e-01 7.91739375e-01 6.23447958e-01 2.98107715e-01\n",
            "  5.28099533e-01 4.20204418e-01 1.92468960e-01 6.74593058e-01\n",
            "  2.69125232e-01 3.79318360e-01 3.41930019e-01 6.58773322e-01\n",
            "  4.95421400e-02 8.03839428e-01 4.15694377e-01 3.76866372e-01\n",
            "  6.26753787e-01 2.68864909e-01 3.13152527e-01 8.31640299e-02\n",
            "  6.06672375e-01 7.22015313e-01 3.46060407e-01 6.85540254e-01]\n",
            " [5.39488336e-01 4.42558423e-01 7.03963851e-01 8.37751931e-01\n",
            "  6.76733464e-01 8.97185938e-01 4.71088392e-01 6.59561013e-01\n",
            "  7.88646783e-01 6.96588048e-01 8.02346696e-01 6.30372360e-01\n",
            "  7.62793407e-01 8.32229359e-01 3.95512371e-01 3.57606704e-01\n",
            "  8.07884597e-01 4.50039809e-01 5.64542418e-01 8.58523727e-01\n",
            "  8.90790932e-01 8.19273994e-01 3.14353162e-01 6.13229700e-01\n",
            "  2.75734528e-01 1.45812313e-01 9.06152102e-01 7.12301972e-01\n",
            "  8.18087380e-01 8.27123333e-01 9.07134156e-01 1.00419364e+00\n",
            "  7.08941779e-02 3.45193700e-01 4.89712816e-02 7.79548114e-01\n",
            "  1.46141978e-01 8.09740153e-01 7.94469450e-01 8.07179705e-01\n",
            "  5.23437048e-01 8.19626607e-01 6.36332872e-01 4.59744926e-01\n",
            "  1.07804152e+00 9.99819829e-01 6.14004858e-01 7.11409526e-01\n",
            "  2.70786872e-01 3.88621353e-01 7.43123311e-01 2.60188338e-01\n",
            "  2.75704247e-01 3.37617079e-01 6.89430412e-01 6.86103438e-01\n",
            "  8.10628241e-01 3.79564458e-01 4.68456791e-01 8.99825967e-01\n",
            "  4.17542886e-01 4.23989330e-01 1.53428104e-01 8.56899871e-01\n",
            "  8.56828244e-01 9.66205331e-02 6.87064310e-01 5.01105758e-01\n",
            "  3.51196522e-01 5.52962431e-01 6.44347302e-01 7.30734740e-01\n",
            "  2.09321016e-01 3.52974203e-01 7.03666493e-01 1.72234243e-01\n",
            "  0.00000000e+00 9.63328287e-01 7.46695687e-01 4.04886029e-01\n",
            "  6.86151916e-01 5.28696377e-01 5.61886772e-02 8.46569921e-01\n",
            "  3.94198255e-01 5.27299016e-01 5.10943943e-01 8.05429692e-01\n",
            "  1.78133891e-01 9.74291817e-01 4.65940796e-01 5.10334326e-01\n",
            "  7.55158639e-01 3.97644230e-01 3.18818084e-01 1.67215137e-01\n",
            "  6.67688462e-01 8.23563250e-01 1.75220192e-01 8.26711544e-01]\n",
            " [4.23898906e-01 5.32084374e-01 2.63481182e-01 1.55570468e-01\n",
            "  6.01498227e-01 5.20519842e-01 5.35496384e-01 3.34574053e-01\n",
            "  2.98595295e-01 4.52839052e-01 1.94162354e-01 3.34348851e-01\n",
            "  6.43009148e-01 6.33632157e-01 6.12506925e-01 6.21410134e-01\n",
            "  7.14563832e-01 8.27836331e-01 4.03711732e-01 8.55083711e-01\n",
            "  1.12036855e-01 4.38614003e-01 6.58978733e-01 3.82055604e-01\n",
            "  7.05601123e-01 8.75730829e-01 1.80570802e-01 8.98701095e-01\n",
            "  1.76260409e-01 5.65614332e-01 5.04444487e-01 2.33148234e-01\n",
            "  9.01211776e-01 6.88778586e-01 9.15359054e-01 4.53451070e-01\n",
            "  1.05424206e+00 4.48004810e-01 6.62589527e-01 5.28801138e-01\n",
            "  9.15561248e-01 7.19401952e-01 7.20403686e-01 7.34459612e-01\n",
            "  2.80254783e-01 2.62330667e-01 6.68942376e-01 3.25421364e-01\n",
            "  8.09453509e-01 5.85942030e-01 4.80624678e-01 7.16996900e-01\n",
            "  8.69513216e-01 8.98053634e-01 5.35790076e-01 5.09123838e-01\n",
            "  6.71713774e-01 6.45075458e-01 7.11311445e-01 7.03253450e-02\n",
            "  7.47891161e-01 6.89144830e-01 9.30670738e-01 2.29376298e-01\n",
            "  9.60824706e-01 9.38430478e-01 3.32809298e-01 4.63117839e-01\n",
            "  7.29698196e-01 8.65690383e-01 8.63673320e-01 2.41389528e-01\n",
            "  8.34172807e-01 9.26944890e-01 5.37858279e-01 7.91739375e-01\n",
            "  9.63328287e-01 0.00000000e+00 5.53938734e-01 6.83800640e-01\n",
            "  3.56681670e-01 6.42920612e-01 9.72841074e-01 1.63790173e-01\n",
            "  6.99034203e-01 5.08100047e-01 4.55808013e-01 3.95454127e-01\n",
            "  7.89681361e-01 2.02560622e-01 8.91712333e-01 6.35863447e-01\n",
            "  6.42233587e-01 6.88775608e-01 9.43490191e-01 8.13161572e-01\n",
            "  9.29526240e-01 8.12038939e-01 1.13779658e+00 5.66276175e-01]\n",
            " [4.28949797e-01 3.95417598e-01 3.98984073e-01 4.07992333e-01\n",
            "  8.07479237e-02 9.18608987e-01 3.26514414e-01 3.14762730e-01\n",
            "  6.61496691e-01 7.31577011e-01 5.58323718e-01 4.53118055e-01\n",
            "  9.37027672e-01 9.68896105e-01 6.22371664e-01 4.33854501e-01\n",
            "  1.01635038e+00 8.98879296e-01 3.83195807e-01 1.14377285e+00\n",
            "  4.42170863e-01 1.31224779e-01 5.79387000e-01 5.49638967e-01\n",
            "  4.90348093e-01 6.06660557e-01 3.83297874e-01 1.09937167e+00\n",
            "  3.91779538e-01 9.14034505e-01 9.11785927e-01 7.54980632e-01\n",
            "  7.17026006e-01 6.80592454e-01 7.13738423e-01 1.02619738e-01\n",
            "  8.85526820e-01 8.09806972e-01 1.17343287e-01 6.46680389e-02\n",
            "  1.00922751e+00 1.76040296e-01 9.23574951e-01 3.13555068e-01\n",
            "  8.19727766e-01 7.75434197e-01 1.66786430e-01 6.08716036e-01\n",
            "  7.64559839e-01 5.50619971e-01 7.46271198e-02 6.17409375e-01\n",
            "  5.17042511e-01 8.89632766e-01 6.33332792e-02 8.28983904e-02\n",
            "  1.31410269e-01 3.75999475e-01 2.95742485e-01 5.40199224e-01\n",
            "  3.51104564e-01 7.51635081e-01 6.33323735e-01 6.57737588e-01\n",
            "  1.21589933e+00 7.80825234e-01 5.86618106e-01 4.62402103e-01\n",
            "  3.97959814e-01 9.88640565e-01 1.03782551e+00 4.98174494e-01\n",
            "  5.43524336e-01 9.21457836e-01 4.83257072e-02 6.23447958e-01\n",
            "  7.46695687e-01 5.53938734e-01 0.00000000e+00 3.42271401e-01\n",
            "  2.45237649e-01 2.21920696e-01 7.23032177e-01 5.82048658e-01\n",
            "  7.38334728e-01 2.66781831e-01 4.00836686e-01 1.62716840e-01\n",
            "  5.87386487e-01 7.16844998e-01 9.59054262e-01 7.63965613e-01\n",
            "  9.31995576e-01 7.29500265e-01 9.14584416e-01 5.83544594e-01\n",
            "  1.09748479e+00 1.09558782e+00 9.03688565e-01 9.14310704e-01]\n",
            " [3.20587858e-01 2.02928747e-01 4.29795546e-01 5.33026017e-01\n",
            "  2.72147293e-01 8.42281596e-01 1.57460207e-01 3.49260301e-01\n",
            "  6.32319951e-01 6.24494500e-01 5.82789839e-01 4.06237854e-01\n",
            "  7.89656325e-01 8.41937860e-01 3.89825904e-01 1.60523131e-01\n",
            "  8.61077916e-01 6.35745858e-01 3.07791806e-01 9.64796819e-01\n",
            "  5.85438365e-01 4.26064866e-01 3.08161612e-01 4.57560218e-01\n",
            "  1.70421422e-01 2.64581677e-01 5.72113900e-01 8.76156805e-01\n",
            "  5.11596982e-01 8.05202669e-01 8.43175580e-01 8.07601033e-01\n",
            "  3.79932156e-01 4.19050459e-01 3.73995220e-01 3.85250764e-01\n",
            "  5.45732793e-01 7.32330215e-01 3.94272130e-01 4.03841600e-01\n",
            "  7.43347311e-01 4.26496182e-01 7.25299928e-01 9.63419308e-02\n",
            "  8.82995858e-01 8.15856762e-01 2.17100947e-01 5.55433229e-01\n",
            "  4.68177958e-01 3.20202916e-01 3.45939126e-01 3.23513651e-01\n",
            "  1.95362088e-01 5.92861021e-01 2.86938861e-01 2.87273887e-01\n",
            "  4.11085331e-01 7.67054017e-02 8.72581143e-02 6.36324456e-01\n",
            "  7.77983995e-02 5.10844796e-01 2.95700739e-01 6.70205675e-01\n",
            "  1.01067077e+00 4.45957030e-01 5.27129239e-01 3.17203810e-01\n",
            "  5.74187956e-02 7.38825803e-01 8.07731109e-01 5.02977295e-01\n",
            "  2.02022202e-01 6.22703058e-01 3.00646717e-01 2.98107715e-01\n",
            "  4.04886029e-01 6.83800640e-01 3.42271401e-01 0.00000000e+00\n",
            "  3.40422374e-01 1.24793487e-01 3.81075585e-01 6.23333173e-01\n",
            "  4.88128138e-01 1.76087821e-01 2.74209995e-01 4.21141763e-01\n",
            "  2.55209066e-01 7.70514079e-01 6.86740972e-01 5.56843531e-01\n",
            "  7.82914631e-01 4.82182537e-01 6.07775605e-01 2.44882003e-01\n",
            "  8.57815959e-01 9.18964260e-01 5.62296382e-01 8.05176311e-01]\n",
            " [2.18589860e-01 2.50968319e-01 1.54079984e-01 2.01219823e-01\n",
            "  2.64428837e-01 6.73601478e-01 2.16105088e-01 7.28414799e-02\n",
            "  4.16384100e-01 4.92065971e-01 3.17265050e-01 2.14427166e-01\n",
            "  7.01518093e-01 7.28724966e-01 4.42229862e-01 3.29143569e-01\n",
            "  7.81363600e-01 7.16406465e-01 1.70245856e-01 9.13217286e-01\n",
            "  2.50381780e-01 1.96821443e-01 4.33627938e-01 3.14645507e-01\n",
            "  4.10646645e-01 5.70528137e-01 2.31997300e-01 8.86475702e-01\n",
            "  1.80426787e-01 6.71766133e-01 6.66591177e-01 5.26433579e-01\n",
            "  6.36740353e-01 5.13239092e-01 6.42979534e-01 1.77059742e-01\n",
            "  8.05013577e-01 5.65347685e-01 3.62417873e-01 2.55860480e-01\n",
            "  8.23897794e-01 4.20858199e-01 7.04744646e-01 3.79743467e-01\n",
            "  5.96223780e-01 5.43485279e-01 3.18693946e-01 3.64483843e-01\n",
            "  6.18904033e-01 3.80643475e-01 1.75803503e-01 4.85416609e-01\n",
            "  5.34256662e-01 7.35910009e-01 2.02766150e-01 1.74142232e-01\n",
            "  3.76630768e-01 3.20151552e-01 3.56494069e-01 3.22976888e-01\n",
            "  3.96871768e-01 5.63567661e-01 6.17020699e-01 4.16818262e-01\n",
            "  9.93085128e-01 6.89813505e-01 3.43473105e-01 2.62323124e-01\n",
            "  3.92498915e-01 7.93454752e-01 8.29934606e-01 2.53299441e-01\n",
            "  5.17940681e-01 7.68060692e-01 2.10607087e-01 5.28099533e-01\n",
            "  6.86151916e-01 3.56681670e-01 2.45237649e-01 3.40422374e-01\n",
            "  0.00000000e+00 2.86307090e-01 6.80838344e-01 3.45530440e-01\n",
            "  5.57431490e-01 1.68026313e-01 2.10544063e-01 1.57064025e-01\n",
            "  5.08671219e-01 4.87794297e-01 7.80497469e-01 5.56401570e-01\n",
            "  6.96996584e-01 5.47428305e-01 7.70336532e-01 5.21055133e-01\n",
            "  8.92976215e-01 8.65083621e-01 8.59206740e-01 6.72079077e-01]\n",
            " [3.49754317e-01 2.58485303e-01 4.11586352e-01 4.87523502e-01\n",
            "  1.48143640e-01 8.80808565e-01 1.88868921e-01 3.20428824e-01\n",
            "  6.48143850e-01 6.69793766e-01 5.76485259e-01 4.17049938e-01\n",
            "  8.53563337e-01 8.99114068e-01 4.77703848e-01 2.55426956e-01\n",
            "  9.28863209e-01 7.39765257e-01 3.20415860e-01 1.04219185e+00\n",
            "  5.36157517e-01 3.20551206e-01 4.09650331e-01 4.90346347e-01\n",
            "  2.89003835e-01 3.86403955e-01 5.06572068e-01 9.68357538e-01\n",
            "  4.66666874e-01 8.55114624e-01 8.78869139e-01 7.97949483e-01\n",
            "  5.04694470e-01 5.19408717e-01 4.98689983e-01 2.79875960e-01\n",
            "  6.70339365e-01 7.69130866e-01 2.69966423e-01 2.85393899e-01\n",
            "  8.49192074e-01 3.04967731e-01 8.06999220e-01 1.01070597e-01\n",
            "  8.70987676e-01 8.10848806e-01 9.76037435e-02 5.77578689e-01\n",
            "  5.82157328e-01 4.04424850e-01 2.38348286e-01 4.34665951e-01\n",
            "  2.96625267e-01 7.07904448e-01 1.72513303e-01 1.80025096e-01\n",
            "  2.86943868e-01 1.78339443e-01 7.92636644e-02 6.05895962e-01\n",
            "  1.32379518e-01 6.04988764e-01 4.11412868e-01 6.71658719e-01\n",
            "  1.09763264e+00 5.70559773e-01 5.50447286e-01 3.62779700e-01\n",
            "  1.77713055e-01 8.39136738e-01 9.01760079e-01 5.00063263e-01\n",
            "  3.22770589e-01 7.38541168e-01 1.84590569e-01 4.20204418e-01\n",
            "  5.28696377e-01 6.42920612e-01 2.21920696e-01 1.24793487e-01\n",
            "  2.86307090e-01 0.00000000e+00 5.02368234e-01 6.12441958e-01\n",
            "  5.85449831e-01 1.62300552e-01 3.06300442e-01 3.25066262e-01\n",
            "  3.78957462e-01 7.59610840e-01 7.94348744e-01 6.38995878e-01\n",
            "  8.47348999e-01 5.78285794e-01 7.25998886e-01 3.69670675e-01\n",
            "  9.55562068e-01 9.95091547e-01 6.82356578e-01 8.55199830e-01]\n",
            " [5.49693092e-01 4.44664668e-01 7.10947440e-01 8.41827157e-01\n",
            "  6.50348532e-01 9.34545493e-01 4.64733301e-01 6.60004240e-01\n",
            "  8.13187445e-01 7.29432761e-01 8.18860391e-01 6.42844148e-01\n",
            "  8.06559803e-01 8.75173369e-01 4.26035445e-01 3.56661348e-01\n",
            "  8.54345014e-01 5.02313031e-01 5.70461597e-01 9.09249114e-01\n",
            "  8.95317039e-01 8.02870466e-01 3.37754125e-01 6.34224499e-01\n",
            "  2.72089752e-01 1.16523682e-01 9.05527035e-01 7.65613711e-01\n",
            "  8.21632512e-01 8.67044955e-01 9.43659821e-01 1.02612508e+00\n",
            "  1.13371378e-01 3.82813809e-01 8.59357060e-02 7.62565145e-01\n",
            "  1.90991146e-01 8.43741356e-01 7.63748460e-01 7.84913777e-01\n",
            "  5.78316248e-01 7.85772913e-01 6.83894398e-01 4.26409594e-01\n",
            "  1.10078523e+00 1.02336036e+00 5.83225968e-01 7.34659202e-01\n",
            "  3.19172072e-01 4.10203819e-01 7.24754073e-01 2.87830330e-01\n",
            "  2.32556365e-01 3.92546235e-01 6.67888250e-01 6.66766834e-01\n",
            "  7.79475121e-01 3.65993750e-01 4.37288531e-01 9.11230138e-01\n",
            "  3.84303543e-01 4.66856179e-01 1.05155146e-01 8.78554047e-01\n",
            "  9.10291341e-01 1.52308344e-01 7.09322811e-01 5.14300521e-01\n",
            "  3.25092686e-01 6.06384183e-01 6.97206651e-01 7.44932544e-01\n",
            "  1.79610951e-01 4.08640695e-01 6.81696685e-01 1.92468960e-01\n",
            "  5.61886772e-02 9.72841074e-01 7.23032177e-01 3.81075585e-01\n",
            "  6.80838344e-01 5.02368234e-01 0.00000000e+00 8.63189865e-01\n",
            "  4.36708777e-01 5.17577863e-01 5.17470052e-01 7.92123246e-01\n",
            "  1.83444445e-01 9.94991014e-01 5.20454376e-01 5.51635398e-01\n",
            "  7.98919330e-01 4.39253001e-01 3.74823487e-01 1.61335429e-01\n",
            "  7.22051690e-01 8.73340261e-01 1.81818628e-01 8.66666172e-01]\n",
            " [3.20732123e-01 4.42171093e-01 2.00936769e-01 1.93092401e-01\n",
            "  6.09839867e-01 3.79913405e-01 4.66358831e-01 2.93242038e-01\n",
            "  1.36529846e-01 2.89091882e-01 4.43300082e-02 2.25579633e-01\n",
            "  4.83370435e-01 4.80013239e-01 4.73047517e-01 5.28021881e-01\n",
            "  5.57215516e-01 6.69416853e-01 3.17888543e-01 6.98126540e-01\n",
            "  1.95295246e-01 4.91351117e-01 5.33851883e-01 2.39044470e-01\n",
            "  6.07861209e-01 7.76415970e-01 2.77646203e-01 7.35353771e-01\n",
            "  2.01141658e-01 4.12762515e-01 3.66643510e-01 1.85745438e-01\n",
            "  7.80554789e-01 5.46693153e-01 7.97726572e-01 4.92731660e-01\n",
            "  9.23918391e-01 2.93765139e-01 6.98430214e-01 5.74748213e-01\n",
            "  7.54104867e-01 7.57211135e-01 5.56617202e-01 6.91220543e-01\n",
            "  2.60116551e-01 1.99060552e-01 6.61136833e-01 1.65078511e-01\n",
            "  6.66900657e-01 4.59223257e-01 5.07941475e-01 5.90801266e-01\n",
            "  7.93065688e-01 7.46829233e-01 5.47078911e-01 5.18497791e-01\n",
            "  7.10762616e-01 5.70116364e-01 6.69164044e-01 9.83918682e-02\n",
            "  6.95635245e-01 5.35892512e-01 8.35077520e-01 8.30807649e-02\n",
            "  8.01253437e-01 8.10446848e-01 1.77224578e-01 3.49957805e-01\n",
            "  6.60426746e-01 7.03130149e-01 6.99883904e-01 1.22405210e-01\n",
            "  7.43464913e-01 7.74586549e-01 5.53504331e-01 6.74593058e-01\n",
            "  8.46569921e-01 1.63790173e-01 5.82048658e-01 6.23333173e-01\n",
            "  3.45530440e-01 6.12441958e-01 8.63189865e-01 0.00000000e+00\n",
            "  5.48589369e-01 4.57436690e-01 3.62042752e-01 4.43889024e-01\n",
            "  6.80540590e-01 1.47780163e-01 7.32469684e-01 4.76903192e-01\n",
            "  4.82111449e-01 5.38633172e-01 7.93735300e-01 7.08689919e-01\n",
            "  7.65738081e-01 6.53866530e-01 1.01802536e+00 4.13362791e-01]\n",
            " [3.40554922e-01 3.43487222e-01 4.86279792e-01 6.20193670e-01\n",
            "  7.00366273e-01 5.07099591e-01 4.14876282e-01 4.96169331e-01\n",
            "  4.50396561e-01 3.23659061e-01 5.09008212e-01 3.89598202e-01\n",
            "  3.69942802e-01 4.38510961e-01 1.16813891e-01 3.31394285e-01\n",
            "  4.21320998e-01 1.60967957e-01 3.87820193e-01 4.95744603e-01\n",
            "  6.64447858e-01 7.46963269e-01 1.80170042e-01 3.17490194e-01\n",
            "  3.32087452e-01 4.15453653e-01 7.12437017e-01 3.88645719e-01\n",
            "  6.06490515e-01 4.33722635e-01 5.18631551e-01 6.68269046e-01\n",
            "  3.24796431e-01 7.06219981e-02 3.51330724e-01 7.17220203e-01\n",
            "  4.12417876e-01 4.29148271e-01 8.32525688e-01 7.79507179e-01\n",
            "  2.71016107e-01 8.79221837e-01 2.57234154e-01 5.83397318e-01\n",
            "  7.35778543e-01 6.56324398e-01 6.81904917e-01 3.86983800e-01\n",
            "  1.35879065e-01 1.87780280e-01 6.96656415e-01 1.82664426e-01\n",
            "  5.21052688e-01 1.99019556e-01 6.75453964e-01 6.56864447e-01\n",
            "  8.49982030e-01 4.14174571e-01 5.75201630e-01 6.28899592e-01\n",
            "  5.53881695e-01 3.02876354e-02 4.72851698e-01 5.29612421e-01\n",
            "  5.26382216e-01 3.18495048e-01 3.71427986e-01 2.95318413e-01\n",
            "  4.72204933e-01 2.53907297e-01 3.19725095e-01 4.60438635e-01\n",
            "  4.30828371e-01 2.28247114e-01 6.90172724e-01 2.69125232e-01\n",
            "  3.94198255e-01 6.99034203e-01 7.38334728e-01 4.88128138e-01\n",
            "  5.57431490e-01 5.85449831e-01 4.36708777e-01 5.48589369e-01\n",
            "  0.00000000e+00 4.71933891e-01 3.49140155e-01 7.12769250e-01\n",
            "  3.11517895e-01 6.45788639e-01 2.23542610e-01 1.16613350e-01\n",
            "  3.62304146e-01 1.05159003e-02 2.45167752e-01 3.49308376e-01\n",
            "  3.70499722e-01 4.54103166e-01 5.33932694e-01 4.33282266e-01]\n",
            " [1.90454801e-01 1.28651072e-01 2.58824812e-01 3.56943475e-01\n",
            "  2.32464090e-01 7.19696385e-01 6.22757063e-02 1.73964690e-01\n",
            "  4.86105956e-01 5.11224904e-01 4.19361656e-01 2.54914767e-01\n",
            "  7.01931795e-01 7.43747808e-01 3.56529181e-01 1.78976852e-01\n",
            "  7.79004673e-01 6.32250439e-01 1.58223580e-01 8.98355400e-01\n",
            "  4.09446709e-01 2.99653552e-01 3.14472902e-01 3.29741004e-01\n",
            "  2.52586046e-01 4.05073187e-01 3.99683681e-01 8.39762312e-01\n",
            "  3.35514686e-01 6.97067740e-01 7.17307626e-01 6.43109561e-01\n",
            "  4.83624222e-01 4.13857672e-01 4.86660513e-01 2.62787296e-01\n",
            "  6.53849558e-01 6.07967576e-01 3.62895659e-01 3.12364961e-01\n",
            "  7.42646122e-01 4.13068193e-01 6.69215184e-01 2.33811762e-01\n",
            "  7.17418711e-01 6.54145756e-01 2.37907683e-01 4.15298174e-01\n",
            "  5.01490341e-01 2.84153888e-01 2.33472969e-01 3.56606732e-01\n",
            "  3.67286400e-01 6.25449855e-01 2.03661570e-01 1.86706524e-01\n",
            "  3.80171979e-01 1.53101573e-01 2.11741471e-01 4.62473812e-01\n",
            "  2.41176580e-01 4.86149625e-01 4.49705313e-01 5.12359625e-01\n",
            "  9.62049061e-01 5.41620623e-01 3.88237731e-01 2.10666217e-01\n",
            "  2.25504556e-01 7.23422590e-01 7.76243996e-01 3.41253782e-01\n",
            "  3.50710134e-01 6.57490501e-01 2.18496238e-01 3.79318360e-01\n",
            "  5.27299016e-01 5.08100047e-01 2.66781831e-01 1.76087821e-01\n",
            "  1.68026313e-01 1.62300552e-01 5.17577863e-01 4.57436690e-01\n",
            "  4.71933891e-01 0.00000000e+00 1.50159262e-01 2.79776110e-01\n",
            "  3.52790951e-01 6.05210779e-01 6.92272505e-01 5.04841633e-01\n",
            "  6.96071327e-01 4.63254208e-01 6.52900482e-01 3.60361254e-01\n",
            "  8.34335869e-01 8.50591834e-01 6.97831927e-01 6.97191438e-01]\n",
            " [4.64022986e-02 8.01292066e-02 1.93518839e-01 3.27147158e-01\n",
            "  3.78874463e-01 5.76076365e-01 1.21635702e-01 1.58848462e-01\n",
            "  3.58164034e-01 3.63497667e-01 3.18999143e-01 1.37078029e-01\n",
            "  5.51775693e-01 5.94112221e-01 2.32864080e-01 1.67429776e-01\n",
            "  6.28954707e-01 5.09452477e-01 5.36883222e-02 7.49576314e-01\n",
            "  3.79943677e-01 3.97875355e-01 2.27716281e-01 1.86192578e-01\n",
            "  2.50364414e-01 4.20603275e-01 4.01497646e-01 6.98541898e-01\n",
            "  3.07885735e-01 5.48871975e-01 5.75151303e-01 5.41556363e-01\n",
            "  4.52635030e-01 3.02723434e-01 4.64032198e-01 3.68965675e-01\n",
            "  6.14660843e-01 4.64705582e-01 5.06019091e-01 4.35151365e-01\n",
            "  6.18350268e-01 5.58753622e-01 5.23695562e-01 3.57465588e-01\n",
            "  6.17598574e-01 5.46989186e-01 3.87752618e-01 2.81379815e-01\n",
            "  4.09678952e-01 1.70212232e-01 3.51194098e-01 2.82809188e-01\n",
            "  4.31494150e-01 5.25436959e-01 3.40397824e-01 3.17944247e-01\n",
            "  5.22893146e-01 2.11429863e-01 3.38532348e-01 3.96214867e-01\n",
            "  3.51152294e-01 3.57756179e-01 4.77005175e-01 3.99669039e-01\n",
            "  8.16511196e-01 4.97893240e-01 2.53143476e-01 6.19405665e-02\n",
            "  3.02931417e-01 5.92213633e-01 6.37425458e-01 2.39648574e-01\n",
            "  3.82857338e-01 5.57568094e-01 3.54136656e-01 3.41930019e-01\n",
            "  5.10943943e-01 4.55808013e-01 4.00836686e-01 2.74209995e-01\n",
            "  2.10544063e-01 3.06300442e-01 5.17470052e-01 3.62042752e-01\n",
            "  3.49140155e-01 1.50159262e-01 0.00000000e+00 3.63996959e-01\n",
            "  3.34895722e-01 5.05849871e-01 5.72678766e-01 3.63199284e-01\n",
            "  5.45927664e-01 3.39397915e-01 5.60504289e-01 3.57372276e-01\n",
            "  6.97915602e-01 7.01665829e-01 6.86134708e-01 5.48964385e-01]\n",
            " [3.75428884e-01 3.91598493e-01 2.86844241e-01 2.57531452e-01\n",
            "  2.26246495e-01 8.03380671e-01 3.39995836e-01 2.26562549e-01\n",
            "  5.41821159e-01 6.37327588e-01 4.27399918e-01 3.65203595e-01\n",
            "  8.49189745e-01 8.71276214e-01 5.96816707e-01 4.57829709e-01\n",
            "  9.29070235e-01 8.72416162e-01 3.26933909e-01 1.06342426e+00\n",
            "  2.84958042e-01 4.76185470e-02 5.79855360e-01 4.66174367e-01\n",
            "  5.32044160e-01 6.77094990e-01 2.21163476e-01 1.04245890e+00\n",
            "  2.44555229e-01 8.11189195e-01 7.94056951e-01 6.06530230e-01\n",
            "  7.63351102e-01 6.65900056e-01 7.65864536e-01 6.01060219e-02\n",
            "  9.33616549e-01 6.99430833e-01 2.67150896e-01 1.34115241e-01\n",
            "  9.80367259e-01 3.24066555e-01 8.59953001e-01 4.26038581e-01\n",
            "  6.67520712e-01 6.29343637e-01 3.08294741e-01 5.02356261e-01\n",
            "  7.67230443e-01 5.32534744e-01 9.68500123e-02 6.28243095e-01\n",
            "  6.13816527e-01 8.86958558e-01 1.65343992e-01 1.47597950e-01\n",
            "  2.76395276e-01 4.26539147e-01 4.04279352e-01 3.89028379e-01\n",
            "  4.55658475e-01 7.19819510e-01 7.15263136e-01 5.24154081e-01\n",
            "  1.14651675e+00 8.21211362e-01 4.84921506e-01 4.18440886e-01\n",
            "  4.78247771e-01 9.50470683e-01 9.86591430e-01 3.80716095e-01\n",
            "  6.18306129e-01 9.19187278e-01 1.60841871e-01 6.58773322e-01\n",
            "  8.05429692e-01 3.95454127e-01 1.62716840e-01 4.21141763e-01\n",
            "  1.57064025e-01 3.25066262e-01 7.92123246e-01 4.43889024e-01\n",
            "  7.12769250e-01 2.79776110e-01 3.63996959e-01 0.00000000e+00\n",
            "  6.32361914e-01 5.69237902e-01 9.36172594e-01 7.13358512e-01\n",
            "  8.45101942e-01 7.02890944e-01 9.19287502e-01 6.38214686e-01\n",
            "  1.04983694e+00 1.01546971e+00 9.73595618e-01 8.11573670e-01]\n",
            " [3.66282615e-01 2.64616800e-01 5.28393321e-01 6.60770241e-01\n",
            "  5.23539459e-01 7.78666422e-01 2.94712208e-01 4.81516860e-01\n",
            "  6.36190858e-01 5.65661333e-01 6.36217824e-01 4.59440400e-01\n",
            "  6.71977427e-01 7.36495312e-01 2.64778774e-01 1.79673959e-01\n",
            "  7.29935794e-01 4.25921628e-01 3.88213911e-01 8.06612161e-01\n",
            "  7.14027743e-01 6.49178593e-01 1.67049250e-01 4.54728694e-01\n",
            "  1.00347925e-01 1.09494044e-01 7.28061211e-01 6.86279948e-01\n",
            "  6.40889340e-01 7.18782269e-01 7.85694555e-01 8.46181802e-01\n",
            "  1.31332976e-01 2.44503180e-01 1.34407006e-01 6.10325562e-01\n",
            "  3.01721783e-01 6.81099269e-01 6.48923836e-01 6.44964443e-01\n",
            "  5.24362466e-01 6.81606117e-01 5.68740736e-01 3.31838945e-01\n",
            "  9.21349273e-01 8.44743399e-01 4.72238159e-01 5.56704847e-01\n",
            "  2.38634693e-01 2.33904051e-01 5.75851781e-01 1.31898898e-01\n",
            "  2.12838993e-01 3.54547526e-01 5.27264943e-01 5.20654894e-01\n",
            "  6.65879551e-01 2.11978598e-01 3.33622028e-01 7.27808794e-01\n",
            "  2.92530560e-01 3.40833156e-01 1.71002569e-01 6.98700964e-01\n",
            "  8.28950778e-01 1.93443341e-01 5.30552754e-01 3.31103379e-01\n",
            "  2.11861984e-01 5.34043860e-01 6.15934841e-01 5.61715850e-01\n",
            "  1.20781427e-01 3.81630277e-01 5.42018235e-01 4.95421400e-02\n",
            "  1.78133891e-01 7.89681361e-01 5.87386487e-01 2.55209066e-01\n",
            "  5.08671219e-01 3.78957462e-01 1.83444445e-01 6.80540590e-01\n",
            "  3.11517895e-01 3.52790951e-01 3.34895722e-01 6.32361914e-01\n",
            "  0.00000000e+00 8.14231882e-01 4.65096056e-01 4.15099933e-01\n",
            "  6.64455569e-01 3.10299891e-01 3.61176622e-01 3.81845763e-02\n",
            "  6.55212221e-01 7.65530714e-01 3.52889835e-01 7.18504881e-01]\n",
            " [4.62768832e-01 5.85787594e-01 3.48055523e-01 3.11715535e-01\n",
            "  7.50605361e-01 3.37791104e-01 6.13289049e-01 4.39644378e-01\n",
            "  1.95403025e-01 3.41268934e-01 1.87857584e-01 3.68774029e-01\n",
            "  4.90789713e-01 4.65849227e-01 5.87763887e-01 6.69700226e-01\n",
            "  5.53063893e-01 7.45019758e-01 4.63935847e-01 6.89688781e-01\n",
            "  2.91891589e-01 6.15583186e-01 6.59938851e-01 3.61141811e-01\n",
            "  7.47255754e-01 9.13766332e-01 3.72931869e-01 7.61127872e-01\n",
            "  3.25859721e-01 3.98871951e-01 3.19445518e-01 3.86454859e-02\n",
            "  9.06280746e-01 6.56333150e-01 9.25324063e-01 6.22527380e-01\n",
            "  1.04047570e+00 2.91679205e-01 8.31430486e-01 7.02854358e-01\n",
            "  8.15993621e-01 8.89839454e-01 5.96965892e-01 8.38999731e-01\n",
            "  1.12488758e-01 6.11627480e-02 8.05607537e-01 2.65017229e-01\n",
            "  7.73414077e-01 5.85830532e-01 6.42229208e-01 7.15021727e-01\n",
            "  9.37331519e-01 8.38403188e-01 6.86593757e-01 6.58249150e-01\n",
            "  8.42656884e-01 7.15716766e-01 8.16930865e-01 1.81239172e-01\n",
            "  8.43220450e-01 6.28044291e-01 9.73515289e-01 1.18184021e-01\n",
            "  8.01440126e-01 9.30195179e-01 2.87667949e-01 4.87450687e-01\n",
            "  8.06494625e-01 7.59312937e-01 7.38236237e-01 2.67845542e-01\n",
            "  8.84186858e-01 8.63488720e-01 6.91879707e-01 8.03839428e-01\n",
            "  9.74291817e-01 2.02560622e-01 7.16844998e-01 7.70514079e-01\n",
            "  4.87794297e-01 7.59610840e-01 9.94991014e-01 1.47780163e-01\n",
            "  6.45788639e-01 6.05210779e-01 5.05849871e-01 5.69237902e-01\n",
            "  8.14231882e-01 0.00000000e+00 8.04064363e-01 5.56190283e-01\n",
            "  4.91845103e-01 6.36641683e-01 8.87287587e-01 8.44356221e-01\n",
            "  8.01666147e-01 6.50662097e-01 1.14241563e+00 3.99626659e-01]\n",
            " [5.62775513e-01 5.63646751e-01 7.00971875e-01 8.30409128e-01\n",
            "  9.17254807e-01 5.79318597e-01 6.33439734e-01 7.17927064e-01\n",
            "  6.14342006e-01 4.62858533e-01 6.97679634e-01 6.03728199e-01\n",
            "  3.95376700e-01 4.64699387e-01 3.40164878e-01 5.39205871e-01\n",
            "  4.05640225e-01 6.54648276e-02 6.10522398e-01 4.12299052e-01\n",
            "  8.71073907e-01 9.70503759e-01 3.85251997e-01 5.20174731e-01\n",
            "  5.19182584e-01 5.46957642e-01 9.25483311e-01 2.50081932e-01\n",
            "  8.18479579e-01 4.92144660e-01 5.96375283e-01 8.19086048e-01\n",
            "  4.13503144e-01 2.78735263e-01 4.40238808e-01 9.40602314e-01\n",
            "  4.07997154e-01 5.38919488e-01 1.04962638e+00 1.00188628e+00\n",
            "  5.95572578e-02 1.09409231e+00 2.45327600e-01 7.78207971e-01\n",
            "  8.77315411e-01 8.00711889e-01 8.91847824e-01 5.67479331e-01\n",
            "  2.26471031e-01 4.09194475e-01 9.19432843e-01 3.63377269e-01\n",
            "  6.74980103e-01 1.28874377e-01 8.95898081e-01 8.78287176e-01\n",
            "  1.06713910e+00 6.17647694e-01 7.73557970e-01 8.21594863e-01\n",
            "  7.43933058e-01 2.17889587e-01 5.92108187e-01 6.96024174e-01\n",
            "  3.92952219e-01 3.69824565e-01 5.58963976e-01 5.18184035e-01\n",
            "  6.60331415e-01 9.42859233e-02 1.86860929e-01 6.61951650e-01\n",
            "  5.82981502e-01 1.21766836e-01 9.10764347e-01 4.15694377e-01\n",
            "  4.65940796e-01 8.91712333e-01 9.59054262e-01 6.86740972e-01\n",
            "  7.80497469e-01 7.94348744e-01 5.20454376e-01 7.32469684e-01\n",
            "  2.23542610e-01 6.92272505e-01 5.72678766e-01 9.36172594e-01\n",
            "  4.65096056e-01 8.04064363e-01 0.00000000e+00 2.55862261e-01\n",
            "  3.88952518e-01 2.33311022e-01 1.61238391e-01 4.97429773e-01\n",
            "  2.01785748e-01 3.86917406e-01 5.44068620e-01 4.91443390e-01]\n",
            " [3.40059592e-01 3.82752038e-01 4.56424542e-01 5.80166683e-01\n",
            "  7.37305404e-01 3.91093596e-01 4.55383777e-01 4.87940027e-01\n",
            "  3.62798389e-01 2.20145558e-01 4.41817399e-01 3.60436690e-01\n",
            "  2.57469940e-01 3.24206539e-01 1.67865721e-01 3.96320949e-01\n",
            "  3.15830876e-01 1.92529238e-01 3.88472900e-01 4.08162539e-01\n",
            "  6.18434526e-01 7.52385095e-01 2.62473574e-01 2.69156179e-01\n",
            "  4.17365398e-01 5.22459111e-01 6.76928943e-01 3.35491010e-01\n",
            "  5.69741014e-01 3.17127511e-01 4.03146524e-01 5.74795234e-01\n",
            "  4.40527510e-01 1.71979980e-01 4.66729631e-01 7.27447866e-01\n",
            "  5.26000278e-01 3.17928885e-01 8.67065200e-01 7.97276933e-01\n",
            "  2.83050201e-01 9.17909799e-01 1.68671035e-01 6.53172797e-01\n",
            "  6.38346145e-01 5.59666374e-01 7.31866248e-01 3.11832671e-01\n",
            "  2.50537781e-01 2.37026269e-01 7.13076479e-01 2.83222631e-01\n",
            "  6.17934455e-01 2.84841027e-01 7.03056863e-01 6.81093096e-01\n",
            "  8.84180962e-01 4.80331735e-01 6.41722174e-01 5.65774109e-01\n",
            "  6.28562882e-01 8.80306790e-02 5.81685699e-01 4.44295660e-01\n",
            "  4.58882772e-01 4.34918941e-01 3.03175245e-01 3.02046515e-01\n",
            "  5.50790630e-01 2.41431848e-01 2.74668845e-01 4.08380598e-01\n",
            "  5.30715217e-01 3.08135154e-01 7.17011431e-01 3.76866372e-01\n",
            "  5.10334326e-01 6.35863447e-01 7.63965613e-01 5.56843531e-01\n",
            "  5.56401570e-01 6.38995878e-01 5.51635398e-01 4.76903192e-01\n",
            "  1.16613350e-01 5.04841633e-01 3.63199284e-01 7.13358512e-01\n",
            "  4.15099933e-01 5.56190283e-01 2.55862261e-01 0.00000000e+00\n",
            "  2.49888070e-01 1.12692389e-01 3.34603923e-01 4.53284327e-01\n",
            "  3.36706394e-01 3.62921931e-01 6.49763366e-01 3.16691129e-01]\n",
            " [5.08510756e-01 5.90234996e-01 5.59892923e-01 6.47103350e-01\n",
            "  9.22002478e-01 1.96728440e-01 6.58495223e-01 6.24157590e-01\n",
            "  3.45666655e-01 2.09204737e-01 4.66005000e-01 4.82570083e-01\n",
            "  7.64061224e-03 7.89052595e-02 4.07917704e-01 6.25082976e-01\n",
            "  8.44333628e-02 3.52291018e-01 5.50736894e-01 2.20522127e-01\n",
            "  6.68169357e-01 8.89910339e-01 5.07035810e-01 3.83054256e-01\n",
            "  6.59058425e-01 7.72235052e-01 7.43961027e-01 2.71355977e-01\n",
            "  6.44701078e-01 1.08740155e-01 2.15824251e-01 4.93600408e-01\n",
            "  6.86567716e-01 4.21857180e-01 7.13358202e-01 8.73976954e-01\n",
            "  7.52526751e-01 2.00378335e-01 1.04423948e+00 9.52238694e-01\n",
            "  3.75055252e-01 1.09951995e+00 1.43625745e-01 8.77885005e-01\n",
            "  5.34608776e-01 4.67691956e-01 9.33172248e-01 3.50366528e-01\n",
            "  4.87254355e-01 4.67220603e-01 8.69860422e-01 5.32577994e-01\n",
            "  8.63902952e-01 4.79689411e-01 8.76483635e-01 8.50838411e-01\n",
            "  1.06037923e+00 7.06596069e-01 8.63545822e-01 5.80434069e-01\n",
            "  8.58280546e-01 3.32094689e-01 8.31572351e-01 4.14014201e-01\n",
            "  3.19152861e-01 6.73734706e-01 3.62665064e-01 4.85980442e-01\n",
            "  7.85268186e-01 3.12338971e-01 2.61097464e-01 4.75969723e-01\n",
            "  7.78508168e-01 4.91461758e-01 8.88748225e-01 6.26753787e-01\n",
            "  7.55158639e-01 6.42233587e-01 9.31995576e-01 7.82914631e-01\n",
            "  6.96996584e-01 8.47348999e-01 7.98919330e-01 4.82111449e-01\n",
            "  3.62304146e-01 6.96071327e-01 5.45927664e-01 8.45101942e-01\n",
            "  6.64455569e-01 4.91845103e-01 3.88952518e-01 2.49888070e-01\n",
            "  0.00000000e+00 3.60342125e-01 5.27427237e-01 7.02626172e-01\n",
            "  3.18692671e-01 1.73873942e-01 8.83032923e-01 1.07953448e-01]\n",
            " [3.30370648e-01 3.34931938e-01 4.75775949e-01 6.09679134e-01\n",
            "  6.92145164e-01 5.02013533e-01 4.06554509e-01 4.85950347e-01\n",
            "  4.41279065e-01 3.16112528e-01 4.98930870e-01 3.79085226e-01\n",
            "  3.67972831e-01 4.35994676e-01 1.07485497e-01 3.24751822e-01\n",
            "  4.20955372e-01 1.70321269e-01 3.77722163e-01 4.98097485e-01\n",
            "  6.53953483e-01 7.37259633e-01 1.74700996e-01 3.07146191e-01\n",
            "  3.27751919e-01 4.15196709e-01 7.01927976e-01 3.94104687e-01\n",
            "  5.95975249e-01 4.29647151e-01 5.13241117e-01 6.59381805e-01\n",
            "  3.27866806e-01 6.70665982e-02 3.54156321e-01 7.07681120e-01\n",
            "  4.19133073e-01 4.22567669e-01 8.24235198e-01 7.70314047e-01\n",
            "  2.80118214e-01 8.71208887e-01 2.58705815e-01 5.77675119e-01\n",
            "  7.27183423e-01 6.47699635e-01 6.74552965e-01 3.77310817e-01\n",
            "  1.42679368e-01 1.79151626e-01 6.87361338e-01 1.80339764e-01\n",
            "  5.18801355e-01 2.09291782e-01 6.66683569e-01 6.47908486e-01\n",
            "  8.41679495e-01 4.07853067e-01 5.69151322e-01 6.18659961e-01\n",
            "  5.48642161e-01 3.07140842e-02 4.73125901e-01 5.20282107e-01\n",
            "  5.30905406e-01 3.23585637e-01 3.61513600e-01 2.85241300e-01\n",
            "  4.67302581e-01 2.61595864e-01 3.25557239e-01 4.50052480e-01\n",
            "  4.29027155e-01 2.38638599e-01 6.81371932e-01 2.68864909e-01\n",
            "  3.97644230e-01 6.88775608e-01 7.29500265e-01 4.82182537e-01\n",
            "  5.47428305e-01 5.78285794e-01 4.39253001e-01 5.38633172e-01\n",
            "  1.05159003e-02 4.63254208e-01 3.39397915e-01 7.02890944e-01\n",
            "  3.10299891e-01 6.36641683e-01 2.33311022e-01 1.12692389e-01\n",
            "  3.60342125e-01 0.00000000e+00 2.55206922e-01 3.48245016e-01\n",
            "  3.77341241e-01 4.55939558e-01 5.39523517e-01 4.29222175e-01]\n",
            " [5.63802646e-01 5.29246247e-01 7.21157967e-01 8.57860283e-01\n",
            "  8.61809940e-01 7.06739075e-01 5.90878538e-01 7.17235901e-01\n",
            "  6.92161103e-01 5.54738098e-01 7.54136900e-01 6.26502607e-01\n",
            "  5.34488385e-01 6.05767007e-01 3.39094185e-01 4.80965520e-01\n",
            "  5.56406380e-01 1.75821164e-01 6.07269147e-01 5.73153310e-01\n",
            "  9.04247630e-01 9.47547033e-01 3.39965650e-01 5.61479866e-01\n",
            "  4.37761899e-01 4.21995301e-01 9.46831091e-01 4.10492278e-01\n",
            "  8.42777803e-01 6.22972902e-01 7.21846412e-01 9.07790072e-01\n",
            "  2.77615672e-01 2.62306700e-01 3.01868916e-01 9.13365118e-01\n",
            "  2.46922277e-01 6.48608231e-01 9.92408048e-01 9.64700220e-01\n",
            "  2.12441450e-01 1.03089778e+00 3.87166184e-01 6.91350388e-01\n",
            "  9.72627038e-01 8.93700229e-01 8.22717554e-01 6.31554990e-01\n",
            "  1.52118117e-01 3.90567630e-01 8.86260984e-01 2.97195491e-01\n",
            "  5.57165334e-01 5.00131894e-02 8.51547551e-01 8.38263821e-01\n",
            "  1.00980710e+00 5.48290109e-01 6.91032370e-01 8.73492136e-01\n",
            "  6.53062826e-01 2.59564185e-01 4.58238027e-01 7.72466081e-01\n",
            "  5.51797175e-01 2.22644508e-01 6.16543754e-01 5.17082837e-01\n",
            "  5.70932713e-01 2.55291759e-01 3.48092201e-01 7.03731818e-01\n",
            "  4.68514894e-01 3.95177508e-02 8.66677082e-01 3.13152527e-01\n",
            "  3.18818084e-01 9.43490191e-01 9.14584416e-01 6.07775605e-01\n",
            "  7.70336532e-01 7.25998886e-01 3.74823487e-01 7.93735300e-01\n",
            "  2.45167752e-01 6.52900482e-01 5.60504289e-01 9.19287502e-01\n",
            "  3.61176622e-01 8.87287587e-01 1.61238391e-01 3.34603923e-01\n",
            "  5.27427237e-01 2.55206922e-01 0.00000000e+00 3.86508822e-01\n",
            "  3.58425211e-01 5.46229682e-01 3.82941700e-01 6.22350568e-01]\n",
            " [3.91465760e-01 2.83467975e-01 5.50577878e-01 6.80637960e-01\n",
            "  5.16463369e-01 8.15709840e-01 3.05202013e-01 4.98700266e-01\n",
            "  6.68771207e-01 6.01915549e-01 6.64430457e-01 4.85741924e-01\n",
            "  7.10145931e-01 7.74580955e-01 3.02138661e-01 1.95330665e-01\n",
            "  7.68077280e-01 4.60378866e-01 4.09976559e-01 8.44047969e-01\n",
            "  7.34174857e-01 6.52376246e-01 2.03609317e-01 4.86321912e-01\n",
            "  1.10928710e-01 7.26963743e-02 7.44415241e-01 7.21940518e-01\n",
            "  6.60385407e-01 7.56478823e-01 8.22504031e-01 8.76887988e-01\n",
            "  1.35127312e-01 2.82603199e-01 1.30249405e-01 6.12815567e-01\n",
            "  3.01982559e-01 7.17379819e-01 6.38860516e-01 6.42836333e-01\n",
            "  5.56882286e-01 6.68791978e-01 6.06541394e-01 3.13654548e-01\n",
            "  9.52329718e-01 8.76269845e-01 4.60074491e-01 5.88955605e-01\n",
            "  2.71454292e-01 2.68163449e-01 5.76875427e-01 1.70081440e-01\n",
            "  1.77961125e-01 3.83475136e-01 5.24929159e-01 5.20367248e-01\n",
            "  6.55540495e-01 2.12615710e-01 3.17871110e-01 7.52618236e-01\n",
            "  2.72891897e-01 3.78732478e-01 1.34550743e-01 7.29618983e-01\n",
            "  8.65008761e-01 2.01801098e-01 5.62412173e-01 3.58732381e-01\n",
            "  1.96116757e-01 5.68618879e-01 6.51603532e-01 5.88741632e-01\n",
            "  8.56673070e-02 4.09324549e-01 5.39405111e-01 8.31640299e-02\n",
            "  1.67215137e-01 8.13161572e-01 5.83544594e-01 2.44882003e-01\n",
            "  5.21055133e-01 3.69670675e-01 1.61335429e-01 7.08689919e-01\n",
            "  3.49308376e-01 3.60361254e-01 3.57372276e-01 6.38214686e-01\n",
            "  3.81845763e-02 8.44356221e-01 4.97429773e-01 4.53284327e-01\n",
            "  7.02626172e-01 3.48245016e-01 3.86508822e-01 0.00000000e+00\n",
            "  6.89639300e-01 8.03185426e-01 3.38200665e-01 7.56207707e-01]\n",
            " [6.76653565e-01 7.07898118e-01 7.86151552e-01 9.00817799e-01\n",
            "  1.06580097e+00 5.12167438e-01 7.80507114e-01 8.23957096e-01\n",
            "  6.32843728e-01 4.76771357e-01 7.39576844e-01 6.92538776e-01\n",
            "  3.22086173e-01 3.75225933e-01 4.79731932e-01 7.01893790e-01\n",
            "  2.91998019e-01 2.29303858e-01 7.25123929e-01 2.39977711e-01\n",
            "  9.32992703e-01 1.08908512e+00 5.49714466e-01 5.95718041e-01\n",
            "  6.96757984e-01 7.43619367e-01 9.99127730e-01 6.45162486e-02\n",
            "  8.93049245e-01 4.26096983e-01 5.32060752e-01 8.07403033e-01\n",
            "  6.14107937e-01 4.38777483e-01 6.41104753e-01 1.06400105e+00\n",
            "  6.04286127e-01 5.12034356e-01 1.19713895e+00 1.13293363e+00\n",
            "  1.46033967e-01 1.24584151e+00 2.09125687e-01 9.52407540e-01\n",
            "  8.52303688e-01 7.83108388e-01 1.05159623e+00 6.09700929e-01\n",
            "  4.19105373e-01 5.53373854e-01 1.04883092e+00 5.41033653e-01\n",
            "  8.67553565e-01 3.30539356e-01 1.03570522e+00 1.01483225e+00\n",
            "  1.21445962e+00 7.84497502e-01 9.45031604e-01 8.62414555e-01\n",
            "  9.21257977e-01 3.50790652e-01 7.91190563e-01 7.10263170e-01\n",
            "  1.93931759e-01 5.71610297e-01 6.10599893e-01 6.37583239e-01\n",
            "  8.38440081e-01 1.21230298e-01 6.61714934e-02 7.24794316e-01\n",
            "  7.75216344e-01 3.19980412e-01 1.04998214e+00 6.06672375e-01\n",
            "  6.67688462e-01 9.29526240e-01 1.09748479e+00 8.57815959e-01\n",
            "  8.92976215e-01 9.55562068e-01 7.22051690e-01 7.65738081e-01\n",
            "  3.70499722e-01 8.34335869e-01 6.97915602e-01 1.04983694e+00\n",
            "  6.55212221e-01 8.01666147e-01 2.01785748e-01 3.36706394e-01\n",
            "  3.18692671e-01 3.77341241e-01 3.58425211e-01 6.89639300e-01\n",
            "  0.00000000e+00 2.31838336e-01 7.39703093e-01 4.25291313e-01]\n",
            " [6.67878451e-01 7.36640129e-01 7.31707270e-01 8.20976906e-01\n",
            "  1.08040415e+00 3.23554604e-01 8.07657050e-01 7.92339474e-01\n",
            "  5.17862308e-01 3.82403864e-01 6.39307125e-01 6.51090926e-01\n",
            "  1.71477769e-01 1.85579267e-01 5.30787551e-01 7.58566441e-01\n",
            "  9.79408483e-02 3.78466634e-01 7.12497747e-01 4.82056328e-02\n",
            "  8.41628107e-01 1.05962927e+00 6.23599489e-01 5.50452970e-01\n",
            "  7.78934591e-01 8.67806370e-01 9.17780068e-01 1.67900558e-01\n",
            "  8.18510933e-01 2.51792679e-01 3.43965230e-01 6.47213506e-01\n",
            "  7.60235841e-01 5.22794506e-01 7.87882117e-01 1.04210186e+00\n",
            "  7.90152409e-01 3.64835942e-01 1.20565872e+00 1.11904907e+00\n",
            "  3.48440277e-01 1.25969147e+00 1.97441007e-01 1.01519166e+00\n",
            "  6.77853662e-01 6.18776379e-01 1.08482199e+00 5.24028476e-01\n",
            "  5.54263581e-01 5.98762042e-01 1.03588427e+00 6.36275532e-01\n",
            "  9.74697236e-01 5.06103212e-01 1.03828167e+00 1.01353855e+00\n",
            "  1.22215929e+00 8.42302508e-01 1.00299603e+00 7.51916982e-01\n",
            "  9.91348357e-01 4.25236753e-01 9.23241991e-01 5.82795374e-01\n",
            "  1.50782696e-01 7.32825416e-01 5.35512665e-01 6.40171437e-01\n",
            "  9.13678129e-01 2.93200767e-01 2.05274760e-01 6.49497931e-01\n",
            "  8.84887188e-01 5.06876747e-01 1.05110051e+00 7.22015313e-01\n",
            "  8.23563250e-01 8.12038939e-01 1.09558782e+00 9.18964260e-01\n",
            "  8.65083621e-01 9.95091547e-01 8.73340261e-01 6.53866530e-01\n",
            "  4.54103166e-01 8.50591834e-01 7.01665829e-01 1.01546971e+00\n",
            "  7.65530714e-01 6.50662097e-01 3.86917406e-01 3.62921931e-01\n",
            "  1.73873942e-01 4.55939558e-01 5.46229682e-01 8.03185426e-01\n",
            "  2.31838336e-01 0.00000000e+00 9.25752264e-01 2.51036572e-01]\n",
            " [7.14161860e-01 6.17500157e-01 8.79045798e-01 1.01297196e+00\n",
            "  8.29923173e-01 1.04084143e+00 6.43401203e-01 8.34387606e-01\n",
            "  9.53613029e-01 8.50816022e-01 9.73957921e-01 8.04252518e-01\n",
            "  8.90542669e-01 9.61705582e-01 5.57127290e-01 5.31736492e-01\n",
            "  9.25393235e-01 5.47904161e-01 7.39746635e-01 9.54880700e-01\n",
            "  1.06600579e+00 9.84681290e-01 4.84216137e-01 7.82336005e-01\n",
            "  4.48643795e-01 2.98116604e-01 1.08086865e+00 7.93314496e-01\n",
            "  9.93297506e-01 9.65207623e-01 1.05256055e+00 1.17110833e+00\n",
            "  2.37555421e-01 4.97318159e-01 2.22495873e-01 9.44383686e-01\n",
            "  1.36083470e-01 9.60962069e-01 9.40042128e-01 9.65970752e-01\n",
            "  5.94396187e-01 9.58842369e-01 7.52427837e-01 6.02127518e-01\n",
            "  1.24396909e+00 1.16511136e+00 7.60128240e-01 8.78053578e-01\n",
            "  3.99401972e-01 5.58857698e-01 9.06532828e-01 4.27800161e-01\n",
            "  4.00226443e-01 4.19775161e-01 8.49229984e-01 8.48477803e-01\n",
            "  9.55337604e-01 5.47166305e-01 6.14700804e-01 1.07374629e+00\n",
            "  5.60506964e-01 5.61734590e-01 2.73628688e-01 1.02448334e+00\n",
            "  9.33586579e-01 2.16915425e-01 8.54747701e-01 6.75014853e-01\n",
            "  5.05851956e-01 6.37780028e-01 7.30794793e-01 9.03726191e-01\n",
            "  3.60331960e-01 4.22325975e-01 8.62922882e-01 3.46060407e-01\n",
            "  1.75220192e-01 1.13779658e+00 9.03688565e-01 5.62296382e-01\n",
            "  8.59206740e-01 6.82356578e-01 1.81818628e-01 1.01802536e+00\n",
            "  5.33932694e-01 6.97831927e-01 6.86134708e-01 9.73595618e-01\n",
            "  3.52889835e-01 1.14241563e+00 5.44068620e-01 6.49763366e-01\n",
            "  8.83032923e-01 5.39523517e-01 3.82941700e-01 3.38200665e-01\n",
            "  7.39703093e-01 9.25752264e-01 0.00000000e+00 9.64714712e-01]\n",
            " [5.06741640e-01 6.04990692e-01 5.25034784e-01 5.92850236e-01\n",
            "  9.13698382e-01 8.90503810e-02 6.67941233e-01 6.00298947e-01\n",
            "  2.81556344e-01 1.86049550e-01 4.05633205e-01 4.61445043e-01\n",
            "  1.03617303e-01 6.74041844e-02 4.54466345e-01 6.53359130e-01\n",
            "  1.53601902e-01 4.49722249e-01 5.43184605e-01 2.90850421e-01\n",
            "  6.06543493e-01 8.57999827e-01 5.54260785e-01 3.69401284e-01\n",
            "  6.98985660e-01 8.27850871e-01 6.86322335e-01 3.75052532e-01\n",
            "  5.93708660e-01 8.10094295e-04 1.07886483e-01 3.96841654e-01\n",
            "  7.56587626e-01 4.84059207e-01 7.82432642e-01 8.46688172e-01\n",
            "  8.37707834e-01 1.19609055e-01 1.02961403e+00 9.27455011e-01\n",
            "  4.81185356e-01 1.08663343e+00 2.47644629e-01 8.97350956e-01\n",
            "  4.32017585e-01 3.69085780e-01 9.34783046e-01 3.09318496e-01\n",
            "  5.65499652e-01 5.02862742e-01 8.47699909e-01 5.88452296e-01\n",
            "  9.07310108e-01 5.73404894e-01 8.62821272e-01 8.35787412e-01\n",
            "  1.04497272e+00 7.30672776e-01 8.80906944e-01 5.09695782e-01\n",
            "  8.82379339e-01 4.04211565e-01 8.88760955e-01 3.37319621e-01\n",
            "  4.01817353e-01 7.51140282e-01 3.28656047e-01 4.93545163e-01\n",
            "  8.15034880e-01 4.18646809e-01 3.68861593e-01 4.32157921e-01\n",
            "  8.26559133e-01 5.88000314e-01 8.73913199e-01 6.85540254e-01\n",
            "  8.26711544e-01 5.66276175e-01 9.14310704e-01 8.05176311e-01\n",
            "  6.72079077e-01 8.55199830e-01 8.66666172e-01 4.13362791e-01\n",
            "  4.33282266e-01 6.97191438e-01 5.48964385e-01 8.11573670e-01\n",
            "  7.18504881e-01 3.99626659e-01 4.91443390e-01 3.16691129e-01\n",
            "  1.07953448e-01 4.29222175e-01 6.22350568e-01 7.56207707e-01\n",
            "  4.25291313e-01 2.51036572e-01 9.64714712e-01 0.00000000e+00]]\n"
          ]
        }
      ],
      "source": [
        "# Given vector with shape (100,2)\n",
        "vector = np.random.random((100, 2))\n",
        "\n",
        "# Calculate point by point distances\n",
        "distances = np.sqrt(np.sum(np.square(vector[:, np.newaxis] - vector), axis=2))\n",
        "\n",
        "print(\"Point by point distances:\")\n",
        "print(distances)"
      ]
    },
    {
      "cell_type": "markdown",
      "metadata": {
        "id": "YJZp_rySmhzj"
      },
      "source": [
        "#### 53. How to convert a float (32 bits) array into an integer (32 bits) in place?"
      ]
    },
    {
      "cell_type": "code",
      "execution_count": null,
      "metadata": {
        "id": "TGUdn_wWmhzj",
        "colab": {
          "base_uri": "https://localhost:8080/"
        },
        "outputId": "447bbd68-051e-4912-d532-1b367cf5b50a"
      },
      "outputs": [
        {
          "output_type": "stream",
          "name": "stdout",
          "text": [
            "Integer array:\n",
            "[1 2 3]\n"
          ]
        }
      ],
      "source": [
        "# Create a float array\n",
        "float_array = np.array([1.5, 2.7, 3.9], dtype=np.float32)\n",
        "\n",
        "# Convert the float array to an integer array in place\n",
        "float_array = float_array.astype(np.int32)\n",
        "\n",
        "print(\"Integer array:\")\n",
        "print(float_array)"
      ]
    },
    {
      "cell_type": "markdown",
      "metadata": {
        "id": "rXKKuP3pmhzj"
      },
      "source": [
        "#### 54. How to read the following file? (★★☆)\n",
        "```\n",
        "1, 2, 3, 4, 5\n",
        "6,  ,  , 7, 8\n",
        " ,  , 9,10,11\n",
        "```"
      ]
    },
    {
      "cell_type": "code",
      "execution_count": null,
      "metadata": {
        "id": "8AaPvzInmhzj",
        "colab": {
          "base_uri": "https://localhost:8080/",
          "height": 227
        },
        "outputId": "c42c9f0b-2d85-4611-d8fc-ca1523e0b336"
      },
      "outputs": [
        {
          "output_type": "error",
          "ename": "FileNotFoundError",
          "evalue": "ignored",
          "traceback": [
            "\u001b[0;31m---------------------------------------------------------------------------\u001b[0m",
            "\u001b[0;31mFileNotFoundError\u001b[0m                         Traceback (most recent call last)",
            "\u001b[0;32m<ipython-input-55-8d0f4542a7ef>\u001b[0m in \u001b[0;36m<cell line: 1>\u001b[0;34m()\u001b[0m\n\u001b[0;32m----> 1\u001b[0;31m \u001b[0;32mwith\u001b[0m \u001b[0mopen\u001b[0m\u001b[0;34m(\u001b[0m\u001b[0;34m'filename.txt'\u001b[0m\u001b[0;34m,\u001b[0m \u001b[0;34m'r'\u001b[0m\u001b[0;34m)\u001b[0m \u001b[0;32mas\u001b[0m \u001b[0mfile\u001b[0m\u001b[0;34m:\u001b[0m\u001b[0;34m\u001b[0m\u001b[0;34m\u001b[0m\u001b[0m\n\u001b[0m\u001b[1;32m      2\u001b[0m     \u001b[0;32mfor\u001b[0m \u001b[0mline\u001b[0m \u001b[0;32min\u001b[0m \u001b[0mfile\u001b[0m\u001b[0;34m:\u001b[0m\u001b[0;34m\u001b[0m\u001b[0;34m\u001b[0m\u001b[0m\n\u001b[1;32m      3\u001b[0m         \u001b[0mvalues\u001b[0m \u001b[0;34m=\u001b[0m \u001b[0mline\u001b[0m\u001b[0;34m.\u001b[0m\u001b[0mstrip\u001b[0m\u001b[0;34m(\u001b[0m\u001b[0;34m)\u001b[0m\u001b[0;34m.\u001b[0m\u001b[0msplit\u001b[0m\u001b[0;34m(\u001b[0m\u001b[0;34m','\u001b[0m\u001b[0;34m)\u001b[0m\u001b[0;34m\u001b[0m\u001b[0;34m\u001b[0m\u001b[0m\n\u001b[1;32m      4\u001b[0m         \u001b[0mprint\u001b[0m\u001b[0;34m(\u001b[0m\u001b[0mvalues\u001b[0m\u001b[0;34m)\u001b[0m\u001b[0;34m\u001b[0m\u001b[0;34m\u001b[0m\u001b[0m\n",
            "\u001b[0;31mFileNotFoundError\u001b[0m: [Errno 2] No such file or directory: 'filename.txt'"
          ]
        }
      ],
      "source": [
        "with open('filename.txt', 'r') as file:\n",
        "    for line in file:\n",
        "        values = line.strip().split(',')\n",
        "        print(values)"
      ]
    },
    {
      "cell_type": "markdown",
      "metadata": {
        "id": "1Tcg_9-8mhzj"
      },
      "source": [
        "#### 55. What is the equivalent of enumerate for numpy arrays? (★★☆)"
      ]
    },
    {
      "cell_type": "code",
      "execution_count": null,
      "metadata": {
        "id": "9U98dT_6mhzj",
        "colab": {
          "base_uri": "https://localhost:8080/"
        },
        "outputId": "2e01f425-c2bf-48a8-cb36-4600fe88eb69"
      },
      "outputs": [
        {
          "output_type": "stream",
          "name": "stdout",
          "text": [
            "(0, 0) 1\n",
            "(0, 1) 2\n",
            "(0, 2) 3\n",
            "(1, 0) 4\n",
            "(1, 1) 5\n",
            "(1, 2) 6\n",
            "(2, 0) 7\n",
            "(2, 1) 8\n",
            "(2, 2) 9\n"
          ]
        }
      ],
      "source": [
        "# Create a Numpy array\n",
        "array = np.array([[1, 2, 3], [4, 5, 6], [7, 8, 9]])\n",
        "\n",
        "# Iterate over the array with ndenumerate\n",
        "for index, value in np.ndenumerate(array):\n",
        "    print(index, value)"
      ]
    },
    {
      "cell_type": "markdown",
      "metadata": {
        "id": "EZS2Q1ynmhzk"
      },
      "source": [
        "#### 56. Generate a generic 2D Gaussian-like array (★★☆)"
      ]
    },
    {
      "cell_type": "code",
      "execution_count": null,
      "metadata": {
        "id": "6m4ssh5zmhzk",
        "colab": {
          "base_uri": "https://localhost:8080/"
        },
        "outputId": "fc99a5bc-0b1e-47a5-86db-ba255750029e"
      },
      "outputs": [
        {
          "output_type": "stream",
          "name": "stdout",
          "text": [
            "2D Gaussian-like array:\n",
            "[[0.36787944 0.44822088 0.51979489 0.57375342 0.60279818 0.60279818\n",
            "  0.57375342 0.51979489 0.44822088 0.36787944]\n",
            " [0.44822088 0.54610814 0.63331324 0.69905581 0.73444367 0.73444367\n",
            "  0.69905581 0.63331324 0.54610814 0.44822088]\n",
            " [0.51979489 0.63331324 0.73444367 0.81068432 0.85172308 0.85172308\n",
            "  0.81068432 0.73444367 0.63331324 0.51979489]\n",
            " [0.57375342 0.69905581 0.81068432 0.89483932 0.9401382  0.9401382\n",
            "  0.89483932 0.81068432 0.69905581 0.57375342]\n",
            " [0.60279818 0.73444367 0.85172308 0.9401382  0.98773022 0.98773022\n",
            "  0.9401382  0.85172308 0.73444367 0.60279818]\n",
            " [0.60279818 0.73444367 0.85172308 0.9401382  0.98773022 0.98773022\n",
            "  0.9401382  0.85172308 0.73444367 0.60279818]\n",
            " [0.57375342 0.69905581 0.81068432 0.89483932 0.9401382  0.9401382\n",
            "  0.89483932 0.81068432 0.69905581 0.57375342]\n",
            " [0.51979489 0.63331324 0.73444367 0.81068432 0.85172308 0.85172308\n",
            "  0.81068432 0.73444367 0.63331324 0.51979489]\n",
            " [0.44822088 0.54610814 0.63331324 0.69905581 0.73444367 0.73444367\n",
            "  0.69905581 0.63331324 0.54610814 0.44822088]\n",
            " [0.36787944 0.44822088 0.51979489 0.57375342 0.60279818 0.60279818\n",
            "  0.57375342 0.51979489 0.44822088 0.36787944]]\n"
          ]
        }
      ],
      "source": [
        "# Create a meshgrid of x and y coordinates\n",
        "x, y = np.meshgrid(np.linspace(-1, 1, num=10), np.linspace(-1, 1, num=10))\n",
        "\n",
        "# Calculate the distance from the origin\n",
        "d = np.sqrt(x**2 + y**2)\n",
        "\n",
        "# Set the parameters for the Gaussian-like array\n",
        "sigma, mu = 1.0, 0.0\n",
        "\n",
        "# Calculate the Gaussian-like array\n",
        "g = np.exp(-((d - mu)**2 / (2.0 * sigma**2)))\n",
        "\n",
        "print(\"2D Gaussian-like array:\")\n",
        "print(g)"
      ]
    },
    {
      "cell_type": "markdown",
      "metadata": {
        "id": "UvXDGH7Vmhzk"
      },
      "source": [
        "#### 57. How to randomly place p elements in a 2D array? (★★☆)"
      ]
    },
    {
      "cell_type": "code",
      "execution_count": null,
      "metadata": {
        "id": "eDLm7Qlgmhzk",
        "colab": {
          "base_uri": "https://localhost:8080/"
        },
        "outputId": "36a32a6f-66de-4759-94cf-f044c199dafd"
      },
      "outputs": [
        {
          "output_type": "stream",
          "name": "stdout",
          "text": [
            "Randomly placed elements in the 2D array:\n",
            "[[False False False False  True]\n",
            " [ True False False False False]\n",
            " [False False False False False]\n",
            " [False False False False False]\n",
            " [ True False False False False]]\n"
          ]
        }
      ],
      "source": [
        "# Define the size of the 2D array\n",
        "m, n = 5, 5\n",
        "\n",
        "# Define the number of elements to place randomly\n",
        "p = 3\n",
        "\n",
        "# Create a zeros-initialized 2D array\n",
        "array = np.zeros((m, n), dtype=bool)\n",
        "\n",
        "# Generate random indices and set the corresponding elements to True\n",
        "indices = np.random.choice(m * n, p, replace=False)\n",
        "array.flat[indices] = True\n",
        "\n",
        "print(\"Randomly placed elements in the 2D array:\")\n",
        "print(array)"
      ]
    },
    {
      "cell_type": "markdown",
      "metadata": {
        "id": "WLh21Palmhzk"
      },
      "source": [
        "#### 58. Subtract the mean of each row of a matrix (★★☆)"
      ]
    },
    {
      "cell_type": "code",
      "execution_count": null,
      "metadata": {
        "id": "dKT-Gl5dmhzk",
        "colab": {
          "base_uri": "https://localhost:8080/"
        },
        "outputId": "de68f5da-b1ed-4f26-d5d5-ffbbf7571b66"
      },
      "outputs": [
        {
          "output_type": "stream",
          "name": "stdout",
          "text": [
            "Result:\n",
            "[[-1.  0.  1.]\n",
            " [-1.  0.  1.]\n",
            " [-1.  0.  1.]]\n"
          ]
        }
      ],
      "source": [
        "# Create a matrix\n",
        "matrix = np.array([[1, 2, 3], [4, 5, 6], [7, 8, 9]])\n",
        "\n",
        "# Subtract the mean of each row\n",
        "result = matrix - np.mean(matrix, axis=1, keepdims=True)\n",
        "\n",
        "print(\"Result:\")\n",
        "print(result)"
      ]
    },
    {
      "cell_type": "markdown",
      "metadata": {
        "id": "ULLY_6nSmhzk"
      },
      "source": [
        "#### 59. How to sort an array by the nth column? (★★☆)"
      ]
    },
    {
      "cell_type": "code",
      "execution_count": null,
      "metadata": {
        "id": "gL5D8jqumhzl",
        "colab": {
          "base_uri": "https://localhost:8080/"
        },
        "outputId": "b033b12a-138a-41c6-c714-272a6fb907ff"
      },
      "outputs": [
        {
          "output_type": "stream",
          "name": "stdout",
          "text": [
            "[[7 0 5]\n",
            " [9 2 3]\n",
            " [4 5 6]]\n"
          ]
        }
      ],
      "source": [
        "import numpy as np\n",
        "\n",
        "# Create a sample array\n",
        "a = np.array([[9, 2, 3], [4, 5, 6], [7, 0, 5]])\n",
        "\n",
        "# Sort the rows of 'a' by the second column\n",
        "a = a[a[:, 1].argsort()]\n",
        "\n",
        "print(a)\n"
      ]
    },
    {
      "cell_type": "markdown",
      "metadata": {
        "id": "tz-ko8oVmhzl"
      },
      "source": [
        "#### 60. How to tell if a given 2D array has null columns? (★★☆)"
      ]
    },
    {
      "cell_type": "code",
      "execution_count": null,
      "metadata": {
        "id": "Jbq8zZLAmhzl",
        "colab": {
          "base_uri": "https://localhost:8080/"
        },
        "outputId": "cda16a45-f51d-433f-c297-790a744207ce"
      },
      "outputs": [
        {
          "output_type": "stream",
          "name": "stdout",
          "text": [
            "Null columns: False\n"
          ]
        }
      ],
      "source": [
        "# Create a 2D array\n",
        "array = np.array([[1, 2, 3], [4, 5, 6], [7, 8, 9]])\n",
        "\n",
        "# Check if any column is filled with 0\n",
        "null_columns = (~array.any(axis=0)).any()\n",
        "\n",
        "print(\"Null columns:\", null_columns)"
      ]
    },
    {
      "cell_type": "markdown",
      "metadata": {
        "id": "wv7Wfr1smhzl"
      },
      "source": [
        "#### 61. Find the nearest value from a given value in an array (★★☆)"
      ]
    },
    {
      "cell_type": "code",
      "execution_count": null,
      "metadata": {
        "id": "ss2xJ-XTmhzl",
        "colab": {
          "base_uri": "https://localhost:8080/"
        },
        "outputId": "c6fb936d-1d7d-4ef9-ef1f-51fea49580a4"
      },
      "outputs": [
        {
          "output_type": "stream",
          "name": "stdout",
          "text": [
            "[0.21561379 0.34460526 0.62879123 0.04268712 0.65638681 0.5236537\n",
            " 0.18907522 0.53316402 0.26925175 0.402771  ]\n",
            "0.5236537007075037\n"
          ]
        }
      ],
      "source": [
        "import numpy as np\n",
        "\n",
        "def find_nearest(array, value):\n",
        "    array = np.asarray(array)\n",
        "    idx = (np.abs(array - value)).argmin()\n",
        "    return array[idx]\n",
        "\n",
        "# Example usage:\n",
        "array = np.random.random(10)\n",
        "print(array)  # [0.21069679 0.61290182 0.63425412 0.84635244 0.91599191 0.00213826\n",
        "              # 0.17104965 0.56874386 0.57319379 0.28719469]\n",
        "print(find_nearest(array, value=0.5))  # 0.568743859261\n"
      ]
    },
    {
      "cell_type": "markdown",
      "metadata": {
        "id": "lDp4NkK8mhzl"
      },
      "source": [
        "#### 62. Considering two arrays with shape (1,3) and (3,1), how to compute their sum using an iterator? (★★☆)"
      ]
    },
    {
      "cell_type": "code",
      "execution_count": null,
      "metadata": {
        "id": "b359sz-Qmhzl",
        "colab": {
          "base_uri": "https://localhost:8080/"
        },
        "outputId": "03ddd590-eb76-4fae-bb33-282786f40557"
      },
      "outputs": [
        {
          "output_type": "stream",
          "name": "stdout",
          "text": [
            "Sum: 63\n"
          ]
        }
      ],
      "source": [
        "# Create the two arrays\n",
        "A = np.array([[1, 2, 3]])\n",
        "B = np.array([[4], [5], [6]])\n",
        "\n",
        "# Create an iterator over the arrays\n",
        "it = np.nditer([A, B])\n",
        "\n",
        "# Initialize a variable to store the sum\n",
        "sum = 0\n",
        "\n",
        "# Iterate over the arrays and compute the sum\n",
        "for x, y in it:\n",
        "    sum += x + y\n",
        "\n",
        "print(\"Sum:\", sum)"
      ]
    },
    {
      "cell_type": "markdown",
      "metadata": {
        "id": "vubyds3Gmhzl"
      },
      "source": [
        "#### 63. Create an array class that has a name attribute (★★☆)"
      ]
    },
    {
      "cell_type": "code",
      "execution_count": null,
      "metadata": {
        "id": "VZgBDQHAmhzl",
        "colab": {
          "base_uri": "https://localhost:8080/"
        },
        "outputId": "9e889c10-2d17-48b4-fa11-66dd206a39d5"
      },
      "outputs": [
        {
          "output_type": "stream",
          "name": "stdout",
          "text": [
            "my_array\n"
          ]
        }
      ],
      "source": [
        "class NamedArray(np.ndarray):\n",
        "    def __new__(cls, input_array, name):\n",
        "        obj = np.asarray(input_array).view(cls)\n",
        "        obj.name = name\n",
        "        return obj\n",
        "\n",
        "# Create an instance of the NamedArray class with a name attribute\n",
        "my_array = NamedArray([1, 2, 3], name=\"my_array\")\n",
        "\n",
        "# Access the name attribute\n",
        "print(my_array.name)"
      ]
    },
    {
      "cell_type": "markdown",
      "metadata": {
        "id": "Xt6P1A4_mhzl"
      },
      "source": [
        "#### 64. Consider a given vector, how to add 1 to each element indexed by a second vector (be careful with repeated indices)? (★★★)"
      ]
    },
    {
      "cell_type": "code",
      "execution_count": null,
      "metadata": {
        "id": "rI_J9qN6mhzl",
        "colab": {
          "base_uri": "https://localhost:8080/"
        },
        "outputId": "b9150631-7d78-4994-a5c3-075b3ab2abe0"
      },
      "outputs": [
        {
          "output_type": "stream",
          "name": "stdout",
          "text": [
            "Resulting vector:\n",
            "[2 3 4 5 5]\n"
          ]
        }
      ],
      "source": [
        "# Create the first vector\n",
        "vector1 = np.array([1, 2, 3, 4, 5])\n",
        "\n",
        "# Create the second vector with indices\n",
        "indices = np.array([0, 1, 2, 2, 3])\n",
        "\n",
        "# Add 1 to each element of the first vector indexed by the second vector\n",
        "vector1[indices] += 1\n",
        "\n",
        "print(\"Resulting vector:\")\n",
        "print(vector1)"
      ]
    },
    {
      "cell_type": "markdown",
      "metadata": {
        "id": "0YVFRHkNmhzm"
      },
      "source": [
        "#### 65. How to accumulate elements of a vector (X) to an array (F) based on an index list (I)? (★★★)"
      ]
    },
    {
      "cell_type": "code",
      "execution_count": null,
      "metadata": {
        "id": "Jnc1sGPvmhzm",
        "colab": {
          "base_uri": "https://localhost:8080/"
        },
        "outputId": "63df067d-e6e3-4004-cf86-b99259978446"
      },
      "outputs": [
        {
          "output_type": "stream",
          "name": "stdout",
          "text": [
            "Resulting array F:\n",
            "[1. 2. 7. 5. 0. 0. 0. 0. 0. 0.]\n"
          ]
        }
      ],
      "source": [
        "# Create the vector X\n",
        "X = np.array([1, 2, 3, 4, 5])\n",
        "\n",
        "# Create the array F\n",
        "F = np.zeros(10)\n",
        "\n",
        "# Create the index list I\n",
        "I = np.array([0, 1, 2, 2, 3])\n",
        "\n",
        "# Accumulate elements of X to F based on I\n",
        "np.add.at(F, I, X)\n",
        "\n",
        "print(\"Resulting array F:\")\n",
        "print(F)"
      ]
    },
    {
      "cell_type": "markdown",
      "metadata": {
        "id": "gnBj07Qdmhzm"
      },
      "source": [
        "#### 66. Considering a (w,h,3) image of (dtype=ubyte), compute the number of unique colors (★★★)"
      ]
    },
    {
      "cell_type": "code",
      "execution_count": null,
      "metadata": {
        "id": "kLtnNAq2mhzm",
        "colab": {
          "base_uri": "https://localhost:8080/"
        },
        "outputId": "da48db8a-893f-4d99-cfd4-2630c77f7af8"
      },
      "outputs": [
        {
          "output_type": "stream",
          "name": "stdout",
          "text": [
            "9998\n"
          ]
        }
      ],
      "source": [
        "import numpy as np\n",
        "\n",
        "def count_unique_colors(image):\n",
        "    unique_colors = np.unique(image.reshape(-1, 3), axis=0)\n",
        "    return len(unique_colors)\n",
        "\n",
        "# Example usage:\n",
        "image = np.random.randint(0, 256, size=(100, 100, 3), dtype=np.uint8)\n",
        "print(count_unique_colors(image))\n"
      ]
    },
    {
      "cell_type": "markdown",
      "metadata": {
        "id": "xSFigCigmhzm"
      },
      "source": [
        "#### 67. Considering a four dimensions array, how to get sum over the last two axis at once? (★★★)"
      ]
    },
    {
      "cell_type": "code",
      "execution_count": null,
      "metadata": {
        "id": "cZVT3Okdmhzm",
        "colab": {
          "base_uri": "https://localhost:8080/"
        },
        "outputId": "37b38246-5fd5-452a-91c1-279c9a944543"
      },
      "outputs": [
        {
          "output_type": "stream",
          "name": "stdout",
          "text": [
            "Resulting array:\n",
            "[[10.71188321 10.00911753 12.29901078]\n",
            " [12.32444892  6.92686782 10.39436591]]\n"
          ]
        }
      ],
      "source": [
        "# Create a four-dimensional array\n",
        "array = np.random.random((2, 3, 4, 5))\n",
        "\n",
        "# Get the sum over the last two axes\n",
        "result = np.sum(array, axis=(-2, -1))\n",
        "\n",
        "print(\"Resulting array:\")\n",
        "print(result)"
      ]
    },
    {
      "cell_type": "markdown",
      "metadata": {
        "id": "1ds31UV2mhzm"
      },
      "source": [
        "#### 68. Considering a one-dimensional vector D, how to compute means of subsets of D using a vector S of same size describing subset  indices? (★★★)"
      ]
    },
    {
      "cell_type": "code",
      "execution_count": null,
      "metadata": {
        "id": "W9G5Gj8lmhzm",
        "colab": {
          "base_uri": "https://localhost:8080/"
        },
        "outputId": "2bfbae43-1106-40a6-caed-cce5780b60bf"
      },
      "outputs": [
        {
          "output_type": "stream",
          "name": "stdout",
          "text": [
            "Means of subsets of D:\n",
            "[1.5 4. ]\n"
          ]
        }
      ],
      "source": [
        "# Create the one-dimensional vector D\n",
        "D = np.array([1, 2, 3, 4, 5])\n",
        "\n",
        "# Create the vector S describing subset indices\n",
        "S = np.array([0, 0, 1, 1, 1])\n",
        "\n",
        "# Compute the means of subsets of D using S\n",
        "D_sums = np.bincount(S, weights=D)\n",
        "D_counts = np.bincount(S)\n",
        "D_means = D_sums / D_counts\n",
        "\n",
        "print(\"Means of subsets of D:\")\n",
        "print(D_means)"
      ]
    },
    {
      "cell_type": "markdown",
      "metadata": {
        "id": "DmgB_TXBmhzm"
      },
      "source": [
        "#### 69. How to get the diagonal of a dot product? (★★★)"
      ]
    },
    {
      "cell_type": "code",
      "execution_count": null,
      "metadata": {
        "id": "lmsypM9Smhzm",
        "colab": {
          "base_uri": "https://localhost:8080/"
        },
        "outputId": "f6c9b3c1-0398-4d09-c060-b34e05a2c257"
      },
      "outputs": [
        {
          "output_type": "stream",
          "name": "stdout",
          "text": [
            "[ 84 216 366]\n"
          ]
        }
      ],
      "source": [
        "import numpy as np\n",
        "\n",
        "def diagonal_of_dot_product(a, b):\n",
        "    dot_product = np.dot(a, b)\n",
        "    diagonal = np.diag(dot_product)\n",
        "    return diagonal\n",
        "\n",
        "# Example usage:\n",
        "a = np.array([[1, 2, 3], [4, 5, 6], [7, 8, 9]])\n",
        "b = np.array([[10, 11, 12], [13, 14, 15], [16, 17, 18]])\n",
        "print(diagonal_of_dot_product(a, b))  # [68 167 266]\n"
      ]
    },
    {
      "cell_type": "markdown",
      "metadata": {
        "id": "NnalcEF-mhzn"
      },
      "source": [
        "#### 70. Consider the vector [1, 2, 3, 4, 5], how to build a new vector with 3 consecutive zeros interleaved between each value? (★★★)"
      ]
    },
    {
      "cell_type": "code",
      "execution_count": null,
      "metadata": {
        "id": "PoXJYOw9mhzn",
        "colab": {
          "base_uri": "https://localhost:8080/"
        },
        "outputId": "33d8b13e-e4ba-4b4d-875b-0f43e3e4accc"
      },
      "outputs": [
        {
          "output_type": "stream",
          "name": "stdout",
          "text": [
            "Original array:\n",
            "[1 2 3 4 5]\n",
            "\n",
            "New array:\n",
            "[1. 0. 0. 0. 2. 0. 0. 0. 3. 0. 0. 0. 4. 0. 0. 0. 5.]\n"
          ]
        }
      ],
      "source": [
        "nums = np.array([1, 2, 3, 4, 5])\n",
        "p = 3\n",
        "new_nums = np.zeros(len(nums) + (len(nums) - 1) * p)\n",
        "new_nums[::p + 1] = nums\n",
        "\n",
        "print(\"Original array:\")\n",
        "print(nums)\n",
        "print(\"\\nNew array:\")\n",
        "print(new_nums)"
      ]
    },
    {
      "cell_type": "markdown",
      "metadata": {
        "id": "L8mUVTH-mhzn"
      },
      "source": [
        "#### 71. Consider an array of dimension (5,5,3), how to mulitply it by an array with dimensions (5,5)? (★★★)"
      ]
    },
    {
      "cell_type": "code",
      "execution_count": null,
      "metadata": {
        "id": "p_zJswn0mhzn",
        "colab": {
          "base_uri": "https://localhost:8080/"
        },
        "outputId": "d43e3c12-3ac9-48dd-f217-941432cb66c1"
      },
      "outputs": [
        {
          "output_type": "stream",
          "name": "stdout",
          "text": [
            "Original array of dimension (5,5,3):\n",
            "[[[0.19407809 0.96043972 0.78078748]\n",
            "  [0.96845033 0.02710704 0.94555532]\n",
            "  [0.75725419 0.80942486 0.83923207]\n",
            "  [0.19309671 0.06216325 0.27838268]\n",
            "  [0.35486628 0.03603637 0.64290903]]\n",
            "\n",
            " [[0.16791106 0.47271096 0.45104063]\n",
            "  [0.98230933 0.95298009 0.95909889]\n",
            "  [0.35486101 0.8568309  0.87855121]\n",
            "  [0.27989416 0.01952217 0.62553326]\n",
            "  [0.24136475 0.02151609 0.72132694]]\n",
            "\n",
            " [[0.8689288  0.50165675 0.98214925]\n",
            "  [0.17746766 0.91825864 0.79864373]\n",
            "  [0.55786078 0.08799613 0.94122357]\n",
            "  [0.99648552 0.88401348 0.69468918]\n",
            "  [0.8384461  0.55536571 0.24863309]]\n",
            "\n",
            " [[0.97086673 0.43968032 0.38947393]\n",
            "  [0.75192309 0.80707838 0.17279713]\n",
            "  [0.19373865 0.54113949 0.06683289]\n",
            "  [0.93489118 0.70329556 0.27544388]\n",
            "  [0.5348541  0.07769405 0.77884883]]\n",
            "\n",
            " [[0.98447704 0.76096816 0.15741892]\n",
            "  [0.23266447 0.80189999 0.16283778]\n",
            "  [0.42776178 0.66491279 0.72871822]\n",
            "  [0.72054137 0.76143515 0.68323815]\n",
            "  [0.65971897 0.88531817 0.16930507]]]\n",
            "\n",
            "Array with dimensions (5,5):\n",
            "[[0.88232165 0.58255685 0.16854641 0.9258513  0.6943354 ]\n",
            " [0.3486909  0.88719763 0.97098616 0.25069721 0.8128198 ]\n",
            " [0.28099595 0.21798773 0.03115084 0.17477464 0.18837154]\n",
            " [0.48085613 0.97670356 0.39027954 0.51056545 0.30546598]\n",
            " [0.92596216 0.11116218 0.8510965  0.91253576 0.34286285]]\n",
            "\n",
            "Result of multiplication:\n",
            "[[[0.1712393  0.84741675 0.68890569]\n",
            "  [0.56417738 0.01579139 0.55083973]\n",
            "  [0.12763247 0.13642565 0.14144955]\n",
            "  [0.17877884 0.05755393 0.25774096]\n",
            "  [0.24639622 0.02502133 0.4463945 ]]\n",
            "\n",
            " [[0.05854906 0.16483001 0.15727376]\n",
            "  [0.87150251 0.84548168 0.85091026]\n",
            "  [0.34456513 0.83197094 0.85306107]\n",
            "  [0.07016868 0.00489415 0.15681944]\n",
            "  [0.19618605 0.0174887  0.58630882]]\n",
            "\n",
            " [[0.24416547 0.14096351 0.27597996]\n",
            "  [0.03868577 0.20016911 0.17409453]\n",
            "  [0.01737783 0.00274115 0.0293199 ]\n",
            "  [0.1741604  0.15450314 0.12141405]\n",
            "  [0.15793939 0.1046151  0.0468354 ]]\n",
            "\n",
            " [[0.46684722 0.21142298 0.18728093]\n",
            "  [0.73440595 0.78827632 0.16877157]\n",
            "  [0.07561223 0.21119567 0.02608351]\n",
            "  [0.47732313 0.35907841 0.14063212]\n",
            "  [0.16337973 0.02373289 0.23791182]]\n",
            "\n",
            " [[0.91158849 0.70462773 0.14576397]\n",
            "  [0.02586349 0.08914095 0.0181014 ]\n",
            "  [0.36406655 0.56590495 0.62020953]\n",
            "  [0.65751977 0.6948368  0.62347925]\n",
            "  [0.22619312 0.30354271 0.05804842]]]\n"
          ]
        }
      ],
      "source": [
        "# Create the first array of dimension (5,5,3)\n",
        "array1 = np.random.rand(5, 5, 3)\n",
        "\n",
        "# Create the second array of dimension (5,5)\n",
        "array2 = np.random.rand(5, 5)\n",
        "\n",
        "# Multiply the two arrays\n",
        "result = array1 * array2[:, :, None]\n",
        "\n",
        "print(\"Original array of dimension (5,5,3):\")\n",
        "print(array1)\n",
        "print(\"\\nArray with dimensions (5,5):\")\n",
        "print(array2)\n",
        "print(\"\\nResult of multiplication:\")\n",
        "print(result)"
      ]
    },
    {
      "cell_type": "markdown",
      "metadata": {
        "id": "2onvyjVhmhzn"
      },
      "source": [
        "#### 72. How to swap two rows of an array? (★★★)"
      ]
    },
    {
      "cell_type": "code",
      "execution_count": null,
      "metadata": {
        "id": "BVNO7LbImhzn",
        "colab": {
          "base_uri": "https://localhost:8080/"
        },
        "outputId": "af06b32e-6d4f-4d51-f00b-7646cc9794b6"
      },
      "outputs": [
        {
          "output_type": "stream",
          "name": "stdout",
          "text": [
            "Original array:\n",
            "[[4 3 1]\n",
            " [5 7 0]\n",
            " [9 9 3]\n",
            " [8 2 4]]\n",
            "\n",
            "Array after swapping rows:\n",
            "[[9 9 3]\n",
            " [5 7 0]\n",
            " [4 3 1]\n",
            " [8 2 4]]\n"
          ]
        }
      ],
      "source": [
        "# Create a sample array\n",
        "a = np.array([[4, 3, 1], [5, 7, 0], [9, 9, 3], [8, 2, 4]])\n",
        "print(\"Original array:\")\n",
        "print(a)\n",
        "\n",
        "# Swap rows 0 and 2\n",
        "a[[0, 2]] = a[[2, 0]]\n",
        "print(\"\\nArray after swapping rows:\")\n",
        "print(a)"
      ]
    },
    {
      "cell_type": "markdown",
      "metadata": {
        "id": "H0alOxqCmhzn"
      },
      "source": [
        "#### 73. Consider a set of 10 triplets describing 10 triangles (with shared vertices), find the set of unique line segments composing all the  triangles (★★★)"
      ]
    },
    {
      "cell_type": "code",
      "execution_count": null,
      "metadata": {
        "id": "Th7JBJy9mhzn",
        "colab": {
          "base_uri": "https://localhost:8080/"
        },
        "outputId": "8659b6ec-c166-4ebd-faa1-9636e5decdc9"
      },
      "outputs": [
        {
          "output_type": "stream",
          "name": "stdout",
          "text": [
            "Set of unique line segments:\n",
            "[[ 0 31]\n",
            " [ 1 98]\n",
            " [ 5  1]\n",
            " [ 9 94]\n",
            " [22  0]\n",
            " [22 53]\n",
            " [25 73]\n",
            " [26 49]\n",
            " [28 26]\n",
            " [31 22]\n",
            " [34 36]\n",
            " [36 72]\n",
            " [39 25]\n",
            " [42 85]\n",
            " [49 28]\n",
            " [53 96]\n",
            " [57 57]\n",
            " [57 83]\n",
            " [69 75]\n",
            " [72 34]\n",
            " [73 39]\n",
            " [75  9]\n",
            " [75 95]\n",
            " [83 57]\n",
            " [85 94]\n",
            " [94 42]\n",
            " [94 75]\n",
            " [95 69]\n",
            " [96 22]\n",
            " [98  5]]\n"
          ]
        }
      ],
      "source": [
        "# Create a set of 10 triplets describing 10 triangles\n",
        "triangles = np.random.randint(0, 100, (10, 3))\n",
        "\n",
        "# Roll the triangles array to create line segments\n",
        "segments = np.roll(triangles.repeat(2, axis=1), -1, axis=1)\n",
        "\n",
        "# Reshape the segments array\n",
        "segments = segments.reshape(len(segments) * 3, 2)\n",
        "\n",
        "# Find the set of unique line segments\n",
        "unique_segments = np.unique(segments, axis=0)\n",
        "\n",
        "print(\"Set of unique line segments:\")\n",
        "print(unique_segments)"
      ]
    },
    {
      "cell_type": "markdown",
      "metadata": {
        "id": "Ee4BJ0X0mhzn"
      },
      "source": [
        "#### 74. Given an array C that is a bincount, how to produce an array A such that np.bincount(A) == C? (★★★)"
      ]
    },
    {
      "cell_type": "code",
      "execution_count": null,
      "metadata": {
        "id": "HEPBA2kSmhzn",
        "colab": {
          "base_uri": "https://localhost:8080/"
        },
        "outputId": "6930619c-31c4-43b2-a0b6-802cfe200c10"
      },
      "outputs": [
        {
          "output_type": "stream",
          "name": "stdout",
          "text": [
            "[1 1 2 3 4 4 6]\n"
          ]
        }
      ],
      "source": [
        "C = np.bincount([1, 1, 2, 3, 4, 4, 6])\n",
        "A = np.repeat(np.arange(len(C)), C)\n",
        "\n",
        "print(A)"
      ]
    },
    {
      "cell_type": "markdown",
      "metadata": {
        "id": "2qJsAYZUmhzo"
      },
      "source": [
        "#### 75. How to compute averages using a sliding window over an array? (★★★)"
      ]
    },
    {
      "cell_type": "code",
      "execution_count": null,
      "metadata": {
        "id": "C0j9aTqQmhzo",
        "colab": {
          "base_uri": "https://localhost:8080/"
        },
        "outputId": "82a77065-70af-4a63-9304-752459ae57f4"
      },
      "outputs": [
        {
          "output_type": "execute_result",
          "data": {
            "text/plain": [
              "array([ 2.,  3.,  4.,  5.,  6.,  7.,  8.,  9., 10., 11., 12., 13., 14.,\n",
              "       15., 16., 17.])"
            ]
          },
          "metadata": {},
          "execution_count": 79
        }
      ],
      "source": [
        "def moving_average(a, n):\n",
        "    test = np.cumsum(a, dtype=float)\n",
        "    test[n:] = test[n:] - test[:-n]\n",
        "    return test[n - 1:] / n\n",
        "\n",
        "a = np.arange(20)\n",
        "window_size = 5\n",
        "moving_average(a, window_size)"
      ]
    },
    {
      "cell_type": "markdown",
      "metadata": {
        "id": "t61arBcWmhzo"
      },
      "source": [
        "#### 76. Consider a one-dimensional array Z, build a two-dimensional array whose first row is (Z[0],Z[1],Z[2]) and each subsequent row is  shifted by 1 (last row should be (Z[-3],Z[-2],Z[-1]) (★★★)"
      ]
    },
    {
      "cell_type": "code",
      "execution_count": null,
      "metadata": {
        "id": "TDrNBfFXmhzo",
        "colab": {
          "base_uri": "https://localhost:8080/"
        },
        "outputId": "aa22c364-f72b-4a02-f5f0-77c6862a357e"
      },
      "outputs": [
        {
          "output_type": "stream",
          "name": "stdout",
          "text": [
            "Original array:\n",
            "[1 2 3 4 5]\n",
            "\n",
            "Two-dimensional array:\n",
            "[[1 2 3]\n",
            " [2 3 4]\n",
            " [3 4 5]]\n"
          ]
        }
      ],
      "source": [
        "Z = np.array([1, 2, 3, 4, 5])\n",
        "A = np.vstack((Z[:3], np.vstack((Z[i:i+3] for i in range(1, len(Z)-2)))))\n",
        "\n",
        "print(\"Original array:\")\n",
        "print(Z)\n",
        "print(\"\\nTwo-dimensional array:\")\n",
        "print(A)"
      ]
    },
    {
      "cell_type": "markdown",
      "metadata": {
        "id": "6j0Fhb6kmhzo"
      },
      "source": [
        "#### 77. How to negate a boolean, or to change the sign of a float inplace? (★★★)"
      ]
    },
    {
      "cell_type": "code",
      "execution_count": null,
      "metadata": {
        "id": "rRhXOTlhmhzo",
        "colab": {
          "base_uri": "https://localhost:8080/"
        },
        "outputId": "4bcebd5f-5750-4282-bbf9-7cfc5cb9826b"
      },
      "outputs": [
        {
          "output_type": "stream",
          "name": "stdout",
          "text": [
            "Negated boolean array: [False  True False]\n",
            "Float array with changed sign: [-1.  2. -3.]\n"
          ]
        }
      ],
      "source": [
        "# Negate a boolean array\n",
        "bool_array = np.array([True, False, True])\n",
        "negated_bool_array = ~bool_array\n",
        "print(\"Negated boolean array:\", negated_bool_array)\n",
        "\n",
        "# Change the sign of a float array inplace\n",
        "float_array = np.array([1.0, -2.0, 3.0])\n",
        "float_array *= -1\n",
        "print(\"Float array with changed sign:\", float_array)"
      ]
    },
    {
      "cell_type": "markdown",
      "metadata": {
        "id": "QDNYyulDmhzo"
      },
      "source": [
        "#### 78. Consider 2 sets of points P0,P1 describing lines (2d) and a point p, how to compute distance from p to each line i (P0[i],P1[i])? (★★★)"
      ]
    },
    {
      "cell_type": "code",
      "execution_count": null,
      "metadata": {
        "id": "pnZnZkwBmhzo",
        "colab": {
          "base_uri": "https://localhost:8080/"
        },
        "outputId": "51d5ece9-f586-4f0e-e790-0a0ecbe0de2a"
      },
      "outputs": [
        {
          "output_type": "stream",
          "name": "stdout",
          "text": [
            "[0. 0. 0.]\n"
          ]
        }
      ],
      "source": [
        "def distance_to_lines(P0, P1, p):\n",
        "    d = np.abs(np.cross(P1 - P0, P0 - p)) / np.linalg.norm(P1 - P0)\n",
        "    return d\n",
        "\n",
        "P0 = np.array([[1, 2], [3, 4], [5, 6]])\n",
        "P1 = np.array([[7, 8], [9, 10], [11, 12]])\n",
        "p = np.array([13, 14])\n",
        "\n",
        "distances = distance_to_lines(P0, P1, p)\n",
        "print(distances)"
      ]
    },
    {
      "cell_type": "markdown",
      "metadata": {
        "id": "LvitKiR-mhzo"
      },
      "source": [
        "#### 79. Consider 2 sets of points P0,P1 describing lines (2d) and a set of points P, how to compute distance from each point j (P[j]) to each line i (P0[i],P1[i])? (★★★)"
      ]
    },
    {
      "cell_type": "code",
      "execution_count": null,
      "metadata": {
        "id": "nTQqLFPVmhzo",
        "colab": {
          "base_uri": "https://localhost:8080/"
        },
        "outputId": "b811929d-7ed3-49b6-de15-05bf0227a266"
      },
      "outputs": [
        {
          "output_type": "stream",
          "name": "stdout",
          "text": [
            "[[0. 0.]\n",
            " [0. 0.]\n",
            " [0. 0.]]\n"
          ]
        }
      ],
      "source": [
        "def distance_to_lines(P0, P1, P):\n",
        "    d = np.abs(np.cross(P1[:, None] - P0[:, None], P0[:, None] - P, axis=-1)) / np.linalg.norm(P1[:, None] - P0[:, None], axis=-1)\n",
        "    return d\n",
        "\n",
        "P0 = np.array([[1, 2], [3, 4], [5, 6]])\n",
        "P1 = np.array([[7, 8], [9, 10], [11, 12]])\n",
        "P = np.array([[13, 14], [15, 16]])\n",
        "\n",
        "distances = distance_to_lines(P0, P1, P)\n",
        "print(distances)"
      ]
    },
    {
      "cell_type": "markdown",
      "metadata": {
        "id": "MW5TYM4Pmhzo"
      },
      "source": [
        "#### 80. Consider an arbitrary array, write a function that extract a subpart with a fixed shape and centered on a given element (pad with a `fill` value when necessary) (★★★)"
      ]
    },
    {
      "cell_type": "code",
      "execution_count": null,
      "metadata": {
        "id": "St4-_S7-mhzp",
        "colab": {
          "base_uri": "https://localhost:8080/"
        },
        "outputId": "f71607bf-6a70-4e6c-8545-85e2b4b3d258"
      },
      "outputs": [
        {
          "output_type": "stream",
          "name": "stdout",
          "text": [
            "Original array:\n",
            "[[ 0  1  2  3  4]\n",
            " [ 5  6  7  8  9]\n",
            " [10 11 12 13 14]\n",
            " [15 16 17 18 19]\n",
            " [20 21 22 23 24]]\n",
            "\n",
            "Extracted subpart:\n",
            "[[ 6  7  8]\n",
            " [11 12 13]\n",
            " [16 17 18]]\n"
          ]
        }
      ],
      "source": [
        "def extract_subpart(array, shape, center, fill_value=0):\n",
        "    subpart = np.full(shape, fill_value)\n",
        "    indices = np.clip(center - np.array(shape) // 2, 0, np.subtract(array.shape, shape))\n",
        "    slices = tuple(slice(start, start + size) for start, size in zip(indices, shape))\n",
        "    subpart_indices = tuple(slice(0, size) for size in shape)\n",
        "    subpart[subpart_indices] = array[slices]\n",
        "    return subpart\n",
        "\n",
        "array = np.arange(25).reshape((5, 5))\n",
        "shape = (3, 3)\n",
        "center = (2, 2)\n",
        "subpart = extract_subpart(array, shape, center)\n",
        "\n",
        "print(\"Original array:\")\n",
        "print(array)\n",
        "print(\"\\nExtracted subpart:\")\n",
        "print(subpart)"
      ]
    },
    {
      "cell_type": "markdown",
      "metadata": {
        "id": "rOJYUDobmhzp"
      },
      "source": [
        "#### 81. Consider an array Z = [1,2,3,4,5,6,7,8,9,10,11,12,13,14], how to generate an array R = [[1,2,3,4], [2,3,4,5], [3,4,5,6], ..., [11,12,13,14]]? (★★★)"
      ]
    },
    {
      "cell_type": "code",
      "execution_count": null,
      "metadata": {
        "id": "D9Z5_xXSmhzp",
        "colab": {
          "base_uri": "https://localhost:8080/"
        },
        "outputId": "9f0bd0f2-7fda-4dc9-bfe1-31fa06c860d4"
      },
      "outputs": [
        {
          "output_type": "stream",
          "name": "stdout",
          "text": [
            "[[ 1  2  3  4]\n",
            " [ 2  3  4  5]\n",
            " [ 3  4  5  6]\n",
            " [ 4  5  6  7]\n",
            " [ 5  6  7  8]\n",
            " [ 6  7  8  9]\n",
            " [ 7  8  9 10]\n",
            " [ 8  9 10 11]\n",
            " [ 9 10 11 12]\n",
            " [10 11 12 13]\n",
            " [11 12 13 14]]\n"
          ]
        }
      ],
      "source": [
        "Z = np.array([1, 2, 3, 4, 5, 6, 7, 8, 9, 10, 11, 12, 13, 14])\n",
        "R = np.lib.stride_tricks.as_strided(Z, shape=(11, 4), strides=(Z.itemsize, Z.itemsize))\n",
        "\n",
        "print(R)\n"
      ]
    },
    {
      "cell_type": "markdown",
      "metadata": {
        "id": "TbTpfaoCmhzp"
      },
      "source": [
        "#### 82. Compute a matrix rank (★★★)"
      ]
    },
    {
      "cell_type": "code",
      "execution_count": null,
      "metadata": {
        "id": "3-UGbkBjmhzp",
        "colab": {
          "base_uri": "https://localhost:8080/"
        },
        "outputId": "d998da1e-7380-4bea-e91c-5bd7f2f325b0"
      },
      "outputs": [
        {
          "output_type": "stream",
          "name": "stdout",
          "text": [
            "Matrix Rank: 2\n"
          ]
        }
      ],
      "source": [
        "# Create a sample matrix\n",
        "matrix = np.array([[1, 2, 3], [4, 5, 6], [7, 8, 9]])\n",
        "\n",
        "# Calculate the rank\n",
        "rank = np.linalg.matrix_rank(matrix)\n",
        "\n",
        "print(\"Matrix Rank:\", rank)"
      ]
    },
    {
      "cell_type": "markdown",
      "metadata": {
        "id": "EvsUYlL8mhzp"
      },
      "source": [
        "#### 83. How to find the most frequent value in an array?"
      ]
    },
    {
      "cell_type": "code",
      "execution_count": null,
      "metadata": {
        "id": "TFY01H64mhzp",
        "colab": {
          "base_uri": "https://localhost:8080/"
        },
        "outputId": "4cd9a73e-1cf7-41fd-fe41-24736fedf4e1"
      },
      "outputs": [
        {
          "output_type": "stream",
          "name": "stdout",
          "text": [
            "Original array:\n",
            "[1 2 3 4 5 1 2 1 1 1]\n",
            "Most frequent value in the above array:\n",
            "1\n"
          ]
        }
      ],
      "source": [
        "# Create a NumPy array\n",
        "x = np.array([1, 2, 3, 4, 5, 1, 2, 1, 1, 1])\n",
        "\n",
        "print(\"Original array:\")\n",
        "print(x)\n",
        "\n",
        "print(\"Most frequent value in the above array:\")\n",
        "print(np.bincount(x).argmax())"
      ]
    },
    {
      "cell_type": "markdown",
      "metadata": {
        "id": "AY1ITyQemhzq"
      },
      "source": [
        "#### 84. Extract all the contiguous 3x3 blocks from a random 10x10 matrix (★★★)"
      ]
    },
    {
      "cell_type": "code",
      "execution_count": null,
      "metadata": {
        "id": "ycQOj780mhzq",
        "colab": {
          "base_uri": "https://localhost:8080/"
        },
        "outputId": "db69335c-1d32-4c63-bd6c-fdb4dfa56363"
      },
      "outputs": [
        {
          "output_type": "stream",
          "name": "stdout",
          "text": [
            "Contiguous 3x3 blocks:\n",
            "[[[5 9 4]\n",
            "  [3 6 5]\n",
            "  [7 7 2]]\n",
            "\n",
            " [[9 4 2]\n",
            "  [6 5 6]\n",
            "  [7 2 8]]\n",
            "\n",
            " [[4 2 1]\n",
            "  [5 6 5]\n",
            "  [2 8 4]]\n",
            "\n",
            " [[2 1 8]\n",
            "  [6 5 3]\n",
            "  [8 4 6]]\n",
            "\n",
            " [[1 8 9]\n",
            "  [5 3 8]\n",
            "  [4 6 5]]\n",
            "\n",
            " [[8 9 4]\n",
            "  [3 8 9]\n",
            "  [6 5 8]]\n",
            "\n",
            " [[9 4 7]\n",
            "  [8 9 3]\n",
            "  [5 8 4]]\n",
            "\n",
            " [[4 7 1]\n",
            "  [9 3 6]\n",
            "  [8 4 8]]]\n",
            "[[[3 6 5]\n",
            "  [7 7 2]\n",
            "  [6 5 8]]\n",
            "\n",
            " [[6 5 6]\n",
            "  [7 2 8]\n",
            "  [5 8 1]]\n",
            "\n",
            " [[5 6 5]\n",
            "  [2 8 4]\n",
            "  [8 1 4]]\n",
            "\n",
            " [[6 5 3]\n",
            "  [8 4 6]\n",
            "  [1 4 0]]\n",
            "\n",
            " [[5 3 8]\n",
            "  [4 6 5]\n",
            "  [4 0 1]]\n",
            "\n",
            " [[3 8 9]\n",
            "  [6 5 8]\n",
            "  [0 1 8]]\n",
            "\n",
            " [[8 9 3]\n",
            "  [5 8 4]\n",
            "  [1 8 4]]\n",
            "\n",
            " [[9 3 6]\n",
            "  [8 4 8]\n",
            "  [8 4 4]]]\n",
            "[[[7 7 2]\n",
            "  [6 5 8]\n",
            "  [5 2 1]]\n",
            "\n",
            " [[7 2 8]\n",
            "  [5 8 1]\n",
            "  [2 1 7]]\n",
            "\n",
            " [[2 8 4]\n",
            "  [8 1 4]\n",
            "  [1 7 3]]\n",
            "\n",
            " [[8 4 6]\n",
            "  [1 4 0]\n",
            "  [7 3 8]]\n",
            "\n",
            " [[4 6 5]\n",
            "  [4 0 1]\n",
            "  [3 8 8]]\n",
            "\n",
            " [[6 5 8]\n",
            "  [0 1 8]\n",
            "  [8 8 9]]\n",
            "\n",
            " [[5 8 4]\n",
            "  [1 8 4]\n",
            "  [8 9 0]]\n",
            "\n",
            " [[8 4 8]\n",
            "  [8 4 4]\n",
            "  [9 0 7]]]\n",
            "[[[6 5 8]\n",
            "  [5 2 1]\n",
            "  [3 4 5]]\n",
            "\n",
            " [[5 8 1]\n",
            "  [2 1 7]\n",
            "  [4 5 3]]\n",
            "\n",
            " [[8 1 4]\n",
            "  [1 7 3]\n",
            "  [5 3 3]]\n",
            "\n",
            " [[1 4 0]\n",
            "  [7 3 8]\n",
            "  [3 3 4]]\n",
            "\n",
            " [[4 0 1]\n",
            "  [3 8 8]\n",
            "  [3 4 5]]\n",
            "\n",
            " [[0 1 8]\n",
            "  [8 8 9]\n",
            "  [4 5 1]]\n",
            "\n",
            " [[1 8 4]\n",
            "  [8 9 0]\n",
            "  [5 1 1]]\n",
            "\n",
            " [[8 4 4]\n",
            "  [9 0 7]\n",
            "  [1 1 5]]]\n",
            "[[[5 2 1]\n",
            "  [3 4 5]\n",
            "  [6 2 7]]\n",
            "\n",
            " [[2 1 7]\n",
            "  [4 5 3]\n",
            "  [2 7 4]]\n",
            "\n",
            " [[1 7 3]\n",
            "  [5 3 3]\n",
            "  [7 4 7]]\n",
            "\n",
            " [[7 3 8]\n",
            "  [3 3 4]\n",
            "  [4 7 3]]\n",
            "\n",
            " [[3 8 8]\n",
            "  [3 4 5]\n",
            "  [7 3 9]]\n",
            "\n",
            " [[8 8 9]\n",
            "  [4 5 1]\n",
            "  [3 9 4]]\n",
            "\n",
            " [[8 9 0]\n",
            "  [5 1 1]\n",
            "  [9 4 4]]\n",
            "\n",
            " [[9 0 7]\n",
            "  [1 1 5]\n",
            "  [4 4 1]]]\n",
            "[[[3 4 5]\n",
            "  [6 2 7]\n",
            "  [0 0 8]]\n",
            "\n",
            " [[4 5 3]\n",
            "  [2 7 4]\n",
            "  [0 8 5]]\n",
            "\n",
            " [[5 3 3]\n",
            "  [7 4 7]\n",
            "  [8 5 3]]\n",
            "\n",
            " [[3 3 4]\n",
            "  [4 7 3]\n",
            "  [5 3 1]]\n",
            "\n",
            " [[3 4 5]\n",
            "  [7 3 9]\n",
            "  [3 1 9]]\n",
            "\n",
            " [[4 5 1]\n",
            "  [3 9 4]\n",
            "  [1 9 8]]\n",
            "\n",
            " [[5 1 1]\n",
            "  [9 4 4]\n",
            "  [9 8 7]]\n",
            "\n",
            " [[1 1 5]\n",
            "  [4 4 1]\n",
            "  [8 7 1]]]\n",
            "[[[6 2 7]\n",
            "  [0 0 8]\n",
            "  [5 7 0]]\n",
            "\n",
            " [[2 7 4]\n",
            "  [0 8 5]\n",
            "  [7 0 0]]\n",
            "\n",
            " [[7 4 7]\n",
            "  [8 5 3]\n",
            "  [0 0 3]]\n",
            "\n",
            " [[4 7 3]\n",
            "  [5 3 1]\n",
            "  [0 3 3]]\n",
            "\n",
            " [[7 3 9]\n",
            "  [3 1 9]\n",
            "  [3 3 1]]\n",
            "\n",
            " [[3 9 4]\n",
            "  [1 9 8]\n",
            "  [3 1 8]]\n",
            "\n",
            " [[9 4 4]\n",
            "  [9 8 7]\n",
            "  [1 8 2]]\n",
            "\n",
            " [[4 4 1]\n",
            "  [8 7 1]\n",
            "  [8 2 0]]]\n",
            "[[[0 0 8]\n",
            "  [5 7 0]\n",
            "  [6 2 9]]\n",
            "\n",
            " [[0 8 5]\n",
            "  [7 0 0]\n",
            "  [2 9 9]]\n",
            "\n",
            " [[8 5 3]\n",
            "  [0 0 3]\n",
            "  [9 9 0]]\n",
            "\n",
            " [[5 3 1]\n",
            "  [0 3 3]\n",
            "  [9 0 9]]\n",
            "\n",
            " [[3 1 9]\n",
            "  [3 3 1]\n",
            "  [0 9 2]]\n",
            "\n",
            " [[1 9 8]\n",
            "  [3 1 8]\n",
            "  [9 2 7]]\n",
            "\n",
            " [[9 8 7]\n",
            "  [1 8 2]\n",
            "  [2 7 2]]\n",
            "\n",
            " [[8 7 1]\n",
            "  [8 2 0]\n",
            "  [7 2 8]]]\n"
          ]
        }
      ],
      "source": [
        "# Create a random 10x10 matrix\n",
        "matrix = np.random.randint(0, 10, (10, 10))\n",
        "\n",
        "# Extract all the contiguous 3x3 blocks\n",
        "blocks = np.lib.stride_tricks.as_strided(matrix, shape=(8, 8, 3, 3), strides=matrix.strides * 2)\n",
        "\n",
        "print(\"Contiguous 3x3 blocks:\")\n",
        "for block in blocks:\n",
        "    print(block)"
      ]
    },
    {
      "cell_type": "markdown",
      "metadata": {
        "id": "ZqXI-9tGmhzq"
      },
      "source": [
        "#### 85. Create a 2D array subclass such that Z[i,j] == Z[j,i] (★★★)"
      ]
    },
    {
      "cell_type": "code",
      "execution_count": null,
      "metadata": {
        "id": "QqhuPOzemhzq",
        "colab": {
          "base_uri": "https://localhost:8080/"
        },
        "outputId": "0b153072-2e42-4dd8-af49-632878963b05"
      },
      "outputs": [
        {
          "output_type": "stream",
          "name": "stdout",
          "text": [
            "[[0. 1. 0.]\n",
            " [1. 0. 2.]\n",
            " [0. 2. 0.]]\n"
          ]
        }
      ],
      "source": [
        "class SymmetricArray(np.ndarray):\n",
        "    def __setitem__(self, index, value):\n",
        "        i, j = index\n",
        "        super().__setitem__((i, j), value)\n",
        "        super().__setitem__((j, i), value)\n",
        "\n",
        "# Create a symmetric 2D array\n",
        "Z = np.zeros((3, 3))\n",
        "Z = Z.view(SymmetricArray)\n",
        "\n",
        "# Set values\n",
        "Z[0, 1] = 1\n",
        "Z[1, 2] = 2\n",
        "\n",
        "print(Z)"
      ]
    },
    {
      "cell_type": "markdown",
      "metadata": {
        "id": "l7keEM73mhzr"
      },
      "source": [
        "#### 86. Consider a set of p matrices wich shape (n,n) and a set of p vectors with shape (n,1). How to compute the sum of of the p matrix products at once? (result has shape (n,1)) (★★★)"
      ]
    },
    {
      "cell_type": "code",
      "execution_count": null,
      "metadata": {
        "id": "lQz_Jib6mhzr",
        "colab": {
          "base_uri": "https://localhost:8080/"
        },
        "outputId": "41f8cd5f-00ed-4c6f-952e-4cfb275f2d64"
      },
      "outputs": [
        {
          "output_type": "stream",
          "name": "stdout",
          "text": [
            "[[1.84916842]\n",
            " [1.98723997]\n",
            " [2.4399381 ]\n",
            " [2.75629434]]\n"
          ]
        }
      ],
      "source": [
        "import numpy as np\n",
        "\n",
        "def sum_of_matrix_products(matrices, vectors):\n",
        "    result = np.sum([np.dot(matrix, vector) for matrix, vector in zip(matrices, vectors)], axis=0)\n",
        "    return result\n",
        "\n",
        "# Example usage:\n",
        "p = 3  # Number of matrices and vectors\n",
        "n = 4  # Shape of matrices and vectors\n",
        "matrices = [np.random.random((n, n)) for _ in range(p)]\n",
        "vectors = [np.random.random((n, 1)) for _ in range(p)]\n",
        "result = sum_of_matrix_products(matrices, vectors)\n",
        "print(result)\n"
      ]
    },
    {
      "cell_type": "markdown",
      "metadata": {
        "id": "U4o-fxAGmhzr"
      },
      "source": [
        "#### 87. Consider a 16x16 array, how to get the block-sum (block size is 4x4)? (★★★)"
      ]
    },
    {
      "cell_type": "code",
      "execution_count": null,
      "metadata": {
        "id": "162-mTComhzr",
        "colab": {
          "base_uri": "https://localhost:8080/"
        },
        "outputId": "ad458816-9dc6-46a8-834a-6ca8283219f3"
      },
      "outputs": [
        {
          "output_type": "stream",
          "name": "stdout",
          "text": [
            "[[70 67 74 74]\n",
            " [71 57 63 70]\n",
            " [76 63 65 66]\n",
            " [77 71 81 73]]\n"
          ]
        }
      ],
      "source": [
        "# Create a 16x16 array\n",
        "array = np.random.randint(0, 10, (16, 16))\n",
        "\n",
        "# Reshape the array to split it into blocks of size 4x4\n",
        "blocks = np.lib.stride_tricks.as_strided(array, shape=(4, 4, 4, 4), strides=array.strides * 2)\n",
        "\n",
        "# Compute the sum of each block\n",
        "block_sums = blocks.sum(axis=(2, 3))\n",
        "\n",
        "print(block_sums)"
      ]
    },
    {
      "cell_type": "markdown",
      "metadata": {
        "id": "mB8xIDdcmhzr"
      },
      "source": [
        "#### 88. How to implement the Game of Life using numpy arrays? (★★★)"
      ]
    },
    {
      "cell_type": "code",
      "execution_count": null,
      "metadata": {
        "id": "qlXOHn0Omhzr",
        "colab": {
          "base_uri": "https://localhost:8080/",
          "height": 34
        },
        "outputId": "e088994f-e6d6-4ea9-ccbf-4434160645d7"
      },
      "outputs": [
        {
          "output_type": "display_data",
          "data": {
            "text/plain": [
              "<Figure size 640x480 with 0 Axes>"
            ]
          },
          "metadata": {}
        }
      ],
      "source": [
        "import numpy as np\n",
        "import matplotlib.pyplot as plt\n",
        "import matplotlib.animation as animation\n",
        "\n",
        "# Define the size of the board\n",
        "n = 100\n",
        "\n",
        "# Create a random initial configuration\n",
        "board = np.random.randint(2, size=(n, n))\n",
        "\n",
        "# Define a function to update the board at each time step\n",
        "def update_board(frame):\n",
        "    # Compute the number of neighbors for each cell\n",
        "    neighbors = (\n",
        "        np.roll(board, 1, axis=0)\n",
        "        + np.roll(board, -1, axis=0)\n",
        "        + np.roll(board, 1, axis=1)\n",
        "        + np.roll(board, -1, axis=1)\n",
        "        + np.roll(np.roll(board, 1, axis=0), 1, axis=1)\n",
        "        + np.roll(np.roll(board, -1, axis=0), -1, axis=1)\n",
        "        + np.roll(np.roll(board, 1, axis=0), -1, axis=1)\n",
        "        + np.roll(np.roll(board, -1, axis=0), 1, axis=1)\n",
        "    )\n",
        "\n",
        "    # Update the state of each cell based on its neighbors\n",
        "    board[(board == 1) & ((neighbors < 2) | (neighbors > 3))] = 0\n",
        "    board[(board == 0) & (neighbors == 3)] = 1\n",
        "\n",
        "    # Update the plot with the new board state\n",
        "    plt.imshow(board)\n",
        "\n",
        "# Create an animation of the Game of Life\n",
        "fig = plt.figure()\n",
        "ani = animation.FuncAnimation(fig, update_board)\n",
        "\n",
        "plt.show()"
      ]
    },
    {
      "cell_type": "markdown",
      "metadata": {
        "id": "pHSrHOVrmhzr"
      },
      "source": [
        "#### 89. How to get the n largest values of an array (★★★)"
      ]
    },
    {
      "cell_type": "code",
      "execution_count": null,
      "metadata": {
        "id": "UiPEpATsmhzr",
        "colab": {
          "base_uri": "https://localhost:8080/"
        },
        "outputId": "9568e69b-9927-42d5-e50d-ec5e3226cabb"
      },
      "outputs": [
        {
          "output_type": "stream",
          "name": "stdout",
          "text": [
            "[7 8 9]\n"
          ]
        }
      ],
      "source": [
        "# Create a NumPy array\n",
        "arr = np.array([9, 4, 7, 1, 3, 6, 8, 2, 5])\n",
        "\n",
        "# Get the n largest values\n",
        "n = 3\n",
        "largest_values = np.partition(arr, -n)[-n:]\n",
        "\n",
        "print(largest_values)"
      ]
    },
    {
      "cell_type": "markdown",
      "metadata": {
        "id": "2W_FzA6omhzs"
      },
      "source": [
        "#### 90. Given an arbitrary number of vectors, build the cartesian product (every combinations of every item) (★★★)"
      ]
    },
    {
      "cell_type": "code",
      "execution_count": null,
      "metadata": {
        "id": "n28-FOvrmhzs",
        "colab": {
          "base_uri": "https://localhost:8080/"
        },
        "outputId": "4bb37b47-ae66-46cf-c14f-5d6c5b66819b"
      },
      "outputs": [
        {
          "output_type": "stream",
          "name": "stdout",
          "text": [
            "[[1 1]\n",
            " [1 2]\n",
            " [1 3]\n",
            " [2 1]\n",
            " [2 2]\n",
            " [2 3]\n",
            " [3 1]\n",
            " [3 2]\n",
            " [3 3]]\n",
            "[[1 1]\n",
            " [2 1]\n",
            " [3 1]\n",
            " [1 2]\n",
            " [2 2]\n",
            " [3 2]\n",
            " [1 3]\n",
            " [2 3]\n",
            " [3 3]]\n",
            "[[1 1]\n",
            " [2 1]\n",
            " [3 1]\n",
            " [1 2]\n",
            " [2 2]\n",
            " [3 2]\n",
            " [1 3]\n",
            " [2 3]\n",
            " [3 3]]\n"
          ]
        }
      ],
      "source": [
        "# Approach 1: itertools.product() method\n",
        "import itertools as it\n",
        "import numpy as np\n",
        "\n",
        "array1 = np.array([1, 2, 3])\n",
        "array2 = np.array([1, 2, 3])\n",
        "\n",
        "output = np.array(list(it.product(array1, array2)))\n",
        "print(output)\n",
        "\n",
        "# Approach 2: Utilize the meshgrid() method from the NumPy library\n",
        "array1 = np.array([1, 2, 3])\n",
        "array2 = np.array([1, 2, 3])\n",
        "\n",
        "X, Y = np.meshgrid(array1, array2)\n",
        "output = np.column_stack((X.ravel(), Y.ravel()))\n",
        "print(output)\n",
        "\n",
        "#Approach 3: Combination of numpy.transpose(), numpy.tile(), and numpy.repeat()\n",
        "array1 = np.array([1, 2, 3])\n",
        "array2 = np.array([1, 2, 3])\n",
        "\n",
        "cross_product = np.transpose([np.tile(array1, len(array2)), np.repeat(array2, len(array1))])\n",
        "print(cross_product)"
      ]
    },
    {
      "cell_type": "markdown",
      "metadata": {
        "id": "-N7gsnBmmhzs"
      },
      "source": [
        "#### 91. How to create a record array from a regular array? (★★★)"
      ]
    },
    {
      "cell_type": "code",
      "execution_count": null,
      "metadata": {
        "id": "q9G4HvQCmhzs",
        "colab": {
          "base_uri": "https://localhost:8080/"
        },
        "outputId": "ac237722-bb1f-4cb4-98bc-49be579318fd"
      },
      "outputs": [
        {
          "output_type": "stream",
          "name": "stdout",
          "text": [
            "Record Array:\n",
            "[( 5, 10, 15) (20, 25, 30)]\n"
          ]
        }
      ],
      "source": [
        "# Create a regular array\n",
        "regular_array = np.array([[5, 10, 15], [20, 25, 30]])\n",
        "\n",
        "# Create a record array from the regular array\n",
        "record_array = np.core.records.fromarrays(regular_array.T, dtype=[('field1', int), ('field2', int), ('field3', int)])\n",
        "\n",
        "print(\"Record Array:\")\n",
        "print(record_array)"
      ]
    },
    {
      "cell_type": "markdown",
      "metadata": {
        "id": "jk-FR-ETmhzs"
      },
      "source": [
        "#### 92. Consider a large vector Z, compute Z to the power of 3 using 3 different methods (★★★)"
      ]
    },
    {
      "cell_type": "code",
      "execution_count": null,
      "metadata": {
        "id": "CI5J8g0Qmhzs",
        "colab": {
          "base_uri": "https://localhost:8080/",
          "height": 210
        },
        "outputId": "d4fffe87-46f2-47c6-af53-b5a1d3e9d44e"
      },
      "outputs": [
        {
          "output_type": "error",
          "ename": "TypeError",
          "evalue": "ignored",
          "traceback": [
            "\u001b[0;31m---------------------------------------------------------------------------\u001b[0m",
            "\u001b[0;31mTypeError\u001b[0m                                 Traceback (most recent call last)",
            "\u001b[0;32m<ipython-input-98-5e645438ecff>\u001b[0m in \u001b[0;36m<cell line: 3>\u001b[0;34m()\u001b[0m\n\u001b[1;32m      1\u001b[0m \u001b[0;32mimport\u001b[0m \u001b[0mnumpy\u001b[0m \u001b[0;32mas\u001b[0m \u001b[0mnp\u001b[0m\u001b[0;34m\u001b[0m\u001b[0;34m\u001b[0m\u001b[0m\n\u001b[1;32m      2\u001b[0m \u001b[0;34m\u001b[0m\u001b[0m\n\u001b[0;32m----> 3\u001b[0;31m \u001b[0mZ_cubed\u001b[0m \u001b[0;34m=\u001b[0m \u001b[0mnp\u001b[0m\u001b[0;34m.\u001b[0m\u001b[0mpower\u001b[0m\u001b[0;34m(\u001b[0m\u001b[0mZ\u001b[0m\u001b[0;34m,\u001b[0m \u001b[0;36m3\u001b[0m\u001b[0;34m)\u001b[0m\u001b[0;34m\u001b[0m\u001b[0;34m\u001b[0m\u001b[0m\n\u001b[0m",
            "\u001b[0;31mTypeError\u001b[0m: unsupported operand type(s) for ** or pow(): 'ellipsis' and 'int'"
          ]
        }
      ],
      "source": [
        "import numpy as np\n",
        "\n",
        "Z_cubed = np.power(Z, 3)\n"
      ]
    },
    {
      "cell_type": "markdown",
      "metadata": {
        "id": "DmR_llzWmhzs"
      },
      "source": [
        "#### 93. Consider two arrays A and B of shape (8,3) and (2,2). How to find rows of A that contain elements of each row of B regardless of the order of the elements in B? (★★★)"
      ]
    },
    {
      "cell_type": "code",
      "execution_count": null,
      "metadata": {
        "id": "qIk-aL2bmhzs",
        "colab": {
          "base_uri": "https://localhost:8080/"
        },
        "outputId": "82d32e48-0fa2-4b80-e1da-711ce2ec2e7a"
      },
      "outputs": [
        {
          "output_type": "stream",
          "name": "stdout",
          "text": [
            "[3]\n"
          ]
        }
      ],
      "source": [
        "A = np.random.randint(0, 5, (8, 3))\n",
        "B = np.random.randint(0, 5, (2, 2))\n",
        "\n",
        "rows = np.where(np.all(np.isin(A[:, :, np.newaxis], B), axis=1))[0]\n",
        "print(rows)\n"
      ]
    },
    {
      "cell_type": "markdown",
      "metadata": {
        "id": "LRvEPBhQmhzs"
      },
      "source": [
        "#### 94. Considering a 10x3 matrix, extract rows with unequal values (e.g. [2,2,3]) (★★★)"
      ]
    },
    {
      "cell_type": "code",
      "execution_count": null,
      "metadata": {
        "id": "e_Xz1qbhmhzt",
        "colab": {
          "base_uri": "https://localhost:8080/"
        },
        "outputId": "482f307b-e6ab-4c7f-98d2-c77779151699"
      },
      "outputs": [
        {
          "output_type": "stream",
          "name": "stdout",
          "text": [
            "[[4 3 4]\n",
            " [2 2 3]\n",
            " [3 1 1]\n",
            " [3 3 1]\n",
            " [0 1 3]\n",
            " [4 1 1]\n",
            " [1 3 4]\n",
            " [3 3 4]\n",
            " [4 0 3]]\n"
          ]
        }
      ],
      "source": [
        "matrix = np.random.randint(0, 5, (10, 3))\n",
        "unequal_rows = matrix[~np.logical_and.reduce(matrix[:, 1:] == matrix[:, :-1], axis=1)]\n",
        "print(unequal_rows)"
      ]
    },
    {
      "cell_type": "markdown",
      "metadata": {
        "id": "52e9-W4Amhzt"
      },
      "source": [
        "#### 95. Convert a vector of ints into a matrix binary representation (★★★)"
      ]
    },
    {
      "cell_type": "code",
      "execution_count": null,
      "metadata": {
        "id": "g8Pk8pQTmhzt",
        "colab": {
          "base_uri": "https://localhost:8080/"
        },
        "outputId": "a834c38a-fa99-4074-9899-312001cec19e"
      },
      "outputs": [
        {
          "output_type": "stream",
          "name": "stdout",
          "text": [
            "[[0 0 0 0 0 0 0 0]\n",
            " [0 0 0 0 0 0 0 1]\n",
            " [0 0 0 0 0 0 1 0]\n",
            " [0 0 0 0 0 0 1 1]\n",
            " [0 0 0 0 1 1 1 1]\n",
            " [0 0 0 1 0 0 0 0]\n",
            " [0 0 1 0 0 0 0 0]\n",
            " [0 1 0 0 0 0 0 0]\n",
            " [1 0 0 0 0 0 0 0]]\n"
          ]
        }
      ],
      "source": [
        "I = np.array([0, 1, 2, 3, 15, 16, 32, 64, 128])\n",
        "B = ((I.reshape(-1,1) & (2**np.arange(8))) != 0).astype(int)\n",
        "print(B[:,::-1])"
      ]
    },
    {
      "cell_type": "markdown",
      "metadata": {
        "id": "9nmhTYnGmhzt"
      },
      "source": [
        "#### 96. Given a two dimensional array, how to extract unique rows? (★★★)"
      ]
    },
    {
      "cell_type": "code",
      "execution_count": null,
      "metadata": {
        "id": "Aaac7xn6mhzt",
        "colab": {
          "base_uri": "https://localhost:8080/"
        },
        "outputId": "39e07cd6-1379-4110-9d59-bd3700d210fa"
      },
      "outputs": [
        {
          "output_type": "stream",
          "name": "stdout",
          "text": [
            "Unique Rows:\n",
            "[[1 2 3]\n",
            " [4 5 6]\n",
            " [7 8 9]]\n"
          ]
        }
      ],
      "source": [
        "array = np.array([[1, 2, 3], [4, 5, 6], [1, 2, 3], [7, 8, 9]])\n",
        "\n",
        "# Extract unique rows\n",
        "unique_rows = np.unique(array, axis=0)\n",
        "\n",
        "print(\"Unique Rows:\")\n",
        "print(unique_rows)"
      ]
    },
    {
      "cell_type": "markdown",
      "metadata": {
        "id": "L_QWOPULmhzt"
      },
      "source": [
        "#### 97. Considering 2 vectors A & B, write the einsum equivalent of inner, outer, sum, and mul function (★★★)"
      ]
    },
    {
      "cell_type": "code",
      "execution_count": null,
      "metadata": {
        "id": "ONBQKvHcmhzt",
        "colab": {
          "base_uri": "https://localhost:8080/",
          "height": 373
        },
        "outputId": "48d28c6b-24fc-4d6f-d1af-140e47ccac9a"
      },
      "outputs": [
        {
          "output_type": "error",
          "ename": "ValueError",
          "evalue": "ignored",
          "traceback": [
            "\u001b[0;31m---------------------------------------------------------------------------\u001b[0m",
            "\u001b[0;31mValueError\u001b[0m                                Traceback (most recent call last)",
            "\u001b[0;32m<ipython-input-103-53b857a25ed2>\u001b[0m in \u001b[0;36m<cell line: 1>\u001b[0;34m()\u001b[0m\n\u001b[0;32m----> 1\u001b[0;31m \u001b[0mnp\u001b[0m\u001b[0;34m.\u001b[0m\u001b[0meinsum\u001b[0m\u001b[0;34m(\u001b[0m\u001b[0;34m'i,i'\u001b[0m\u001b[0;34m,\u001b[0m \u001b[0mA\u001b[0m\u001b[0;34m,\u001b[0m \u001b[0mB\u001b[0m\u001b[0;34m)\u001b[0m\u001b[0;34m\u001b[0m\u001b[0;34m\u001b[0m\u001b[0m\n\u001b[0m\u001b[1;32m      2\u001b[0m \u001b[0mnp\u001b[0m\u001b[0;34m.\u001b[0m\u001b[0meinsum\u001b[0m\u001b[0;34m(\u001b[0m\u001b[0;34m'i,j->ij'\u001b[0m\u001b[0;34m,\u001b[0m \u001b[0mA\u001b[0m\u001b[0;34m,\u001b[0m \u001b[0mB\u001b[0m\u001b[0;34m)\u001b[0m\u001b[0;34m\u001b[0m\u001b[0;34m\u001b[0m\u001b[0m\n\u001b[1;32m      3\u001b[0m \u001b[0mnp\u001b[0m\u001b[0;34m.\u001b[0m\u001b[0meinsum\u001b[0m\u001b[0;34m(\u001b[0m\u001b[0;34m'i->'\u001b[0m\u001b[0;34m,\u001b[0m \u001b[0mA\u001b[0m\u001b[0;34m)\u001b[0m\u001b[0;34m\u001b[0m\u001b[0;34m\u001b[0m\u001b[0m\n\u001b[1;32m      4\u001b[0m \u001b[0mnp\u001b[0m\u001b[0;34m.\u001b[0m\u001b[0meinsum\u001b[0m\u001b[0;34m(\u001b[0m\u001b[0;34m'i,i->i'\u001b[0m\u001b[0;34m,\u001b[0m \u001b[0mA\u001b[0m\u001b[0;34m,\u001b[0m \u001b[0mB\u001b[0m\u001b[0;34m)\u001b[0m\u001b[0;34m\u001b[0m\u001b[0;34m\u001b[0m\u001b[0m\n",
            "\u001b[0;32m/usr/local/lib/python3.10/dist-packages/numpy/core/overrides.py\u001b[0m in \u001b[0;36meinsum\u001b[0;34m(*args, **kwargs)\u001b[0m\n",
            "\u001b[0;32m/usr/local/lib/python3.10/dist-packages/numpy/core/einsumfunc.py\u001b[0m in \u001b[0;36meinsum\u001b[0;34m(out, optimize, *operands, **kwargs)\u001b[0m\n\u001b[1;32m   1369\u001b[0m         \u001b[0;32mif\u001b[0m \u001b[0mspecified_out\u001b[0m\u001b[0;34m:\u001b[0m\u001b[0;34m\u001b[0m\u001b[0;34m\u001b[0m\u001b[0m\n\u001b[1;32m   1370\u001b[0m             \u001b[0mkwargs\u001b[0m\u001b[0;34m[\u001b[0m\u001b[0;34m'out'\u001b[0m\u001b[0;34m]\u001b[0m \u001b[0;34m=\u001b[0m \u001b[0mout\u001b[0m\u001b[0;34m\u001b[0m\u001b[0;34m\u001b[0m\u001b[0m\n\u001b[0;32m-> 1371\u001b[0;31m         \u001b[0;32mreturn\u001b[0m \u001b[0mc_einsum\u001b[0m\u001b[0;34m(\u001b[0m\u001b[0;34m*\u001b[0m\u001b[0moperands\u001b[0m\u001b[0;34m,\u001b[0m \u001b[0;34m**\u001b[0m\u001b[0mkwargs\u001b[0m\u001b[0;34m)\u001b[0m\u001b[0;34m\u001b[0m\u001b[0;34m\u001b[0m\u001b[0m\n\u001b[0m\u001b[1;32m   1372\u001b[0m \u001b[0;34m\u001b[0m\u001b[0m\n\u001b[1;32m   1373\u001b[0m     \u001b[0;31m# Check the kwargs to avoid a more cryptic error later, without having to\u001b[0m\u001b[0;34m\u001b[0m\u001b[0;34m\u001b[0m\u001b[0m\n",
            "\u001b[0;31mValueError\u001b[0m: operand has more dimensions than subscripts given in einstein sum, but no '...' ellipsis provided to broadcast the extra dimensions."
          ]
        }
      ],
      "source": [
        "np.einsum('i,i', A, B)\n",
        "np.einsum('i,j->ij', A, B)\n",
        "np.einsum('i->', A)\n",
        "np.einsum('i,i->i', A, B)"
      ]
    },
    {
      "cell_type": "markdown",
      "metadata": {
        "id": "1wA_Bjeomhzt"
      },
      "source": [
        "#### 98. Considering a path described by two vectors (X,Y), how to sample it using equidistant samples (★★★)?"
      ]
    },
    {
      "cell_type": "code",
      "execution_count": null,
      "metadata": {
        "id": "WYp4Mb6emhzt",
        "colab": {
          "base_uri": "https://localhost:8080/",
          "height": 390
        },
        "outputId": "69b198e9-712f-41ae-a2af-898552193ad2"
      },
      "outputs": [
        {
          "output_type": "error",
          "ename": "TypeError",
          "evalue": "ignored",
          "traceback": [
            "\u001b[0;31m---------------------------------------------------------------------------\u001b[0m",
            "\u001b[0;31mTypeError\u001b[0m                                 Traceback (most recent call last)",
            "\u001b[0;32m<ipython-input-104-5c44398807f2>\u001b[0m in \u001b[0;36m<cell line: 5>\u001b[0;34m()\u001b[0m\n\u001b[1;32m      3\u001b[0m \u001b[0;34m\u001b[0m\u001b[0m\n\u001b[1;32m      4\u001b[0m \u001b[0;31m# Compute the length of the path\u001b[0m\u001b[0;34m\u001b[0m\u001b[0;34m\u001b[0m\u001b[0m\n\u001b[0;32m----> 5\u001b[0;31m \u001b[0mpath_length\u001b[0m \u001b[0;34m=\u001b[0m \u001b[0mnp\u001b[0m\u001b[0;34m.\u001b[0m\u001b[0mcumsum\u001b[0m\u001b[0;34m(\u001b[0m\u001b[0mnp\u001b[0m\u001b[0;34m.\u001b[0m\u001b[0msqrt\u001b[0m\u001b[0;34m(\u001b[0m\u001b[0mnp\u001b[0m\u001b[0;34m.\u001b[0m\u001b[0mdiff\u001b[0m\u001b[0;34m(\u001b[0m\u001b[0mX\u001b[0m\u001b[0;34m)\u001b[0m\u001b[0;34m**\u001b[0m\u001b[0;36m2\u001b[0m \u001b[0;34m+\u001b[0m \u001b[0mnp\u001b[0m\u001b[0;34m.\u001b[0m\u001b[0mdiff\u001b[0m\u001b[0;34m(\u001b[0m\u001b[0mY\u001b[0m\u001b[0;34m)\u001b[0m\u001b[0;34m**\u001b[0m\u001b[0;36m2\u001b[0m\u001b[0;34m)\u001b[0m\u001b[0;34m)\u001b[0m\u001b[0;34m\u001b[0m\u001b[0;34m\u001b[0m\u001b[0m\n\u001b[0m\u001b[1;32m      6\u001b[0m \u001b[0mpath_length\u001b[0m \u001b[0;34m=\u001b[0m \u001b[0mnp\u001b[0m\u001b[0;34m.\u001b[0m\u001b[0minsert\u001b[0m\u001b[0;34m(\u001b[0m\u001b[0mpath_length\u001b[0m\u001b[0;34m,\u001b[0m \u001b[0;36m0\u001b[0m\u001b[0;34m,\u001b[0m \u001b[0;36m0\u001b[0m\u001b[0;34m)\u001b[0m  \u001b[0;31m# Add the starting point\u001b[0m\u001b[0;34m\u001b[0m\u001b[0;34m\u001b[0m\u001b[0m\n\u001b[1;32m      7\u001b[0m \u001b[0;34m\u001b[0m\u001b[0m\n",
            "\u001b[0;32m/usr/local/lib/python3.10/dist-packages/numpy/core/overrides.py\u001b[0m in \u001b[0;36mdiff\u001b[0;34m(*args, **kwargs)\u001b[0m\n",
            "\u001b[0;32m/usr/local/lib/python3.10/dist-packages/numpy/lib/function_base.py\u001b[0m in \u001b[0;36mdiff\u001b[0;34m(a, n, axis, prepend, append)\u001b[0m\n\u001b[1;32m   1445\u001b[0m     \u001b[0mop\u001b[0m \u001b[0;34m=\u001b[0m \u001b[0mnot_equal\u001b[0m \u001b[0;32mif\u001b[0m \u001b[0ma\u001b[0m\u001b[0;34m.\u001b[0m\u001b[0mdtype\u001b[0m \u001b[0;34m==\u001b[0m \u001b[0mnp\u001b[0m\u001b[0;34m.\u001b[0m\u001b[0mbool_\u001b[0m \u001b[0;32melse\u001b[0m \u001b[0msubtract\u001b[0m\u001b[0;34m\u001b[0m\u001b[0;34m\u001b[0m\u001b[0m\n\u001b[1;32m   1446\u001b[0m     \u001b[0;32mfor\u001b[0m \u001b[0m_\u001b[0m \u001b[0;32min\u001b[0m \u001b[0mrange\u001b[0m\u001b[0;34m(\u001b[0m\u001b[0mn\u001b[0m\u001b[0;34m)\u001b[0m\u001b[0;34m:\u001b[0m\u001b[0;34m\u001b[0m\u001b[0;34m\u001b[0m\u001b[0m\n\u001b[0;32m-> 1447\u001b[0;31m         \u001b[0ma\u001b[0m \u001b[0;34m=\u001b[0m \u001b[0mop\u001b[0m\u001b[0;34m(\u001b[0m\u001b[0ma\u001b[0m\u001b[0;34m[\u001b[0m\u001b[0mslice1\u001b[0m\u001b[0;34m]\u001b[0m\u001b[0;34m,\u001b[0m \u001b[0ma\u001b[0m\u001b[0;34m[\u001b[0m\u001b[0mslice2\u001b[0m\u001b[0;34m]\u001b[0m\u001b[0;34m)\u001b[0m\u001b[0;34m\u001b[0m\u001b[0;34m\u001b[0m\u001b[0m\n\u001b[0m\u001b[1;32m   1448\u001b[0m \u001b[0;34m\u001b[0m\u001b[0m\n\u001b[1;32m   1449\u001b[0m     \u001b[0;32mreturn\u001b[0m \u001b[0ma\u001b[0m\u001b[0;34m\u001b[0m\u001b[0;34m\u001b[0m\u001b[0m\n",
            "\u001b[0;31mTypeError\u001b[0m: unsupported operand type(s) for -: 'ellipsis' and 'int'"
          ]
        }
      ],
      "source": [
        "X = np.array([1, 2, 3, ..., n])  # Replace '...' with the remaining elements of the vector\n",
        "Y = np.array([1, 2, 3, ..., n])  # Replace '...' with the remaining elements of the vector\n",
        "\n",
        "# Compute the length of the path\n",
        "path_length = np.cumsum(np.sqrt(np.diff(X)**2 + np.diff(Y)**2))\n",
        "path_length = np.insert(path_length, 0, 0)  # Add the starting point\n",
        "\n",
        "# Compute the number of samples\n",
        "num_samples = 100\n",
        "\n",
        "# Compute the sample points\n",
        "sample_points = np.linspace(0, path_length[-1], num_samples)\n",
        "\n",
        "# Interpolate X and Y at the sample points\n",
        "sampled_X = np.interp(sample_points, path_length, X)\n",
        "sampled_Y = np.interp(sample_points, path_length, Y)\n",
        "\n",
        "# Print the sampled points\n",
        "print(\"Sampled Points:\")\n",
        "print(np.column_stack((sampled_X, sampled_Y)))"
      ]
    },
    {
      "cell_type": "markdown",
      "metadata": {
        "id": "ebthERr5mhzu"
      },
      "source": [
        "#### 99. Given an integer n and a 2D array X, select from X the rows which can be interpreted as draws from a multinomial distribution with n degrees, i.e., the rows which only contain integers and which sum to n. (★★★)"
      ]
    },
    {
      "cell_type": "code",
      "execution_count": null,
      "metadata": {
        "id": "hQPMOVHzmhzu",
        "colab": {
          "base_uri": "https://localhost:8080/",
          "height": 245
        },
        "outputId": "bf4696eb-bcee-4a8f-e027-56a5c4b79ef7"
      },
      "outputs": [
        {
          "output_type": "error",
          "ename": "ValueError",
          "evalue": "ignored",
          "traceback": [
            "\u001b[0;31m---------------------------------------------------------------------------\u001b[0m",
            "\u001b[0;31mValueError\u001b[0m                                Traceback (most recent call last)",
            "\u001b[0;32m<ipython-input-105-0b25f3d5c63f>\u001b[0m in \u001b[0;36m<cell line: 5>\u001b[0;34m()\u001b[0m\n\u001b[1;32m      3\u001b[0m \u001b[0;34m\u001b[0m\u001b[0m\n\u001b[1;32m      4\u001b[0m \u001b[0;31m# Select rows that contain integers and sum to n\u001b[0m\u001b[0;34m\u001b[0m\u001b[0;34m\u001b[0m\u001b[0m\n\u001b[0;32m----> 5\u001b[0;31m \u001b[0mselected_rows\u001b[0m \u001b[0;34m=\u001b[0m \u001b[0mX\u001b[0m\u001b[0;34m[\u001b[0m\u001b[0;34m(\u001b[0m\u001b[0mX\u001b[0m\u001b[0;34m.\u001b[0m\u001b[0msum\u001b[0m\u001b[0;34m(\u001b[0m\u001b[0maxis\u001b[0m\u001b[0;34m=\u001b[0m\u001b[0;36m1\u001b[0m\u001b[0;34m)\u001b[0m \u001b[0;34m==\u001b[0m \u001b[0mn\u001b[0m\u001b[0;34m)\u001b[0m \u001b[0;34m&\u001b[0m \u001b[0;34m(\u001b[0m\u001b[0mX\u001b[0m \u001b[0;34m%\u001b[0m \u001b[0;36m1\u001b[0m \u001b[0;34m==\u001b[0m \u001b[0;36m0\u001b[0m\u001b[0;34m)\u001b[0m\u001b[0;34m]\u001b[0m\u001b[0;34m\u001b[0m\u001b[0;34m\u001b[0m\u001b[0m\n\u001b[0m\u001b[1;32m      6\u001b[0m \u001b[0;34m\u001b[0m\u001b[0m\n\u001b[1;32m      7\u001b[0m \u001b[0mprint\u001b[0m\u001b[0;34m(\u001b[0m\u001b[0;34m\"Selected Rows:\"\u001b[0m\u001b[0;34m)\u001b[0m\u001b[0;34m\u001b[0m\u001b[0;34m\u001b[0m\u001b[0m\n",
            "\u001b[0;31mValueError\u001b[0m: operands could not be broadcast together with shapes (4,) (4,3) "
          ]
        }
      ],
      "source": [
        "n = 10\n",
        "X = np.array([[1, 2, 3], [4, 5, 1], [0, 0, 10], [5, 5, 0]])\n",
        "\n",
        "# Select rows that contain integers and sum to n\n",
        "selected_rows = X[(X.sum(axis=1) == n) & (X % 1 == 0)]\n",
        "\n",
        "print(\"Selected Rows:\")\n",
        "print(selected_rows)"
      ]
    },
    {
      "cell_type": "markdown",
      "metadata": {
        "id": "ULI3hk2_mhzu"
      },
      "source": [
        "#### 100. Compute bootstrapped 95% confidence intervals for the mean of a 1D array X (i.e., resample the elements of an array with replacement N times, compute the mean of each sample, and then compute percentiles over the means). (★★★)"
      ]
    },
    {
      "cell_type": "code",
      "source": [
        "X = np.array([1, 2, 3, ..., n])  # Replace '...' with the remaining elements of the array\n",
        "\n",
        "# Number of bootstrap samples\n",
        "N = 1000\n",
        "\n",
        "# Resample the elements of X with replacement N times\n",
        "bootstrap_samples = np.random.choice(X, size=(N, len(X)), replace=True)\n",
        "\n",
        "# Compute the mean of each bootstrap sample\n",
        "bootstrap_means = np.mean(bootstrap_samples, axis=1)\n",
        "\n",
        "# Compute the percentiles over the means\n",
        "lower_percentile = np.percentile(bootstrap_means, 2.5)\n",
        "upper_percentile = np.percentile(bootstrap_means, 97.5)\n",
        "\n",
        "# Print the confidence interval\n",
        "print(\"Bootstrapped 95% Confidence Interval:\")\n",
        "print(f\"({lower_percentile}, {upper_percentile})\")"
      ],
      "metadata": {
        "id": "GI6V3M1fwHQn",
        "colab": {
          "base_uri": "https://localhost:8080/",
          "height": 390
        },
        "outputId": "2f2963a1-fdc8-4cbd-acc8-97f99b16b3f3"
      },
      "execution_count": null,
      "outputs": [
        {
          "output_type": "error",
          "ename": "TypeError",
          "evalue": "ignored",
          "traceback": [
            "\u001b[0;31m---------------------------------------------------------------------------\u001b[0m",
            "\u001b[0;31mTypeError\u001b[0m                                 Traceback (most recent call last)",
            "\u001b[0;32m<ipython-input-106-d59093645419>\u001b[0m in \u001b[0;36m<cell line: 10>\u001b[0;34m()\u001b[0m\n\u001b[1;32m      8\u001b[0m \u001b[0;34m\u001b[0m\u001b[0m\n\u001b[1;32m      9\u001b[0m \u001b[0;31m# Compute the mean of each bootstrap sample\u001b[0m\u001b[0;34m\u001b[0m\u001b[0;34m\u001b[0m\u001b[0m\n\u001b[0;32m---> 10\u001b[0;31m \u001b[0mbootstrap_means\u001b[0m \u001b[0;34m=\u001b[0m \u001b[0mnp\u001b[0m\u001b[0;34m.\u001b[0m\u001b[0mmean\u001b[0m\u001b[0;34m(\u001b[0m\u001b[0mbootstrap_samples\u001b[0m\u001b[0;34m,\u001b[0m \u001b[0maxis\u001b[0m\u001b[0;34m=\u001b[0m\u001b[0;36m1\u001b[0m\u001b[0;34m)\u001b[0m\u001b[0;34m\u001b[0m\u001b[0;34m\u001b[0m\u001b[0m\n\u001b[0m\u001b[1;32m     11\u001b[0m \u001b[0;34m\u001b[0m\u001b[0m\n\u001b[1;32m     12\u001b[0m \u001b[0;31m# Compute the percentiles over the means\u001b[0m\u001b[0;34m\u001b[0m\u001b[0;34m\u001b[0m\u001b[0m\n",
            "\u001b[0;32m/usr/local/lib/python3.10/dist-packages/numpy/core/overrides.py\u001b[0m in \u001b[0;36mmean\u001b[0;34m(*args, **kwargs)\u001b[0m\n",
            "\u001b[0;32m/usr/local/lib/python3.10/dist-packages/numpy/core/fromnumeric.py\u001b[0m in \u001b[0;36mmean\u001b[0;34m(a, axis, dtype, out, keepdims, where)\u001b[0m\n\u001b[1;32m   3430\u001b[0m             \u001b[0;32mreturn\u001b[0m \u001b[0mmean\u001b[0m\u001b[0;34m(\u001b[0m\u001b[0maxis\u001b[0m\u001b[0;34m=\u001b[0m\u001b[0maxis\u001b[0m\u001b[0;34m,\u001b[0m \u001b[0mdtype\u001b[0m\u001b[0;34m=\u001b[0m\u001b[0mdtype\u001b[0m\u001b[0;34m,\u001b[0m \u001b[0mout\u001b[0m\u001b[0;34m=\u001b[0m\u001b[0mout\u001b[0m\u001b[0;34m,\u001b[0m \u001b[0;34m**\u001b[0m\u001b[0mkwargs\u001b[0m\u001b[0;34m)\u001b[0m\u001b[0;34m\u001b[0m\u001b[0;34m\u001b[0m\u001b[0m\n\u001b[1;32m   3431\u001b[0m \u001b[0;34m\u001b[0m\u001b[0m\n\u001b[0;32m-> 3432\u001b[0;31m     return _methods._mean(a, axis=axis, dtype=dtype,\n\u001b[0m\u001b[1;32m   3433\u001b[0m                           out=out, **kwargs)\n\u001b[1;32m   3434\u001b[0m \u001b[0;34m\u001b[0m\u001b[0m\n",
            "\u001b[0;32m/usr/local/lib/python3.10/dist-packages/numpy/core/_methods.py\u001b[0m in \u001b[0;36m_mean\u001b[0;34m(a, axis, dtype, out, keepdims, where)\u001b[0m\n\u001b[1;32m    178\u001b[0m             \u001b[0mis_float16_result\u001b[0m \u001b[0;34m=\u001b[0m \u001b[0;32mTrue\u001b[0m\u001b[0;34m\u001b[0m\u001b[0;34m\u001b[0m\u001b[0m\n\u001b[1;32m    179\u001b[0m \u001b[0;34m\u001b[0m\u001b[0m\n\u001b[0;32m--> 180\u001b[0;31m     \u001b[0mret\u001b[0m \u001b[0;34m=\u001b[0m \u001b[0mumr_sum\u001b[0m\u001b[0;34m(\u001b[0m\u001b[0marr\u001b[0m\u001b[0;34m,\u001b[0m \u001b[0maxis\u001b[0m\u001b[0;34m,\u001b[0m \u001b[0mdtype\u001b[0m\u001b[0;34m,\u001b[0m \u001b[0mout\u001b[0m\u001b[0;34m,\u001b[0m \u001b[0mkeepdims\u001b[0m\u001b[0;34m,\u001b[0m \u001b[0mwhere\u001b[0m\u001b[0;34m=\u001b[0m\u001b[0mwhere\u001b[0m\u001b[0;34m)\u001b[0m\u001b[0;34m\u001b[0m\u001b[0;34m\u001b[0m\u001b[0m\n\u001b[0m\u001b[1;32m    181\u001b[0m     \u001b[0;32mif\u001b[0m \u001b[0misinstance\u001b[0m\u001b[0;34m(\u001b[0m\u001b[0mret\u001b[0m\u001b[0;34m,\u001b[0m \u001b[0mmu\u001b[0m\u001b[0;34m.\u001b[0m\u001b[0mndarray\u001b[0m\u001b[0;34m)\u001b[0m\u001b[0;34m:\u001b[0m\u001b[0;34m\u001b[0m\u001b[0;34m\u001b[0m\u001b[0m\n\u001b[1;32m    182\u001b[0m         ret = um.true_divide(\n",
            "\u001b[0;31mTypeError\u001b[0m: unsupported operand type(s) for +: 'int' and 'ellipsis'"
          ]
        }
      ]
    }
  ],
  "metadata": {
    "kernelspec": {
      "display_name": "Python 3 (ipykernel)",
      "language": "python",
      "name": "python3"
    },
    "language_info": {
      "codemirror_mode": {
        "name": "ipython",
        "version": 3
      },
      "file_extension": ".py",
      "mimetype": "text/x-python",
      "name": "python",
      "nbconvert_exporter": "python",
      "pygments_lexer": "ipython3",
      "version": "3.11.3"
    },
    "colab": {
      "provenance": [],
      "include_colab_link": true
    }
  },
  "nbformat": 4,
  "nbformat_minor": 0
}